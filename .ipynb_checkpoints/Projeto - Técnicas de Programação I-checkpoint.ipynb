{
 "cells": [
  {
   "cell_type": "markdown",
   "id": "a2863775",
   "metadata": {},
   "source": [
    "> # Projeto: Técnicas de Programação I"
   ]
  },
  {
   "cell_type": "markdown",
   "id": "88e0f32f",
   "metadata": {},
   "source": [
    "**Descrição**<br>\n",
    "Este notebook contém a descrição do projeto prático do módulo: Técnicas de programação I. Neste projeto aplicaremos as técnicas aprendidas em aula para criarmos uma análise exploratória sobre um conjunto de dados."
   ]
  },
  {
   "cell_type": "markdown",
   "id": "b34910e0",
   "metadata": {},
   "source": [
    "**Objetivo**<br> Realizar uma análise exploratória de dados sobre datasets da Covid-19 no Brasil. Estruture sua análise criando um storytelling: Uma história contada com informações, gráficos e medidas estatísticas, associando dados a fatos em uma linha do tempo. Você está livre para incluir quantas bases considerar necessário e filtrar as informações mais relevantes para sua história.  "
   ]
  },
  {
   "cell_type": "markdown",
   "id": "98443e11",
   "metadata": {},
   "source": [
    "**Dados**<br>\n",
    "As bases disponibilizadas no repositório **Covid19br** possuem dados detalhados sobre o número de casos e óbitos a nível nacional, estadual e municipal por data (dia, mês e ano) e semana epidemiológica.  "
   ]
  },
  {
   "cell_type": "markdown",
   "id": "894938c3",
   "metadata": {},
   "source": [
    "#### Fontes de dados sugeridas:\n",
    " - Covid19br (https://github.com/wcota/covid19br/)\n",
    " - Agência Nacional de Petróleo e Gás (https://bit.ly/3hf8rbZ)\n",
    " - DataSUS (ftp.datasus.gov.br)*\n",
    " - Dados.gov.br (https://bit.ly/3fPA1MO)\n",
    " - Kaggle (https://www.kaggle.com/)\n",
    " \n",
    "*Obs: pode ser acessado por um cliente FTP (Ex.: Filezilla)"
   ]
  },
  {
   "cell_type": "markdown",
   "id": "77b1f399",
   "metadata": {},
   "source": [
    "**Organização e entregáveis**"
   ]
  },
  {
   "cell_type": "markdown",
   "id": "664ce72e",
   "metadata": {},
   "source": [
    "O projeto pode ser feito em grupo de até 05 participantes.<br> \n",
    "O projeto completo (Notebook, código-fonte, bases e demais artefatos) deve ser publicado no Github.<br>\n",
    "O projeto completo (Notebook, código-fonte, bases e demais artefatos) deve ser enviado por e-mail (alexlimacavalera@gmail.com) com nome dos participantes e link do repositório no github.<br>"
   ]
  },
  {
   "cell_type": "markdown",
   "id": "df54697b",
   "metadata": {},
   "source": [
    "#### Critérios de avaliação"
   ]
  },
  {
   "cell_type": "markdown",
   "id": "b4302164",
   "metadata": {},
   "source": [
    "A avaliação será feita com base nos artefatos entregues e na sua apresentação.<br> \n",
    "A estrutura abaixo lista sugestões do que pode conter no seu trabalho. "
   ]
  },
  {
   "cell_type": "markdown",
   "id": "45388f31",
   "metadata": {},
   "source": [
    " - Apresentação da análise\n",
    "     - Storytelling; \n",
    "     - Insights (padrões que descrevam os elementos da base);\n",
    "     - Descrição do problema;\n",
    "     - Proposta de solução;\n",
    " - Entregáveis\n",
    "     - Relatório com análise exploratória de dados;\n",
    "         - Descrição das variáveis (Dados faltantes, tipos de dados, informações relacionadas e fontes);\n",
    "         - Limpeza da base\n",
    "     - Análise Univariada e Multivariada\n",
    "         - Medidas estatísticas;\n",
    "         - Comparações;\n",
    "         - Tendências de crescimento ou queda;\n",
    "     - Gráficos"
   ]
  },
  {
   "cell_type": "markdown",
   "id": "cc469282",
   "metadata": {},
   "source": [
    "##### Critérios:\n",
    "    - Análise (O nível de exploração dos dados, quantidade de bases e variáveis);\n",
    "    - Reprodutibilidade (O código será executado e o resultados precisam ser reproduzidos);\n",
    "    - Clareza na apresentação (explique o problema e como o grupo explorou os dados);"
   ]
  },
  {
   "cell_type": "markdown",
   "id": "6796d747",
   "metadata": {},
   "source": [
    "#### Deadline\n",
    "**Apresentação**: 18/11/2022 <br>\n",
    "**Tempo de apresentação**: A depender da quantidade de grupos."
   ]
  },
  {
   "cell_type": "code",
   "execution_count": 1,
   "id": "31ffa1c5",
   "metadata": {},
   "outputs": [
    {
     "name": "stdout",
     "output_type": "stream",
     "text": [
      "Collecting pandas-profiling\n",
      "  Using cached pandas_profiling-3.4.0-py2.py3-none-any.whl (315 kB)\n",
      "Collecting multimethod<1.10,>=1.4\n",
      "  Using cached multimethod-1.9-py3-none-any.whl (10 kB)\n",
      "Collecting pandas!=1.4.0,<1.6,>1.1\n",
      "  Downloading pandas-1.5.1-cp39-cp39-win_amd64.whl (10.9 MB)\n",
      "     --------------------------------------- 10.9/10.9 MB 10.7 MB/s eta 0:00:00\n",
      "Collecting pydantic<1.11,>=1.8.1\n",
      "  Downloading pydantic-1.10.2-cp39-cp39-win_amd64.whl (2.1 MB)\n",
      "     ---------------------------------------- 2.1/2.1 MB 10.5 MB/s eta 0:00:00\n",
      "Collecting numpy<1.24,>=1.16.0\n",
      "  Downloading numpy-1.23.4-cp39-cp39-win_amd64.whl (14.7 MB)\n",
      "     --------------------------------------- 14.7/14.7 MB 10.6 MB/s eta 0:00:00\n",
      "Collecting tqdm<4.65,>=4.48.2\n",
      "  Using cached tqdm-4.64.1-py2.py3-none-any.whl (78 kB)\n",
      "Requirement already satisfied: jinja2<3.2,>=2.11.1 in d:\\programas\\anaconda3\\envs\\analise_pandas\\lib\\site-packages (from pandas-profiling) (3.1.2)\n",
      "Collecting htmlmin==0.1.12\n",
      "  Using cached htmlmin-0.1.12.tar.gz (19 kB)\n",
      "  Preparing metadata (setup.py): started\n",
      "  Preparing metadata (setup.py): finished with status 'done'\n",
      "Collecting phik<0.13,>=0.11.1\n",
      "  Downloading phik-0.12.2-cp39-cp39-win_amd64.whl (685 kB)\n",
      "     ------------------------------------- 685.8/685.8 kB 10.7 MB/s eta 0:00:00\n",
      "Collecting missingno<0.6,>=0.4.2\n",
      "  Using cached missingno-0.5.1-py3-none-any.whl (8.7 kB)\n",
      "Collecting statsmodels<0.14,>=0.13.2\n",
      "  Downloading statsmodels-0.13.5-cp39-cp39-win_amd64.whl (9.2 MB)\n",
      "     ---------------------------------------- 9.2/9.2 MB 10.8 MB/s eta 0:00:00\n",
      "Collecting matplotlib<3.6,>=3.2\n",
      "  Downloading matplotlib-3.5.3-cp39-cp39-win_amd64.whl (7.2 MB)\n",
      "     ---------------------------------------- 7.2/7.2 MB 10.7 MB/s eta 0:00:00\n",
      "Collecting visions[type_image_path]==0.7.5\n",
      "  Using cached visions-0.7.5-py3-none-any.whl (102 kB)\n",
      "Collecting scipy<1.10,>=1.4.1\n",
      "  Downloading scipy-1.9.3-cp39-cp39-win_amd64.whl (40.2 MB)\n",
      "     ---------------------------------------- 40.2/40.2 MB 9.4 MB/s eta 0:00:00\n",
      "Collecting seaborn<0.13,>=0.10.1\n",
      "  Using cached seaborn-0.12.1-py3-none-any.whl (288 kB)\n",
      "Collecting PyYAML<6.1,>=5.0.0\n",
      "  Downloading PyYAML-6.0-cp39-cp39-win_amd64.whl (151 kB)\n",
      "     -------------------------------------- 151.6/151.6 kB 9.4 MB/s eta 0:00:00\n",
      "Collecting requests<2.29,>=2.24.0\n",
      "  Using cached requests-2.28.1-py3-none-any.whl (62 kB)\n",
      "Collecting networkx>=2.4\n",
      "  Using cached networkx-2.8.8-py3-none-any.whl (2.0 MB)\n",
      "Requirement already satisfied: attrs>=19.3.0 in d:\\programas\\anaconda3\\envs\\analise_pandas\\lib\\site-packages (from visions[type_image_path]==0.7.5->pandas-profiling) (21.4.0)\n",
      "Collecting tangled-up-in-unicode>=0.0.4\n",
      "  Using cached tangled_up_in_unicode-0.2.0-py3-none-any.whl (4.7 MB)\n",
      "Collecting Pillow\n",
      "  Downloading Pillow-9.3.0-cp39-cp39-win_amd64.whl (2.5 MB)\n",
      "     ---------------------------------------- 2.5/2.5 MB 10.6 MB/s eta 0:00:00\n",
      "Collecting imagehash\n",
      "  Using cached ImageHash-4.3.1-py2.py3-none-any.whl (296 kB)\n",
      "Requirement already satisfied: MarkupSafe>=2.0 in d:\\programas\\anaconda3\\envs\\analise_pandas\\lib\\site-packages (from jinja2<3.2,>=2.11.1->pandas-profiling) (2.1.1)\n",
      "Collecting cycler>=0.10\n",
      "  Using cached cycler-0.11.0-py3-none-any.whl (6.4 kB)\n",
      "Collecting kiwisolver>=1.0.1\n",
      "  Downloading kiwisolver-1.4.4-cp39-cp39-win_amd64.whl (55 kB)\n",
      "     ---------------------------------------- 55.4/55.4 kB ? eta 0:00:00\n",
      "Requirement already satisfied: packaging>=20.0 in d:\\programas\\anaconda3\\envs\\analise_pandas\\lib\\site-packages (from matplotlib<3.6,>=3.2->pandas-profiling) (21.3)\n",
      "Requirement already satisfied: pyparsing>=2.2.1 in d:\\programas\\anaconda3\\envs\\analise_pandas\\lib\\site-packages (from matplotlib<3.6,>=3.2->pandas-profiling) (3.0.9)\n",
      "Requirement already satisfied: python-dateutil>=2.7 in d:\\programas\\anaconda3\\envs\\analise_pandas\\lib\\site-packages (from matplotlib<3.6,>=3.2->pandas-profiling) (2.8.2)\n",
      "Collecting fonttools>=4.22.0\n",
      "  Using cached fonttools-4.38.0-py3-none-any.whl (965 kB)\n",
      "Collecting pytz>=2020.1\n",
      "  Using cached pytz-2022.6-py2.py3-none-any.whl (498 kB)\n",
      "Collecting joblib>=0.14.1\n",
      "  Using cached joblib-1.2.0-py3-none-any.whl (297 kB)\n",
      "Requirement already satisfied: typing-extensions>=4.1.0 in d:\\programas\\anaconda3\\envs\\analise_pandas\\lib\\site-packages (from pydantic<1.11,>=1.8.1->pandas-profiling) (4.3.0)\n",
      "Collecting idna<4,>=2.5\n",
      "  Using cached idna-3.4-py3-none-any.whl (61 kB)\n",
      "Requirement already satisfied: certifi>=2017.4.17 in d:\\programas\\anaconda3\\envs\\analise_pandas\\lib\\site-packages (from requests<2.29,>=2.24.0->pandas-profiling) (2022.9.24)\n",
      "Collecting charset-normalizer<3,>=2\n",
      "  Using cached charset_normalizer-2.1.1-py3-none-any.whl (39 kB)\n",
      "Collecting urllib3<1.27,>=1.21.1\n",
      "  Using cached urllib3-1.26.12-py2.py3-none-any.whl (140 kB)\n",
      "Collecting patsy>=0.5.2\n",
      "  Using cached patsy-0.5.3-py2.py3-none-any.whl (233 kB)\n",
      "Requirement already satisfied: colorama in d:\\programas\\anaconda3\\envs\\analise_pandas\\lib\\site-packages (from tqdm<4.65,>=4.48.2->pandas-profiling) (0.4.5)\n",
      "Requirement already satisfied: six in d:\\programas\\anaconda3\\envs\\analise_pandas\\lib\\site-packages (from patsy>=0.5.2->statsmodels<0.14,>=0.13.2->pandas-profiling) (1.16.0)\n",
      "Collecting PyWavelets\n",
      "  Downloading PyWavelets-1.4.1-cp39-cp39-win_amd64.whl (4.2 MB)\n",
      "     ---------------------------------------- 4.2/4.2 MB 10.7 MB/s eta 0:00:00\n",
      "Building wheels for collected packages: htmlmin\n",
      "  Building wheel for htmlmin (setup.py): started\n",
      "  Building wheel for htmlmin (setup.py): finished with status 'done'\n",
      "  Created wheel for htmlmin: filename=htmlmin-0.1.12-py3-none-any.whl size=27082 sha256=efc281c6a73ad1c538e94ac7562a146005d38021924fac101d8b724ae4567916\n",
      "  Stored in directory: c:\\users\\tiago\\appdata\\local\\pip\\cache\\wheels\\1d\\05\\04\\c6d7d3b66539d9e659ac6dfe81e2d0fd4c1a8316cc5a403300\n",
      "Successfully built htmlmin\n",
      "Installing collected packages: pytz, htmlmin, urllib3, tqdm, tangled-up-in-unicode, PyYAML, pydantic, Pillow, numpy, networkx, multimethod, kiwisolver, joblib, idna, fonttools, cycler, charset-normalizer, scipy, requests, PyWavelets, patsy, pandas, matplotlib, visions, statsmodels, seaborn, phik, imagehash, missingno, pandas-profiling\n",
      "Successfully installed Pillow-9.3.0 PyWavelets-1.4.1 PyYAML-6.0 charset-normalizer-2.1.1 cycler-0.11.0 fonttools-4.38.0 htmlmin-0.1.12 idna-3.4 imagehash-4.3.1 joblib-1.2.0 kiwisolver-1.4.4 matplotlib-3.5.3 missingno-0.5.1 multimethod-1.9 networkx-2.8.8 numpy-1.23.4 pandas-1.5.1 pandas-profiling-3.4.0 patsy-0.5.3 phik-0.12.2 pydantic-1.10.2 pytz-2022.6 requests-2.28.1 scipy-1.9.3 seaborn-0.12.1 statsmodels-0.13.5 tangled-up-in-unicode-0.2.0 tqdm-4.64.1 urllib3-1.26.12 visions-0.7.5\n"
     ]
    }
   ],
   "source": [
    "!pip install -U pandas-profiling"
   ]
  }
 ],
 "metadata": {
  "kernelspec": {
   "display_name": "Python 3 (ipykernel)",
   "language": "python",
   "name": "python3"
  },
  "language_info": {
   "codemirror_mode": {
    "name": "ipython",
    "version": 3
   },
   "file_extension": ".py",
   "mimetype": "text/x-python",
   "name": "python",
   "nbconvert_exporter": "python",
   "pygments_lexer": "ipython3",
   "version": "3.9.13"
  }
 },
 "nbformat": 4,
 "nbformat_minor": 5
}
