{
 "cells": [
  {
   "cell_type": "markdown",
   "id": "a2863775",
   "metadata": {},
   "source": [
    "> # Projeto: Técnicas de Programação I"
   ]
  },
  {
   "cell_type": "markdown",
   "id": "88e0f32f",
   "metadata": {},
   "source": [
    "**Descrição**<br>\n",
    "Este notebook contém a descrição do projeto prático do módulo: Técnicas de programação I. Neste projeto aplicaremos as técnicas aprendidas em aula para criarmos uma análise exploratória sobre um conjunto de dados."
   ]
  },
  {
   "cell_type": "markdown",
   "id": "b34910e0",
   "metadata": {},
   "source": [
    "**Objetivo**<br> Realizar uma análise exploratória de dados sobre datasets da Covid-19 no Brasil. Estruture sua análise criando um storytelling: Uma história contada com informações, gráficos e medidas estatísticas, associando dados a fatos em uma linha do tempo. Você está livre para incluir quantas bases considerar necessário e filtrar as informações mais relevantes para sua história.  "
   ]
  },
  {
   "cell_type": "markdown",
   "id": "98443e11",
   "metadata": {},
   "source": [
    "**Dados**<br>\n",
    "As bases disponibilizadas no repositório **Covid19br** possuem dados detalhados sobre o número de casos e óbitos a nível nacional, estadual e municipal por data (dia, mês e ano) e semana epidemiológica.  "
   ]
  },
  {
   "cell_type": "markdown",
   "id": "894938c3",
   "metadata": {},
   "source": [
    "#### Fontes de dados sugeridas:\n",
    " - Covid19br (https://github.com/wcota/covid19br/)\n",
    " - Agência Nacional de Petróleo e Gás (https://bit.ly/3hf8rbZ)\n",
    " - DataSUS (ftp.datasus.gov.br)*\n",
    " - Dados.gov.br (https://bit.ly/3fPA1MO)\n",
    " - Kaggle (https://www.kaggle.com/)\n",
    " \n",
    "*Obs: pode ser acessado por um cliente FTP (Ex.: Filezilla)"
   ]
  },
  {
   "cell_type": "markdown",
   "id": "77b1f399",
   "metadata": {},
   "source": [
    "**Organização e entregáveis**"
   ]
  },
  {
   "cell_type": "markdown",
   "id": "664ce72e",
   "metadata": {},
   "source": [
    "O projeto pode ser feito em grupo de até 05 participantes.<br> \n",
    "O projeto completo (Notebook, código-fonte, bases e demais artefatos) deve ser publicado no Github.<br>\n",
    "O projeto completo (Notebook, código-fonte, bases e demais artefatos) deve ser enviado por e-mail (alexlimacavalera@gmail.com) com nome dos participantes e link do repositório no github.<br>"
   ]
  },
  {
   "cell_type": "markdown",
   "id": "df54697b",
   "metadata": {},
   "source": [
    "#### Critérios de avaliação"
   ]
  },
  {
   "cell_type": "markdown",
   "id": "b4302164",
   "metadata": {},
   "source": [
    "A avaliação será feita com base nos artefatos entregues e na sua apresentação.<br> \n",
    "A estrutura abaixo lista sugestões do que pode conter no seu trabalho. "
   ]
  },
  {
   "cell_type": "markdown",
   "id": "45388f31",
   "metadata": {},
   "source": [
    " - Apresentação da análise\n",
    "     - Storytelling; \n",
    "     - Insights (padrões que descrevam os elementos da base);\n",
    "     - Descrição do problema;\n",
    "     - Proposta de solução;\n",
    " - Entregáveis\n",
    "     - Relatório com análise exploratória de dados;\n",
    "         - Descrição das variáveis (Dados faltantes, tipos de dados, informações relacionadas e fontes);\n",
    "         - Limpeza da base\n",
    "     - Análise Univariada e Multivariada\n",
    "         - Medidas estatísticas;\n",
    "         - Comparações;\n",
    "         - Tendências de crescimento ou queda;\n",
    "     - Gráficos"
   ]
  },
  {
   "cell_type": "markdown",
   "id": "cc469282",
   "metadata": {},
   "source": [
    "##### Critérios:\n",
    "    - Análise (O nível de exploração dos dados, quantidade de bases e variáveis);\n",
    "    - Reprodutibilidade (O código será executado e o resultados precisam ser reproduzidos);\n",
    "    - Clareza na apresentação (explique o problema e como o grupo explorou os dados);"
   ]
  },
  {
   "cell_type": "markdown",
   "id": "6796d747",
   "metadata": {},
   "source": [
    "#### Deadline\n",
    "**Apresentação**: 18/11/2022 <br>\n",
    "**Tempo de apresentação**: A depender da quantidade de grupos."
   ]
  }
 ],
 "metadata": {
  "kernelspec": {
   "display_name": "Python 3 (ipykernel)",
   "language": "python",
   "name": "python3"
  },
  "language_info": {
   "codemirror_mode": {
    "name": "ipython",
    "version": 3
   },
   "file_extension": ".py",
   "mimetype": "text/x-python",
   "name": "python",
   "nbconvert_exporter": "python",
   "pygments_lexer": "ipython3",
   "version": "3.9.13"
  }
 },
 "nbformat": 4,
 "nbformat_minor": 5
}
