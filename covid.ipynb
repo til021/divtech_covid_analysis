{
 "cells": [
  {
   "cell_type": "code",
   "execution_count": 1,
   "id": "63199c64",
   "metadata": {},
   "outputs": [],
   "source": [
    "import pandas as pd\n",
    "import numpy as np\n",
    "import requests\n",
    "import yfinance as yf\n",
    "\n",
    "import plotly.express as px\n",
    "import plotly.graph_objects as go\n",
    "from plotly.offline import iplot"
   ]
  },
  {
   "cell_type": "code",
   "execution_count": 2,
   "id": "e12bf05c",
   "metadata": {},
   "outputs": [
    {
     "data": {
      "text/plain": [
       "<Response [200]>"
      ]
     },
     "execution_count": 2,
     "metadata": {},
     "output_type": "execute_result"
    }
   ],
   "source": [
    "response = requests.get(\"https://raw.githubusercontent.com/wcota/covid19br/master/cases-brazil-states.csv\")\n",
    "response"
   ]
  },
  {
   "cell_type": "code",
   "execution_count": 3,
   "id": "fe3e9ae5",
   "metadata": {},
   "outputs": [],
   "source": [
    "response = response.content.decode(\"utf-8\")\n",
    "result = [x.split(',') for x in response.split('\\n')]\n",
    "df = pd.DataFrame(result[1:], columns= result[0])"
   ]
  },
  {
   "cell_type": "code",
   "execution_count": 4,
   "id": "56457471",
   "metadata": {},
   "outputs": [],
   "source": [
    "# Substituindo os valores vazios por 0:\n",
    "df = df.replace(\"\", 0, regex=True)"
   ]
  },
  {
   "cell_type": "code",
   "execution_count": 6,
   "id": "bce9aa62",
   "metadata": {},
   "outputs": [
    {
     "ename": "KeyError",
     "evalue": "\"['country', 'city'] not found in axis\"",
     "output_type": "error",
     "traceback": [
      "\u001b[1;31m---------------------------------------------------------------------------\u001b[0m",
      "\u001b[1;31mKeyError\u001b[0m                                  Traceback (most recent call last)",
      "\u001b[1;32mg:\\Meu Drive\\Letscode\\Diversitech_894\\modulo_3\\DESAFIO\\divtech_covid_analysis\\covid.ipynb Célula: 5\u001b[0m in \u001b[0;36m<cell line: 2>\u001b[1;34m()\u001b[0m\n\u001b[0;32m      <a href='vscode-notebook-cell:/g%3A/Meu%20Drive/Letscode/Diversitech_894/modulo_3/DESAFIO/divtech_covid_analysis/covid.ipynb#W4sZmlsZQ%3D%3D?line=0'>1</a>\u001b[0m \u001b[39m#  Removendo colunas com valores constantes:\u001b[39;00m\n\u001b[1;32m----> <a href='vscode-notebook-cell:/g%3A/Meu%20Drive/Letscode/Diversitech_894/modulo_3/DESAFIO/divtech_covid_analysis/covid.ipynb#W4sZmlsZQ%3D%3D?line=1'>2</a>\u001b[0m df\u001b[39m.\u001b[39;49mdrop([\u001b[39m\"\u001b[39;49m\u001b[39mcountry\u001b[39;49m\u001b[39m\"\u001b[39;49m, \u001b[39m\"\u001b[39;49m\u001b[39mcity\u001b[39;49m\u001b[39m\"\u001b[39;49m], axis\u001b[39m=\u001b[39;49m\u001b[39m1\u001b[39;49m, inplace\u001b[39m=\u001b[39;49m\u001b[39mTrue\u001b[39;49;00m)\n\u001b[0;32m      <a href='vscode-notebook-cell:/g%3A/Meu%20Drive/Letscode/Diversitech_894/modulo_3/DESAFIO/divtech_covid_analysis/covid.ipynb#W4sZmlsZQ%3D%3D?line=2'>3</a>\u001b[0m df \u001b[39m=\u001b[39m df[:\u001b[39m-\u001b[39m\u001b[39m1\u001b[39m]\n",
      "File \u001b[1;32mc:\\Users\\Giga\\AppData\\Local\\Programs\\Python\\Python310\\lib\\site-packages\\pandas\\util\\_decorators.py:331\u001b[0m, in \u001b[0;36mdeprecate_nonkeyword_arguments.<locals>.decorate.<locals>.wrapper\u001b[1;34m(*args, **kwargs)\u001b[0m\n\u001b[0;32m    325\u001b[0m \u001b[39mif\u001b[39;00m \u001b[39mlen\u001b[39m(args) \u001b[39m>\u001b[39m num_allow_args:\n\u001b[0;32m    326\u001b[0m     warnings\u001b[39m.\u001b[39mwarn(\n\u001b[0;32m    327\u001b[0m         msg\u001b[39m.\u001b[39mformat(arguments\u001b[39m=\u001b[39m_format_argument_list(allow_args)),\n\u001b[0;32m    328\u001b[0m         \u001b[39mFutureWarning\u001b[39;00m,\n\u001b[0;32m    329\u001b[0m         stacklevel\u001b[39m=\u001b[39mfind_stack_level(),\n\u001b[0;32m    330\u001b[0m     )\n\u001b[1;32m--> 331\u001b[0m \u001b[39mreturn\u001b[39;00m func(\u001b[39m*\u001b[39margs, \u001b[39m*\u001b[39m\u001b[39m*\u001b[39mkwargs)\n",
      "File \u001b[1;32mc:\\Users\\Giga\\AppData\\Local\\Programs\\Python\\Python310\\lib\\site-packages\\pandas\\core\\frame.py:5388\u001b[0m, in \u001b[0;36mDataFrame.drop\u001b[1;34m(self, labels, axis, index, columns, level, inplace, errors)\u001b[0m\n\u001b[0;32m   5240\u001b[0m \u001b[39m@deprecate_nonkeyword_arguments\u001b[39m(version\u001b[39m=\u001b[39m\u001b[39mNone\u001b[39;00m, allowed_args\u001b[39m=\u001b[39m[\u001b[39m\"\u001b[39m\u001b[39mself\u001b[39m\u001b[39m\"\u001b[39m, \u001b[39m\"\u001b[39m\u001b[39mlabels\u001b[39m\u001b[39m\"\u001b[39m])\n\u001b[0;32m   5241\u001b[0m \u001b[39mdef\u001b[39;00m \u001b[39mdrop\u001b[39m(  \u001b[39m# type: ignore[override]\u001b[39;00m\n\u001b[0;32m   5242\u001b[0m     \u001b[39mself\u001b[39m,\n\u001b[1;32m   (...)\u001b[0m\n\u001b[0;32m   5249\u001b[0m     errors: IgnoreRaise \u001b[39m=\u001b[39m \u001b[39m\"\u001b[39m\u001b[39mraise\u001b[39m\u001b[39m\"\u001b[39m,\n\u001b[0;32m   5250\u001b[0m ) \u001b[39m-\u001b[39m\u001b[39m>\u001b[39m DataFrame \u001b[39m|\u001b[39m \u001b[39mNone\u001b[39;00m:\n\u001b[0;32m   5251\u001b[0m     \u001b[39m\"\"\"\u001b[39;00m\n\u001b[0;32m   5252\u001b[0m \u001b[39m    Drop specified labels from rows or columns.\u001b[39;00m\n\u001b[0;32m   5253\u001b[0m \n\u001b[1;32m   (...)\u001b[0m\n\u001b[0;32m   5386\u001b[0m \u001b[39m            weight  1.0     0.8\u001b[39;00m\n\u001b[0;32m   5387\u001b[0m \u001b[39m    \"\"\"\u001b[39;00m\n\u001b[1;32m-> 5388\u001b[0m     \u001b[39mreturn\u001b[39;00m \u001b[39msuper\u001b[39;49m()\u001b[39m.\u001b[39;49mdrop(\n\u001b[0;32m   5389\u001b[0m         labels\u001b[39m=\u001b[39;49mlabels,\n\u001b[0;32m   5390\u001b[0m         axis\u001b[39m=\u001b[39;49maxis,\n\u001b[0;32m   5391\u001b[0m         index\u001b[39m=\u001b[39;49mindex,\n\u001b[0;32m   5392\u001b[0m         columns\u001b[39m=\u001b[39;49mcolumns,\n\u001b[0;32m   5393\u001b[0m         level\u001b[39m=\u001b[39;49mlevel,\n\u001b[0;32m   5394\u001b[0m         inplace\u001b[39m=\u001b[39;49minplace,\n\u001b[0;32m   5395\u001b[0m         errors\u001b[39m=\u001b[39;49merrors,\n\u001b[0;32m   5396\u001b[0m     )\n",
      "File \u001b[1;32mc:\\Users\\Giga\\AppData\\Local\\Programs\\Python\\Python310\\lib\\site-packages\\pandas\\util\\_decorators.py:331\u001b[0m, in \u001b[0;36mdeprecate_nonkeyword_arguments.<locals>.decorate.<locals>.wrapper\u001b[1;34m(*args, **kwargs)\u001b[0m\n\u001b[0;32m    325\u001b[0m \u001b[39mif\u001b[39;00m \u001b[39mlen\u001b[39m(args) \u001b[39m>\u001b[39m num_allow_args:\n\u001b[0;32m    326\u001b[0m     warnings\u001b[39m.\u001b[39mwarn(\n\u001b[0;32m    327\u001b[0m         msg\u001b[39m.\u001b[39mformat(arguments\u001b[39m=\u001b[39m_format_argument_list(allow_args)),\n\u001b[0;32m    328\u001b[0m         \u001b[39mFutureWarning\u001b[39;00m,\n\u001b[0;32m    329\u001b[0m         stacklevel\u001b[39m=\u001b[39mfind_stack_level(),\n\u001b[0;32m    330\u001b[0m     )\n\u001b[1;32m--> 331\u001b[0m \u001b[39mreturn\u001b[39;00m func(\u001b[39m*\u001b[39margs, \u001b[39m*\u001b[39m\u001b[39m*\u001b[39mkwargs)\n",
      "File \u001b[1;32mc:\\Users\\Giga\\AppData\\Local\\Programs\\Python\\Python310\\lib\\site-packages\\pandas\\core\\generic.py:4505\u001b[0m, in \u001b[0;36mNDFrame.drop\u001b[1;34m(self, labels, axis, index, columns, level, inplace, errors)\u001b[0m\n\u001b[0;32m   4503\u001b[0m \u001b[39mfor\u001b[39;00m axis, labels \u001b[39min\u001b[39;00m axes\u001b[39m.\u001b[39mitems():\n\u001b[0;32m   4504\u001b[0m     \u001b[39mif\u001b[39;00m labels \u001b[39mis\u001b[39;00m \u001b[39mnot\u001b[39;00m \u001b[39mNone\u001b[39;00m:\n\u001b[1;32m-> 4505\u001b[0m         obj \u001b[39m=\u001b[39m obj\u001b[39m.\u001b[39;49m_drop_axis(labels, axis, level\u001b[39m=\u001b[39;49mlevel, errors\u001b[39m=\u001b[39;49merrors)\n\u001b[0;32m   4507\u001b[0m \u001b[39mif\u001b[39;00m inplace:\n\u001b[0;32m   4508\u001b[0m     \u001b[39mself\u001b[39m\u001b[39m.\u001b[39m_update_inplace(obj)\n",
      "File \u001b[1;32mc:\\Users\\Giga\\AppData\\Local\\Programs\\Python\\Python310\\lib\\site-packages\\pandas\\core\\generic.py:4546\u001b[0m, in \u001b[0;36mNDFrame._drop_axis\u001b[1;34m(self, labels, axis, level, errors, only_slice)\u001b[0m\n\u001b[0;32m   4544\u001b[0m         new_axis \u001b[39m=\u001b[39m axis\u001b[39m.\u001b[39mdrop(labels, level\u001b[39m=\u001b[39mlevel, errors\u001b[39m=\u001b[39merrors)\n\u001b[0;32m   4545\u001b[0m     \u001b[39melse\u001b[39;00m:\n\u001b[1;32m-> 4546\u001b[0m         new_axis \u001b[39m=\u001b[39m axis\u001b[39m.\u001b[39;49mdrop(labels, errors\u001b[39m=\u001b[39;49merrors)\n\u001b[0;32m   4547\u001b[0m     indexer \u001b[39m=\u001b[39m axis\u001b[39m.\u001b[39mget_indexer(new_axis)\n\u001b[0;32m   4549\u001b[0m \u001b[39m# Case for non-unique axis\u001b[39;00m\n\u001b[0;32m   4550\u001b[0m \u001b[39melse\u001b[39;00m:\n",
      "File \u001b[1;32mc:\\Users\\Giga\\AppData\\Local\\Programs\\Python\\Python310\\lib\\site-packages\\pandas\\core\\indexes\\base.py:6975\u001b[0m, in \u001b[0;36mIndex.drop\u001b[1;34m(self, labels, errors)\u001b[0m\n\u001b[0;32m   6973\u001b[0m \u001b[39mif\u001b[39;00m mask\u001b[39m.\u001b[39many():\n\u001b[0;32m   6974\u001b[0m     \u001b[39mif\u001b[39;00m errors \u001b[39m!=\u001b[39m \u001b[39m\"\u001b[39m\u001b[39mignore\u001b[39m\u001b[39m\"\u001b[39m:\n\u001b[1;32m-> 6975\u001b[0m         \u001b[39mraise\u001b[39;00m \u001b[39mKeyError\u001b[39;00m(\u001b[39mf\u001b[39m\u001b[39m\"\u001b[39m\u001b[39m{\u001b[39;00m\u001b[39mlist\u001b[39m(labels[mask])\u001b[39m}\u001b[39;00m\u001b[39m not found in axis\u001b[39m\u001b[39m\"\u001b[39m)\n\u001b[0;32m   6976\u001b[0m     indexer \u001b[39m=\u001b[39m indexer[\u001b[39m~\u001b[39mmask]\n\u001b[0;32m   6977\u001b[0m \u001b[39mreturn\u001b[39;00m \u001b[39mself\u001b[39m\u001b[39m.\u001b[39mdelete(indexer)\n",
      "\u001b[1;31mKeyError\u001b[0m: \"['country', 'city'] not found in axis\""
     ]
    }
   ],
   "source": [
    "#  Removendo colunas com valores constantes:\n",
    "df.drop([\"country\", \"city\"], axis=1, inplace=True)\n",
    "df = df[:-1]"
   ]
  },
  {
   "cell_type": "code",
   "execution_count": null,
   "id": "7c7b73b6",
   "metadata": {},
   "outputs": [],
   "source": [
    "# Transformando a coluna de data para o formato apropriado:\n",
    "df[\"date\"] = pd.to_datetime(df[\"date\"], format=\"%Y-%m-%d\")"
   ]
  },
  {
   "cell_type": "code",
   "execution_count": null,
   "id": "0886ca86",
   "metadata": {},
   "outputs": [
    {
     "data": {
      "text/plain": [
       "100"
      ]
     },
     "execution_count": 37,
     "metadata": {},
     "output_type": "execute_result"
    }
   ],
   "source": [
    "# Descobrindo quandos dias forama até a covid chegar no Brasil\n",
    "PRIMEIRO_CASO_COVID_MUDO = pd.to_datetime('2019-11-17', format=\"%Y-%m-%d\")\n",
    "primeiro_caso_covid_brasil = df['date'][0]\n",
    "dias = abs((PRIMEIRO_CASO_COVID_MUDO - primeiro_caso_covid_brasil).days)\n",
    "dias"
   ]
  },
  {
   "cell_type": "code",
   "execution_count": 7,
   "id": "50911cdb",
   "metadata": {},
   "outputs": [],
   "source": [
    "# Como a maioria das colunas está em um formato numérico, vamos converter elas para float:\n",
    "for column in df.columns:\n",
    "    try:\n",
    "        df[column] = df[column].astype(float)\n",
    "    except:\n",
    "        continue"
   ]
  },
  {
   "cell_type": "code",
   "execution_count": 8,
   "id": "5e3be9b6",
   "metadata": {},
   "outputs": [
    {
     "name": "stderr",
     "output_type": "stream",
     "text": [
      "C:\\Users\\Giga\\AppData\\Local\\Temp\\ipykernel_38092\\725959677.py:6: SettingWithCopyWarning:\n",
      "\n",
      "\n",
      "A value is trying to be set on a copy of a slice from a DataFrame\n",
      "\n",
      "See the caveats in the documentation: https://pandas.pydata.org/pandas-docs/stable/user_guide/indexing.html#returning-a-view-versus-a-copy\n",
      "\n",
      "C:\\Users\\Giga\\AppData\\Local\\Temp\\ipykernel_38092\\725959677.py:4: SettingWithCopyWarning:\n",
      "\n",
      "\n",
      "A value is trying to be set on a copy of a slice from a DataFrame\n",
      "\n",
      "See the caveats in the documentation: https://pandas.pydata.org/pandas-docs/stable/user_guide/indexing.html#returning-a-view-versus-a-copy\n",
      "\n"
     ]
    }
   ],
   "source": [
    "# Colocando as semanas epidemiológicas na ordem direta:\n",
    "for row in df.index:\n",
    "    if df[\"epi_week\"][row] > 200:\n",
    "        df[\"epi_week\"][row] = (df[\"epi_week\"][row]-200+105)\n",
    "    elif df[\"epi_week\"][row] > 100:\n",
    "        df[\"epi_week\"][row] = (df[\"epi_week\"][row]-100+53)\n",
    "        \n",
    "# Acabei nem usando isso aqui"
   ]
  },
  {
   "cell_type": "code",
   "execution_count": 9,
   "id": "2c7a92e7",
   "metadata": {},
   "outputs": [],
   "source": [
    "# Separando os dados a nível nacional:\n",
    "df_total = df[df[\"state\"]==\"TOTAL\"]"
   ]
  },
  {
   "cell_type": "code",
   "execution_count": 10,
   "id": "3cefb558",
   "metadata": {},
   "outputs": [
    {
     "ename": "TypeError",
     "evalue": "Only valid with DatetimeIndex, TimedeltaIndex or PeriodIndex, but got an instance of 'Index'",
     "output_type": "error",
     "traceback": [
      "\u001b[1;31m---------------------------------------------------------------------------\u001b[0m",
      "\u001b[1;31mTypeError\u001b[0m                                 Traceback (most recent call last)",
      "\u001b[1;32mg:\\Meu Drive\\Letscode\\Diversitech_894\\modulo_3\\DESAFIO\\divtech_covid_analysis\\covid.ipynb Célula: 11\u001b[0m in \u001b[0;36m<cell line: 3>\u001b[1;34m()\u001b[0m\n\u001b[0;32m      <a href='vscode-notebook-cell:/g%3A/Meu%20Drive/Letscode/Diversitech_894/modulo_3/DESAFIO/divtech_covid_analysis/covid.ipynb#X13sZmlsZQ%3D%3D?line=0'>1</a>\u001b[0m \u001b[39m# MANO, SALVA ESSA LINHA DE CÓDIGO PARA A VIDA:\u001b[39;00m\n\u001b[0;32m      <a href='vscode-notebook-cell:/g%3A/Meu%20Drive/Letscode/Diversitech_894/modulo_3/DESAFIO/divtech_covid_analysis/covid.ipynb#X13sZmlsZQ%3D%3D?line=1'>2</a>\u001b[0m \u001b[39m# PARA A VIDA!     - Tiago\u001b[39;00m\n\u001b[1;32m----> <a href='vscode-notebook-cell:/g%3A/Meu%20Drive/Letscode/Diversitech_894/modulo_3/DESAFIO/divtech_covid_analysis/covid.ipynb#X13sZmlsZQ%3D%3D?line=2'>3</a>\u001b[0m months \u001b[39m=\u001b[39m df_total\u001b[39m.\u001b[39;49mset_index(\u001b[39m\"\u001b[39;49m\u001b[39mdate\u001b[39;49m\u001b[39m\"\u001b[39;49m)\u001b[39m.\u001b[39;49mresample(\u001b[39m'\u001b[39;49m\u001b[39mM\u001b[39;49m\u001b[39m'\u001b[39;49m)\u001b[39m.\u001b[39msum()\n\u001b[0;32m      <a href='vscode-notebook-cell:/g%3A/Meu%20Drive/Letscode/Diversitech_894/modulo_3/DESAFIO/divtech_covid_analysis/covid.ipynb#X13sZmlsZQ%3D%3D?line=3'>4</a>\u001b[0m months\u001b[39m.\u001b[39mhead()\n\u001b[0;32m      <a href='vscode-notebook-cell:/g%3A/Meu%20Drive/Letscode/Diversitech_894/modulo_3/DESAFIO/divtech_covid_analysis/covid.ipynb#X13sZmlsZQ%3D%3D?line=5'>6</a>\u001b[0m \u001b[39m\"\"\"\u001b[39;00m\n\u001b[0;32m      <a href='vscode-notebook-cell:/g%3A/Meu%20Drive/Letscode/Diversitech_894/modulo_3/DESAFIO/divtech_covid_analysis/covid.ipynb#X13sZmlsZQ%3D%3D?line=6'>7</a>\u001b[0m \u001b[39mFazendo essa agregação não podemos trabalhar com colunas de valores agregados!!!! \u001b[39;00m\n\u001b[0;32m      <a href='vscode-notebook-cell:/g%3A/Meu%20Drive/Letscode/Diversitech_894/modulo_3/DESAFIO/divtech_covid_analysis/covid.ipynb#X13sZmlsZQ%3D%3D?line=7'>8</a>\u001b[0m \u001b[39mPor exemplo, a coluna deaths soma diversas vezes a coluna newDeaths, \u001b[39;00m\n\u001b[1;32m   (...)\u001b[0m\n\u001b[0;32m     <a href='vscode-notebook-cell:/g%3A/Meu%20Drive/Letscode/Diversitech_894/modulo_3/DESAFIO/divtech_covid_analysis/covid.ipynb#X13sZmlsZQ%3D%3D?line=11'>12</a>\u001b[0m \u001b[39mas outras tem que ser avaliadas antes de serem usadas!!\u001b[39;00m\n\u001b[0;32m     <a href='vscode-notebook-cell:/g%3A/Meu%20Drive/Letscode/Diversitech_894/modulo_3/DESAFIO/divtech_covid_analysis/covid.ipynb#X13sZmlsZQ%3D%3D?line=12'>13</a>\u001b[0m \u001b[39m\"\"\"\u001b[39;00m\n",
      "File \u001b[1;32mc:\\Users\\Giga\\AppData\\Local\\Programs\\Python\\Python310\\lib\\site-packages\\pandas\\core\\frame.py:11379\u001b[0m, in \u001b[0;36mDataFrame.resample\u001b[1;34m(self, rule, axis, closed, label, convention, kind, loffset, base, on, level, origin, offset, group_keys)\u001b[0m\n\u001b[0;32m  11362\u001b[0m \u001b[39m@doc\u001b[39m(NDFrame\u001b[39m.\u001b[39mresample, \u001b[39m*\u001b[39m\u001b[39m*\u001b[39m_shared_doc_kwargs)\n\u001b[0;32m  11363\u001b[0m \u001b[39mdef\u001b[39;00m \u001b[39mresample\u001b[39m(\n\u001b[0;32m  11364\u001b[0m     \u001b[39mself\u001b[39m,\n\u001b[1;32m   (...)\u001b[0m\n\u001b[0;32m  11377\u001b[0m     group_keys: \u001b[39mbool\u001b[39m \u001b[39m|\u001b[39m lib\u001b[39m.\u001b[39mNoDefault \u001b[39m=\u001b[39m no_default,\n\u001b[0;32m  11378\u001b[0m ) \u001b[39m-\u001b[39m\u001b[39m>\u001b[39m Resampler:\n\u001b[1;32m> 11379\u001b[0m     \u001b[39mreturn\u001b[39;00m \u001b[39msuper\u001b[39;49m()\u001b[39m.\u001b[39;49mresample(\n\u001b[0;32m  11380\u001b[0m         rule\u001b[39m=\u001b[39;49mrule,\n\u001b[0;32m  11381\u001b[0m         axis\u001b[39m=\u001b[39;49maxis,\n\u001b[0;32m  11382\u001b[0m         closed\u001b[39m=\u001b[39;49mclosed,\n\u001b[0;32m  11383\u001b[0m         label\u001b[39m=\u001b[39;49mlabel,\n\u001b[0;32m  11384\u001b[0m         convention\u001b[39m=\u001b[39;49mconvention,\n\u001b[0;32m  11385\u001b[0m         kind\u001b[39m=\u001b[39;49mkind,\n\u001b[0;32m  11386\u001b[0m         loffset\u001b[39m=\u001b[39;49mloffset,\n\u001b[0;32m  11387\u001b[0m         base\u001b[39m=\u001b[39;49mbase,\n\u001b[0;32m  11388\u001b[0m         on\u001b[39m=\u001b[39;49mon,\n\u001b[0;32m  11389\u001b[0m         level\u001b[39m=\u001b[39;49mlevel,\n\u001b[0;32m  11390\u001b[0m         origin\u001b[39m=\u001b[39;49morigin,\n\u001b[0;32m  11391\u001b[0m         offset\u001b[39m=\u001b[39;49moffset,\n\u001b[0;32m  11392\u001b[0m         group_keys\u001b[39m=\u001b[39;49mgroup_keys,\n\u001b[0;32m  11393\u001b[0m     )\n",
      "File \u001b[1;32mc:\\Users\\Giga\\AppData\\Local\\Programs\\Python\\Python310\\lib\\site-packages\\pandas\\core\\generic.py:8858\u001b[0m, in \u001b[0;36mNDFrame.resample\u001b[1;34m(self, rule, axis, closed, label, convention, kind, loffset, base, on, level, origin, offset, group_keys)\u001b[0m\n\u001b[0;32m   8855\u001b[0m \u001b[39mfrom\u001b[39;00m \u001b[39mpandas\u001b[39;00m\u001b[39m.\u001b[39;00m\u001b[39mcore\u001b[39;00m\u001b[39m.\u001b[39;00m\u001b[39mresample\u001b[39;00m \u001b[39mimport\u001b[39;00m get_resampler\n\u001b[0;32m   8857\u001b[0m axis \u001b[39m=\u001b[39m \u001b[39mself\u001b[39m\u001b[39m.\u001b[39m_get_axis_number(axis)\n\u001b[1;32m-> 8858\u001b[0m \u001b[39mreturn\u001b[39;00m get_resampler(\n\u001b[0;32m   8859\u001b[0m     \u001b[39mself\u001b[39;49m,\n\u001b[0;32m   8860\u001b[0m     freq\u001b[39m=\u001b[39;49mrule,\n\u001b[0;32m   8861\u001b[0m     label\u001b[39m=\u001b[39;49mlabel,\n\u001b[0;32m   8862\u001b[0m     closed\u001b[39m=\u001b[39;49mclosed,\n\u001b[0;32m   8863\u001b[0m     axis\u001b[39m=\u001b[39;49maxis,\n\u001b[0;32m   8864\u001b[0m     kind\u001b[39m=\u001b[39;49mkind,\n\u001b[0;32m   8865\u001b[0m     loffset\u001b[39m=\u001b[39;49mloffset,\n\u001b[0;32m   8866\u001b[0m     convention\u001b[39m=\u001b[39;49mconvention,\n\u001b[0;32m   8867\u001b[0m     base\u001b[39m=\u001b[39;49mbase,\n\u001b[0;32m   8868\u001b[0m     key\u001b[39m=\u001b[39;49mon,\n\u001b[0;32m   8869\u001b[0m     level\u001b[39m=\u001b[39;49mlevel,\n\u001b[0;32m   8870\u001b[0m     origin\u001b[39m=\u001b[39;49morigin,\n\u001b[0;32m   8871\u001b[0m     offset\u001b[39m=\u001b[39;49moffset,\n\u001b[0;32m   8872\u001b[0m     group_keys\u001b[39m=\u001b[39;49mgroup_keys,\n\u001b[0;32m   8873\u001b[0m )\n",
      "File \u001b[1;32mc:\\Users\\Giga\\AppData\\Local\\Programs\\Python\\Python310\\lib\\site-packages\\pandas\\core\\resample.py:1544\u001b[0m, in \u001b[0;36mget_resampler\u001b[1;34m(obj, kind, **kwds)\u001b[0m\n\u001b[0;32m   1540\u001b[0m \u001b[39m\"\"\"\u001b[39;00m\n\u001b[0;32m   1541\u001b[0m \u001b[39mCreate a TimeGrouper and return our resampler.\u001b[39;00m\n\u001b[0;32m   1542\u001b[0m \u001b[39m\"\"\"\u001b[39;00m\n\u001b[0;32m   1543\u001b[0m tg \u001b[39m=\u001b[39m TimeGrouper(\u001b[39m*\u001b[39m\u001b[39m*\u001b[39mkwds)\n\u001b[1;32m-> 1544\u001b[0m \u001b[39mreturn\u001b[39;00m tg\u001b[39m.\u001b[39;49m_get_resampler(obj, kind\u001b[39m=\u001b[39;49mkind)\n",
      "File \u001b[1;32mc:\\Users\\Giga\\AppData\\Local\\Programs\\Python\\Python310\\lib\\site-packages\\pandas\\core\\resample.py:1725\u001b[0m, in \u001b[0;36mTimeGrouper._get_resampler\u001b[1;34m(self, obj, kind)\u001b[0m\n\u001b[0;32m   1720\u001b[0m \u001b[39melif\u001b[39;00m \u001b[39misinstance\u001b[39m(ax, TimedeltaIndex):\n\u001b[0;32m   1721\u001b[0m     \u001b[39mreturn\u001b[39;00m TimedeltaIndexResampler(\n\u001b[0;32m   1722\u001b[0m         obj, groupby\u001b[39m=\u001b[39m\u001b[39mself\u001b[39m, axis\u001b[39m=\u001b[39m\u001b[39mself\u001b[39m\u001b[39m.\u001b[39maxis, group_keys\u001b[39m=\u001b[39m\u001b[39mself\u001b[39m\u001b[39m.\u001b[39mgroup_keys\n\u001b[0;32m   1723\u001b[0m     )\n\u001b[1;32m-> 1725\u001b[0m \u001b[39mraise\u001b[39;00m \u001b[39mTypeError\u001b[39;00m(\n\u001b[0;32m   1726\u001b[0m     \u001b[39m\"\u001b[39m\u001b[39mOnly valid with DatetimeIndex, \u001b[39m\u001b[39m\"\u001b[39m\n\u001b[0;32m   1727\u001b[0m     \u001b[39m\"\u001b[39m\u001b[39mTimedeltaIndex or PeriodIndex, \u001b[39m\u001b[39m\"\u001b[39m\n\u001b[0;32m   1728\u001b[0m     \u001b[39mf\u001b[39m\u001b[39m\"\u001b[39m\u001b[39mbut got an instance of \u001b[39m\u001b[39m'\u001b[39m\u001b[39m{\u001b[39;00m\u001b[39mtype\u001b[39m(ax)\u001b[39m.\u001b[39m\u001b[39m__name__\u001b[39m\u001b[39m}\u001b[39;00m\u001b[39m'\u001b[39m\u001b[39m\"\u001b[39m\n\u001b[0;32m   1729\u001b[0m )\n",
      "\u001b[1;31mTypeError\u001b[0m: Only valid with DatetimeIndex, TimedeltaIndex or PeriodIndex, but got an instance of 'Index'"
     ]
    }
   ],
   "source": [
    "# MANO, SALVA ESSA LINHA DE CÓDIGO PARA A VIDA:\n",
    "# PARA A VIDA!     - Tiago\n",
    "months = df_total.set_index(\"date\").resample('M').sum()\n",
    "months.head()\n",
    "\n",
    "\"\"\"\n",
    "Fazendo essa agregação não podemos trabalhar com colunas de valores agregados!!!! \n",
    "Por exemplo, a coluna deaths soma diversas vezes a coluna newDeaths, \n",
    "e quando ela é agregada ela soma esses valores mais de uma vez!\n",
    "Isso gera um número absurdo de casos, além de dados errados!\n",
    "Recomendo usar as colunas newDeaths e newCases da base de dados original,\n",
    "as outras tem que ser avaliadas antes de serem usadas!!\n",
    "\"\"\""
   ]
  },
  {
   "cell_type": "code",
   "execution_count": 42,
   "id": "3ea2de56",
   "metadata": {},
   "outputs": [],
   "source": [
    "\"\"\"\n",
    "Ao invés de usar resample poderiamos pensar em usar groupby, mas isso dificultaria - muito - a plotagem.\n",
    "\n",
    "Groupby com multy index:\n",
    "monthly_deaths = df_total.groupby([df_total.date.dt.year, df_total.date.dt.month])['newDeaths'].sum()\n",
    "\n",
    "Groupby com index resetado:\n",
    "monthly_deaths = df_total.groupby([df_total.date.dt.year, df_total.date.dt.month], as_index=False)['newDeaths'].sum()\n",
    "\n",
    "\n",
    "\"\"\";"
   ]
  },
  {
   "cell_type": "code",
   "execution_count": 43,
   "id": "f844136a",
   "metadata": {},
   "outputs": [
    {
     "data": {
      "text/html": [
       "<div>\n",
       "<style scoped>\n",
       "    .dataframe tbody tr th:only-of-type {\n",
       "        vertical-align: middle;\n",
       "    }\n",
       "\n",
       "    .dataframe tbody tr th {\n",
       "        vertical-align: top;\n",
       "    }\n",
       "\n",
       "    .dataframe thead th {\n",
       "        text-align: right;\n",
       "    }\n",
       "</style>\n",
       "<table border=\"1\" class=\"dataframe\">\n",
       "  <thead>\n",
       "    <tr style=\"text-align: right;\">\n",
       "      <th></th>\n",
       "      <th>epi_week</th>\n",
       "      <th>newDeaths</th>\n",
       "      <th>deaths</th>\n",
       "      <th>newCases</th>\n",
       "      <th>totalCases</th>\n",
       "      <th>deathsMS</th>\n",
       "      <th>totalCasesMS</th>\n",
       "      <th>deaths_per_100k_inhabitants</th>\n",
       "      <th>totalCases_per_100k_inhabitants</th>\n",
       "      <th>deaths_by_totalCases</th>\n",
       "      <th>...</th>\n",
       "      <th>tests</th>\n",
       "      <th>tests_per_100k_inhabitants</th>\n",
       "      <th>vaccinated</th>\n",
       "      <th>vaccinated_per_100_inhabitants</th>\n",
       "      <th>vaccinated_second</th>\n",
       "      <th>vaccinated_second_per_100_inhabitants</th>\n",
       "      <th>vaccinated_single</th>\n",
       "      <th>vaccinated_single_per_100_inhabitants</th>\n",
       "      <th>vaccinated_third</th>\n",
       "      <th>vaccinated_third_per_100_inhabitants</th>\n",
       "    </tr>\n",
       "    <tr>\n",
       "      <th>date</th>\n",
       "      <th></th>\n",
       "      <th></th>\n",
       "      <th></th>\n",
       "      <th></th>\n",
       "      <th></th>\n",
       "      <th></th>\n",
       "      <th></th>\n",
       "      <th></th>\n",
       "      <th></th>\n",
       "      <th></th>\n",
       "      <th></th>\n",
       "      <th></th>\n",
       "      <th></th>\n",
       "      <th></th>\n",
       "      <th></th>\n",
       "      <th></th>\n",
       "      <th></th>\n",
       "      <th></th>\n",
       "      <th></th>\n",
       "      <th></th>\n",
       "      <th></th>\n",
       "    </tr>\n",
       "  </thead>\n",
       "  <tbody>\n",
       "    <tr>\n",
       "      <th>2020-02-29</th>\n",
       "      <td>45.0</td>\n",
       "      <td>0.0</td>\n",
       "      <td>0.0</td>\n",
       "      <td>2.0</td>\n",
       "      <td>7.000000e+00</td>\n",
       "      <td>0.0</td>\n",
       "      <td>5.000000e+00</td>\n",
       "      <td>0.00000</td>\n",
       "      <td>0.00329</td>\n",
       "      <td>0.00000</td>\n",
       "      <td>...</td>\n",
       "      <td>0.000000e+00</td>\n",
       "      <td>0.000000e+00</td>\n",
       "      <td>0.000000e+00</td>\n",
       "      <td>0.00000</td>\n",
       "      <td>0.000000e+00</td>\n",
       "      <td>0.00000</td>\n",
       "      <td>0.0</td>\n",
       "      <td>0.00000</td>\n",
       "      <td>0.000000e+00</td>\n",
       "      <td>0.00000</td>\n",
       "    </tr>\n",
       "    <tr>\n",
       "      <th>2020-03-31</th>\n",
       "      <td>364.0</td>\n",
       "      <td>202.0</td>\n",
       "      <td>998.0</td>\n",
       "      <td>5822.0</td>\n",
       "      <td>3.827900e+04</td>\n",
       "      <td>981.0</td>\n",
       "      <td>3.714400e+04</td>\n",
       "      <td>0.46786</td>\n",
       "      <td>17.94463</td>\n",
       "      <td>0.30899</td>\n",
       "      <td>...</td>\n",
       "      <td>0.000000e+00</td>\n",
       "      <td>0.000000e+00</td>\n",
       "      <td>0.000000e+00</td>\n",
       "      <td>0.00000</td>\n",
       "      <td>0.000000e+00</td>\n",
       "      <td>0.00000</td>\n",
       "      <td>0.0</td>\n",
       "      <td>0.00000</td>\n",
       "      <td>0.000000e+00</td>\n",
       "      <td>0.00000</td>\n",
       "    </tr>\n",
       "    <tr>\n",
       "      <th>2020-04-30</th>\n",
       "      <td>482.0</td>\n",
       "      <td>5778.0</td>\n",
       "      <td>67002.0</td>\n",
       "      <td>81297.0</td>\n",
       "      <td>1.056920e+06</td>\n",
       "      <td>66003.0</td>\n",
       "      <td>1.037903e+06</td>\n",
       "      <td>31.40952</td>\n",
       "      <td>495.46769</td>\n",
       "      <td>1.73039</td>\n",
       "      <td>...</td>\n",
       "      <td>9.898430e+05</td>\n",
       "      <td>4.640230e+02</td>\n",
       "      <td>0.000000e+00</td>\n",
       "      <td>0.00000</td>\n",
       "      <td>0.000000e+00</td>\n",
       "      <td>0.00000</td>\n",
       "      <td>0.0</td>\n",
       "      <td>0.00000</td>\n",
       "      <td>0.000000e+00</td>\n",
       "      <td>0.00000</td>\n",
       "    </tr>\n",
       "    <tr>\n",
       "      <th>2020-05-31</th>\n",
       "      <td>633.0</td>\n",
       "      <td>23385.0</td>\n",
       "      <td>511377.0</td>\n",
       "      <td>428975.0</td>\n",
       "      <td>8.005279e+06</td>\n",
       "      <td>508063.0</td>\n",
       "      <td>7.929984e+06</td>\n",
       "      <td>239.72561</td>\n",
       "      <td>3752.75061</td>\n",
       "      <td>2.03386</td>\n",
       "      <td>...</td>\n",
       "      <td>1.698881e+07</td>\n",
       "      <td>7.964091e+03</td>\n",
       "      <td>0.000000e+00</td>\n",
       "      <td>0.00000</td>\n",
       "      <td>0.000000e+00</td>\n",
       "      <td>0.00000</td>\n",
       "      <td>0.0</td>\n",
       "      <td>0.00000</td>\n",
       "      <td>0.000000e+00</td>\n",
       "      <td>0.00000</td>\n",
       "    </tr>\n",
       "    <tr>\n",
       "      <th>2020-06-30</th>\n",
       "      <td>744.0</td>\n",
       "      <td>30416.0</td>\n",
       "      <td>1358162.0</td>\n",
       "      <td>896462.0</td>\n",
       "      <td>2.833123e+07</td>\n",
       "      <td>1353418.0</td>\n",
       "      <td>2.816292e+07</td>\n",
       "      <td>636.68528</td>\n",
       "      <td>13281.24019</td>\n",
       "      <td>1.47260</td>\n",
       "      <td>...</td>\n",
       "      <td>6.395057e+07</td>\n",
       "      <td>2.997903e+04</td>\n",
       "      <td>0.000000e+00</td>\n",
       "      <td>0.00000</td>\n",
       "      <td>0.000000e+00</td>\n",
       "      <td>0.00000</td>\n",
       "      <td>0.0</td>\n",
       "      <td>0.00000</td>\n",
       "      <td>0.000000e+00</td>\n",
       "      <td>0.00000</td>\n",
       "    </tr>\n",
       "    <tr>\n",
       "      <th>2020-07-31</th>\n",
       "      <td>903.0</td>\n",
       "      <td>32924.0</td>\n",
       "      <td>2375783.0</td>\n",
       "      <td>1257680.0</td>\n",
       "      <td>6.285490e+07</td>\n",
       "      <td>2370476.0</td>\n",
       "      <td>6.264186e+07</td>\n",
       "      <td>1113.73025</td>\n",
       "      <td>29465.40394</td>\n",
       "      <td>1.18192</td>\n",
       "      <td>...</td>\n",
       "      <td>1.570695e+08</td>\n",
       "      <td>7.363177e+04</td>\n",
       "      <td>0.000000e+00</td>\n",
       "      <td>0.00000</td>\n",
       "      <td>0.000000e+00</td>\n",
       "      <td>0.00000</td>\n",
       "      <td>0.0</td>\n",
       "      <td>0.00000</td>\n",
       "      <td>0.000000e+00</td>\n",
       "      <td>0.00000</td>\n",
       "    </tr>\n",
       "    <tr>\n",
       "      <th>2020-08-31</th>\n",
       "      <td>1041.0</td>\n",
       "      <td>28853.0</td>\n",
       "      <td>3349745.0</td>\n",
       "      <td>1243672.0</td>\n",
       "      <td>1.031060e+08</td>\n",
       "      <td>3345605.0</td>\n",
       "      <td>1.029039e+08</td>\n",
       "      <td>1570.30848</td>\n",
       "      <td>48334.47268</td>\n",
       "      <td>1.01053</td>\n",
       "      <td>...</td>\n",
       "      <td>3.088827e+08</td>\n",
       "      <td>1.447994e+05</td>\n",
       "      <td>0.000000e+00</td>\n",
       "      <td>0.00000</td>\n",
       "      <td>0.000000e+00</td>\n",
       "      <td>0.00000</td>\n",
       "      <td>0.0</td>\n",
       "      <td>0.00000</td>\n",
       "      <td>0.000000e+00</td>\n",
       "      <td>0.00000</td>\n",
       "    </tr>\n",
       "    <tr>\n",
       "      <th>2020-09-30</th>\n",
       "      <td>1138.0</td>\n",
       "      <td>22469.0</td>\n",
       "      <td>4008406.0</td>\n",
       "      <td>902811.0</td>\n",
       "      <td>1.322408e+08</td>\n",
       "      <td>4005246.0</td>\n",
       "      <td>1.320948e+08</td>\n",
       "      <td>1879.07856</td>\n",
       "      <td>61992.45296</td>\n",
       "      <td>0.90986</td>\n",
       "      <td>...</td>\n",
       "      <td>4.143522e+08</td>\n",
       "      <td>1.942419e+05</td>\n",
       "      <td>0.000000e+00</td>\n",
       "      <td>0.00000</td>\n",
       "      <td>0.000000e+00</td>\n",
       "      <td>0.00000</td>\n",
       "      <td>0.0</td>\n",
       "      <td>0.00000</td>\n",
       "      <td>0.000000e+00</td>\n",
       "      <td>0.00000</td>\n",
       "    </tr>\n",
       "    <tr>\n",
       "      <th>2020-10-31</th>\n",
       "      <td>1310.0</td>\n",
       "      <td>15890.0</td>\n",
       "      <td>4736028.0</td>\n",
       "      <td>720306.0</td>\n",
       "      <td>1.611664e+08</td>\n",
       "      <td>4733727.0</td>\n",
       "      <td>1.610360e+08</td>\n",
       "      <td>2220.17644</td>\n",
       "      <td>75552.28568</td>\n",
       "      <td>0.91127</td>\n",
       "      <td>...</td>\n",
       "      <td>5.232688e+08</td>\n",
       "      <td>2.453003e+05</td>\n",
       "      <td>0.000000e+00</td>\n",
       "      <td>0.00000</td>\n",
       "      <td>0.000000e+00</td>\n",
       "      <td>0.00000</td>\n",
       "      <td>0.0</td>\n",
       "      <td>0.00000</td>\n",
       "      <td>0.000000e+00</td>\n",
       "      <td>0.00000</td>\n",
       "    </tr>\n",
       "    <tr>\n",
       "      <th>2020-11-30</th>\n",
       "      <td>1400.0</td>\n",
       "      <td>13295.0</td>\n",
       "      <td>4988927.0</td>\n",
       "      <td>804116.0</td>\n",
       "      <td>1.770085e+08</td>\n",
       "      <td>4987004.0</td>\n",
       "      <td>1.768640e+08</td>\n",
       "      <td>2338.73158</td>\n",
       "      <td>82978.82059</td>\n",
       "      <td>0.84614</td>\n",
       "      <td>...</td>\n",
       "      <td>6.665685e+08</td>\n",
       "      <td>3.124770e+05</td>\n",
       "      <td>0.000000e+00</td>\n",
       "      <td>0.00000</td>\n",
       "      <td>0.000000e+00</td>\n",
       "      <td>0.00000</td>\n",
       "      <td>0.0</td>\n",
       "      <td>0.00000</td>\n",
       "      <td>0.000000e+00</td>\n",
       "      <td>0.00000</td>\n",
       "    </tr>\n",
       "    <tr>\n",
       "      <th>2020-12-31</th>\n",
       "      <td>1581.0</td>\n",
       "      <td>21796.0</td>\n",
       "      <td>5705136.0</td>\n",
       "      <td>1338939.0</td>\n",
       "      <td>2.184203e+08</td>\n",
       "      <td>5702572.0</td>\n",
       "      <td>2.182514e+08</td>\n",
       "      <td>2674.47931</td>\n",
       "      <td>102392.04501</td>\n",
       "      <td>0.81066</td>\n",
       "      <td>...</td>\n",
       "      <td>8.350736e+08</td>\n",
       "      <td>3.914695e+05</td>\n",
       "      <td>0.000000e+00</td>\n",
       "      <td>0.00000</td>\n",
       "      <td>0.000000e+00</td>\n",
       "      <td>0.00000</td>\n",
       "      <td>0.0</td>\n",
       "      <td>0.00000</td>\n",
       "      <td>0.000000e+00</td>\n",
       "      <td>0.00000</td>\n",
       "    </tr>\n",
       "    <tr>\n",
       "      <th>2021-01-31</th>\n",
       "      <td>1718.0</td>\n",
       "      <td>29561.0</td>\n",
       "      <td>6486896.0</td>\n",
       "      <td>1527224.0</td>\n",
       "      <td>2.613919e+08</td>\n",
       "      <td>6483686.0</td>\n",
       "      <td>2.611871e+08</td>\n",
       "      <td>3040.95617</td>\n",
       "      <td>122536.45698</td>\n",
       "      <td>0.76988</td>\n",
       "      <td>...</td>\n",
       "      <td>9.430902e+08</td>\n",
       "      <td>4.421060e+05</td>\n",
       "      <td>1.516974e+07</td>\n",
       "      <td>7.11133</td>\n",
       "      <td>1.405500e+04</td>\n",
       "      <td>0.00660</td>\n",
       "      <td>2244.0</td>\n",
       "      <td>0.00103</td>\n",
       "      <td>4.887000e+03</td>\n",
       "      <td>0.00229</td>\n",
       "    </tr>\n",
       "    <tr>\n",
       "      <th>2021-02-28</th>\n",
       "      <td>1670.0</td>\n",
       "      <td>30517.0</td>\n",
       "      <td>6719015.0</td>\n",
       "      <td>1349314.0</td>\n",
       "      <td>2.767415e+08</td>\n",
       "      <td>6714984.0</td>\n",
       "      <td>2.765276e+08</td>\n",
       "      <td>3149.77002</td>\n",
       "      <td>129732.12214</td>\n",
       "      <td>0.67986</td>\n",
       "      <td>...</td>\n",
       "      <td>9.448375e+08</td>\n",
       "      <td>4.429252e+05</td>\n",
       "      <td>1.436011e+08</td>\n",
       "      <td>67.31794</td>\n",
       "      <td>2.075751e+07</td>\n",
       "      <td>9.73078</td>\n",
       "      <td>5251.0</td>\n",
       "      <td>0.00247</td>\n",
       "      <td>2.093400e+04</td>\n",
       "      <td>0.00979</td>\n",
       "    </tr>\n",
       "    <tr>\n",
       "      <th>2021-03-31</th>\n",
       "      <td>1980.0</td>\n",
       "      <td>66919.0</td>\n",
       "      <td>8836300.0</td>\n",
       "      <td>2204981.0</td>\n",
       "      <td>3.614123e+08</td>\n",
       "      <td>8826515.0</td>\n",
       "      <td>3.610597e+08</td>\n",
       "      <td>4142.32038</td>\n",
       "      <td>169424.47876</td>\n",
       "      <td>0.75744</td>\n",
       "      <td>...</td>\n",
       "      <td>1.192327e+09</td>\n",
       "      <td>5.589444e+05</td>\n",
       "      <td>3.558344e+08</td>\n",
       "      <td>166.80965</td>\n",
       "      <td>1.198995e+08</td>\n",
       "      <td>56.20705</td>\n",
       "      <td>27006.0</td>\n",
       "      <td>0.01264</td>\n",
       "      <td>3.677200e+04</td>\n",
       "      <td>0.01722</td>\n",
       "    </tr>\n",
       "    <tr>\n",
       "      <th>2021-04-30</th>\n",
       "      <td>2046.0</td>\n",
       "      <td>82364.0</td>\n",
       "      <td>10963956.0</td>\n",
       "      <td>1911396.0</td>\n",
       "      <td>4.128837e+08</td>\n",
       "      <td>10952414.0</td>\n",
       "      <td>4.125651e+08</td>\n",
       "      <td>5139.73247</td>\n",
       "      <td>193553.46607</td>\n",
       "      <td>0.79582</td>\n",
       "      <td>...</td>\n",
       "      <td>1.291708e+09</td>\n",
       "      <td>6.055327e+05</td>\n",
       "      <td>7.645141e+08</td>\n",
       "      <td>358.39236</td>\n",
       "      <td>2.855487e+08</td>\n",
       "      <td>133.86079</td>\n",
       "      <td>54260.0</td>\n",
       "      <td>0.02541</td>\n",
       "      <td>5.348300e+04</td>\n",
       "      <td>0.02506</td>\n",
       "    </tr>\n",
       "    <tr>\n",
       "      <th>2021-05-31</th>\n",
       "      <td>2250.0</td>\n",
       "      <td>58695.0</td>\n",
       "      <td>13509641.0</td>\n",
       "      <td>1882511.0</td>\n",
       "      <td>4.848628e+08</td>\n",
       "      <td>13501491.0</td>\n",
       "      <td>4.845378e+08</td>\n",
       "      <td>6333.11013</td>\n",
       "      <td>227296.14639</td>\n",
       "      <td>0.86363</td>\n",
       "      <td>...</td>\n",
       "      <td>1.481631e+09</td>\n",
       "      <td>6.945656e+05</td>\n",
       "      <td>1.228924e+09</td>\n",
       "      <td>576.10070</td>\n",
       "      <td>6.032627e+08</td>\n",
       "      <td>282.80021</td>\n",
       "      <td>58095.0</td>\n",
       "      <td>0.02723</td>\n",
       "      <td>7.294500e+04</td>\n",
       "      <td>0.03418</td>\n",
       "    </tr>\n",
       "    <tr>\n",
       "      <th>2021-06-30</th>\n",
       "      <td>2308.0</td>\n",
       "      <td>55220.0</td>\n",
       "      <td>14775257.0</td>\n",
       "      <td>2012110.0</td>\n",
       "      <td>5.285790e+08</td>\n",
       "      <td>14768510.0</td>\n",
       "      <td>5.282970e+08</td>\n",
       "      <td>6926.41128</td>\n",
       "      <td>247789.64387</td>\n",
       "      <td>0.83861</td>\n",
       "      <td>...</td>\n",
       "      <td>1.545831e+09</td>\n",
       "      <td>7.246615e+05</td>\n",
       "      <td>1.819553e+09</td>\n",
       "      <td>852.97831</td>\n",
       "      <td>7.275120e+08</td>\n",
       "      <td>341.04637</td>\n",
       "      <td>1652452.0</td>\n",
       "      <td>0.77464</td>\n",
       "      <td>8.548500e+04</td>\n",
       "      <td>0.04006</td>\n",
       "    </tr>\n",
       "    <tr>\n",
       "      <th>2021-07-31</th>\n",
       "      <td>2519.0</td>\n",
       "      <td>38168.0</td>\n",
       "      <td>16722132.0</td>\n",
       "      <td>1351564.0</td>\n",
       "      <td>5.981284e+08</td>\n",
       "      <td>16718239.0</td>\n",
       "      <td>5.979706e+08</td>\n",
       "      <td>7839.07609</td>\n",
       "      <td>280393.31759</td>\n",
       "      <td>0.86669</td>\n",
       "      <td>...</td>\n",
       "      <td>1.692467e+09</td>\n",
       "      <td>7.934021e+05</td>\n",
       "      <td>2.768284e+09</td>\n",
       "      <td>1297.72839</td>\n",
       "      <td>9.494281e+08</td>\n",
       "      <td>445.07717</td>\n",
       "      <td>93842616.0</td>\n",
       "      <td>43.99194</td>\n",
       "      <td>1.147070e+05</td>\n",
       "      <td>0.05378</td>\n",
       "    </tr>\n",
       "    <tr>\n",
       "      <th>2021-08-31</th>\n",
       "      <td>2658.0</td>\n",
       "      <td>24073.0</td>\n",
       "      <td>17658319.0</td>\n",
       "      <td>862847.0</td>\n",
       "      <td>6.320934e+08</td>\n",
       "      <td>17655225.0</td>\n",
       "      <td>6.319776e+08</td>\n",
       "      <td>8277.94602</td>\n",
       "      <td>296315.56582</td>\n",
       "      <td>0.86605</td>\n",
       "      <td>...</td>\n",
       "      <td>1.740883e+09</td>\n",
       "      <td>8.160988e+05</td>\n",
       "      <td>3.646795e+09</td>\n",
       "      <td>1709.56105</td>\n",
       "      <td>1.468175e+09</td>\n",
       "      <td>688.25769</td>\n",
       "      <td>141520412.0</td>\n",
       "      <td>66.34258</td>\n",
       "      <td>1.688460e+05</td>\n",
       "      <td>0.07917</td>\n",
       "    </tr>\n",
       "    <tr>\n",
       "      <th>2021-09-30</th>\n",
       "      <td>2702.0</td>\n",
       "      <td>16264.0</td>\n",
       "      <td>17667969.0</td>\n",
       "      <td>647083.0</td>\n",
       "      <td>6.334631e+08</td>\n",
       "      <td>17666039.0</td>\n",
       "      <td>6.332880e+08</td>\n",
       "      <td>8282.46979</td>\n",
       "      <td>296957.66557</td>\n",
       "      <td>0.83673</td>\n",
       "      <td>...</td>\n",
       "      <td>1.717238e+09</td>\n",
       "      <td>8.050145e+05</td>\n",
       "      <td>4.228967e+09</td>\n",
       "      <td>1982.47391</td>\n",
       "      <td>2.194358e+09</td>\n",
       "      <td>1028.68075</td>\n",
       "      <td>142368132.0</td>\n",
       "      <td>66.73996</td>\n",
       "      <td>9.705663e+06</td>\n",
       "      <td>4.54987</td>\n",
       "    </tr>\n",
       "    <tr>\n",
       "      <th>2021-10-31</th>\n",
       "      <td>2927.0</td>\n",
       "      <td>11046.0</td>\n",
       "      <td>18689059.0</td>\n",
       "      <td>382172.0</td>\n",
       "      <td>6.707501e+08</td>\n",
       "      <td>18687972.0</td>\n",
       "      <td>6.706877e+08</td>\n",
       "      <td>8761.14094</td>\n",
       "      <td>314437.21867</td>\n",
       "      <td>0.86374</td>\n",
       "      <td>...</td>\n",
       "      <td>1.924310e+09</td>\n",
       "      <td>9.020865e+05</td>\n",
       "      <td>4.708461e+09</td>\n",
       "      <td>2207.25335</td>\n",
       "      <td>3.091930e+09</td>\n",
       "      <td>1449.44905</td>\n",
       "      <td>149560485.0</td>\n",
       "      <td>70.11162</td>\n",
       "      <td>1.448278e+08</td>\n",
       "      <td>67.89299</td>\n",
       "    </tr>\n",
       "    <tr>\n",
       "      <th>2021-11-30</th>\n",
       "      <td>2964.0</td>\n",
       "      <td>6898.0</td>\n",
       "      <td>18343450.0</td>\n",
       "      <td>285485.0</td>\n",
       "      <td>6.589578e+08</td>\n",
       "      <td>18342121.0</td>\n",
       "      <td>6.588858e+08</td>\n",
       "      <td>8599.12480</td>\n",
       "      <td>308909.21496</td>\n",
       "      <td>0.83513</td>\n",
       "      <td>...</td>\n",
       "      <td>1.946544e+09</td>\n",
       "      <td>9.125096e+05</td>\n",
       "      <td>4.731849e+09</td>\n",
       "      <td>2218.21766</td>\n",
       "      <td>3.628824e+09</td>\n",
       "      <td>1701.13654</td>\n",
       "      <td>146235697.0</td>\n",
       "      <td>68.55303</td>\n",
       "      <td>3.789523e+08</td>\n",
       "      <td>177.64697</td>\n",
       "    </tr>\n",
       "    <tr>\n",
       "      <th>2021-12-31</th>\n",
       "      <td>3197.0</td>\n",
       "      <td>4346.0</td>\n",
       "      <td>19135301.0</td>\n",
       "      <td>191866.0</td>\n",
       "      <td>6.882360e+08</td>\n",
       "      <td>19134656.0</td>\n",
       "      <td>6.881965e+08</td>\n",
       "      <td>8970.33227</td>\n",
       "      <td>322634.34905</td>\n",
       "      <td>0.86191</td>\n",
       "      <td>...</td>\n",
       "      <td>2.028914e+09</td>\n",
       "      <td>9.511233e+05</td>\n",
       "      <td>4.988878e+09</td>\n",
       "      <td>2338.70851</td>\n",
       "      <td>4.197660e+09</td>\n",
       "      <td>1967.79793</td>\n",
       "      <td>152742744.0</td>\n",
       "      <td>71.60340</td>\n",
       "      <td>6.837299e+08</td>\n",
       "      <td>320.52199</td>\n",
       "    </tr>\n",
       "    <tr>\n",
       "      <th>2022-01-31</th>\n",
       "      <td>3335.0</td>\n",
       "      <td>8307.0</td>\n",
       "      <td>19279593.0</td>\n",
       "      <td>3181005.0</td>\n",
       "      <td>7.252268e+08</td>\n",
       "      <td>19278083.0</td>\n",
       "      <td>7.248074e+08</td>\n",
       "      <td>9037.97413</td>\n",
       "      <td>339975.07681</td>\n",
       "      <td>0.82545</td>\n",
       "      <td>...</td>\n",
       "      <td>2.053339e+09</td>\n",
       "      <td>9.625732e+05</td>\n",
       "      <td>5.057772e+09</td>\n",
       "      <td>2371.00495</td>\n",
       "      <td>4.388595e+09</td>\n",
       "      <td>2057.30524</td>\n",
       "      <td>154148240.0</td>\n",
       "      <td>72.26230</td>\n",
       "      <td>1.123871e+09</td>\n",
       "      <td>526.85337</td>\n",
       "    </tr>\n",
       "    <tr>\n",
       "      <th>2022-02-28</th>\n",
       "      <td>3130.0</td>\n",
       "      <td>22030.0</td>\n",
       "      <td>17907111.0</td>\n",
       "      <td>3322951.0</td>\n",
       "      <td>7.708629e+08</td>\n",
       "      <td>17904369.0</td>\n",
       "      <td>7.704366e+08</td>\n",
       "      <td>8394.57586</td>\n",
       "      <td>361368.58847</td>\n",
       "      <td>0.65097</td>\n",
       "      <td>...</td>\n",
       "      <td>1.919234e+09</td>\n",
       "      <td>8.997073e+05</td>\n",
       "      <td>4.760934e+09</td>\n",
       "      <td>2231.85186</td>\n",
       "      <td>4.125982e+09</td>\n",
       "      <td>1934.19640</td>\n",
       "      <td>141186629.0</td>\n",
       "      <td>66.18611</td>\n",
       "      <td>1.596279e+09</td>\n",
       "      <td>748.31088</td>\n",
       "    </tr>\n",
       "    <tr>\n",
       "      <th>2022-03-31</th>\n",
       "      <td>3596.0</td>\n",
       "      <td>10341.0</td>\n",
       "      <td>20322963.0</td>\n",
       "      <td>1155304.0</td>\n",
       "      <td>9.129542e+08</td>\n",
       "      <td>20322141.0</td>\n",
       "      <td>9.128247e+08</td>\n",
       "      <td>9527.08978</td>\n",
       "      <td>427978.77209</td>\n",
       "      <td>0.69013</td>\n",
       "      <td>...</td>\n",
       "      <td>2.188284e+09</td>\n",
       "      <td>1.025834e+06</td>\n",
       "      <td>5.426473e+09</td>\n",
       "      <td>2543.84645</td>\n",
       "      <td>4.734397e+09</td>\n",
       "      <td>2219.41203</td>\n",
       "      <td>157988454.0</td>\n",
       "      <td>74.06254</td>\n",
       "      <td>2.203965e+09</td>\n",
       "      <td>1033.18434</td>\n",
       "    </tr>\n",
       "    <tr>\n",
       "      <th>2022-04-30</th>\n",
       "      <td>3610.0</td>\n",
       "      <td>3740.0</td>\n",
       "      <td>19854211.0</td>\n",
       "      <td>500341.0</td>\n",
       "      <td>9.067882e+08</td>\n",
       "      <td>19854211.0</td>\n",
       "      <td>9.067882e+08</td>\n",
       "      <td>9307.34614</td>\n",
       "      <td>425088.25162</td>\n",
       "      <td>0.65685</td>\n",
       "      <td>...</td>\n",
       "      <td>2.127696e+09</td>\n",
       "      <td>9.974311e+05</td>\n",
       "      <td>5.314529e+09</td>\n",
       "      <td>2491.36901</td>\n",
       "      <td>4.711897e+09</td>\n",
       "      <td>2208.86416</td>\n",
       "      <td>156012928.0</td>\n",
       "      <td>73.13644</td>\n",
       "      <td>2.451268e+09</td>\n",
       "      <td>1149.11639</td>\n",
       "    </tr>\n",
       "    <tr>\n",
       "      <th>2022-05-31</th>\n",
       "      <td>3867.0</td>\n",
       "      <td>3179.0</td>\n",
       "      <td>20616875.0</td>\n",
       "      <td>570802.0</td>\n",
       "      <td>9.519935e+08</td>\n",
       "      <td>20616875.0</td>\n",
       "      <td>9.519935e+08</td>\n",
       "      <td>9664.87116</td>\n",
       "      <td>446279.80766</td>\n",
       "      <td>0.67135</td>\n",
       "      <td>...</td>\n",
       "      <td>2.198620e+09</td>\n",
       "      <td>1.030679e+06</td>\n",
       "      <td>5.528276e+09</td>\n",
       "      <td>2591.57001</td>\n",
       "      <td>4.950060e+09</td>\n",
       "      <td>2320.51154</td>\n",
       "      <td>162875577.0</td>\n",
       "      <td>76.35356</td>\n",
       "      <td>2.739956e+09</td>\n",
       "      <td>1284.44883</td>\n",
       "    </tr>\n",
       "    <tr>\n",
       "      <th>2022-06-30</th>\n",
       "      <td>3872.0</td>\n",
       "      <td>4740.0</td>\n",
       "      <td>20062634.0</td>\n",
       "      <td>1338980.0</td>\n",
       "      <td>9.490032e+08</td>\n",
       "      <td>20062634.0</td>\n",
       "      <td>9.490032e+08</td>\n",
       "      <td>9405.05161</td>\n",
       "      <td>444877.99577</td>\n",
       "      <td>0.63429</td>\n",
       "      <td>...</td>\n",
       "      <td>2.127696e+09</td>\n",
       "      <td>9.974311e+05</td>\n",
       "      <td>5.381605e+09</td>\n",
       "      <td>2522.81282</td>\n",
       "      <td>4.864235e+09</td>\n",
       "      <td>2280.27810</td>\n",
       "      <td>159077396.0</td>\n",
       "      <td>74.57302</td>\n",
       "      <td>2.861811e+09</td>\n",
       "      <td>1341.57262</td>\n",
       "    </tr>\n",
       "    <tr>\n",
       "      <th>2022-07-31</th>\n",
       "      <td>4136.0</td>\n",
       "      <td>7098.0</td>\n",
       "      <td>20929725.0</td>\n",
       "      <td>1475882.0</td>\n",
       "      <td>1.029197e+09</td>\n",
       "      <td>20929725.0</td>\n",
       "      <td>1.029197e+09</td>\n",
       "      <td>9811.53041</td>\n",
       "      <td>482471.56910</td>\n",
       "      <td>0.63050</td>\n",
       "      <td>...</td>\n",
       "      <td>2.198620e+09</td>\n",
       "      <td>1.030679e+06</td>\n",
       "      <td>5.579263e+09</td>\n",
       "      <td>2615.47186</td>\n",
       "      <td>5.087337e+09</td>\n",
       "      <td>2384.86471</td>\n",
       "      <td>165724084.0</td>\n",
       "      <td>77.68891</td>\n",
       "      <td>3.255730e+09</td>\n",
       "      <td>1526.23587</td>\n",
       "    </tr>\n",
       "    <tr>\n",
       "      <th>2022-08-31</th>\n",
       "      <td>4274.0</td>\n",
       "      <td>5451.0</td>\n",
       "      <td>21131418.0</td>\n",
       "      <td>595953.0</td>\n",
       "      <td>1.059802e+09</td>\n",
       "      <td>21131418.0</td>\n",
       "      <td>1.059802e+09</td>\n",
       "      <td>9906.08096</td>\n",
       "      <td>496818.82145</td>\n",
       "      <td>0.61812</td>\n",
       "      <td>...</td>\n",
       "      <td>2.198620e+09</td>\n",
       "      <td>1.030679e+06</td>\n",
       "      <td>5.600098e+09</td>\n",
       "      <td>2625.23913</td>\n",
       "      <td>5.138095e+09</td>\n",
       "      <td>2408.65906</td>\n",
       "      <td>167349303.0</td>\n",
       "      <td>78.45077</td>\n",
       "      <td>3.569077e+09</td>\n",
       "      <td>1673.12772</td>\n",
       "    </tr>\n",
       "    <tr>\n",
       "      <th>2022-09-30</th>\n",
       "      <td>4266.0</td>\n",
       "      <td>2071.0</td>\n",
       "      <td>20555477.0</td>\n",
       "      <td>242671.0</td>\n",
       "      <td>1.036918e+09</td>\n",
       "      <td>20555477.0</td>\n",
       "      <td>1.036918e+09</td>\n",
       "      <td>9636.08872</td>\n",
       "      <td>486091.02972</td>\n",
       "      <td>0.59469</td>\n",
       "      <td>...</td>\n",
       "      <td>2.127696e+09</td>\n",
       "      <td>9.974311e+05</td>\n",
       "      <td>5.441468e+09</td>\n",
       "      <td>2550.87558</td>\n",
       "      <td>4.997240e+09</td>\n",
       "      <td>2342.62850</td>\n",
       "      <td>162862339.0</td>\n",
       "      <td>76.34735</td>\n",
       "      <td>3.548375e+09</td>\n",
       "      <td>1663.42335</td>\n",
       "    </tr>\n",
       "    <tr>\n",
       "      <th>2022-10-31</th>\n",
       "      <td>4544.0</td>\n",
       "      <td>2121.0</td>\n",
       "      <td>21304378.0</td>\n",
       "      <td>156225.0</td>\n",
       "      <td>1.077397e+09</td>\n",
       "      <td>21304378.0</td>\n",
       "      <td>1.077397e+09</td>\n",
       "      <td>9987.16191</td>\n",
       "      <td>505067.06949</td>\n",
       "      <td>0.61299</td>\n",
       "      <td>...</td>\n",
       "      <td>2.198620e+09</td>\n",
       "      <td>1.030679e+06</td>\n",
       "      <td>5.640051e+09</td>\n",
       "      <td>2643.96857</td>\n",
       "      <td>5.173237e+09</td>\n",
       "      <td>2425.13347</td>\n",
       "      <td>168477165.0</td>\n",
       "      <td>78.97947</td>\n",
       "      <td>3.682813e+09</td>\n",
       "      <td>1726.44553</td>\n",
       "    </tr>\n",
       "    <tr>\n",
       "      <th>2022-11-30</th>\n",
       "      <td>2097.0</td>\n",
       "      <td>499.0</td>\n",
       "      <td>9638416.0</td>\n",
       "      <td>79449.0</td>\n",
       "      <td>4.881971e+08</td>\n",
       "      <td>9638416.0</td>\n",
       "      <td>4.881971e+08</td>\n",
       "      <td>4518.33990</td>\n",
       "      <td>228859.24498</td>\n",
       "      <td>0.27641</td>\n",
       "      <td>...</td>\n",
       "      <td>9.929250e+08</td>\n",
       "      <td>4.654678e+05</td>\n",
       "      <td>2.547454e+09</td>\n",
       "      <td>1194.20701</td>\n",
       "      <td>2.336732e+09</td>\n",
       "      <td>1095.42355</td>\n",
       "      <td>76087242.0</td>\n",
       "      <td>35.66850</td>\n",
       "      <td>1.663367e+09</td>\n",
       "      <td>779.76038</td>\n",
       "    </tr>\n",
       "  </tbody>\n",
       "</table>\n",
       "<p>34 rows × 22 columns</p>\n",
       "</div>"
      ],
      "text/plain": [
       "            epi_week  newDeaths      deaths   newCases    totalCases  \\\n",
       "date                                                                   \n",
       "2020-02-29      45.0        0.0         0.0        2.0  7.000000e+00   \n",
       "2020-03-31     364.0      202.0       998.0     5822.0  3.827900e+04   \n",
       "2020-04-30     482.0     5778.0     67002.0    81297.0  1.056920e+06   \n",
       "2020-05-31     633.0    23385.0    511377.0   428975.0  8.005279e+06   \n",
       "2020-06-30     744.0    30416.0   1358162.0   896462.0  2.833123e+07   \n",
       "2020-07-31     903.0    32924.0   2375783.0  1257680.0  6.285490e+07   \n",
       "2020-08-31    1041.0    28853.0   3349745.0  1243672.0  1.031060e+08   \n",
       "2020-09-30    1138.0    22469.0   4008406.0   902811.0  1.322408e+08   \n",
       "2020-10-31    1310.0    15890.0   4736028.0   720306.0  1.611664e+08   \n",
       "2020-11-30    1400.0    13295.0   4988927.0   804116.0  1.770085e+08   \n",
       "2020-12-31    1581.0    21796.0   5705136.0  1338939.0  2.184203e+08   \n",
       "2021-01-31    1718.0    29561.0   6486896.0  1527224.0  2.613919e+08   \n",
       "2021-02-28    1670.0    30517.0   6719015.0  1349314.0  2.767415e+08   \n",
       "2021-03-31    1980.0    66919.0   8836300.0  2204981.0  3.614123e+08   \n",
       "2021-04-30    2046.0    82364.0  10963956.0  1911396.0  4.128837e+08   \n",
       "2021-05-31    2250.0    58695.0  13509641.0  1882511.0  4.848628e+08   \n",
       "2021-06-30    2308.0    55220.0  14775257.0  2012110.0  5.285790e+08   \n",
       "2021-07-31    2519.0    38168.0  16722132.0  1351564.0  5.981284e+08   \n",
       "2021-08-31    2658.0    24073.0  17658319.0   862847.0  6.320934e+08   \n",
       "2021-09-30    2702.0    16264.0  17667969.0   647083.0  6.334631e+08   \n",
       "2021-10-31    2927.0    11046.0  18689059.0   382172.0  6.707501e+08   \n",
       "2021-11-30    2964.0     6898.0  18343450.0   285485.0  6.589578e+08   \n",
       "2021-12-31    3197.0     4346.0  19135301.0   191866.0  6.882360e+08   \n",
       "2022-01-31    3335.0     8307.0  19279593.0  3181005.0  7.252268e+08   \n",
       "2022-02-28    3130.0    22030.0  17907111.0  3322951.0  7.708629e+08   \n",
       "2022-03-31    3596.0    10341.0  20322963.0  1155304.0  9.129542e+08   \n",
       "2022-04-30    3610.0     3740.0  19854211.0   500341.0  9.067882e+08   \n",
       "2022-05-31    3867.0     3179.0  20616875.0   570802.0  9.519935e+08   \n",
       "2022-06-30    3872.0     4740.0  20062634.0  1338980.0  9.490032e+08   \n",
       "2022-07-31    4136.0     7098.0  20929725.0  1475882.0  1.029197e+09   \n",
       "2022-08-31    4274.0     5451.0  21131418.0   595953.0  1.059802e+09   \n",
       "2022-09-30    4266.0     2071.0  20555477.0   242671.0  1.036918e+09   \n",
       "2022-10-31    4544.0     2121.0  21304378.0   156225.0  1.077397e+09   \n",
       "2022-11-30    2097.0      499.0   9638416.0    79449.0  4.881971e+08   \n",
       "\n",
       "              deathsMS  totalCasesMS  deaths_per_100k_inhabitants  \\\n",
       "date                                                                \n",
       "2020-02-29         0.0  5.000000e+00                      0.00000   \n",
       "2020-03-31       981.0  3.714400e+04                      0.46786   \n",
       "2020-04-30     66003.0  1.037903e+06                     31.40952   \n",
       "2020-05-31    508063.0  7.929984e+06                    239.72561   \n",
       "2020-06-30   1353418.0  2.816292e+07                    636.68528   \n",
       "2020-07-31   2370476.0  6.264186e+07                   1113.73025   \n",
       "2020-08-31   3345605.0  1.029039e+08                   1570.30848   \n",
       "2020-09-30   4005246.0  1.320948e+08                   1879.07856   \n",
       "2020-10-31   4733727.0  1.610360e+08                   2220.17644   \n",
       "2020-11-30   4987004.0  1.768640e+08                   2338.73158   \n",
       "2020-12-31   5702572.0  2.182514e+08                   2674.47931   \n",
       "2021-01-31   6483686.0  2.611871e+08                   3040.95617   \n",
       "2021-02-28   6714984.0  2.765276e+08                   3149.77002   \n",
       "2021-03-31   8826515.0  3.610597e+08                   4142.32038   \n",
       "2021-04-30  10952414.0  4.125651e+08                   5139.73247   \n",
       "2021-05-31  13501491.0  4.845378e+08                   6333.11013   \n",
       "2021-06-30  14768510.0  5.282970e+08                   6926.41128   \n",
       "2021-07-31  16718239.0  5.979706e+08                   7839.07609   \n",
       "2021-08-31  17655225.0  6.319776e+08                   8277.94602   \n",
       "2021-09-30  17666039.0  6.332880e+08                   8282.46979   \n",
       "2021-10-31  18687972.0  6.706877e+08                   8761.14094   \n",
       "2021-11-30  18342121.0  6.588858e+08                   8599.12480   \n",
       "2021-12-31  19134656.0  6.881965e+08                   8970.33227   \n",
       "2022-01-31  19278083.0  7.248074e+08                   9037.97413   \n",
       "2022-02-28  17904369.0  7.704366e+08                   8394.57586   \n",
       "2022-03-31  20322141.0  9.128247e+08                   9527.08978   \n",
       "2022-04-30  19854211.0  9.067882e+08                   9307.34614   \n",
       "2022-05-31  20616875.0  9.519935e+08                   9664.87116   \n",
       "2022-06-30  20062634.0  9.490032e+08                   9405.05161   \n",
       "2022-07-31  20929725.0  1.029197e+09                   9811.53041   \n",
       "2022-08-31  21131418.0  1.059802e+09                   9906.08096   \n",
       "2022-09-30  20555477.0  1.036918e+09                   9636.08872   \n",
       "2022-10-31  21304378.0  1.077397e+09                   9987.16191   \n",
       "2022-11-30   9638416.0  4.881971e+08                   4518.33990   \n",
       "\n",
       "            totalCases_per_100k_inhabitants  deaths_by_totalCases  ...  \\\n",
       "date                                                               ...   \n",
       "2020-02-29                          0.00329               0.00000  ...   \n",
       "2020-03-31                         17.94463               0.30899  ...   \n",
       "2020-04-30                        495.46769               1.73039  ...   \n",
       "2020-05-31                       3752.75061               2.03386  ...   \n",
       "2020-06-30                      13281.24019               1.47260  ...   \n",
       "2020-07-31                      29465.40394               1.18192  ...   \n",
       "2020-08-31                      48334.47268               1.01053  ...   \n",
       "2020-09-30                      61992.45296               0.90986  ...   \n",
       "2020-10-31                      75552.28568               0.91127  ...   \n",
       "2020-11-30                      82978.82059               0.84614  ...   \n",
       "2020-12-31                     102392.04501               0.81066  ...   \n",
       "2021-01-31                     122536.45698               0.76988  ...   \n",
       "2021-02-28                     129732.12214               0.67986  ...   \n",
       "2021-03-31                     169424.47876               0.75744  ...   \n",
       "2021-04-30                     193553.46607               0.79582  ...   \n",
       "2021-05-31                     227296.14639               0.86363  ...   \n",
       "2021-06-30                     247789.64387               0.83861  ...   \n",
       "2021-07-31                     280393.31759               0.86669  ...   \n",
       "2021-08-31                     296315.56582               0.86605  ...   \n",
       "2021-09-30                     296957.66557               0.83673  ...   \n",
       "2021-10-31                     314437.21867               0.86374  ...   \n",
       "2021-11-30                     308909.21496               0.83513  ...   \n",
       "2021-12-31                     322634.34905               0.86191  ...   \n",
       "2022-01-31                     339975.07681               0.82545  ...   \n",
       "2022-02-28                     361368.58847               0.65097  ...   \n",
       "2022-03-31                     427978.77209               0.69013  ...   \n",
       "2022-04-30                     425088.25162               0.65685  ...   \n",
       "2022-05-31                     446279.80766               0.67135  ...   \n",
       "2022-06-30                     444877.99577               0.63429  ...   \n",
       "2022-07-31                     482471.56910               0.63050  ...   \n",
       "2022-08-31                     496818.82145               0.61812  ...   \n",
       "2022-09-30                     486091.02972               0.59469  ...   \n",
       "2022-10-31                     505067.06949               0.61299  ...   \n",
       "2022-11-30                     228859.24498               0.27641  ...   \n",
       "\n",
       "                   tests  tests_per_100k_inhabitants    vaccinated  \\\n",
       "date                                                                 \n",
       "2020-02-29  0.000000e+00                0.000000e+00  0.000000e+00   \n",
       "2020-03-31  0.000000e+00                0.000000e+00  0.000000e+00   \n",
       "2020-04-30  9.898430e+05                4.640230e+02  0.000000e+00   \n",
       "2020-05-31  1.698881e+07                7.964091e+03  0.000000e+00   \n",
       "2020-06-30  6.395057e+07                2.997903e+04  0.000000e+00   \n",
       "2020-07-31  1.570695e+08                7.363177e+04  0.000000e+00   \n",
       "2020-08-31  3.088827e+08                1.447994e+05  0.000000e+00   \n",
       "2020-09-30  4.143522e+08                1.942419e+05  0.000000e+00   \n",
       "2020-10-31  5.232688e+08                2.453003e+05  0.000000e+00   \n",
       "2020-11-30  6.665685e+08                3.124770e+05  0.000000e+00   \n",
       "2020-12-31  8.350736e+08                3.914695e+05  0.000000e+00   \n",
       "2021-01-31  9.430902e+08                4.421060e+05  1.516974e+07   \n",
       "2021-02-28  9.448375e+08                4.429252e+05  1.436011e+08   \n",
       "2021-03-31  1.192327e+09                5.589444e+05  3.558344e+08   \n",
       "2021-04-30  1.291708e+09                6.055327e+05  7.645141e+08   \n",
       "2021-05-31  1.481631e+09                6.945656e+05  1.228924e+09   \n",
       "2021-06-30  1.545831e+09                7.246615e+05  1.819553e+09   \n",
       "2021-07-31  1.692467e+09                7.934021e+05  2.768284e+09   \n",
       "2021-08-31  1.740883e+09                8.160988e+05  3.646795e+09   \n",
       "2021-09-30  1.717238e+09                8.050145e+05  4.228967e+09   \n",
       "2021-10-31  1.924310e+09                9.020865e+05  4.708461e+09   \n",
       "2021-11-30  1.946544e+09                9.125096e+05  4.731849e+09   \n",
       "2021-12-31  2.028914e+09                9.511233e+05  4.988878e+09   \n",
       "2022-01-31  2.053339e+09                9.625732e+05  5.057772e+09   \n",
       "2022-02-28  1.919234e+09                8.997073e+05  4.760934e+09   \n",
       "2022-03-31  2.188284e+09                1.025834e+06  5.426473e+09   \n",
       "2022-04-30  2.127696e+09                9.974311e+05  5.314529e+09   \n",
       "2022-05-31  2.198620e+09                1.030679e+06  5.528276e+09   \n",
       "2022-06-30  2.127696e+09                9.974311e+05  5.381605e+09   \n",
       "2022-07-31  2.198620e+09                1.030679e+06  5.579263e+09   \n",
       "2022-08-31  2.198620e+09                1.030679e+06  5.600098e+09   \n",
       "2022-09-30  2.127696e+09                9.974311e+05  5.441468e+09   \n",
       "2022-10-31  2.198620e+09                1.030679e+06  5.640051e+09   \n",
       "2022-11-30  9.929250e+08                4.654678e+05  2.547454e+09   \n",
       "\n",
       "            vaccinated_per_100_inhabitants  vaccinated_second  \\\n",
       "date                                                            \n",
       "2020-02-29                         0.00000       0.000000e+00   \n",
       "2020-03-31                         0.00000       0.000000e+00   \n",
       "2020-04-30                         0.00000       0.000000e+00   \n",
       "2020-05-31                         0.00000       0.000000e+00   \n",
       "2020-06-30                         0.00000       0.000000e+00   \n",
       "2020-07-31                         0.00000       0.000000e+00   \n",
       "2020-08-31                         0.00000       0.000000e+00   \n",
       "2020-09-30                         0.00000       0.000000e+00   \n",
       "2020-10-31                         0.00000       0.000000e+00   \n",
       "2020-11-30                         0.00000       0.000000e+00   \n",
       "2020-12-31                         0.00000       0.000000e+00   \n",
       "2021-01-31                         7.11133       1.405500e+04   \n",
       "2021-02-28                        67.31794       2.075751e+07   \n",
       "2021-03-31                       166.80965       1.198995e+08   \n",
       "2021-04-30                       358.39236       2.855487e+08   \n",
       "2021-05-31                       576.10070       6.032627e+08   \n",
       "2021-06-30                       852.97831       7.275120e+08   \n",
       "2021-07-31                      1297.72839       9.494281e+08   \n",
       "2021-08-31                      1709.56105       1.468175e+09   \n",
       "2021-09-30                      1982.47391       2.194358e+09   \n",
       "2021-10-31                      2207.25335       3.091930e+09   \n",
       "2021-11-30                      2218.21766       3.628824e+09   \n",
       "2021-12-31                      2338.70851       4.197660e+09   \n",
       "2022-01-31                      2371.00495       4.388595e+09   \n",
       "2022-02-28                      2231.85186       4.125982e+09   \n",
       "2022-03-31                      2543.84645       4.734397e+09   \n",
       "2022-04-30                      2491.36901       4.711897e+09   \n",
       "2022-05-31                      2591.57001       4.950060e+09   \n",
       "2022-06-30                      2522.81282       4.864235e+09   \n",
       "2022-07-31                      2615.47186       5.087337e+09   \n",
       "2022-08-31                      2625.23913       5.138095e+09   \n",
       "2022-09-30                      2550.87558       4.997240e+09   \n",
       "2022-10-31                      2643.96857       5.173237e+09   \n",
       "2022-11-30                      1194.20701       2.336732e+09   \n",
       "\n",
       "            vaccinated_second_per_100_inhabitants  vaccinated_single  \\\n",
       "date                                                                   \n",
       "2020-02-29                                0.00000                0.0   \n",
       "2020-03-31                                0.00000                0.0   \n",
       "2020-04-30                                0.00000                0.0   \n",
       "2020-05-31                                0.00000                0.0   \n",
       "2020-06-30                                0.00000                0.0   \n",
       "2020-07-31                                0.00000                0.0   \n",
       "2020-08-31                                0.00000                0.0   \n",
       "2020-09-30                                0.00000                0.0   \n",
       "2020-10-31                                0.00000                0.0   \n",
       "2020-11-30                                0.00000                0.0   \n",
       "2020-12-31                                0.00000                0.0   \n",
       "2021-01-31                                0.00660             2244.0   \n",
       "2021-02-28                                9.73078             5251.0   \n",
       "2021-03-31                               56.20705            27006.0   \n",
       "2021-04-30                              133.86079            54260.0   \n",
       "2021-05-31                              282.80021            58095.0   \n",
       "2021-06-30                              341.04637          1652452.0   \n",
       "2021-07-31                              445.07717         93842616.0   \n",
       "2021-08-31                              688.25769        141520412.0   \n",
       "2021-09-30                             1028.68075        142368132.0   \n",
       "2021-10-31                             1449.44905        149560485.0   \n",
       "2021-11-30                             1701.13654        146235697.0   \n",
       "2021-12-31                             1967.79793        152742744.0   \n",
       "2022-01-31                             2057.30524        154148240.0   \n",
       "2022-02-28                             1934.19640        141186629.0   \n",
       "2022-03-31                             2219.41203        157988454.0   \n",
       "2022-04-30                             2208.86416        156012928.0   \n",
       "2022-05-31                             2320.51154        162875577.0   \n",
       "2022-06-30                             2280.27810        159077396.0   \n",
       "2022-07-31                             2384.86471        165724084.0   \n",
       "2022-08-31                             2408.65906        167349303.0   \n",
       "2022-09-30                             2342.62850        162862339.0   \n",
       "2022-10-31                             2425.13347        168477165.0   \n",
       "2022-11-30                             1095.42355         76087242.0   \n",
       "\n",
       "            vaccinated_single_per_100_inhabitants  vaccinated_third  \\\n",
       "date                                                                  \n",
       "2020-02-29                                0.00000      0.000000e+00   \n",
       "2020-03-31                                0.00000      0.000000e+00   \n",
       "2020-04-30                                0.00000      0.000000e+00   \n",
       "2020-05-31                                0.00000      0.000000e+00   \n",
       "2020-06-30                                0.00000      0.000000e+00   \n",
       "2020-07-31                                0.00000      0.000000e+00   \n",
       "2020-08-31                                0.00000      0.000000e+00   \n",
       "2020-09-30                                0.00000      0.000000e+00   \n",
       "2020-10-31                                0.00000      0.000000e+00   \n",
       "2020-11-30                                0.00000      0.000000e+00   \n",
       "2020-12-31                                0.00000      0.000000e+00   \n",
       "2021-01-31                                0.00103      4.887000e+03   \n",
       "2021-02-28                                0.00247      2.093400e+04   \n",
       "2021-03-31                                0.01264      3.677200e+04   \n",
       "2021-04-30                                0.02541      5.348300e+04   \n",
       "2021-05-31                                0.02723      7.294500e+04   \n",
       "2021-06-30                                0.77464      8.548500e+04   \n",
       "2021-07-31                               43.99194      1.147070e+05   \n",
       "2021-08-31                               66.34258      1.688460e+05   \n",
       "2021-09-30                               66.73996      9.705663e+06   \n",
       "2021-10-31                               70.11162      1.448278e+08   \n",
       "2021-11-30                               68.55303      3.789523e+08   \n",
       "2021-12-31                               71.60340      6.837299e+08   \n",
       "2022-01-31                               72.26230      1.123871e+09   \n",
       "2022-02-28                               66.18611      1.596279e+09   \n",
       "2022-03-31                               74.06254      2.203965e+09   \n",
       "2022-04-30                               73.13644      2.451268e+09   \n",
       "2022-05-31                               76.35356      2.739956e+09   \n",
       "2022-06-30                               74.57302      2.861811e+09   \n",
       "2022-07-31                               77.68891      3.255730e+09   \n",
       "2022-08-31                               78.45077      3.569077e+09   \n",
       "2022-09-30                               76.34735      3.548375e+09   \n",
       "2022-10-31                               78.97947      3.682813e+09   \n",
       "2022-11-30                               35.66850      1.663367e+09   \n",
       "\n",
       "            vaccinated_third_per_100_inhabitants  \n",
       "date                                              \n",
       "2020-02-29                               0.00000  \n",
       "2020-03-31                               0.00000  \n",
       "2020-04-30                               0.00000  \n",
       "2020-05-31                               0.00000  \n",
       "2020-06-30                               0.00000  \n",
       "2020-07-31                               0.00000  \n",
       "2020-08-31                               0.00000  \n",
       "2020-09-30                               0.00000  \n",
       "2020-10-31                               0.00000  \n",
       "2020-11-30                               0.00000  \n",
       "2020-12-31                               0.00000  \n",
       "2021-01-31                               0.00229  \n",
       "2021-02-28                               0.00979  \n",
       "2021-03-31                               0.01722  \n",
       "2021-04-30                               0.02506  \n",
       "2021-05-31                               0.03418  \n",
       "2021-06-30                               0.04006  \n",
       "2021-07-31                               0.05378  \n",
       "2021-08-31                               0.07917  \n",
       "2021-09-30                               4.54987  \n",
       "2021-10-31                              67.89299  \n",
       "2021-11-30                             177.64697  \n",
       "2021-12-31                             320.52199  \n",
       "2022-01-31                             526.85337  \n",
       "2022-02-28                             748.31088  \n",
       "2022-03-31                            1033.18434  \n",
       "2022-04-30                            1149.11639  \n",
       "2022-05-31                            1284.44883  \n",
       "2022-06-30                            1341.57262  \n",
       "2022-07-31                            1526.23587  \n",
       "2022-08-31                            1673.12772  \n",
       "2022-09-30                            1663.42335  \n",
       "2022-10-31                            1726.44553  \n",
       "2022-11-30                             779.76038  \n",
       "\n",
       "[34 rows x 22 columns]"
      ]
     },
     "execution_count": 43,
     "metadata": {},
     "output_type": "execute_result"
    }
   ],
   "source": [
    "months"
   ]
  },
  {
   "cell_type": "code",
   "execution_count": null,
   "id": "bc609219",
   "metadata": {},
   "outputs": [
    {
     "data": {
      "text/html": [
       "<div>\n",
       "<style scoped>\n",
       "    .dataframe tbody tr th:only-of-type {\n",
       "        vertical-align: middle;\n",
       "    }\n",
       "\n",
       "    .dataframe tbody tr th {\n",
       "        vertical-align: top;\n",
       "    }\n",
       "\n",
       "    .dataframe thead th {\n",
       "        text-align: right;\n",
       "    }\n",
       "</style>\n",
       "<table border=\"1\" class=\"dataframe\">\n",
       "  <thead>\n",
       "    <tr style=\"text-align: right;\">\n",
       "      <th></th>\n",
       "      <th>epi_week</th>\n",
       "      <th>newDeaths</th>\n",
       "      <th>deaths</th>\n",
       "      <th>newCases</th>\n",
       "      <th>totalCases</th>\n",
       "      <th>deathsMS</th>\n",
       "      <th>totalCasesMS</th>\n",
       "      <th>deaths_per_100k_inhabitants</th>\n",
       "      <th>totalCases_per_100k_inhabitants</th>\n",
       "      <th>deaths_by_totalCases</th>\n",
       "      <th>...</th>\n",
       "      <th>tests</th>\n",
       "      <th>tests_per_100k_inhabitants</th>\n",
       "      <th>vaccinated</th>\n",
       "      <th>vaccinated_per_100_inhabitants</th>\n",
       "      <th>vaccinated_second</th>\n",
       "      <th>vaccinated_second_per_100_inhabitants</th>\n",
       "      <th>vaccinated_single</th>\n",
       "      <th>vaccinated_single_per_100_inhabitants</th>\n",
       "      <th>vaccinated_third</th>\n",
       "      <th>vaccinated_third_per_100_inhabitants</th>\n",
       "    </tr>\n",
       "  </thead>\n",
       "  <tbody>\n",
       "    <tr>\n",
       "      <th>count</th>\n",
       "      <td>34.00</td>\n",
       "      <td>34.00</td>\n",
       "      <td>34.00</td>\n",
       "      <td>34.00</td>\n",
       "      <td>3.400000e+01</td>\n",
       "      <td>34.00</td>\n",
       "      <td>3.400000e+01</td>\n",
       "      <td>34.00</td>\n",
       "      <td>34.00</td>\n",
       "      <td>34.00</td>\n",
       "      <td>...</td>\n",
       "      <td>3.400000e+01</td>\n",
       "      <td>34.00</td>\n",
       "      <td>3.400000e+01</td>\n",
       "      <td>34.00</td>\n",
       "      <td>3.400000e+01</td>\n",
       "      <td>34.00</td>\n",
       "      <td>3.400000e+01</td>\n",
       "      <td>34.00</td>\n",
       "      <td>3.400000e+01</td>\n",
       "      <td>34.00</td>\n",
       "    </tr>\n",
       "    <tr>\n",
       "      <th>mean</th>\n",
       "      <td>2332.56</td>\n",
       "      <td>20254.59</td>\n",
       "      <td>12006225.29</td>\n",
       "      <td>1026711.71</td>\n",
       "      <td>5.002373e+08</td>\n",
       "      <td>12003608.06</td>\n",
       "      <td>5.001031e+08</td>\n",
       "      <td>5628.33</td>\n",
       "      <td>234503.49</td>\n",
       "      <td>0.82</td>\n",
       "      <td>...</td>\n",
       "      <td>1.287302e+09</td>\n",
       "      <td>603467.29</td>\n",
       "      <td>2.519963e+09</td>\n",
       "      <td>1181.32</td>\n",
       "      <td>1.993976e+09</td>\n",
       "      <td>934.74</td>\n",
       "      <td>7.352526e+07</td>\n",
       "      <td>34.47</td>\n",
       "      <td>8.798319e+08</td>\n",
       "      <td>412.45</td>\n",
       "    </tr>\n",
       "    <tr>\n",
       "      <th>std</th>\n",
       "      <td>1275.29</td>\n",
       "      <td>20397.84</td>\n",
       "      <td>7856142.06</td>\n",
       "      <td>835901.42</td>\n",
       "      <td>3.629144e+08</td>\n",
       "      <td>7856950.36</td>\n",
       "      <td>3.629408e+08</td>\n",
       "      <td>3682.84</td>\n",
       "      <td>170128.63</td>\n",
       "      <td>0.37</td>\n",
       "      <td>...</td>\n",
       "      <td>8.140693e+08</td>\n",
       "      <td>381623.05</td>\n",
       "      <td>2.423381e+09</td>\n",
       "      <td>1136.04</td>\n",
       "      <td>2.150183e+09</td>\n",
       "      <td>1007.97</td>\n",
       "      <td>7.655157e+07</td>\n",
       "      <td>35.89</td>\n",
       "      <td>1.313638e+09</td>\n",
       "      <td>615.81</td>\n",
       "    </tr>\n",
       "    <tr>\n",
       "      <th>min</th>\n",
       "      <td>45.00</td>\n",
       "      <td>0.00</td>\n",
       "      <td>0.00</td>\n",
       "      <td>2.00</td>\n",
       "      <td>7.000000e+00</td>\n",
       "      <td>0.00</td>\n",
       "      <td>5.000000e+00</td>\n",
       "      <td>0.00</td>\n",
       "      <td>0.00</td>\n",
       "      <td>0.00</td>\n",
       "      <td>...</td>\n",
       "      <td>0.000000e+00</td>\n",
       "      <td>0.00</td>\n",
       "      <td>0.000000e+00</td>\n",
       "      <td>0.00</td>\n",
       "      <td>0.000000e+00</td>\n",
       "      <td>0.00</td>\n",
       "      <td>0.000000e+00</td>\n",
       "      <td>0.00</td>\n",
       "      <td>0.000000e+00</td>\n",
       "      <td>0.00</td>\n",
       "    </tr>\n",
       "    <tr>\n",
       "      <th>25%</th>\n",
       "      <td>1332.50</td>\n",
       "      <td>4917.75</td>\n",
       "      <td>4799252.75</td>\n",
       "      <td>393872.75</td>\n",
       "      <td>1.651269e+08</td>\n",
       "      <td>4797046.25</td>\n",
       "      <td>1.649930e+08</td>\n",
       "      <td>2249.82</td>\n",
       "      <td>77408.92</td>\n",
       "      <td>0.65</td>\n",
       "      <td>...</td>\n",
       "      <td>5.590938e+08</td>\n",
       "      <td>262094.48</td>\n",
       "      <td>0.000000e+00</td>\n",
       "      <td>0.00</td>\n",
       "      <td>0.000000e+00</td>\n",
       "      <td>0.00</td>\n",
       "      <td>0.000000e+00</td>\n",
       "      <td>0.00</td>\n",
       "      <td>0.000000e+00</td>\n",
       "      <td>0.00</td>\n",
       "    </tr>\n",
       "    <tr>\n",
       "      <th>50%</th>\n",
       "      <td>2279.00</td>\n",
       "      <td>14592.50</td>\n",
       "      <td>14142449.00</td>\n",
       "      <td>879654.50</td>\n",
       "      <td>5.083881e+08</td>\n",
       "      <td>14135000.50</td>\n",
       "      <td>5.082470e+08</td>\n",
       "      <td>6629.76</td>\n",
       "      <td>238324.44</td>\n",
       "      <td>0.82</td>\n",
       "      <td>...</td>\n",
       "      <td>1.513731e+09</td>\n",
       "      <td>709613.57</td>\n",
       "      <td>2.183504e+09</td>\n",
       "      <td>1023.59</td>\n",
       "      <td>8.384701e+08</td>\n",
       "      <td>393.06</td>\n",
       "      <td>3.886985e+07</td>\n",
       "      <td>18.22</td>\n",
       "      <td>1.000960e+05</td>\n",
       "      <td>0.05</td>\n",
       "    </tr>\n",
       "    <tr>\n",
       "      <th>75%</th>\n",
       "      <td>3300.50</td>\n",
       "      <td>29384.00</td>\n",
       "      <td>19243520.00</td>\n",
       "      <td>1351001.50</td>\n",
       "      <td>7.594539e+08</td>\n",
       "      <td>19242226.25</td>\n",
       "      <td>7.590293e+08</td>\n",
       "      <td>9021.06</td>\n",
       "      <td>356020.21</td>\n",
       "      <td>0.87</td>\n",
       "      <td>...</td>\n",
       "      <td>2.047232e+09</td>\n",
       "      <td>959710.77</td>\n",
       "      <td>5.040548e+09</td>\n",
       "      <td>2362.93</td>\n",
       "      <td>4.340861e+09</td>\n",
       "      <td>2034.93</td>\n",
       "      <td>1.537969e+08</td>\n",
       "      <td>72.10</td>\n",
       "      <td>1.646595e+09</td>\n",
       "      <td>771.90</td>\n",
       "    </tr>\n",
       "    <tr>\n",
       "      <th>max</th>\n",
       "      <td>4544.00</td>\n",
       "      <td>82364.00</td>\n",
       "      <td>21304378.00</td>\n",
       "      <td>3322951.00</td>\n",
       "      <td>1.077397e+09</td>\n",
       "      <td>21304378.00</td>\n",
       "      <td>1.077397e+09</td>\n",
       "      <td>9987.16</td>\n",
       "      <td>505067.07</td>\n",
       "      <td>2.03</td>\n",
       "      <td>...</td>\n",
       "      <td>2.198620e+09</td>\n",
       "      <td>1030678.79</td>\n",
       "      <td>5.640051e+09</td>\n",
       "      <td>2643.97</td>\n",
       "      <td>5.173237e+09</td>\n",
       "      <td>2425.13</td>\n",
       "      <td>1.684772e+08</td>\n",
       "      <td>78.98</td>\n",
       "      <td>3.682813e+09</td>\n",
       "      <td>1726.45</td>\n",
       "    </tr>\n",
       "  </tbody>\n",
       "</table>\n",
       "<p>8 rows × 22 columns</p>\n",
       "</div>"
      ],
      "text/plain": [
       "       epi_week  newDeaths       deaths    newCases    totalCases  \\\n",
       "count     34.00      34.00        34.00       34.00  3.400000e+01   \n",
       "mean    2332.56   20254.59  12006225.29  1026711.71  5.002373e+08   \n",
       "std     1275.29   20397.84   7856142.06   835901.42  3.629144e+08   \n",
       "min       45.00       0.00         0.00        2.00  7.000000e+00   \n",
       "25%     1332.50    4917.75   4799252.75   393872.75  1.651269e+08   \n",
       "50%     2279.00   14592.50  14142449.00   879654.50  5.083881e+08   \n",
       "75%     3300.50   29384.00  19243520.00  1351001.50  7.594539e+08   \n",
       "max     4544.00   82364.00  21304378.00  3322951.00  1.077397e+09   \n",
       "\n",
       "          deathsMS  totalCasesMS  deaths_per_100k_inhabitants  \\\n",
       "count        34.00  3.400000e+01                        34.00   \n",
       "mean   12003608.06  5.001031e+08                      5628.33   \n",
       "std     7856950.36  3.629408e+08                      3682.84   \n",
       "min           0.00  5.000000e+00                         0.00   \n",
       "25%     4797046.25  1.649930e+08                      2249.82   \n",
       "50%    14135000.50  5.082470e+08                      6629.76   \n",
       "75%    19242226.25  7.590293e+08                      9021.06   \n",
       "max    21304378.00  1.077397e+09                      9987.16   \n",
       "\n",
       "       totalCases_per_100k_inhabitants  deaths_by_totalCases  ...  \\\n",
       "count                            34.00                 34.00  ...   \n",
       "mean                         234503.49                  0.82  ...   \n",
       "std                          170128.63                  0.37  ...   \n",
       "min                               0.00                  0.00  ...   \n",
       "25%                           77408.92                  0.65  ...   \n",
       "50%                          238324.44                  0.82  ...   \n",
       "75%                          356020.21                  0.87  ...   \n",
       "max                          505067.07                  2.03  ...   \n",
       "\n",
       "              tests  tests_per_100k_inhabitants    vaccinated  \\\n",
       "count  3.400000e+01                       34.00  3.400000e+01   \n",
       "mean   1.287302e+09                   603467.29  2.519963e+09   \n",
       "std    8.140693e+08                   381623.05  2.423381e+09   \n",
       "min    0.000000e+00                        0.00  0.000000e+00   \n",
       "25%    5.590938e+08                   262094.48  0.000000e+00   \n",
       "50%    1.513731e+09                   709613.57  2.183504e+09   \n",
       "75%    2.047232e+09                   959710.77  5.040548e+09   \n",
       "max    2.198620e+09                  1030678.79  5.640051e+09   \n",
       "\n",
       "       vaccinated_per_100_inhabitants  vaccinated_second  \\\n",
       "count                           34.00       3.400000e+01   \n",
       "mean                          1181.32       1.993976e+09   \n",
       "std                           1136.04       2.150183e+09   \n",
       "min                              0.00       0.000000e+00   \n",
       "25%                              0.00       0.000000e+00   \n",
       "50%                           1023.59       8.384701e+08   \n",
       "75%                           2362.93       4.340861e+09   \n",
       "max                           2643.97       5.173237e+09   \n",
       "\n",
       "       vaccinated_second_per_100_inhabitants  vaccinated_single  \\\n",
       "count                                  34.00       3.400000e+01   \n",
       "mean                                  934.74       7.352526e+07   \n",
       "std                                  1007.97       7.655157e+07   \n",
       "min                                     0.00       0.000000e+00   \n",
       "25%                                     0.00       0.000000e+00   \n",
       "50%                                   393.06       3.886985e+07   \n",
       "75%                                  2034.93       1.537969e+08   \n",
       "max                                  2425.13       1.684772e+08   \n",
       "\n",
       "       vaccinated_single_per_100_inhabitants  vaccinated_third  \\\n",
       "count                                  34.00      3.400000e+01   \n",
       "mean                                   34.47      8.798319e+08   \n",
       "std                                    35.89      1.313638e+09   \n",
       "min                                     0.00      0.000000e+00   \n",
       "25%                                     0.00      0.000000e+00   \n",
       "50%                                    18.22      1.000960e+05   \n",
       "75%                                    72.10      1.646595e+09   \n",
       "max                                    78.98      3.682813e+09   \n",
       "\n",
       "       vaccinated_third_per_100_inhabitants  \n",
       "count                                 34.00  \n",
       "mean                                 412.45  \n",
       "std                                  615.81  \n",
       "min                                    0.00  \n",
       "25%                                    0.00  \n",
       "50%                                    0.05  \n",
       "75%                                  771.90  \n",
       "max                                 1726.45  \n",
       "\n",
       "[8 rows x 22 columns]"
      ]
     },
     "execution_count": 44,
     "metadata": {},
     "output_type": "execute_result"
    }
   ],
   "source": [
    "round(months.describe(),2)"
   ]
  },
  {
   "cell_type": "code",
   "execution_count": 11,
   "id": "a5bed86c",
   "metadata": {},
   "outputs": [
    {
     "ename": "NameError",
     "evalue": "name 'months' is not defined",
     "output_type": "error",
     "traceback": [
      "\u001b[1;31m---------------------------------------------------------------------------\u001b[0m",
      "\u001b[1;31mNameError\u001b[0m                                 Traceback (most recent call last)",
      "\u001b[1;32mg:\\Meu Drive\\Letscode\\Diversitech_894\\modulo_3\\DESAFIO\\divtech_covid_analysis\\covid.ipynb Célula: 15\u001b[0m in \u001b[0;36m<cell line: 1>\u001b[1;34m()\u001b[0m\n\u001b[1;32m----> <a href='vscode-notebook-cell:/g%3A/Meu%20Drive/Letscode/Diversitech_894/modulo_3/DESAFIO/divtech_covid_analysis/covid.ipynb#X20sZmlsZQ%3D%3D?line=0'>1</a>\u001b[0m fig \u001b[39m=\u001b[39m px\u001b[39m.\u001b[39mline(months, x\u001b[39m=\u001b[39mmonths\u001b[39m.\u001b[39mindex, y\u001b[39m=\u001b[39m\u001b[39m\"\u001b[39m\u001b[39mnewCases\u001b[39m\u001b[39m\"\u001b[39m, title\u001b[39m=\u001b[39m\u001b[39m'\u001b[39m\u001b[39mNúmero de novos casos divulgados\u001b[39m\u001b[39m'\u001b[39m,\n\u001b[0;32m      <a href='vscode-notebook-cell:/g%3A/Meu%20Drive/Letscode/Diversitech_894/modulo_3/DESAFIO/divtech_covid_analysis/covid.ipynb#X20sZmlsZQ%3D%3D?line=1'>2</a>\u001b[0m              labels \u001b[39m=\u001b[39m {\n\u001b[0;32m      <a href='vscode-notebook-cell:/g%3A/Meu%20Drive/Letscode/Diversitech_894/modulo_3/DESAFIO/divtech_covid_analysis/covid.ipynb#X20sZmlsZQ%3D%3D?line=2'>3</a>\u001b[0m                 \u001b[39m\"\u001b[39m\u001b[39mnewCases\u001b[39m\u001b[39m\"\u001b[39m: \u001b[39m\"\u001b[39m\u001b[39mQuantidade\u001b[39m\u001b[39m\"\u001b[39m,\n\u001b[0;32m      <a href='vscode-notebook-cell:/g%3A/Meu%20Drive/Letscode/Diversitech_894/modulo_3/DESAFIO/divtech_covid_analysis/covid.ipynb#X20sZmlsZQ%3D%3D?line=3'>4</a>\u001b[0m                 \u001b[39m\"\u001b[39m\u001b[39mdate\u001b[39m\u001b[39m\"\u001b[39m: \u001b[39m\"\u001b[39m\u001b[39mData\u001b[39m\u001b[39m\"\u001b[39m\n\u001b[0;32m      <a href='vscode-notebook-cell:/g%3A/Meu%20Drive/Letscode/Diversitech_894/modulo_3/DESAFIO/divtech_covid_analysis/covid.ipynb#X20sZmlsZQ%3D%3D?line=4'>5</a>\u001b[0m                 })\n\u001b[0;32m      <a href='vscode-notebook-cell:/g%3A/Meu%20Drive/Letscode/Diversitech_894/modulo_3/DESAFIO/divtech_covid_analysis/covid.ipynb#X20sZmlsZQ%3D%3D?line=5'>6</a>\u001b[0m fig\u001b[39m.\u001b[39mshow()\n",
      "\u001b[1;31mNameError\u001b[0m: name 'months' is not defined"
     ]
    }
   ],
   "source": [
    "fig = px.line(months, x=months.index, y=\"newCases\", title='Número de novos casos divulgados',\n",
    "             labels = {\n",
    "                \"newCases\": \"Quantidade\",\n",
    "                \"date\": \"Data\"\n",
    "                })\n",
    "fig.show()"
   ]
  },
  {
   "cell_type": "code",
   "execution_count": 46,
   "id": "95f44e8f",
   "metadata": {},
   "outputs": [
    {
     "data": {
      "application/vnd.plotly.v1+json": {
       "config": {
        "plotlyServerURL": "https://plot.ly"
       },
       "data": [
        {
         "hovertemplate": "Data=%{x}<br>newDeaths=%{y}<extra></extra>",
         "legendgroup": "",
         "line": {
          "color": "#636efa",
          "dash": "solid"
         },
         "marker": {
          "symbol": "circle"
         },
         "mode": "lines",
         "name": "",
         "orientation": "v",
         "showlegend": false,
         "type": "scatter",
         "x": [
          "2020-02-29T00:00:00",
          "2020-03-31T00:00:00",
          "2020-04-30T00:00:00",
          "2020-05-31T00:00:00",
          "2020-06-30T00:00:00",
          "2020-07-31T00:00:00",
          "2020-08-31T00:00:00",
          "2020-09-30T00:00:00",
          "2020-10-31T00:00:00",
          "2020-11-30T00:00:00",
          "2020-12-31T00:00:00",
          "2021-01-31T00:00:00",
          "2021-02-28T00:00:00",
          "2021-03-31T00:00:00",
          "2021-04-30T00:00:00",
          "2021-05-31T00:00:00",
          "2021-06-30T00:00:00",
          "2021-07-31T00:00:00",
          "2021-08-31T00:00:00",
          "2021-09-30T00:00:00",
          "2021-10-31T00:00:00",
          "2021-11-30T00:00:00",
          "2021-12-31T00:00:00",
          "2022-01-31T00:00:00",
          "2022-02-28T00:00:00",
          "2022-03-31T00:00:00",
          "2022-04-30T00:00:00",
          "2022-05-31T00:00:00",
          "2022-06-30T00:00:00",
          "2022-07-31T00:00:00",
          "2022-08-31T00:00:00",
          "2022-09-30T00:00:00",
          "2022-10-31T00:00:00",
          "2022-11-30T00:00:00"
         ],
         "xaxis": "x",
         "y": [
          0,
          202,
          5778,
          23385,
          30416,
          32924,
          28853,
          22469,
          15890,
          13295,
          21796,
          29561,
          30517,
          66919,
          82364,
          58695,
          55220,
          38168,
          24073,
          16264,
          11046,
          6898,
          4346,
          8307,
          22030,
          10341,
          3740,
          3179,
          4740,
          7098,
          5451,
          2071,
          2121,
          499
         ],
         "yaxis": "y"
        }
       ],
       "layout": {
        "legend": {
         "tracegroupgap": 0
        },
        "template": {
         "data": {
          "bar": [
           {
            "error_x": {
             "color": "#2a3f5f"
            },
            "error_y": {
             "color": "#2a3f5f"
            },
            "marker": {
             "line": {
              "color": "#E5ECF6",
              "width": 0.5
             },
             "pattern": {
              "fillmode": "overlay",
              "size": 10,
              "solidity": 0.2
             }
            },
            "type": "bar"
           }
          ],
          "barpolar": [
           {
            "marker": {
             "line": {
              "color": "#E5ECF6",
              "width": 0.5
             },
             "pattern": {
              "fillmode": "overlay",
              "size": 10,
              "solidity": 0.2
             }
            },
            "type": "barpolar"
           }
          ],
          "carpet": [
           {
            "aaxis": {
             "endlinecolor": "#2a3f5f",
             "gridcolor": "white",
             "linecolor": "white",
             "minorgridcolor": "white",
             "startlinecolor": "#2a3f5f"
            },
            "baxis": {
             "endlinecolor": "#2a3f5f",
             "gridcolor": "white",
             "linecolor": "white",
             "minorgridcolor": "white",
             "startlinecolor": "#2a3f5f"
            },
            "type": "carpet"
           }
          ],
          "choropleth": [
           {
            "colorbar": {
             "outlinewidth": 0,
             "ticks": ""
            },
            "type": "choropleth"
           }
          ],
          "contour": [
           {
            "colorbar": {
             "outlinewidth": 0,
             "ticks": ""
            },
            "colorscale": [
             [
              0,
              "#0d0887"
             ],
             [
              0.1111111111111111,
              "#46039f"
             ],
             [
              0.2222222222222222,
              "#7201a8"
             ],
             [
              0.3333333333333333,
              "#9c179e"
             ],
             [
              0.4444444444444444,
              "#bd3786"
             ],
             [
              0.5555555555555556,
              "#d8576b"
             ],
             [
              0.6666666666666666,
              "#ed7953"
             ],
             [
              0.7777777777777778,
              "#fb9f3a"
             ],
             [
              0.8888888888888888,
              "#fdca26"
             ],
             [
              1,
              "#f0f921"
             ]
            ],
            "type": "contour"
           }
          ],
          "contourcarpet": [
           {
            "colorbar": {
             "outlinewidth": 0,
             "ticks": ""
            },
            "type": "contourcarpet"
           }
          ],
          "heatmap": [
           {
            "colorbar": {
             "outlinewidth": 0,
             "ticks": ""
            },
            "colorscale": [
             [
              0,
              "#0d0887"
             ],
             [
              0.1111111111111111,
              "#46039f"
             ],
             [
              0.2222222222222222,
              "#7201a8"
             ],
             [
              0.3333333333333333,
              "#9c179e"
             ],
             [
              0.4444444444444444,
              "#bd3786"
             ],
             [
              0.5555555555555556,
              "#d8576b"
             ],
             [
              0.6666666666666666,
              "#ed7953"
             ],
             [
              0.7777777777777778,
              "#fb9f3a"
             ],
             [
              0.8888888888888888,
              "#fdca26"
             ],
             [
              1,
              "#f0f921"
             ]
            ],
            "type": "heatmap"
           }
          ],
          "heatmapgl": [
           {
            "colorbar": {
             "outlinewidth": 0,
             "ticks": ""
            },
            "colorscale": [
             [
              0,
              "#0d0887"
             ],
             [
              0.1111111111111111,
              "#46039f"
             ],
             [
              0.2222222222222222,
              "#7201a8"
             ],
             [
              0.3333333333333333,
              "#9c179e"
             ],
             [
              0.4444444444444444,
              "#bd3786"
             ],
             [
              0.5555555555555556,
              "#d8576b"
             ],
             [
              0.6666666666666666,
              "#ed7953"
             ],
             [
              0.7777777777777778,
              "#fb9f3a"
             ],
             [
              0.8888888888888888,
              "#fdca26"
             ],
             [
              1,
              "#f0f921"
             ]
            ],
            "type": "heatmapgl"
           }
          ],
          "histogram": [
           {
            "marker": {
             "pattern": {
              "fillmode": "overlay",
              "size": 10,
              "solidity": 0.2
             }
            },
            "type": "histogram"
           }
          ],
          "histogram2d": [
           {
            "colorbar": {
             "outlinewidth": 0,
             "ticks": ""
            },
            "colorscale": [
             [
              0,
              "#0d0887"
             ],
             [
              0.1111111111111111,
              "#46039f"
             ],
             [
              0.2222222222222222,
              "#7201a8"
             ],
             [
              0.3333333333333333,
              "#9c179e"
             ],
             [
              0.4444444444444444,
              "#bd3786"
             ],
             [
              0.5555555555555556,
              "#d8576b"
             ],
             [
              0.6666666666666666,
              "#ed7953"
             ],
             [
              0.7777777777777778,
              "#fb9f3a"
             ],
             [
              0.8888888888888888,
              "#fdca26"
             ],
             [
              1,
              "#f0f921"
             ]
            ],
            "type": "histogram2d"
           }
          ],
          "histogram2dcontour": [
           {
            "colorbar": {
             "outlinewidth": 0,
             "ticks": ""
            },
            "colorscale": [
             [
              0,
              "#0d0887"
             ],
             [
              0.1111111111111111,
              "#46039f"
             ],
             [
              0.2222222222222222,
              "#7201a8"
             ],
             [
              0.3333333333333333,
              "#9c179e"
             ],
             [
              0.4444444444444444,
              "#bd3786"
             ],
             [
              0.5555555555555556,
              "#d8576b"
             ],
             [
              0.6666666666666666,
              "#ed7953"
             ],
             [
              0.7777777777777778,
              "#fb9f3a"
             ],
             [
              0.8888888888888888,
              "#fdca26"
             ],
             [
              1,
              "#f0f921"
             ]
            ],
            "type": "histogram2dcontour"
           }
          ],
          "mesh3d": [
           {
            "colorbar": {
             "outlinewidth": 0,
             "ticks": ""
            },
            "type": "mesh3d"
           }
          ],
          "parcoords": [
           {
            "line": {
             "colorbar": {
              "outlinewidth": 0,
              "ticks": ""
             }
            },
            "type": "parcoords"
           }
          ],
          "pie": [
           {
            "automargin": true,
            "type": "pie"
           }
          ],
          "scatter": [
           {
            "fillpattern": {
             "fillmode": "overlay",
             "size": 10,
             "solidity": 0.2
            },
            "type": "scatter"
           }
          ],
          "scatter3d": [
           {
            "line": {
             "colorbar": {
              "outlinewidth": 0,
              "ticks": ""
             }
            },
            "marker": {
             "colorbar": {
              "outlinewidth": 0,
              "ticks": ""
             }
            },
            "type": "scatter3d"
           }
          ],
          "scattercarpet": [
           {
            "marker": {
             "colorbar": {
              "outlinewidth": 0,
              "ticks": ""
             }
            },
            "type": "scattercarpet"
           }
          ],
          "scattergeo": [
           {
            "marker": {
             "colorbar": {
              "outlinewidth": 0,
              "ticks": ""
             }
            },
            "type": "scattergeo"
           }
          ],
          "scattergl": [
           {
            "marker": {
             "colorbar": {
              "outlinewidth": 0,
              "ticks": ""
             }
            },
            "type": "scattergl"
           }
          ],
          "scattermapbox": [
           {
            "marker": {
             "colorbar": {
              "outlinewidth": 0,
              "ticks": ""
             }
            },
            "type": "scattermapbox"
           }
          ],
          "scatterpolar": [
           {
            "marker": {
             "colorbar": {
              "outlinewidth": 0,
              "ticks": ""
             }
            },
            "type": "scatterpolar"
           }
          ],
          "scatterpolargl": [
           {
            "marker": {
             "colorbar": {
              "outlinewidth": 0,
              "ticks": ""
             }
            },
            "type": "scatterpolargl"
           }
          ],
          "scatterternary": [
           {
            "marker": {
             "colorbar": {
              "outlinewidth": 0,
              "ticks": ""
             }
            },
            "type": "scatterternary"
           }
          ],
          "surface": [
           {
            "colorbar": {
             "outlinewidth": 0,
             "ticks": ""
            },
            "colorscale": [
             [
              0,
              "#0d0887"
             ],
             [
              0.1111111111111111,
              "#46039f"
             ],
             [
              0.2222222222222222,
              "#7201a8"
             ],
             [
              0.3333333333333333,
              "#9c179e"
             ],
             [
              0.4444444444444444,
              "#bd3786"
             ],
             [
              0.5555555555555556,
              "#d8576b"
             ],
             [
              0.6666666666666666,
              "#ed7953"
             ],
             [
              0.7777777777777778,
              "#fb9f3a"
             ],
             [
              0.8888888888888888,
              "#fdca26"
             ],
             [
              1,
              "#f0f921"
             ]
            ],
            "type": "surface"
           }
          ],
          "table": [
           {
            "cells": {
             "fill": {
              "color": "#EBF0F8"
             },
             "line": {
              "color": "white"
             }
            },
            "header": {
             "fill": {
              "color": "#C8D4E3"
             },
             "line": {
              "color": "white"
             }
            },
            "type": "table"
           }
          ]
         },
         "layout": {
          "annotationdefaults": {
           "arrowcolor": "#2a3f5f",
           "arrowhead": 0,
           "arrowwidth": 1
          },
          "autotypenumbers": "strict",
          "coloraxis": {
           "colorbar": {
            "outlinewidth": 0,
            "ticks": ""
           }
          },
          "colorscale": {
           "diverging": [
            [
             0,
             "#8e0152"
            ],
            [
             0.1,
             "#c51b7d"
            ],
            [
             0.2,
             "#de77ae"
            ],
            [
             0.3,
             "#f1b6da"
            ],
            [
             0.4,
             "#fde0ef"
            ],
            [
             0.5,
             "#f7f7f7"
            ],
            [
             0.6,
             "#e6f5d0"
            ],
            [
             0.7,
             "#b8e186"
            ],
            [
             0.8,
             "#7fbc41"
            ],
            [
             0.9,
             "#4d9221"
            ],
            [
             1,
             "#276419"
            ]
           ],
           "sequential": [
            [
             0,
             "#0d0887"
            ],
            [
             0.1111111111111111,
             "#46039f"
            ],
            [
             0.2222222222222222,
             "#7201a8"
            ],
            [
             0.3333333333333333,
             "#9c179e"
            ],
            [
             0.4444444444444444,
             "#bd3786"
            ],
            [
             0.5555555555555556,
             "#d8576b"
            ],
            [
             0.6666666666666666,
             "#ed7953"
            ],
            [
             0.7777777777777778,
             "#fb9f3a"
            ],
            [
             0.8888888888888888,
             "#fdca26"
            ],
            [
             1,
             "#f0f921"
            ]
           ],
           "sequentialminus": [
            [
             0,
             "#0d0887"
            ],
            [
             0.1111111111111111,
             "#46039f"
            ],
            [
             0.2222222222222222,
             "#7201a8"
            ],
            [
             0.3333333333333333,
             "#9c179e"
            ],
            [
             0.4444444444444444,
             "#bd3786"
            ],
            [
             0.5555555555555556,
             "#d8576b"
            ],
            [
             0.6666666666666666,
             "#ed7953"
            ],
            [
             0.7777777777777778,
             "#fb9f3a"
            ],
            [
             0.8888888888888888,
             "#fdca26"
            ],
            [
             1,
             "#f0f921"
            ]
           ]
          },
          "colorway": [
           "#636efa",
           "#EF553B",
           "#00cc96",
           "#ab63fa",
           "#FFA15A",
           "#19d3f3",
           "#FF6692",
           "#B6E880",
           "#FF97FF",
           "#FECB52"
          ],
          "font": {
           "color": "#2a3f5f"
          },
          "geo": {
           "bgcolor": "white",
           "lakecolor": "white",
           "landcolor": "#E5ECF6",
           "showlakes": true,
           "showland": true,
           "subunitcolor": "white"
          },
          "hoverlabel": {
           "align": "left"
          },
          "hovermode": "closest",
          "mapbox": {
           "style": "light"
          },
          "paper_bgcolor": "white",
          "plot_bgcolor": "#E5ECF6",
          "polar": {
           "angularaxis": {
            "gridcolor": "white",
            "linecolor": "white",
            "ticks": ""
           },
           "bgcolor": "#E5ECF6",
           "radialaxis": {
            "gridcolor": "white",
            "linecolor": "white",
            "ticks": ""
           }
          },
          "scene": {
           "xaxis": {
            "backgroundcolor": "#E5ECF6",
            "gridcolor": "white",
            "gridwidth": 2,
            "linecolor": "white",
            "showbackground": true,
            "ticks": "",
            "zerolinecolor": "white"
           },
           "yaxis": {
            "backgroundcolor": "#E5ECF6",
            "gridcolor": "white",
            "gridwidth": 2,
            "linecolor": "white",
            "showbackground": true,
            "ticks": "",
            "zerolinecolor": "white"
           },
           "zaxis": {
            "backgroundcolor": "#E5ECF6",
            "gridcolor": "white",
            "gridwidth": 2,
            "linecolor": "white",
            "showbackground": true,
            "ticks": "",
            "zerolinecolor": "white"
           }
          },
          "shapedefaults": {
           "line": {
            "color": "#2a3f5f"
           }
          },
          "ternary": {
           "aaxis": {
            "gridcolor": "white",
            "linecolor": "white",
            "ticks": ""
           },
           "baxis": {
            "gridcolor": "white",
            "linecolor": "white",
            "ticks": ""
           },
           "bgcolor": "#E5ECF6",
           "caxis": {
            "gridcolor": "white",
            "linecolor": "white",
            "ticks": ""
           }
          },
          "title": {
           "x": 0.05
          },
          "xaxis": {
           "automargin": true,
           "gridcolor": "white",
           "linecolor": "white",
           "ticks": "",
           "title": {
            "standoff": 15
           },
           "zerolinecolor": "white",
           "zerolinewidth": 2
          },
          "yaxis": {
           "automargin": true,
           "gridcolor": "white",
           "linecolor": "white",
           "ticks": "",
           "title": {
            "standoff": 15
           },
           "zerolinecolor": "white",
           "zerolinewidth": 2
          }
         }
        },
        "title": {
         "text": "Número de Novos Óbitos Divulgados"
        },
        "xaxis": {
         "anchor": "y",
         "domain": [
          0,
          1
         ],
         "title": {
          "text": "Data"
         }
        },
        "yaxis": {
         "anchor": "x",
         "domain": [
          0,
          1
         ],
         "title": {
          "text": "newDeaths"
         }
        }
       }
      }
     },
     "metadata": {},
     "output_type": "display_data"
    }
   ],
   "source": [
    "fig = px.line(months, x=months.index, y=\"newDeaths\", title='Número de Novos Óbitos Divulgados',\n",
    "             labels = {\n",
    "                \"deathsMS\": \"Quantidade\",\n",
    "                \"date\": \"Data\"\n",
    "                })\n",
    "fig.show()"
   ]
  },
  {
   "cell_type": "code",
   "execution_count": 47,
   "id": "a27e02fd",
   "metadata": {},
   "outputs": [
    {
     "data": {
      "application/vnd.plotly.v1+json": {
       "config": {
        "plotlyServerURL": "https://plot.ly"
       },
       "data": [
        {
         "hovertemplate": "Data=%{x}<br>Variação=%{y}<extra></extra>",
         "legendgroup": "",
         "line": {
          "color": "#636efa",
          "dash": "solid"
         },
         "marker": {
          "symbol": "circle"
         },
         "mode": "lines",
         "name": "",
         "orientation": "v",
         "showlegend": false,
         "type": "scatter",
         "x": [
          "2020-02-29T00:00:00",
          "2020-03-31T00:00:00",
          "2020-04-30T00:00:00",
          "2020-05-31T00:00:00",
          "2020-06-30T00:00:00",
          "2020-07-31T00:00:00",
          "2020-08-31T00:00:00",
          "2020-09-30T00:00:00",
          "2020-10-31T00:00:00",
          "2020-11-30T00:00:00",
          "2020-12-31T00:00:00",
          "2021-01-31T00:00:00",
          "2021-02-28T00:00:00",
          "2021-03-31T00:00:00",
          "2021-04-30T00:00:00",
          "2021-05-31T00:00:00",
          "2021-06-30T00:00:00",
          "2021-07-31T00:00:00",
          "2021-08-31T00:00:00",
          "2021-09-30T00:00:00",
          "2021-10-31T00:00:00",
          "2021-11-30T00:00:00",
          "2021-12-31T00:00:00",
          "2022-01-31T00:00:00",
          "2022-02-28T00:00:00",
          "2022-03-31T00:00:00",
          "2022-04-30T00:00:00",
          "2022-05-31T00:00:00",
          "2022-06-30T00:00:00",
          "2022-07-31T00:00:00",
          "2022-08-31T00:00:00",
          "2022-09-30T00:00:00",
          "2022-10-31T00:00:00",
          "2022-11-30T00:00:00"
         ],
         "xaxis": "x",
         "y": [
          null,
          null,
          27.603960396039604,
          3.0472481827622016,
          0.3006628180457558,
          0.08245660178853242,
          -0.12364840238124164,
          -0.2212594877482411,
          -0.29280341804263654,
          -0.1633102580239144,
          0.6394133132756676,
          0.3562580289961461,
          0.03233990731030745,
          1.1928433332241046,
          0.230801416638025,
          -0.2873706959351173,
          -0.059204361529942906,
          -0.3088011590003622,
          -0.3692884091385453,
          -0.324388318863457,
          -0.3208312838170192,
          -0.37552055042549337,
          -0.3699623079153378,
          0.9114127933732168,
          1.6519802576140603,
          -0.5305946436677258,
          -0.6383328498211005,
          -0.15000000000000002,
          0.49103491664045307,
          0.49746835443037973,
          -0.2320371935756551,
          -0.6200697119794534,
          0.024142926122646013,
          -0.7647336162187648
         ],
         "yaxis": "y"
        }
       ],
       "layout": {
        "legend": {
         "tracegroupgap": 0
        },
        "template": {
         "data": {
          "bar": [
           {
            "error_x": {
             "color": "#2a3f5f"
            },
            "error_y": {
             "color": "#2a3f5f"
            },
            "marker": {
             "line": {
              "color": "#E5ECF6",
              "width": 0.5
             },
             "pattern": {
              "fillmode": "overlay",
              "size": 10,
              "solidity": 0.2
             }
            },
            "type": "bar"
           }
          ],
          "barpolar": [
           {
            "marker": {
             "line": {
              "color": "#E5ECF6",
              "width": 0.5
             },
             "pattern": {
              "fillmode": "overlay",
              "size": 10,
              "solidity": 0.2
             }
            },
            "type": "barpolar"
           }
          ],
          "carpet": [
           {
            "aaxis": {
             "endlinecolor": "#2a3f5f",
             "gridcolor": "white",
             "linecolor": "white",
             "minorgridcolor": "white",
             "startlinecolor": "#2a3f5f"
            },
            "baxis": {
             "endlinecolor": "#2a3f5f",
             "gridcolor": "white",
             "linecolor": "white",
             "minorgridcolor": "white",
             "startlinecolor": "#2a3f5f"
            },
            "type": "carpet"
           }
          ],
          "choropleth": [
           {
            "colorbar": {
             "outlinewidth": 0,
             "ticks": ""
            },
            "type": "choropleth"
           }
          ],
          "contour": [
           {
            "colorbar": {
             "outlinewidth": 0,
             "ticks": ""
            },
            "colorscale": [
             [
              0,
              "#0d0887"
             ],
             [
              0.1111111111111111,
              "#46039f"
             ],
             [
              0.2222222222222222,
              "#7201a8"
             ],
             [
              0.3333333333333333,
              "#9c179e"
             ],
             [
              0.4444444444444444,
              "#bd3786"
             ],
             [
              0.5555555555555556,
              "#d8576b"
             ],
             [
              0.6666666666666666,
              "#ed7953"
             ],
             [
              0.7777777777777778,
              "#fb9f3a"
             ],
             [
              0.8888888888888888,
              "#fdca26"
             ],
             [
              1,
              "#f0f921"
             ]
            ],
            "type": "contour"
           }
          ],
          "contourcarpet": [
           {
            "colorbar": {
             "outlinewidth": 0,
             "ticks": ""
            },
            "type": "contourcarpet"
           }
          ],
          "heatmap": [
           {
            "colorbar": {
             "outlinewidth": 0,
             "ticks": ""
            },
            "colorscale": [
             [
              0,
              "#0d0887"
             ],
             [
              0.1111111111111111,
              "#46039f"
             ],
             [
              0.2222222222222222,
              "#7201a8"
             ],
             [
              0.3333333333333333,
              "#9c179e"
             ],
             [
              0.4444444444444444,
              "#bd3786"
             ],
             [
              0.5555555555555556,
              "#d8576b"
             ],
             [
              0.6666666666666666,
              "#ed7953"
             ],
             [
              0.7777777777777778,
              "#fb9f3a"
             ],
             [
              0.8888888888888888,
              "#fdca26"
             ],
             [
              1,
              "#f0f921"
             ]
            ],
            "type": "heatmap"
           }
          ],
          "heatmapgl": [
           {
            "colorbar": {
             "outlinewidth": 0,
             "ticks": ""
            },
            "colorscale": [
             [
              0,
              "#0d0887"
             ],
             [
              0.1111111111111111,
              "#46039f"
             ],
             [
              0.2222222222222222,
              "#7201a8"
             ],
             [
              0.3333333333333333,
              "#9c179e"
             ],
             [
              0.4444444444444444,
              "#bd3786"
             ],
             [
              0.5555555555555556,
              "#d8576b"
             ],
             [
              0.6666666666666666,
              "#ed7953"
             ],
             [
              0.7777777777777778,
              "#fb9f3a"
             ],
             [
              0.8888888888888888,
              "#fdca26"
             ],
             [
              1,
              "#f0f921"
             ]
            ],
            "type": "heatmapgl"
           }
          ],
          "histogram": [
           {
            "marker": {
             "pattern": {
              "fillmode": "overlay",
              "size": 10,
              "solidity": 0.2
             }
            },
            "type": "histogram"
           }
          ],
          "histogram2d": [
           {
            "colorbar": {
             "outlinewidth": 0,
             "ticks": ""
            },
            "colorscale": [
             [
              0,
              "#0d0887"
             ],
             [
              0.1111111111111111,
              "#46039f"
             ],
             [
              0.2222222222222222,
              "#7201a8"
             ],
             [
              0.3333333333333333,
              "#9c179e"
             ],
             [
              0.4444444444444444,
              "#bd3786"
             ],
             [
              0.5555555555555556,
              "#d8576b"
             ],
             [
              0.6666666666666666,
              "#ed7953"
             ],
             [
              0.7777777777777778,
              "#fb9f3a"
             ],
             [
              0.8888888888888888,
              "#fdca26"
             ],
             [
              1,
              "#f0f921"
             ]
            ],
            "type": "histogram2d"
           }
          ],
          "histogram2dcontour": [
           {
            "colorbar": {
             "outlinewidth": 0,
             "ticks": ""
            },
            "colorscale": [
             [
              0,
              "#0d0887"
             ],
             [
              0.1111111111111111,
              "#46039f"
             ],
             [
              0.2222222222222222,
              "#7201a8"
             ],
             [
              0.3333333333333333,
              "#9c179e"
             ],
             [
              0.4444444444444444,
              "#bd3786"
             ],
             [
              0.5555555555555556,
              "#d8576b"
             ],
             [
              0.6666666666666666,
              "#ed7953"
             ],
             [
              0.7777777777777778,
              "#fb9f3a"
             ],
             [
              0.8888888888888888,
              "#fdca26"
             ],
             [
              1,
              "#f0f921"
             ]
            ],
            "type": "histogram2dcontour"
           }
          ],
          "mesh3d": [
           {
            "colorbar": {
             "outlinewidth": 0,
             "ticks": ""
            },
            "type": "mesh3d"
           }
          ],
          "parcoords": [
           {
            "line": {
             "colorbar": {
              "outlinewidth": 0,
              "ticks": ""
             }
            },
            "type": "parcoords"
           }
          ],
          "pie": [
           {
            "automargin": true,
            "type": "pie"
           }
          ],
          "scatter": [
           {
            "fillpattern": {
             "fillmode": "overlay",
             "size": 10,
             "solidity": 0.2
            },
            "type": "scatter"
           }
          ],
          "scatter3d": [
           {
            "line": {
             "colorbar": {
              "outlinewidth": 0,
              "ticks": ""
             }
            },
            "marker": {
             "colorbar": {
              "outlinewidth": 0,
              "ticks": ""
             }
            },
            "type": "scatter3d"
           }
          ],
          "scattercarpet": [
           {
            "marker": {
             "colorbar": {
              "outlinewidth": 0,
              "ticks": ""
             }
            },
            "type": "scattercarpet"
           }
          ],
          "scattergeo": [
           {
            "marker": {
             "colorbar": {
              "outlinewidth": 0,
              "ticks": ""
             }
            },
            "type": "scattergeo"
           }
          ],
          "scattergl": [
           {
            "marker": {
             "colorbar": {
              "outlinewidth": 0,
              "ticks": ""
             }
            },
            "type": "scattergl"
           }
          ],
          "scattermapbox": [
           {
            "marker": {
             "colorbar": {
              "outlinewidth": 0,
              "ticks": ""
             }
            },
            "type": "scattermapbox"
           }
          ],
          "scatterpolar": [
           {
            "marker": {
             "colorbar": {
              "outlinewidth": 0,
              "ticks": ""
             }
            },
            "type": "scatterpolar"
           }
          ],
          "scatterpolargl": [
           {
            "marker": {
             "colorbar": {
              "outlinewidth": 0,
              "ticks": ""
             }
            },
            "type": "scatterpolargl"
           }
          ],
          "scatterternary": [
           {
            "marker": {
             "colorbar": {
              "outlinewidth": 0,
              "ticks": ""
             }
            },
            "type": "scatterternary"
           }
          ],
          "surface": [
           {
            "colorbar": {
             "outlinewidth": 0,
             "ticks": ""
            },
            "colorscale": [
             [
              0,
              "#0d0887"
             ],
             [
              0.1111111111111111,
              "#46039f"
             ],
             [
              0.2222222222222222,
              "#7201a8"
             ],
             [
              0.3333333333333333,
              "#9c179e"
             ],
             [
              0.4444444444444444,
              "#bd3786"
             ],
             [
              0.5555555555555556,
              "#d8576b"
             ],
             [
              0.6666666666666666,
              "#ed7953"
             ],
             [
              0.7777777777777778,
              "#fb9f3a"
             ],
             [
              0.8888888888888888,
              "#fdca26"
             ],
             [
              1,
              "#f0f921"
             ]
            ],
            "type": "surface"
           }
          ],
          "table": [
           {
            "cells": {
             "fill": {
              "color": "#EBF0F8"
             },
             "line": {
              "color": "white"
             }
            },
            "header": {
             "fill": {
              "color": "#C8D4E3"
             },
             "line": {
              "color": "white"
             }
            },
            "type": "table"
           }
          ]
         },
         "layout": {
          "annotationdefaults": {
           "arrowcolor": "#2a3f5f",
           "arrowhead": 0,
           "arrowwidth": 1
          },
          "autotypenumbers": "strict",
          "coloraxis": {
           "colorbar": {
            "outlinewidth": 0,
            "ticks": ""
           }
          },
          "colorscale": {
           "diverging": [
            [
             0,
             "#8e0152"
            ],
            [
             0.1,
             "#c51b7d"
            ],
            [
             0.2,
             "#de77ae"
            ],
            [
             0.3,
             "#f1b6da"
            ],
            [
             0.4,
             "#fde0ef"
            ],
            [
             0.5,
             "#f7f7f7"
            ],
            [
             0.6,
             "#e6f5d0"
            ],
            [
             0.7,
             "#b8e186"
            ],
            [
             0.8,
             "#7fbc41"
            ],
            [
             0.9,
             "#4d9221"
            ],
            [
             1,
             "#276419"
            ]
           ],
           "sequential": [
            [
             0,
             "#0d0887"
            ],
            [
             0.1111111111111111,
             "#46039f"
            ],
            [
             0.2222222222222222,
             "#7201a8"
            ],
            [
             0.3333333333333333,
             "#9c179e"
            ],
            [
             0.4444444444444444,
             "#bd3786"
            ],
            [
             0.5555555555555556,
             "#d8576b"
            ],
            [
             0.6666666666666666,
             "#ed7953"
            ],
            [
             0.7777777777777778,
             "#fb9f3a"
            ],
            [
             0.8888888888888888,
             "#fdca26"
            ],
            [
             1,
             "#f0f921"
            ]
           ],
           "sequentialminus": [
            [
             0,
             "#0d0887"
            ],
            [
             0.1111111111111111,
             "#46039f"
            ],
            [
             0.2222222222222222,
             "#7201a8"
            ],
            [
             0.3333333333333333,
             "#9c179e"
            ],
            [
             0.4444444444444444,
             "#bd3786"
            ],
            [
             0.5555555555555556,
             "#d8576b"
            ],
            [
             0.6666666666666666,
             "#ed7953"
            ],
            [
             0.7777777777777778,
             "#fb9f3a"
            ],
            [
             0.8888888888888888,
             "#fdca26"
            ],
            [
             1,
             "#f0f921"
            ]
           ]
          },
          "colorway": [
           "#636efa",
           "#EF553B",
           "#00cc96",
           "#ab63fa",
           "#FFA15A",
           "#19d3f3",
           "#FF6692",
           "#B6E880",
           "#FF97FF",
           "#FECB52"
          ],
          "font": {
           "color": "#2a3f5f"
          },
          "geo": {
           "bgcolor": "white",
           "lakecolor": "white",
           "landcolor": "#E5ECF6",
           "showlakes": true,
           "showland": true,
           "subunitcolor": "white"
          },
          "hoverlabel": {
           "align": "left"
          },
          "hovermode": "closest",
          "mapbox": {
           "style": "light"
          },
          "paper_bgcolor": "white",
          "plot_bgcolor": "#E5ECF6",
          "polar": {
           "angularaxis": {
            "gridcolor": "white",
            "linecolor": "white",
            "ticks": ""
           },
           "bgcolor": "#E5ECF6",
           "radialaxis": {
            "gridcolor": "white",
            "linecolor": "white",
            "ticks": ""
           }
          },
          "scene": {
           "xaxis": {
            "backgroundcolor": "#E5ECF6",
            "gridcolor": "white",
            "gridwidth": 2,
            "linecolor": "white",
            "showbackground": true,
            "ticks": "",
            "zerolinecolor": "white"
           },
           "yaxis": {
            "backgroundcolor": "#E5ECF6",
            "gridcolor": "white",
            "gridwidth": 2,
            "linecolor": "white",
            "showbackground": true,
            "ticks": "",
            "zerolinecolor": "white"
           },
           "zaxis": {
            "backgroundcolor": "#E5ECF6",
            "gridcolor": "white",
            "gridwidth": 2,
            "linecolor": "white",
            "showbackground": true,
            "ticks": "",
            "zerolinecolor": "white"
           }
          },
          "shapedefaults": {
           "line": {
            "color": "#2a3f5f"
           }
          },
          "ternary": {
           "aaxis": {
            "gridcolor": "white",
            "linecolor": "white",
            "ticks": ""
           },
           "baxis": {
            "gridcolor": "white",
            "linecolor": "white",
            "ticks": ""
           },
           "bgcolor": "#E5ECF6",
           "caxis": {
            "gridcolor": "white",
            "linecolor": "white",
            "ticks": ""
           }
          },
          "title": {
           "x": 0.05
          },
          "xaxis": {
           "automargin": true,
           "gridcolor": "white",
           "linecolor": "white",
           "ticks": "",
           "title": {
            "standoff": 15
           },
           "zerolinecolor": "white",
           "zerolinewidth": 2
          },
          "yaxis": {
           "automargin": true,
           "gridcolor": "white",
           "linecolor": "white",
           "ticks": "",
           "title": {
            "standoff": 15
           },
           "zerolinecolor": "white",
           "zerolinewidth": 2
          }
         }
        },
        "title": {
         "text": "Variação no Número de Óbitos por Covid"
        },
        "xaxis": {
         "anchor": "y",
         "domain": [
          0,
          1
         ],
         "title": {
          "text": "Data"
         }
        },
        "yaxis": {
         "anchor": "x",
         "domain": [
          0,
          1
         ],
         "title": {
          "text": "Variação"
         }
        }
       }
      }
     },
     "metadata": {},
     "output_type": "display_data"
    }
   ],
   "source": [
    "months[\"deaths_var\"] = months[\"newDeaths\"].pct_change()\n",
    "\n",
    "fig = px.line(months, x=months.index, y=months[\"deaths_var\"], title='Variação no Número de Óbitos por Covid',\n",
    "             labels = {\n",
    "                \"deaths_var\": \"Variação\",\n",
    "                \"date\": \"Data\"\n",
    "                })\n",
    "fig.show()"
   ]
  },
  {
   "cell_type": "markdown",
   "id": "60da566b",
   "metadata": {},
   "source": [
    "Por apresentar valores iniciais muito altos - até mesmo valores infinitos - a análise da variação no número de óbitos é iniciada a partir do terceiro mês de pandemia (abril), conforme apresentado no gráfico."
   ]
  },
  {
   "cell_type": "markdown",
   "id": "6aba1d98",
   "metadata": {},
   "source": [
    "## Obtendo o IPCA do período\n",
    "\n",
    "Base de dados disponível em:\n",
    "\n",
    "<https://dadosabertos.bcb.gov.br/dataset/4449-indice-nacional-de-precos-ao-consumidor-amplo-ipca---precos-monitorados---total>"
   ]
  },
  {
   "cell_type": "code",
   "execution_count": 48,
   "id": "7dcf7f73",
   "metadata": {},
   "outputs": [
    {
     "data": {
      "text/plain": [
       "<Response [200]>"
      ]
     },
     "execution_count": 48,
     "metadata": {},
     "output_type": "execute_result"
    }
   ],
   "source": [
    "ipca = requests.get(\"https://api.bcb.gov.br/dados/serie/bcdata.sgs.4449/dados?formato=csv\")\n",
    "ipca"
   ]
  },
  {
   "cell_type": "code",
   "execution_count": 49,
   "id": "387385ba",
   "metadata": {},
   "outputs": [
    {
     "data": {
      "text/plain": [
       "[['\"data\"', '\"valor\"'],\n",
       " ['\"01/01/1992\"', '\"28,50\"'],\n",
       " ['\"01/02/1992\"', '\"29,94\"'],\n",
       " ['\"01/03/1992\"', '\"22,48\"'],\n",
       " ['\"01/04/1992\"', '\"19,35\"'],\n",
       " ['\"01/05/1992\"', '\"19,88\"'],\n",
       " ['\"01/06/1992\"', '\"19,46\"'],\n",
       " ['\"01/07/1992\"', '\"24,11\"'],\n",
       " ['\"01/08/1992\"', '\"26,60\"'],\n",
       " ['\"01/09/1992\"', '\"21,26\"'],\n",
       " ['\"01/10/1992\"', '\"21,46\"'],\n",
       " ['\"01/11/1992\"', '\"17,31\"'],\n",
       " ['\"01/12/1992\"', '\"24,51\"'],\n",
       " ['\"01/01/1993\"', '\"32,93\"'],\n",
       " ['\"01/02/1993\"', '\"29,24\"'],\n",
       " ['\"01/03/1993\"', '\"24,51\"'],\n",
       " ['\"01/04/1993\"', '\"29,15\"'],\n",
       " ['\"01/05/1993\"', '\"29,48\"'],\n",
       " ['\"01/06/1993\"', '\"30,16\"'],\n",
       " ['\"01/07/1993\"', '\"35,26\"'],\n",
       " ['\"01/08/1993\"', '\"35,30\"'],\n",
       " ['\"01/09/1993\"', '\"36,14\"'],\n",
       " ['\"01/10/1993\"', '\"34,63\"'],\n",
       " ['\"01/11/1993\"', '\"35,47\"'],\n",
       " ['\"01/12/1993\"', '\"36,16\"'],\n",
       " ['\"01/01/1994\"', '\"37,74\"'],\n",
       " ['\"01/02/1994\"', '\"42,49\"'],\n",
       " ['\"01/03/1994\"', '\"41,27\"'],\n",
       " ['\"01/04/1994\"', '\"42,14\"'],\n",
       " ['\"01/05/1994\"', '\"45,22\"'],\n",
       " ['\"01/06/1994\"', '\"42,41\"'],\n",
       " ['\"01/07/1994\"', '\"4,64\"'],\n",
       " ['\"01/08/1994\"', '\"-0,12\"'],\n",
       " ['\"01/09/1994\"', '\"-0,16\"'],\n",
       " ['\"01/10/1994\"', '\"-0,72\"'],\n",
       " ['\"01/11/1994\"', '\"-0,79\"'],\n",
       " ['\"01/12/1994\"', '\"0,04\"'],\n",
       " ['\"01/01/1995\"', '\"-0,25\"'],\n",
       " ['\"01/02/1995\"', '\"0,48\"'],\n",
       " ['\"01/03/1995\"', '\"0,36\"'],\n",
       " ['\"01/04/1995\"', '\"0,28\"'],\n",
       " ['\"01/05/1995\"', '\"0,30\"'],\n",
       " ['\"01/06/1995\"', '\"5,86\"'],\n",
       " ['\"01/07/1995\"', '\"5,55\"'],\n",
       " ['\"01/08/1995\"', '\"1,29\"'],\n",
       " ['\"01/09/1995\"', '\"1,42\"'],\n",
       " ['\"01/10/1995\"', '\"3,18\"'],\n",
       " ['\"01/11/1995\"', '\"2,46\"'],\n",
       " ['\"01/12/1995\"', '\"4,40\"'],\n",
       " ['\"01/01/1996\"', '\"0,60\"'],\n",
       " ['\"01/02/1996\"', '\"4,23\"'],\n",
       " ['\"01/03/1996\"', '\"0,25\"'],\n",
       " ['\"01/04/1996\"', '\"3,87\"'],\n",
       " ['\"01/05/1996\"', '\"0,44\"'],\n",
       " ['\"01/06/1996\"', '\"3,02\"'],\n",
       " ['\"01/07/1996\"', '\"2,58\"'],\n",
       " ['\"01/08/1996\"', '\"1,25\"'],\n",
       " ['\"01/09/1996\"', '\"0,24\"'],\n",
       " ['\"01/10/1996\"', '\"0,19\"'],\n",
       " ['\"01/11/1996\"', '\"0,53\"'],\n",
       " ['\"01/12/1996\"', '\"1,49\"'],\n",
       " ['\"01/01/1997\"', '\"3,01\"'],\n",
       " ['\"01/02/1997\"', '\"0,26\"'],\n",
       " ['\"01/03/1997\"', '\"0,62\"'],\n",
       " ['\"01/04/1997\"', '\"4,27\"'],\n",
       " ['\"01/05/1997\"', '\"1,66\"'],\n",
       " ['\"01/06/1997\"', '\"2,97\"'],\n",
       " ['\"01/07/1997\"', '\"0,97\"'],\n",
       " ['\"01/08/1997\"', '\"0,59\"'],\n",
       " ['\"01/09/1997\"', '\"0,30\"'],\n",
       " ['\"01/10/1997\"', '\"0,05\"'],\n",
       " ['\"01/11/1997\"', '\"1,06\"'],\n",
       " ['\"01/12/1997\"', '\"1,28\"'],\n",
       " ['\"01/01/1998\"', '\"0,86\"'],\n",
       " ['\"01/02/1998\"', '\"0,65\"'],\n",
       " ['\"01/03/1998\"', '\"0,11\"'],\n",
       " ['\"01/04/1998\"', '\"0,39\"'],\n",
       " ['\"01/05/1998\"', '\"0,20\"'],\n",
       " ['\"01/06/1998\"', '\"-0,07\"'],\n",
       " ['\"01/07/1998\"', '\"0,26\"'],\n",
       " ['\"01/08/1998\"', '\"-0,80\"'],\n",
       " ['\"01/09/1998\"', '\"-0,11\"'],\n",
       " ['\"01/10/1998\"', '\"-0,15\"'],\n",
       " ['\"01/11/1998\"', '\"-0,03\"'],\n",
       " ['\"01/12/1998\"', '\"1,90\"'],\n",
       " ['\"01/01/1999\"', '\"1,19\"'],\n",
       " ['\"01/02/1999\"', '\"1,63\"'],\n",
       " ['\"01/03/1999\"', '\"1,41\"'],\n",
       " ['\"01/04/1999\"', '\"1,49\"'],\n",
       " ['\"01/05/1999\"', '\"0,68\"'],\n",
       " ['\"01/06/1999\"', '\"1,62\"'],\n",
       " ['\"01/07/1999\"', '\"5,83\"'],\n",
       " ['\"01/08/1999\"', '\"1,55\"'],\n",
       " ['\"01/09/1999\"', '\"0,55\"'],\n",
       " ['\"01/10/1999\"', '\"0,75\"'],\n",
       " ['\"01/11/1999\"', '\"1,86\"'],\n",
       " ['\"01/12/1999\"', '\"0,67\"'],\n",
       " ['\"01/01/2000\"', '\"0,54\"'],\n",
       " ['\"01/02/2000\"', '\"-0,15\"'],\n",
       " ['\"01/03/2000\"', '\"1,22\"'],\n",
       " ['\"01/04/2000\"', '\"0,05\"'],\n",
       " ['\"01/05/2000\"', '\"0,26\"'],\n",
       " ['\"01/06/2000\"', '\"0,19\"'],\n",
       " ['\"01/07/2000\"', '\"4,23\"'],\n",
       " ['\"01/08/2000\"', '\"2,63\"'],\n",
       " ['\"01/09/2000\"', '\"-0,03\"'],\n",
       " ['\"01/10/2000\"', '\"-0,03\"'],\n",
       " ['\"01/11/2000\"', '\"1,07\"'],\n",
       " ['\"01/12/2000\"', '\"2,32\"'],\n",
       " ['\"01/01/2001\"', '\"0,84\"'],\n",
       " ['\"01/02/2001\"', '\"0,58\"'],\n",
       " ['\"01/03/2001\"', '\"0,02\"'],\n",
       " ['\"01/04/2001\"', '\"-0,06\"'],\n",
       " ['\"01/05/2001\"', '\"0,42\"'],\n",
       " ['\"01/06/2001\"', '\"1,51\"'],\n",
       " ['\"01/07/2001\"', '\"3,40\"'],\n",
       " ['\"01/08/2001\"', '\"0,96\"'],\n",
       " ['\"01/09/2001\"', '\"0,45\"'],\n",
       " ['\"01/10/2001\"', '\"1,15\"'],\n",
       " ['\"01/11/2001\"', '\"0,55\"'],\n",
       " ['\"01/12/2001\"', '\"0,51\"'],\n",
       " ['\"01/01/2002\"', '\"0,36\"'],\n",
       " ['\"01/02/2002\"', '\"-0,38\"'],\n",
       " ['\"01/03/2002\"', '\"1,21\"'],\n",
       " ['\"01/04/2002\"', '\"2,16\"'],\n",
       " ['\"01/05/2002\"', '\"0,30\"'],\n",
       " ['\"01/06/2002\"', '\"1,14\"'],\n",
       " ['\"01/07/2002\"', '\"2,56\"'],\n",
       " ['\"01/08/2002\"', '\"0,15\"'],\n",
       " ['\"01/09/2002\"', '\"-0,07\"'],\n",
       " ['\"01/10/2002\"', '\"1,18\"'],\n",
       " ['\"01/11/2002\"', '\"4,29\"'],\n",
       " ['\"01/12/2002\"', '\"1,53\"'],\n",
       " ['\"01/01/2003\"', '\"3,83\"'],\n",
       " ['\"01/02/2003\"', '\"2,71\"'],\n",
       " ['\"01/03/2003\"', '\"1,08\"'],\n",
       " ['\"01/04/2003\"', '\"1,21\"'],\n",
       " ['\"01/05/2003\"', '\"0,81\"'],\n",
       " ['\"01/06/2003\"', '\"-1,02\"'],\n",
       " ['\"01/07/2003\"', '\"0,73\"'],\n",
       " ['\"01/08/2003\"', '\"0,86\"'],\n",
       " ['\"01/09/2003\"', '\"1,44\"'],\n",
       " ['\"01/10/2003\"', '\"0,07\"'],\n",
       " ['\"01/11/2003\"', '\"0,36\"'],\n",
       " ['\"01/12/2003\"', '\"0,47\"'],\n",
       " ['\"01/01/2004\"', '\"0,84\"'],\n",
       " ['\"01/02/2004\"', '\"0,26\"'],\n",
       " ['\"01/03/2004\"', '\"-0,07\"'],\n",
       " ['\"01/04/2004\"', '\"0,32\"'],\n",
       " ['\"01/05/2004\"', '\"0,35\"'],\n",
       " ['\"01/06/2004\"', '\"1,03\"'],\n",
       " ['\"01/07/2004\"', '\"1,89\"'],\n",
       " ['\"01/08/2004\"', '\"0,92\"'],\n",
       " ['\"01/09/2004\"', '\"0,59\"'],\n",
       " ['\"01/10/2004\"', '\"0,80\"'],\n",
       " ['\"01/11/2004\"', '\"1,41\"'],\n",
       " ['\"01/12/2004\"', '\"1,43\"'],\n",
       " ['\"01/01/2005\"', '\"0,51\"'],\n",
       " ['\"01/02/2005\"', '\"0,16\"'],\n",
       " ['\"01/03/2005\"', '\"1,29\"'],\n",
       " ['\"01/04/2005\"', '\"1,14\"'],\n",
       " ['\"01/05/2005\"', '\"0,25\"'],\n",
       " ['\"01/06/2005\"', '\"-0,16\"'],\n",
       " ['\"01/07/2005\"', '\"0,84\"'],\n",
       " ['\"01/08/2005\"', '\"0,69\"'],\n",
       " ['\"01/09/2005\"', '\"0,92\"'],\n",
       " ['\"01/10/2005\"', '\"1,62\"'],\n",
       " ['\"01/11/2005\"', '\"0,85\"'],\n",
       " ['\"01/12/2005\"', '\"0,53\"'],\n",
       " ['\"01/01/2006\"', '\"0,58\"'],\n",
       " ['\"01/02/2006\"', '\"0,42\"'],\n",
       " ['\"01/03/2006\"', '\"0,68\"'],\n",
       " ['\"01/04/2006\"', '\"0,54\"'],\n",
       " ['\"01/05/2006\"', '\"0,45\"'],\n",
       " ['\"01/06/2006\"', '\"0,06\"'],\n",
       " ['\"01/07/2006\"', '\"0,33\"'],\n",
       " ['\"01/08/2006\"', '\"-0,03\"'],\n",
       " ['\"01/09/2006\"', '\"0,22\"'],\n",
       " ['\"01/10/2006\"', '\"0,12\"'],\n",
       " ['\"01/11/2006\"', '\"0,00\"'],\n",
       " ['\"01/12/2006\"', '\"0,83\"'],\n",
       " ['\"01/01/2007\"', '\"0,27\"'],\n",
       " ['\"01/02/2007\"', '\"0,12\"'],\n",
       " ['\"01/03/2007\"', '\"0,21\"'],\n",
       " ['\"01/04/2007\"', '\"0,39\"'],\n",
       " ['\"01/05/2007\"', '\"0,35\"'],\n",
       " ['\"01/06/2007\"', '\"-0,05\"'],\n",
       " ['\"01/07/2007\"', '\"-0,22\"'],\n",
       " ['\"01/08/2007\"', '\"0,12\"'],\n",
       " ['\"01/09/2007\"', '\"-0,04\"'],\n",
       " ['\"01/10/2007\"', '\"0,05\"'],\n",
       " ['\"01/11/2007\"', '\"0,26\"'],\n",
       " ['\"01/12/2007\"', '\"0,18\"'],\n",
       " ['\"01/01/2008\"', '\"0,20\"'],\n",
       " ['\"01/02/2008\"', '\"0,10\"'],\n",
       " ['\"01/03/2008\"', '\"0,47\"'],\n",
       " ['\"01/04/2008\"', '\"0,15\"'],\n",
       " ['\"01/05/2008\"', '\"0,26\"'],\n",
       " ['\"01/06/2008\"', '\"0,22\"'],\n",
       " ['\"01/07/2008\"', '\"0,60\"'],\n",
       " ['\"01/08/2008\"', '\"0,35\"'],\n",
       " ['\"01/09/2008\"', '\"0,17\"'],\n",
       " ['\"01/10/2008\"', '\"0,24\"'],\n",
       " ['\"01/11/2008\"', '\"0,18\"'],\n",
       " ['\"01/12/2008\"', '\"0,29\"'],\n",
       " ['\"01/01/2009\"', '\"0,75\"'],\n",
       " ['\"01/02/2009\"', '\"0,28\"'],\n",
       " ['\"01/03/2009\"', '\"0,14\"'],\n",
       " ['\"01/04/2009\"', '\"0,51\"'],\n",
       " ['\"01/05/2009\"', '\"0,30\"'],\n",
       " ['\"01/06/2009\"', '\"0,23\"'],\n",
       " ['\"01/07/2009\"', '\"0,57\"'],\n",
       " ['\"01/08/2009\"', '\"0,16\"'],\n",
       " ['\"01/09/2009\"', '\"0,37\"'],\n",
       " ['\"01/10/2009\"', '\"0,42\"'],\n",
       " ['\"01/11/2009\"', '\"0,40\"'],\n",
       " ['\"01/12/2009\"', '\"0,51\"'],\n",
       " ['\"01/01/2010\"', '\"0,83\"'],\n",
       " ['\"01/02/2010\"', '\"0,42\"'],\n",
       " ['\"01/03/2010\"', '\"-0,14\"'],\n",
       " ['\"01/04/2010\"', '\"0,14\"'],\n",
       " ['\"01/05/2010\"', '\"0,33\"'],\n",
       " ['\"01/06/2010\"', '\"0,12\"'],\n",
       " ['\"01/07/2010\"', '\"0,32\"'],\n",
       " ['\"01/08/2010\"', '\"-0,01\"'],\n",
       " ['\"01/09/2010\"', '\"0,19\"'],\n",
       " ['\"01/10/2010\"', '\"0,30\"'],\n",
       " ['\"01/11/2010\"', '\"0,33\"'],\n",
       " ['\"01/12/2010\"', '\"0,26\"'],\n",
       " ['\"01/01/2011\"', '\"0,94\"'],\n",
       " ['\"01/02/2011\"', '\"0,47\"'],\n",
       " ['\"01/03/2011\"', '\"1,05\"'],\n",
       " ['\"01/04/2011\"', '\"1,29\"'],\n",
       " ['\"01/05/2011\"', '\"0,55\"'],\n",
       " ['\"01/06/2011\"', '\"-0,12\"'],\n",
       " ['\"01/07/2011\"', '\"0,29\"'],\n",
       " ['\"01/08/2011\"', '\"0,03\"'],\n",
       " ['\"01/09/2011\"', '\"0,62\"'],\n",
       " ['\"01/10/2011\"', '\"0,46\"'],\n",
       " ['\"01/11/2011\"', '\"0,27\"'],\n",
       " ['\"01/12/2011\"', '\"0,19\"'],\n",
       " ['\"01/01/2012\"', '\"0,47\"'],\n",
       " ['\"01/02/2012\"', '\"0,26\"'],\n",
       " ['\"01/03/2012\"', '\"0,18\"'],\n",
       " ['\"01/04/2012\"', '\"0,47\"'],\n",
       " ['\"01/05/2012\"', '\"0,32\"'],\n",
       " ['\"01/06/2012\"', '\"0,15\"'],\n",
       " ['\"01/07/2012\"', '\"0,19\"'],\n",
       " ['\"01/08/2012\"', '\"0,13\"'],\n",
       " ['\"01/09/2012\"', '\"0,30\"'],\n",
       " ['\"01/10/2012\"', '\"0,25\"'],\n",
       " ['\"01/11/2012\"', '\"0,54\"'],\n",
       " ['\"01/12/2012\"', '\"0,33\"'],\n",
       " ['\"01/01/2013\"', '\"-0,22\"'],\n",
       " ['\"01/02/2013\"', '\"-1,11\"'],\n",
       " ['\"01/03/2013\"', '\"0,26\"'],\n",
       " ['\"01/04/2013\"', '\"0,41\"'],\n",
       " ['\"01/05/2013\"', '\"0,31\"'],\n",
       " ['\"01/06/2013\"', '\"0,38\"'],\n",
       " ['\"01/07/2013\"', '\"-0,27\"'],\n",
       " ['\"01/08/2013\"', '\"0,09\"'],\n",
       " ['\"01/09/2013\"', '\"0,16\"'],\n",
       " ['\"01/10/2013\"', '\"0,14\"'],\n",
       " ['\"01/11/2013\"', '\"0,48\"'],\n",
       " ['\"01/12/2013\"', '\"0,91\"'],\n",
       " ['\"01/01/2014\"', '\"0,38\"'],\n",
       " ['\"01/02/2014\"', '\"0,40\"'],\n",
       " ['\"01/03/2014\"', '\"-0,02\"'],\n",
       " ['\"01/04/2014\"', '\"0,77\"'],\n",
       " ['\"01/05/2014\"', '\"0,59\"'],\n",
       " ['\"01/06/2014\"', '\"0,25\"'],\n",
       " ['\"01/07/2014\"', '\"0,39\"'],\n",
       " ['\"01/08/2014\"', '\"0,51\"'],\n",
       " ['\"01/09/2014\"', '\"0,40\"'],\n",
       " ['\"01/10/2014\"', '\"0,38\"'],\n",
       " ['\"01/11/2014\"', '\"0,72\"'],\n",
       " ['\"01/12/2014\"', '\"0,43\"'],\n",
       " ['\"01/01/2015\"', '\"2,50\"'],\n",
       " ['\"01/02/2015\"', '\"2,37\"'],\n",
       " ['\"01/03/2015\"', '\"3,36\"'],\n",
       " ['\"01/04/2015\"', '\"0,78\"'],\n",
       " ['\"01/05/2015\"', '\"1,22\"'],\n",
       " ['\"01/06/2015\"', '\"1,12\"'],\n",
       " ['\"01/07/2015\"', '\"1,17\"'],\n",
       " ['\"01/08/2015\"', '\"0,32\"'],\n",
       " ['\"01/09/2015\"', '\"0,92\"'],\n",
       " ['\"01/10/2015\"', '\"1,39\"'],\n",
       " ['\"01/11/2015\"', '\"1,09\"'],\n",
       " ['\"01/12/2015\"', '\"0,53\"'],\n",
       " ['\"01/01/2016\"', '\"1,75\"'],\n",
       " ['\"01/02/2016\"', '\"0,39\"'],\n",
       " ['\"01/03/2016\"', '\"-0,36\"'],\n",
       " ['\"01/04/2016\"', '\"0,69\"'],\n",
       " ['\"01/05/2016\"', '\"1,40\"'],\n",
       " ['\"01/06/2016\"', '\"0,24\"'],\n",
       " ['\"01/07/2016\"', '\"-0,10\"'],\n",
       " ['\"01/08/2016\"', '\"0,26\"'],\n",
       " ['\"01/09/2016\"', '\"0,37\"'],\n",
       " ['\"01/10/2016\"', '\"0,54\"'],\n",
       " ['\"01/11/2016\"', '\"0,22\"'],\n",
       " ['\"01/12/2016\"', '\"-0,01\"'],\n",
       " ['\"01/01/2017\"', '\"0,80\"'],\n",
       " ['\"01/02/2017\"', '\"0,58\"'],\n",
       " ['\"01/03/2017\"', '\"0,48\"'],\n",
       " ['\"01/04/2017\"', '\"-0,60\"'],\n",
       " ['\"01/05/2017\"', '\"1,56\"'],\n",
       " ['\"01/06/2017\"', '\"-0,83\"'],\n",
       " ['\"01/07/2017\"', '\"1,28\"'],\n",
       " ['\"01/08/2017\"', '\"1,73\"'],\n",
       " ['\"01/09/2017\"', '\"0,24\"'],\n",
       " ['\"01/10/2017\"', '\"0,98\"'],\n",
       " ['\"01/11/2017\"', '\"1,32\"'],\n",
       " ['\"01/12/2017\"', '\"0,21\"'],\n",
       " ['\"01/01/2018\"', '\"0,20\"'],\n",
       " ['\"01/02/2018\"', '\"0,55\"'],\n",
       " ['\"01/03/2018\"', '\"0,23\"'],\n",
       " ['\"01/04/2018\"', '\"0,60\"'],\n",
       " ['\"01/05/2018\"', '\"1,37\"'],\n",
       " ['\"01/06/2018\"', '\"2,49\"'],\n",
       " ['\"01/07/2018\"', '\"0,89\"'],\n",
       " ['\"01/08/2018\"', '\"0,12\"'],\n",
       " ['\"01/09/2018\"', '\"0,96\"'],\n",
       " ['\"01/10/2018\"', '\"0,54\"'],\n",
       " ['\"01/11/2018\"', '\"-1,00\"'],\n",
       " ['\"01/12/2018\"', '\"-0,89\"'],\n",
       " ['\"01/01/2019\"', '\"0,05\"'],\n",
       " ['\"01/02/2019\"', '\"0,29\"'],\n",
       " ['\"01/03/2019\"', '\"0,75\"'],\n",
       " ['\"01/04/2019\"', '\"1,03\"'],\n",
       " ['\"01/05/2019\"', '\"1,16\"'],\n",
       " ['\"01/06/2019\"', '\"-0,19\"'],\n",
       " ['\"01/07/2019\"', '\"0,40\"'],\n",
       " ['\"01/08/2019\"', '\"0,60\"'],\n",
       " ['\"01/09/2019\"', '\"0,12\"'],\n",
       " ['\"01/10/2019\"', '\"-0,11\"'],\n",
       " ['\"01/11/2019\"', '\"0,97\"'],\n",
       " ['\"01/12/2019\"', '\"0,35\"'],\n",
       " ['\"01/01/2020\"', '\"0,51\"'],\n",
       " ['\"01/02/2020\"', '\"-0,28\"'],\n",
       " ['\"01/03/2020\"', '\"-0,22\"'],\n",
       " ['\"01/04/2020\"', '\"-2,06\"'],\n",
       " ['\"01/05/2020\"', '\"-1,02\"'],\n",
       " ['\"01/06/2020\"', '\"0,89\"'],\n",
       " ['\"01/07/2020\"', '\"1,23\"'],\n",
       " ['\"01/08/2020\"', '\"0,78\"'],\n",
       " ['\"01/09/2020\"', '\"0,13\"'],\n",
       " ['\"01/10/2020\"', '\"0,23\"'],\n",
       " ['\"01/11/2020\"', '\"0,41\"'],\n",
       " ['\"01/12/2020\"', '\"2,04\"'],\n",
       " ['\"01/01/2021\"', '\"-0,29\"'],\n",
       " ['\"01/02/2021\"', '\"1,69\"'],\n",
       " ['\"01/03/2021\"', '\"2,81\"'],\n",
       " ['\"01/04/2021\"', '\"0,38\"'],\n",
       " ['\"01/05/2021\"', '\"2,11\"'],\n",
       " ['\"01/06/2021\"', '\"0,81\"'],\n",
       " ['\"01/07/2021\"', '\"1,68\"'],\n",
       " ['\"01/08/2021\"', '\"0,95\"'],\n",
       " ['\"01/09/2021\"', '\"1,93\"'],\n",
       " ['\"01/10/2021\"', '\"1,35\"'],\n",
       " ['\"01/11/2021\"', '\"2,30\"'],\n",
       " ['\"01/12/2021\"', '\"0,05\"'],\n",
       " ['\"01/01/2022\"', '\"-0,35\"'],\n",
       " ['\"01/02/2022\"', '\"0,12\"'],\n",
       " ['\"01/03/2022\"', '\"2,65\"'],\n",
       " ['\"01/04/2022\"', '\"0,55\"'],\n",
       " ['\"01/05/2022\"', '\"-0,51\"'],\n",
       " ['\"01/06/2022\"', '\"0,48\"'],\n",
       " ['\"01/07/2022\"', '\"-4,35\"'],\n",
       " ['\"01/08/2022\"', '\"-2,55\"'],\n",
       " ['\"01/09/2022\"', '\"-1,21\"'],\n",
       " ['\"01/10/2022\"', '\"0,18\"'],\n",
       " ['']]"
      ]
     },
     "execution_count": 49,
     "metadata": {},
     "output_type": "execute_result"
    }
   ],
   "source": [
    "ipca = ipca.content.decode(\"utf-8\")\n",
    "ipca = [x.split(';') for x in ipca.split('\\r\\n')]\n",
    "ipca"
   ]
  },
  {
   "cell_type": "code",
   "execution_count": 50,
   "id": "7dad7b23",
   "metadata": {},
   "outputs": [],
   "source": [
    "# Removendo as aspas (\"\") prensentes em cada item do dataframe:\n",
    "for row in range(0, len(ipca)):\n",
    "    for item in range(0, len(ipca[row])):\n",
    "        ipca[row][item] = ipca[row][item].replace('\\\"', \"\")"
   ]
  },
  {
   "cell_type": "code",
   "execution_count": 51,
   "id": "83845cbb",
   "metadata": {},
   "outputs": [
    {
     "data": {
      "text/html": [
       "<div>\n",
       "<style scoped>\n",
       "    .dataframe tbody tr th:only-of-type {\n",
       "        vertical-align: middle;\n",
       "    }\n",
       "\n",
       "    .dataframe tbody tr th {\n",
       "        vertical-align: top;\n",
       "    }\n",
       "\n",
       "    .dataframe thead th {\n",
       "        text-align: right;\n",
       "    }\n",
       "</style>\n",
       "<table border=\"1\" class=\"dataframe\">\n",
       "  <thead>\n",
       "    <tr style=\"text-align: right;\">\n",
       "      <th></th>\n",
       "      <th>data</th>\n",
       "      <th>valor</th>\n",
       "    </tr>\n",
       "  </thead>\n",
       "  <tbody>\n",
       "    <tr>\n",
       "      <th>0</th>\n",
       "      <td>01/01/1992</td>\n",
       "      <td>28,50</td>\n",
       "    </tr>\n",
       "    <tr>\n",
       "      <th>1</th>\n",
       "      <td>01/02/1992</td>\n",
       "      <td>29,94</td>\n",
       "    </tr>\n",
       "    <tr>\n",
       "      <th>2</th>\n",
       "      <td>01/03/1992</td>\n",
       "      <td>22,48</td>\n",
       "    </tr>\n",
       "    <tr>\n",
       "      <th>3</th>\n",
       "      <td>01/04/1992</td>\n",
       "      <td>19,35</td>\n",
       "    </tr>\n",
       "    <tr>\n",
       "      <th>4</th>\n",
       "      <td>01/05/1992</td>\n",
       "      <td>19,88</td>\n",
       "    </tr>\n",
       "    <tr>\n",
       "      <th>...</th>\n",
       "      <td>...</td>\n",
       "      <td>...</td>\n",
       "    </tr>\n",
       "    <tr>\n",
       "      <th>366</th>\n",
       "      <td>01/07/2022</td>\n",
       "      <td>-4,35</td>\n",
       "    </tr>\n",
       "    <tr>\n",
       "      <th>367</th>\n",
       "      <td>01/08/2022</td>\n",
       "      <td>-2,55</td>\n",
       "    </tr>\n",
       "    <tr>\n",
       "      <th>368</th>\n",
       "      <td>01/09/2022</td>\n",
       "      <td>-1,21</td>\n",
       "    </tr>\n",
       "    <tr>\n",
       "      <th>369</th>\n",
       "      <td>01/10/2022</td>\n",
       "      <td>0,18</td>\n",
       "    </tr>\n",
       "    <tr>\n",
       "      <th>370</th>\n",
       "      <td></td>\n",
       "      <td>None</td>\n",
       "    </tr>\n",
       "  </tbody>\n",
       "</table>\n",
       "<p>371 rows × 2 columns</p>\n",
       "</div>"
      ],
      "text/plain": [
       "           data  valor\n",
       "0    01/01/1992  28,50\n",
       "1    01/02/1992  29,94\n",
       "2    01/03/1992  22,48\n",
       "3    01/04/1992  19,35\n",
       "4    01/05/1992  19,88\n",
       "..          ...    ...\n",
       "366  01/07/2022  -4,35\n",
       "367  01/08/2022  -2,55\n",
       "368  01/09/2022  -1,21\n",
       "369  01/10/2022   0,18\n",
       "370               None\n",
       "\n",
       "[371 rows x 2 columns]"
      ]
     },
     "execution_count": 51,
     "metadata": {},
     "output_type": "execute_result"
    }
   ],
   "source": [
    "ipca_df = pd.DataFrame(ipca[1:], columns= ipca[0])\n",
    "ipca_df"
   ]
  },
  {
   "cell_type": "code",
   "execution_count": 52,
   "id": "fb8e1d3a",
   "metadata": {},
   "outputs": [],
   "source": [
    "# Removendo a última linha, que possui valores nulos:\n",
    "ipca_df = ipca_df[:-1]"
   ]
  },
  {
   "cell_type": "code",
   "execution_count": 53,
   "id": "b1e45db9",
   "metadata": {},
   "outputs": [
    {
     "name": "stderr",
     "output_type": "stream",
     "text": [
      "C:\\Users\\Giga\\AppData\\Local\\Temp\\ipykernel_36372\\4253406373.py:2: SettingWithCopyWarning:\n",
      "\n",
      "\n",
      "A value is trying to be set on a copy of a slice from a DataFrame.\n",
      "Try using .loc[row_indexer,col_indexer] = value instead\n",
      "\n",
      "See the caveats in the documentation: https://pandas.pydata.org/pandas-docs/stable/user_guide/indexing.html#returning-a-view-versus-a-copy\n",
      "\n"
     ]
    }
   ],
   "source": [
    "# Colocando a data no formato datetime:\n",
    "ipca_df[\"data\"] = pd.to_datetime(ipca_df[\"data\"], format=\"%d/%m/%Y\")"
   ]
  },
  {
   "cell_type": "code",
   "execution_count": 54,
   "id": "ff7ec48c",
   "metadata": {},
   "outputs": [
    {
     "name": "stderr",
     "output_type": "stream",
     "text": [
      "C:\\Users\\Giga\\AppData\\Local\\Temp\\ipykernel_36372\\2544237049.py:2: SettingWithCopyWarning:\n",
      "\n",
      "\n",
      "A value is trying to be set on a copy of a slice from a DataFrame.\n",
      "Try using .loc[row_indexer,col_indexer] = value instead\n",
      "\n",
      "See the caveats in the documentation: https://pandas.pydata.org/pandas-docs/stable/user_guide/indexing.html#returning-a-view-versus-a-copy\n",
      "\n"
     ]
    }
   ],
   "source": [
    "# Trocando os pontos por vírgulas:\n",
    "ipca_df[\"valor\"] = [row.replace(\",\", \".\") for row in ipca_df[\"valor\"]]"
   ]
  },
  {
   "cell_type": "code",
   "execution_count": 55,
   "id": "5adf8233",
   "metadata": {},
   "outputs": [
    {
     "name": "stderr",
     "output_type": "stream",
     "text": [
      "C:\\Users\\Giga\\AppData\\Local\\Temp\\ipykernel_36372\\2883942928.py:2: SettingWithCopyWarning:\n",
      "\n",
      "\n",
      "A value is trying to be set on a copy of a slice from a DataFrame.\n",
      "Try using .loc[row_indexer,col_indexer] = value instead\n",
      "\n",
      "See the caveats in the documentation: https://pandas.pydata.org/pandas-docs/stable/user_guide/indexing.html#returning-a-view-versus-a-copy\n",
      "\n"
     ]
    }
   ],
   "source": [
    "# Colocando o valor no formato float:\n",
    "ipca_df[\"valor\"] = ipca_df[\"valor\"].astype(float)"
   ]
  },
  {
   "cell_type": "code",
   "execution_count": 56,
   "id": "bca2b369",
   "metadata": {},
   "outputs": [],
   "source": [
    "# Separando um dataframe para analizar o IPCA entre 2020 e os dias atuais:\n",
    "ipca = ipca_df.loc[ipca_df[\"data\"]>\"2020-04-01\"]"
   ]
  },
  {
   "cell_type": "code",
   "execution_count": 57,
   "id": "9e5a3754",
   "metadata": {},
   "outputs": [
    {
     "data": {
      "text/html": [
       "<div>\n",
       "<style scoped>\n",
       "    .dataframe tbody tr th:only-of-type {\n",
       "        vertical-align: middle;\n",
       "    }\n",
       "\n",
       "    .dataframe tbody tr th {\n",
       "        vertical-align: top;\n",
       "    }\n",
       "\n",
       "    .dataframe thead th {\n",
       "        text-align: right;\n",
       "    }\n",
       "</style>\n",
       "<table border=\"1\" class=\"dataframe\">\n",
       "  <thead>\n",
       "    <tr style=\"text-align: right;\">\n",
       "      <th></th>\n",
       "      <th>data</th>\n",
       "      <th>valor</th>\n",
       "    </tr>\n",
       "  </thead>\n",
       "  <tbody>\n",
       "    <tr>\n",
       "      <th>340</th>\n",
       "      <td>2020-05-01</td>\n",
       "      <td>-1.02</td>\n",
       "    </tr>\n",
       "    <tr>\n",
       "      <th>341</th>\n",
       "      <td>2020-06-01</td>\n",
       "      <td>0.89</td>\n",
       "    </tr>\n",
       "    <tr>\n",
       "      <th>342</th>\n",
       "      <td>2020-07-01</td>\n",
       "      <td>1.23</td>\n",
       "    </tr>\n",
       "    <tr>\n",
       "      <th>343</th>\n",
       "      <td>2020-08-01</td>\n",
       "      <td>0.78</td>\n",
       "    </tr>\n",
       "    <tr>\n",
       "      <th>344</th>\n",
       "      <td>2020-09-01</td>\n",
       "      <td>0.13</td>\n",
       "    </tr>\n",
       "    <tr>\n",
       "      <th>345</th>\n",
       "      <td>2020-10-01</td>\n",
       "      <td>0.23</td>\n",
       "    </tr>\n",
       "    <tr>\n",
       "      <th>346</th>\n",
       "      <td>2020-11-01</td>\n",
       "      <td>0.41</td>\n",
       "    </tr>\n",
       "    <tr>\n",
       "      <th>347</th>\n",
       "      <td>2020-12-01</td>\n",
       "      <td>2.04</td>\n",
       "    </tr>\n",
       "    <tr>\n",
       "      <th>348</th>\n",
       "      <td>2021-01-01</td>\n",
       "      <td>-0.29</td>\n",
       "    </tr>\n",
       "    <tr>\n",
       "      <th>349</th>\n",
       "      <td>2021-02-01</td>\n",
       "      <td>1.69</td>\n",
       "    </tr>\n",
       "    <tr>\n",
       "      <th>350</th>\n",
       "      <td>2021-03-01</td>\n",
       "      <td>2.81</td>\n",
       "    </tr>\n",
       "    <tr>\n",
       "      <th>351</th>\n",
       "      <td>2021-04-01</td>\n",
       "      <td>0.38</td>\n",
       "    </tr>\n",
       "    <tr>\n",
       "      <th>352</th>\n",
       "      <td>2021-05-01</td>\n",
       "      <td>2.11</td>\n",
       "    </tr>\n",
       "    <tr>\n",
       "      <th>353</th>\n",
       "      <td>2021-06-01</td>\n",
       "      <td>0.81</td>\n",
       "    </tr>\n",
       "    <tr>\n",
       "      <th>354</th>\n",
       "      <td>2021-07-01</td>\n",
       "      <td>1.68</td>\n",
       "    </tr>\n",
       "    <tr>\n",
       "      <th>355</th>\n",
       "      <td>2021-08-01</td>\n",
       "      <td>0.95</td>\n",
       "    </tr>\n",
       "    <tr>\n",
       "      <th>356</th>\n",
       "      <td>2021-09-01</td>\n",
       "      <td>1.93</td>\n",
       "    </tr>\n",
       "    <tr>\n",
       "      <th>357</th>\n",
       "      <td>2021-10-01</td>\n",
       "      <td>1.35</td>\n",
       "    </tr>\n",
       "    <tr>\n",
       "      <th>358</th>\n",
       "      <td>2021-11-01</td>\n",
       "      <td>2.30</td>\n",
       "    </tr>\n",
       "    <tr>\n",
       "      <th>359</th>\n",
       "      <td>2021-12-01</td>\n",
       "      <td>0.05</td>\n",
       "    </tr>\n",
       "    <tr>\n",
       "      <th>360</th>\n",
       "      <td>2022-01-01</td>\n",
       "      <td>-0.35</td>\n",
       "    </tr>\n",
       "    <tr>\n",
       "      <th>361</th>\n",
       "      <td>2022-02-01</td>\n",
       "      <td>0.12</td>\n",
       "    </tr>\n",
       "    <tr>\n",
       "      <th>362</th>\n",
       "      <td>2022-03-01</td>\n",
       "      <td>2.65</td>\n",
       "    </tr>\n",
       "    <tr>\n",
       "      <th>363</th>\n",
       "      <td>2022-04-01</td>\n",
       "      <td>0.55</td>\n",
       "    </tr>\n",
       "    <tr>\n",
       "      <th>364</th>\n",
       "      <td>2022-05-01</td>\n",
       "      <td>-0.51</td>\n",
       "    </tr>\n",
       "    <tr>\n",
       "      <th>365</th>\n",
       "      <td>2022-06-01</td>\n",
       "      <td>0.48</td>\n",
       "    </tr>\n",
       "    <tr>\n",
       "      <th>366</th>\n",
       "      <td>2022-07-01</td>\n",
       "      <td>-4.35</td>\n",
       "    </tr>\n",
       "    <tr>\n",
       "      <th>367</th>\n",
       "      <td>2022-08-01</td>\n",
       "      <td>-2.55</td>\n",
       "    </tr>\n",
       "    <tr>\n",
       "      <th>368</th>\n",
       "      <td>2022-09-01</td>\n",
       "      <td>-1.21</td>\n",
       "    </tr>\n",
       "    <tr>\n",
       "      <th>369</th>\n",
       "      <td>2022-10-01</td>\n",
       "      <td>0.18</td>\n",
       "    </tr>\n",
       "  </tbody>\n",
       "</table>\n",
       "</div>"
      ],
      "text/plain": [
       "          data  valor\n",
       "340 2020-05-01  -1.02\n",
       "341 2020-06-01   0.89\n",
       "342 2020-07-01   1.23\n",
       "343 2020-08-01   0.78\n",
       "344 2020-09-01   0.13\n",
       "345 2020-10-01   0.23\n",
       "346 2020-11-01   0.41\n",
       "347 2020-12-01   2.04\n",
       "348 2021-01-01  -0.29\n",
       "349 2021-02-01   1.69\n",
       "350 2021-03-01   2.81\n",
       "351 2021-04-01   0.38\n",
       "352 2021-05-01   2.11\n",
       "353 2021-06-01   0.81\n",
       "354 2021-07-01   1.68\n",
       "355 2021-08-01   0.95\n",
       "356 2021-09-01   1.93\n",
       "357 2021-10-01   1.35\n",
       "358 2021-11-01   2.30\n",
       "359 2021-12-01   0.05\n",
       "360 2022-01-01  -0.35\n",
       "361 2022-02-01   0.12\n",
       "362 2022-03-01   2.65\n",
       "363 2022-04-01   0.55\n",
       "364 2022-05-01  -0.51\n",
       "365 2022-06-01   0.48\n",
       "366 2022-07-01  -4.35\n",
       "367 2022-08-01  -2.55\n",
       "368 2022-09-01  -1.21\n",
       "369 2022-10-01   0.18"
      ]
     },
     "execution_count": 57,
     "metadata": {},
     "output_type": "execute_result"
    }
   ],
   "source": [
    "ipca"
   ]
  },
  {
   "cell_type": "code",
   "execution_count": 58,
   "id": "0c42441d",
   "metadata": {},
   "outputs": [
    {
     "data": {
      "text/html": [
       "<div>\n",
       "<style scoped>\n",
       "    .dataframe tbody tr th:only-of-type {\n",
       "        vertical-align: middle;\n",
       "    }\n",
       "\n",
       "    .dataframe tbody tr th {\n",
       "        vertical-align: top;\n",
       "    }\n",
       "\n",
       "    .dataframe thead th {\n",
       "        text-align: right;\n",
       "    }\n",
       "</style>\n",
       "<table border=\"1\" class=\"dataframe\">\n",
       "  <thead>\n",
       "    <tr style=\"text-align: right;\">\n",
       "      <th></th>\n",
       "      <th>valor</th>\n",
       "    </tr>\n",
       "  </thead>\n",
       "  <tbody>\n",
       "    <tr>\n",
       "      <th>count</th>\n",
       "      <td>30.00</td>\n",
       "    </tr>\n",
       "    <tr>\n",
       "      <th>mean</th>\n",
       "      <td>0.52</td>\n",
       "    </tr>\n",
       "    <tr>\n",
       "      <th>std</th>\n",
       "      <td>1.51</td>\n",
       "    </tr>\n",
       "    <tr>\n",
       "      <th>min</th>\n",
       "      <td>-4.35</td>\n",
       "    </tr>\n",
       "    <tr>\n",
       "      <th>25%</th>\n",
       "      <td>0.07</td>\n",
       "    </tr>\n",
       "    <tr>\n",
       "      <th>50%</th>\n",
       "      <td>0.52</td>\n",
       "    </tr>\n",
       "    <tr>\n",
       "      <th>75%</th>\n",
       "      <td>1.60</td>\n",
       "    </tr>\n",
       "    <tr>\n",
       "      <th>max</th>\n",
       "      <td>2.81</td>\n",
       "    </tr>\n",
       "  </tbody>\n",
       "</table>\n",
       "</div>"
      ],
      "text/plain": [
       "       valor\n",
       "count  30.00\n",
       "mean    0.52\n",
       "std     1.51\n",
       "min    -4.35\n",
       "25%     0.07\n",
       "50%     0.52\n",
       "75%     1.60\n",
       "max     2.81"
      ]
     },
     "execution_count": 58,
     "metadata": {},
     "output_type": "execute_result"
    }
   ],
   "source": [
    "round(ipca.describe(),2)"
   ]
  },
  {
   "cell_type": "code",
   "execution_count": 59,
   "id": "85b44ae1",
   "metadata": {},
   "outputs": [
    {
     "data": {
      "application/vnd.plotly.v1+json": {
       "config": {
        "plotlyServerURL": "https://plot.ly"
       },
       "data": [
        {
         "hovertemplate": "Data=%{x}<br>Variação %=%{y}<extra></extra>",
         "legendgroup": "",
         "line": {
          "color": "#636efa",
          "dash": "solid"
         },
         "marker": {
          "symbol": "circle"
         },
         "mode": "lines",
         "name": "",
         "orientation": "v",
         "showlegend": false,
         "type": "scatter",
         "x": [
          "2020-05-01T00:00:00",
          "2020-06-01T00:00:00",
          "2020-07-01T00:00:00",
          "2020-08-01T00:00:00",
          "2020-09-01T00:00:00",
          "2020-10-01T00:00:00",
          "2020-11-01T00:00:00",
          "2020-12-01T00:00:00",
          "2021-01-01T00:00:00",
          "2021-02-01T00:00:00",
          "2021-03-01T00:00:00",
          "2021-04-01T00:00:00",
          "2021-05-01T00:00:00",
          "2021-06-01T00:00:00",
          "2021-07-01T00:00:00",
          "2021-08-01T00:00:00",
          "2021-09-01T00:00:00",
          "2021-10-01T00:00:00",
          "2021-11-01T00:00:00",
          "2021-12-01T00:00:00",
          "2022-01-01T00:00:00",
          "2022-02-01T00:00:00",
          "2022-03-01T00:00:00",
          "2022-04-01T00:00:00",
          "2022-05-01T00:00:00",
          "2022-06-01T00:00:00",
          "2022-07-01T00:00:00",
          "2022-08-01T00:00:00",
          "2022-09-01T00:00:00",
          "2022-10-01T00:00:00"
         ],
         "xaxis": "x",
         "y": [
          -1.02,
          0.89,
          1.23,
          0.78,
          0.13,
          0.23,
          0.41,
          2.04,
          -0.29,
          1.69,
          2.81,
          0.38,
          2.11,
          0.81,
          1.68,
          0.95,
          1.93,
          1.35,
          2.3,
          0.05,
          -0.35,
          0.12,
          2.65,
          0.55,
          -0.51,
          0.48,
          -4.35,
          -2.55,
          -1.21,
          0.18
         ],
         "yaxis": "y"
        }
       ],
       "layout": {
        "legend": {
         "tracegroupgap": 0
        },
        "template": {
         "data": {
          "bar": [
           {
            "error_x": {
             "color": "#2a3f5f"
            },
            "error_y": {
             "color": "#2a3f5f"
            },
            "marker": {
             "line": {
              "color": "#E5ECF6",
              "width": 0.5
             },
             "pattern": {
              "fillmode": "overlay",
              "size": 10,
              "solidity": 0.2
             }
            },
            "type": "bar"
           }
          ],
          "barpolar": [
           {
            "marker": {
             "line": {
              "color": "#E5ECF6",
              "width": 0.5
             },
             "pattern": {
              "fillmode": "overlay",
              "size": 10,
              "solidity": 0.2
             }
            },
            "type": "barpolar"
           }
          ],
          "carpet": [
           {
            "aaxis": {
             "endlinecolor": "#2a3f5f",
             "gridcolor": "white",
             "linecolor": "white",
             "minorgridcolor": "white",
             "startlinecolor": "#2a3f5f"
            },
            "baxis": {
             "endlinecolor": "#2a3f5f",
             "gridcolor": "white",
             "linecolor": "white",
             "minorgridcolor": "white",
             "startlinecolor": "#2a3f5f"
            },
            "type": "carpet"
           }
          ],
          "choropleth": [
           {
            "colorbar": {
             "outlinewidth": 0,
             "ticks": ""
            },
            "type": "choropleth"
           }
          ],
          "contour": [
           {
            "colorbar": {
             "outlinewidth": 0,
             "ticks": ""
            },
            "colorscale": [
             [
              0,
              "#0d0887"
             ],
             [
              0.1111111111111111,
              "#46039f"
             ],
             [
              0.2222222222222222,
              "#7201a8"
             ],
             [
              0.3333333333333333,
              "#9c179e"
             ],
             [
              0.4444444444444444,
              "#bd3786"
             ],
             [
              0.5555555555555556,
              "#d8576b"
             ],
             [
              0.6666666666666666,
              "#ed7953"
             ],
             [
              0.7777777777777778,
              "#fb9f3a"
             ],
             [
              0.8888888888888888,
              "#fdca26"
             ],
             [
              1,
              "#f0f921"
             ]
            ],
            "type": "contour"
           }
          ],
          "contourcarpet": [
           {
            "colorbar": {
             "outlinewidth": 0,
             "ticks": ""
            },
            "type": "contourcarpet"
           }
          ],
          "heatmap": [
           {
            "colorbar": {
             "outlinewidth": 0,
             "ticks": ""
            },
            "colorscale": [
             [
              0,
              "#0d0887"
             ],
             [
              0.1111111111111111,
              "#46039f"
             ],
             [
              0.2222222222222222,
              "#7201a8"
             ],
             [
              0.3333333333333333,
              "#9c179e"
             ],
             [
              0.4444444444444444,
              "#bd3786"
             ],
             [
              0.5555555555555556,
              "#d8576b"
             ],
             [
              0.6666666666666666,
              "#ed7953"
             ],
             [
              0.7777777777777778,
              "#fb9f3a"
             ],
             [
              0.8888888888888888,
              "#fdca26"
             ],
             [
              1,
              "#f0f921"
             ]
            ],
            "type": "heatmap"
           }
          ],
          "heatmapgl": [
           {
            "colorbar": {
             "outlinewidth": 0,
             "ticks": ""
            },
            "colorscale": [
             [
              0,
              "#0d0887"
             ],
             [
              0.1111111111111111,
              "#46039f"
             ],
             [
              0.2222222222222222,
              "#7201a8"
             ],
             [
              0.3333333333333333,
              "#9c179e"
             ],
             [
              0.4444444444444444,
              "#bd3786"
             ],
             [
              0.5555555555555556,
              "#d8576b"
             ],
             [
              0.6666666666666666,
              "#ed7953"
             ],
             [
              0.7777777777777778,
              "#fb9f3a"
             ],
             [
              0.8888888888888888,
              "#fdca26"
             ],
             [
              1,
              "#f0f921"
             ]
            ],
            "type": "heatmapgl"
           }
          ],
          "histogram": [
           {
            "marker": {
             "pattern": {
              "fillmode": "overlay",
              "size": 10,
              "solidity": 0.2
             }
            },
            "type": "histogram"
           }
          ],
          "histogram2d": [
           {
            "colorbar": {
             "outlinewidth": 0,
             "ticks": ""
            },
            "colorscale": [
             [
              0,
              "#0d0887"
             ],
             [
              0.1111111111111111,
              "#46039f"
             ],
             [
              0.2222222222222222,
              "#7201a8"
             ],
             [
              0.3333333333333333,
              "#9c179e"
             ],
             [
              0.4444444444444444,
              "#bd3786"
             ],
             [
              0.5555555555555556,
              "#d8576b"
             ],
             [
              0.6666666666666666,
              "#ed7953"
             ],
             [
              0.7777777777777778,
              "#fb9f3a"
             ],
             [
              0.8888888888888888,
              "#fdca26"
             ],
             [
              1,
              "#f0f921"
             ]
            ],
            "type": "histogram2d"
           }
          ],
          "histogram2dcontour": [
           {
            "colorbar": {
             "outlinewidth": 0,
             "ticks": ""
            },
            "colorscale": [
             [
              0,
              "#0d0887"
             ],
             [
              0.1111111111111111,
              "#46039f"
             ],
             [
              0.2222222222222222,
              "#7201a8"
             ],
             [
              0.3333333333333333,
              "#9c179e"
             ],
             [
              0.4444444444444444,
              "#bd3786"
             ],
             [
              0.5555555555555556,
              "#d8576b"
             ],
             [
              0.6666666666666666,
              "#ed7953"
             ],
             [
              0.7777777777777778,
              "#fb9f3a"
             ],
             [
              0.8888888888888888,
              "#fdca26"
             ],
             [
              1,
              "#f0f921"
             ]
            ],
            "type": "histogram2dcontour"
           }
          ],
          "mesh3d": [
           {
            "colorbar": {
             "outlinewidth": 0,
             "ticks": ""
            },
            "type": "mesh3d"
           }
          ],
          "parcoords": [
           {
            "line": {
             "colorbar": {
              "outlinewidth": 0,
              "ticks": ""
             }
            },
            "type": "parcoords"
           }
          ],
          "pie": [
           {
            "automargin": true,
            "type": "pie"
           }
          ],
          "scatter": [
           {
            "fillpattern": {
             "fillmode": "overlay",
             "size": 10,
             "solidity": 0.2
            },
            "type": "scatter"
           }
          ],
          "scatter3d": [
           {
            "line": {
             "colorbar": {
              "outlinewidth": 0,
              "ticks": ""
             }
            },
            "marker": {
             "colorbar": {
              "outlinewidth": 0,
              "ticks": ""
             }
            },
            "type": "scatter3d"
           }
          ],
          "scattercarpet": [
           {
            "marker": {
             "colorbar": {
              "outlinewidth": 0,
              "ticks": ""
             }
            },
            "type": "scattercarpet"
           }
          ],
          "scattergeo": [
           {
            "marker": {
             "colorbar": {
              "outlinewidth": 0,
              "ticks": ""
             }
            },
            "type": "scattergeo"
           }
          ],
          "scattergl": [
           {
            "marker": {
             "colorbar": {
              "outlinewidth": 0,
              "ticks": ""
             }
            },
            "type": "scattergl"
           }
          ],
          "scattermapbox": [
           {
            "marker": {
             "colorbar": {
              "outlinewidth": 0,
              "ticks": ""
             }
            },
            "type": "scattermapbox"
           }
          ],
          "scatterpolar": [
           {
            "marker": {
             "colorbar": {
              "outlinewidth": 0,
              "ticks": ""
             }
            },
            "type": "scatterpolar"
           }
          ],
          "scatterpolargl": [
           {
            "marker": {
             "colorbar": {
              "outlinewidth": 0,
              "ticks": ""
             }
            },
            "type": "scatterpolargl"
           }
          ],
          "scatterternary": [
           {
            "marker": {
             "colorbar": {
              "outlinewidth": 0,
              "ticks": ""
             }
            },
            "type": "scatterternary"
           }
          ],
          "surface": [
           {
            "colorbar": {
             "outlinewidth": 0,
             "ticks": ""
            },
            "colorscale": [
             [
              0,
              "#0d0887"
             ],
             [
              0.1111111111111111,
              "#46039f"
             ],
             [
              0.2222222222222222,
              "#7201a8"
             ],
             [
              0.3333333333333333,
              "#9c179e"
             ],
             [
              0.4444444444444444,
              "#bd3786"
             ],
             [
              0.5555555555555556,
              "#d8576b"
             ],
             [
              0.6666666666666666,
              "#ed7953"
             ],
             [
              0.7777777777777778,
              "#fb9f3a"
             ],
             [
              0.8888888888888888,
              "#fdca26"
             ],
             [
              1,
              "#f0f921"
             ]
            ],
            "type": "surface"
           }
          ],
          "table": [
           {
            "cells": {
             "fill": {
              "color": "#EBF0F8"
             },
             "line": {
              "color": "white"
             }
            },
            "header": {
             "fill": {
              "color": "#C8D4E3"
             },
             "line": {
              "color": "white"
             }
            },
            "type": "table"
           }
          ]
         },
         "layout": {
          "annotationdefaults": {
           "arrowcolor": "#2a3f5f",
           "arrowhead": 0,
           "arrowwidth": 1
          },
          "autotypenumbers": "strict",
          "coloraxis": {
           "colorbar": {
            "outlinewidth": 0,
            "ticks": ""
           }
          },
          "colorscale": {
           "diverging": [
            [
             0,
             "#8e0152"
            ],
            [
             0.1,
             "#c51b7d"
            ],
            [
             0.2,
             "#de77ae"
            ],
            [
             0.3,
             "#f1b6da"
            ],
            [
             0.4,
             "#fde0ef"
            ],
            [
             0.5,
             "#f7f7f7"
            ],
            [
             0.6,
             "#e6f5d0"
            ],
            [
             0.7,
             "#b8e186"
            ],
            [
             0.8,
             "#7fbc41"
            ],
            [
             0.9,
             "#4d9221"
            ],
            [
             1,
             "#276419"
            ]
           ],
           "sequential": [
            [
             0,
             "#0d0887"
            ],
            [
             0.1111111111111111,
             "#46039f"
            ],
            [
             0.2222222222222222,
             "#7201a8"
            ],
            [
             0.3333333333333333,
             "#9c179e"
            ],
            [
             0.4444444444444444,
             "#bd3786"
            ],
            [
             0.5555555555555556,
             "#d8576b"
            ],
            [
             0.6666666666666666,
             "#ed7953"
            ],
            [
             0.7777777777777778,
             "#fb9f3a"
            ],
            [
             0.8888888888888888,
             "#fdca26"
            ],
            [
             1,
             "#f0f921"
            ]
           ],
           "sequentialminus": [
            [
             0,
             "#0d0887"
            ],
            [
             0.1111111111111111,
             "#46039f"
            ],
            [
             0.2222222222222222,
             "#7201a8"
            ],
            [
             0.3333333333333333,
             "#9c179e"
            ],
            [
             0.4444444444444444,
             "#bd3786"
            ],
            [
             0.5555555555555556,
             "#d8576b"
            ],
            [
             0.6666666666666666,
             "#ed7953"
            ],
            [
             0.7777777777777778,
             "#fb9f3a"
            ],
            [
             0.8888888888888888,
             "#fdca26"
            ],
            [
             1,
             "#f0f921"
            ]
           ]
          },
          "colorway": [
           "#636efa",
           "#EF553B",
           "#00cc96",
           "#ab63fa",
           "#FFA15A",
           "#19d3f3",
           "#FF6692",
           "#B6E880",
           "#FF97FF",
           "#FECB52"
          ],
          "font": {
           "color": "#2a3f5f"
          },
          "geo": {
           "bgcolor": "white",
           "lakecolor": "white",
           "landcolor": "#E5ECF6",
           "showlakes": true,
           "showland": true,
           "subunitcolor": "white"
          },
          "hoverlabel": {
           "align": "left"
          },
          "hovermode": "closest",
          "mapbox": {
           "style": "light"
          },
          "paper_bgcolor": "white",
          "plot_bgcolor": "#E5ECF6",
          "polar": {
           "angularaxis": {
            "gridcolor": "white",
            "linecolor": "white",
            "ticks": ""
           },
           "bgcolor": "#E5ECF6",
           "radialaxis": {
            "gridcolor": "white",
            "linecolor": "white",
            "ticks": ""
           }
          },
          "scene": {
           "xaxis": {
            "backgroundcolor": "#E5ECF6",
            "gridcolor": "white",
            "gridwidth": 2,
            "linecolor": "white",
            "showbackground": true,
            "ticks": "",
            "zerolinecolor": "white"
           },
           "yaxis": {
            "backgroundcolor": "#E5ECF6",
            "gridcolor": "white",
            "gridwidth": 2,
            "linecolor": "white",
            "showbackground": true,
            "ticks": "",
            "zerolinecolor": "white"
           },
           "zaxis": {
            "backgroundcolor": "#E5ECF6",
            "gridcolor": "white",
            "gridwidth": 2,
            "linecolor": "white",
            "showbackground": true,
            "ticks": "",
            "zerolinecolor": "white"
           }
          },
          "shapedefaults": {
           "line": {
            "color": "#2a3f5f"
           }
          },
          "ternary": {
           "aaxis": {
            "gridcolor": "white",
            "linecolor": "white",
            "ticks": ""
           },
           "baxis": {
            "gridcolor": "white",
            "linecolor": "white",
            "ticks": ""
           },
           "bgcolor": "#E5ECF6",
           "caxis": {
            "gridcolor": "white",
            "linecolor": "white",
            "ticks": ""
           }
          },
          "title": {
           "x": 0.05
          },
          "xaxis": {
           "automargin": true,
           "gridcolor": "white",
           "linecolor": "white",
           "ticks": "",
           "title": {
            "standoff": 15
           },
           "zerolinecolor": "white",
           "zerolinewidth": 2
          },
          "yaxis": {
           "automargin": true,
           "gridcolor": "white",
           "linecolor": "white",
           "ticks": "",
           "title": {
            "standoff": 15
           },
           "zerolinecolor": "white",
           "zerolinewidth": 2
          }
         }
        },
        "title": {
         "text": "Variação do IPCA no Brasil"
        },
        "xaxis": {
         "anchor": "y",
         "domain": [
          0,
          1
         ],
         "title": {
          "text": "Data"
         }
        },
        "yaxis": {
         "anchor": "x",
         "domain": [
          0,
          1
         ],
         "title": {
          "text": "Variação %"
         }
        }
       }
      }
     },
     "metadata": {},
     "output_type": "display_data"
    }
   ],
   "source": [
    "fig = px.line(ipca, x=\"data\", y=\"valor\", title='Variação do IPCA no Brasil',\\\n",
    "             labels = {\n",
    "                \"valor\": \"Variação %\",\n",
    "                \"data\": \"Data\"\n",
    "                })\n",
    "fig.show()"
   ]
  },
  {
   "cell_type": "markdown",
   "id": "2cc28f03",
   "metadata": {},
   "source": [
    "## Obtendo a Cotação da Bolsa de Valores e do Dolar para o período\n",
    "\n",
    "Através da biblioteca yfinance"
   ]
  },
  {
   "cell_type": "code",
   "execution_count": 60,
   "id": "2d839c7c",
   "metadata": {},
   "outputs": [
    {
     "name": "stdout",
     "output_type": "stream",
     "text": [
      "[*********************100%***********************]  1 of 1 completed\n",
      "[*********************100%***********************]  1 of 1 completed\n"
     ]
    }
   ],
   "source": [
    "ibov = yf.download('^bvsp', start='2020-03-01', end=\"2022-11-01\", interval='1mo')\n",
    "usd = yf.download('USDBRL=X', start='2020-03-01', end=\"2022-11-01\", interval='1mo')"
   ]
  },
  {
   "cell_type": "code",
   "execution_count": 61,
   "id": "291072c0",
   "metadata": {},
   "outputs": [
    {
     "data": {
      "text/html": [
       "<div>\n",
       "<style scoped>\n",
       "    .dataframe tbody tr th:only-of-type {\n",
       "        vertical-align: middle;\n",
       "    }\n",
       "\n",
       "    .dataframe tbody tr th {\n",
       "        vertical-align: top;\n",
       "    }\n",
       "\n",
       "    .dataframe thead th {\n",
       "        text-align: right;\n",
       "    }\n",
       "</style>\n",
       "<table border=\"1\" class=\"dataframe\">\n",
       "  <thead>\n",
       "    <tr style=\"text-align: right;\">\n",
       "      <th></th>\n",
       "      <th>Open</th>\n",
       "      <th>High</th>\n",
       "      <th>Low</th>\n",
       "      <th>Close</th>\n",
       "      <th>Adj Close</th>\n",
       "      <th>Volume</th>\n",
       "    </tr>\n",
       "    <tr>\n",
       "      <th>Date</th>\n",
       "      <th></th>\n",
       "      <th></th>\n",
       "      <th></th>\n",
       "      <th></th>\n",
       "      <th></th>\n",
       "      <th></th>\n",
       "    </tr>\n",
       "  </thead>\n",
       "  <tbody>\n",
       "    <tr>\n",
       "      <th>2020-03-01</th>\n",
       "      <td>NaN</td>\n",
       "      <td>NaN</td>\n",
       "      <td>NaN</td>\n",
       "      <td>NaN</td>\n",
       "      <td>NaN</td>\n",
       "      <td>NaN</td>\n",
       "    </tr>\n",
       "    <tr>\n",
       "      <th>2020-04-01</th>\n",
       "      <td>-0.299722</td>\n",
       "      <td>-0.231664</td>\n",
       "      <td>0.099058</td>\n",
       "      <td>0.102520</td>\n",
       "      <td>0.102520</td>\n",
       "      <td>-0.225514</td>\n",
       "    </tr>\n",
       "    <tr>\n",
       "      <th>2020-05-01</th>\n",
       "      <td>0.102587</td>\n",
       "      <td>0.053745</td>\n",
       "      <td>0.116442</td>\n",
       "      <td>0.085671</td>\n",
       "      <td>0.085671</td>\n",
       "      <td>0.051728</td>\n",
       "    </tr>\n",
       "    <tr>\n",
       "      <th>2020-06-01</th>\n",
       "      <td>0.085639</td>\n",
       "      <td>0.109001</td>\n",
       "      <td>0.147166</td>\n",
       "      <td>0.087560</td>\n",
       "      <td>0.087560</td>\n",
       "      <td>0.054299</td>\n",
       "    </tr>\n",
       "    <tr>\n",
       "      <th>2020-07-01</th>\n",
       "      <td>0.087728</td>\n",
       "      <td>0.082002</td>\n",
       "      <td>0.094718</td>\n",
       "      <td>0.082646</td>\n",
       "      <td>0.082646</td>\n",
       "      <td>-0.087237</td>\n",
       "    </tr>\n",
       "  </tbody>\n",
       "</table>\n",
       "</div>"
      ],
      "text/plain": [
       "                Open      High       Low     Close  Adj Close    Volume\n",
       "Date                                                                   \n",
       "2020-03-01       NaN       NaN       NaN       NaN        NaN       NaN\n",
       "2020-04-01 -0.299722 -0.231664  0.099058  0.102520   0.102520 -0.225514\n",
       "2020-05-01  0.102587  0.053745  0.116442  0.085671   0.085671  0.051728\n",
       "2020-06-01  0.085639  0.109001  0.147166  0.087560   0.087560  0.054299\n",
       "2020-07-01  0.087728  0.082002  0.094718  0.082646   0.082646 -0.087237"
      ]
     },
     "metadata": {},
     "output_type": "display_data"
    },
    {
     "data": {
      "text/html": [
       "<div>\n",
       "<style scoped>\n",
       "    .dataframe tbody tr th:only-of-type {\n",
       "        vertical-align: middle;\n",
       "    }\n",
       "\n",
       "    .dataframe tbody tr th {\n",
       "        vertical-align: top;\n",
       "    }\n",
       "\n",
       "    .dataframe thead th {\n",
       "        text-align: right;\n",
       "    }\n",
       "</style>\n",
       "<table border=\"1\" class=\"dataframe\">\n",
       "  <thead>\n",
       "    <tr style=\"text-align: right;\">\n",
       "      <th></th>\n",
       "      <th>Open</th>\n",
       "      <th>High</th>\n",
       "      <th>Low</th>\n",
       "      <th>Close</th>\n",
       "      <th>Adj Close</th>\n",
       "      <th>Volume</th>\n",
       "    </tr>\n",
       "    <tr>\n",
       "      <th>Date</th>\n",
       "      <th></th>\n",
       "      <th></th>\n",
       "      <th></th>\n",
       "      <th></th>\n",
       "      <th></th>\n",
       "      <th></th>\n",
       "    </tr>\n",
       "  </thead>\n",
       "  <tbody>\n",
       "    <tr>\n",
       "      <th>2020-03-01</th>\n",
       "      <td>NaN</td>\n",
       "      <td>NaN</td>\n",
       "      <td>NaN</td>\n",
       "      <td>NaN</td>\n",
       "      <td>NaN</td>\n",
       "      <td>NaN</td>\n",
       "    </tr>\n",
       "    <tr>\n",
       "      <th>2020-04-01</th>\n",
       "      <td>0.164051</td>\n",
       "      <td>0.096536</td>\n",
       "      <td>0.137055</td>\n",
       "      <td>0.027365</td>\n",
       "      <td>0.027365</td>\n",
       "      <td>NaN</td>\n",
       "    </tr>\n",
       "    <tr>\n",
       "      <th>2020-05-01</th>\n",
       "      <td>0.054209</td>\n",
       "      <td>0.044278</td>\n",
       "      <td>0.043352</td>\n",
       "      <td>-0.000469</td>\n",
       "      <td>-0.000469</td>\n",
       "      <td>NaN</td>\n",
       "    </tr>\n",
       "    <tr>\n",
       "      <th>2020-06-01</th>\n",
       "      <td>-0.027543</td>\n",
       "      <td>-0.077380</td>\n",
       "      <td>-0.085484</td>\n",
       "      <td>0.013090</td>\n",
       "      <td>0.013090</td>\n",
       "      <td>NaN</td>\n",
       "    </tr>\n",
       "    <tr>\n",
       "      <th>2020-07-01</th>\n",
       "      <td>0.023712</td>\n",
       "      <td>-0.007127</td>\n",
       "      <td>0.056944</td>\n",
       "      <td>-0.045945</td>\n",
       "      <td>-0.045945</td>\n",
       "      <td>NaN</td>\n",
       "    </tr>\n",
       "  </tbody>\n",
       "</table>\n",
       "</div>"
      ],
      "text/plain": [
       "                Open      High       Low     Close  Adj Close  Volume\n",
       "Date                                                                 \n",
       "2020-03-01       NaN       NaN       NaN       NaN        NaN     NaN\n",
       "2020-04-01  0.164051  0.096536  0.137055  0.027365   0.027365     NaN\n",
       "2020-05-01  0.054209  0.044278  0.043352 -0.000469  -0.000469     NaN\n",
       "2020-06-01 -0.027543 -0.077380 -0.085484  0.013090   0.013090     NaN\n",
       "2020-07-01  0.023712 -0.007127  0.056944 -0.045945  -0.045945     NaN"
      ]
     },
     "metadata": {},
     "output_type": "display_data"
    }
   ],
   "source": [
    "# Obtendo as variações mensais da bolsa de valores:\n",
    "ibov = ibov.pct_change()\n",
    "usd = usd.pct_change()\n",
    "\n",
    "display(ibov.head(), usd.head())"
   ]
  },
  {
   "cell_type": "code",
   "execution_count": 62,
   "id": "8e3567c1",
   "metadata": {
    "scrolled": true
   },
   "outputs": [
    {
     "data": {
      "application/vnd.plotly.v1+json": {
       "config": {
        "plotlyServerURL": "https://plot.ly"
       },
       "data": [
        {
         "name": "Variação do IPCA no Brasil",
         "type": "scatter",
         "x": [
          "2020-05-01T00:00:00",
          "2020-06-01T00:00:00",
          "2020-07-01T00:00:00",
          "2020-08-01T00:00:00",
          "2020-09-01T00:00:00",
          "2020-10-01T00:00:00",
          "2020-11-01T00:00:00",
          "2020-12-01T00:00:00",
          "2021-01-01T00:00:00",
          "2021-02-01T00:00:00",
          "2021-03-01T00:00:00",
          "2021-04-01T00:00:00",
          "2021-05-01T00:00:00",
          "2021-06-01T00:00:00",
          "2021-07-01T00:00:00",
          "2021-08-01T00:00:00",
          "2021-09-01T00:00:00",
          "2021-10-01T00:00:00",
          "2021-11-01T00:00:00",
          "2021-12-01T00:00:00",
          "2022-01-01T00:00:00",
          "2022-02-01T00:00:00",
          "2022-03-01T00:00:00",
          "2022-04-01T00:00:00",
          "2022-05-01T00:00:00",
          "2022-06-01T00:00:00",
          "2022-07-01T00:00:00",
          "2022-08-01T00:00:00",
          "2022-09-01T00:00:00",
          "2022-10-01T00:00:00"
         ],
         "y": [
          -1.02,
          0.89,
          1.23,
          0.78,
          0.13,
          0.23,
          0.41,
          2.04,
          -0.29,
          1.69,
          2.81,
          0.38,
          2.11,
          0.81,
          1.68,
          0.95,
          1.93,
          1.35,
          2.3,
          0.05,
          -0.35,
          0.12,
          2.65,
          0.55,
          -0.51,
          0.48,
          -4.35,
          -2.55,
          -1.21,
          0.18
         ]
        },
        {
         "name": "Variação no Número de Óbitos por Covid",
         "type": "scatter",
         "x": [
          "2020-02-29T00:00:00",
          "2020-03-31T00:00:00",
          "2020-04-30T00:00:00",
          "2020-05-31T00:00:00",
          "2020-06-30T00:00:00",
          "2020-07-31T00:00:00",
          "2020-08-31T00:00:00",
          "2020-09-30T00:00:00",
          "2020-10-31T00:00:00",
          "2020-11-30T00:00:00",
          "2020-12-31T00:00:00",
          "2021-01-31T00:00:00",
          "2021-02-28T00:00:00",
          "2021-03-31T00:00:00",
          "2021-04-30T00:00:00",
          "2021-05-31T00:00:00",
          "2021-06-30T00:00:00",
          "2021-07-31T00:00:00",
          "2021-08-31T00:00:00",
          "2021-09-30T00:00:00",
          "2021-10-31T00:00:00",
          "2021-11-30T00:00:00",
          "2021-12-31T00:00:00",
          "2022-01-31T00:00:00",
          "2022-02-28T00:00:00",
          "2022-03-31T00:00:00",
          "2022-04-30T00:00:00",
          "2022-05-31T00:00:00",
          "2022-06-30T00:00:00",
          "2022-07-31T00:00:00",
          "2022-08-31T00:00:00",
          "2022-09-30T00:00:00"
         ],
         "y": [
          null,
          null,
          27.603960396039604,
          3.0472481827622016,
          0.3006628180457558,
          0.08245660178853242,
          -0.12364840238124164,
          -0.2212594877482411,
          -0.29280341804263654,
          -0.1633102580239144,
          0.6394133132756676,
          0.3562580289961461,
          0.03233990731030745,
          1.1928433332241046,
          0.230801416638025,
          -0.2873706959351173,
          -0.059204361529942906,
          -0.3088011590003622,
          -0.3692884091385453,
          -0.324388318863457,
          -0.3208312838170192,
          -0.37552055042549337,
          -0.3699623079153378,
          0.9114127933732168,
          1.6519802576140603,
          -0.5305946436677258,
          -0.6383328498211005,
          -0.15000000000000002,
          0.49103491664045307,
          0.49746835443037973,
          -0.2320371935756551,
          -0.6200697119794534,
          0.024142926122646013,
          -0.7647336162187648
         ]
        },
        {
         "name": "Variação na Bolsa de Valores",
         "type": "scatter",
         "x": [
          "2020-04-01T00:00:00",
          "2020-05-01T00:00:00",
          "2020-06-01T00:00:00",
          "2020-07-01T00:00:00",
          "2020-08-01T00:00:00",
          "2020-09-01T00:00:00",
          "2020-10-01T00:00:00",
          "2020-10-31T00:00:00",
          "2020-11-30T00:00:00",
          "2020-12-31T00:00:00",
          "2021-01-31T00:00:00",
          "2021-03-01T00:00:00",
          "2021-04-01T00:00:00",
          "2021-05-01T00:00:00",
          "2021-06-01T00:00:00",
          "2021-07-01T00:00:00",
          "2021-08-01T00:00:00",
          "2021-09-01T00:00:00",
          "2021-10-01T00:00:00",
          "2021-10-31T00:00:00",
          "2021-11-30T00:00:00",
          "2021-12-31T00:00:00",
          "2022-01-31T00:00:00",
          "2022-03-01T00:00:00",
          "2022-04-01T00:00:00",
          "2022-05-01T00:00:00",
          "2022-06-01T00:00:00",
          "2022-07-01T00:00:00",
          "2022-08-01T00:00:00",
          "2022-09-01T00:00:00",
          "2022-10-01T00:00:00"
         ],
         "y": [
          null,
          0.10251985757326754,
          0.08567063324472701,
          0.08755992357241738,
          0.08264601918868886,
          -0.03442747201492535,
          -0.04796264428544117,
          -0.006881388539475508,
          0.1589747956403269,
          0.09567629123503041,
          -0.027651584999916157,
          -0.05147965208996008,
          0.05997182714590821,
          0.01937685409057388,
          0.061584268339865744,
          0.0046428345059263965,
          -0.03943944101828045,
          -0.024794541916733026,
          -0.06568390567515003,
          -0.06738211733751431,
          -0.015323523444217946,
          0.028523769808173505,
          0.07217950430253195,
          0.0067089013061891745,
          0.06060525711053377,
          -0.10102584188201569,
          0.03221291112017499,
          -0.11503264452048023,
          0.04691400621054975,
          0.06162942858527609,
          0.004693078166229991,
          0.05452711360724116,
          -0.03634185647681343
         ]
        },
        {
         "name": "Variação da Cotação do Dolar",
         "type": "scatter",
         "x": [
          "2020-04-01T00:00:00",
          "2020-05-01T00:00:00",
          "2020-06-01T00:00:00",
          "2020-07-01T00:00:00",
          "2020-08-01T00:00:00",
          "2020-09-01T00:00:00",
          "2020-10-01T00:00:00",
          "2020-11-01T00:00:00",
          "2020-12-01T00:00:00",
          "2021-01-01T00:00:00",
          "2021-02-01T00:00:00",
          "2021-03-01T00:00:00",
          "2021-04-01T00:00:00",
          "2021-05-01T00:00:00",
          "2021-06-01T00:00:00",
          "2021-07-01T00:00:00",
          "2021-08-01T00:00:00",
          "2021-09-01T00:00:00",
          "2021-10-01T00:00:00",
          "2021-11-01T00:00:00",
          "2021-12-01T00:00:00",
          "2022-01-01T00:00:00",
          "2022-02-01T00:00:00",
          "2022-03-01T00:00:00",
          "2022-04-01T00:00:00",
          "2022-05-01T00:00:00",
          "2022-06-01T00:00:00",
          "2022-07-01T00:00:00",
          "2022-08-01T00:00:00",
          "2022-09-01T00:00:00",
          "2022-10-01T00:00:00"
         ],
         "y": [
          null,
          0.02736531280736676,
          -0.0004685424931930582,
          0.0130900169941921,
          -0.04594508353543225,
          0.04580991352001096,
          0.04461966219934821,
          0.02616113090651817,
          -0.07534007184165947,
          -0.028387719245789533,
          0.052007270270066686,
          0.025051239385378787,
          0.031084712537283732,
          -0.07540365841749475,
          -0.018439418967081567,
          -0.05400913728522527,
          0.04994852572241526,
          -0.003786577931291446,
          0.04464682226474137,
          0.040522307679435876,
          -0.005857605657347054,
          -0.005445736369759424,
          -0.03726977810147891,
          -0.03789204287639891,
          -0.07553202638879719,
          0.04205718286885274,
          -0.04384046587150636,
          0.09016500769326852,
          -0.001949446555427059,
          -0.00945697482670993,
          0.0535543634290605,
          -0.019958553112705113
         ]
        }
       ],
       "layout": {
        "template": {
         "data": {
          "bar": [
           {
            "error_x": {
             "color": "#2a3f5f"
            },
            "error_y": {
             "color": "#2a3f5f"
            },
            "marker": {
             "line": {
              "color": "#E5ECF6",
              "width": 0.5
             },
             "pattern": {
              "fillmode": "overlay",
              "size": 10,
              "solidity": 0.2
             }
            },
            "type": "bar"
           }
          ],
          "barpolar": [
           {
            "marker": {
             "line": {
              "color": "#E5ECF6",
              "width": 0.5
             },
             "pattern": {
              "fillmode": "overlay",
              "size": 10,
              "solidity": 0.2
             }
            },
            "type": "barpolar"
           }
          ],
          "carpet": [
           {
            "aaxis": {
             "endlinecolor": "#2a3f5f",
             "gridcolor": "white",
             "linecolor": "white",
             "minorgridcolor": "white",
             "startlinecolor": "#2a3f5f"
            },
            "baxis": {
             "endlinecolor": "#2a3f5f",
             "gridcolor": "white",
             "linecolor": "white",
             "minorgridcolor": "white",
             "startlinecolor": "#2a3f5f"
            },
            "type": "carpet"
           }
          ],
          "choropleth": [
           {
            "colorbar": {
             "outlinewidth": 0,
             "ticks": ""
            },
            "type": "choropleth"
           }
          ],
          "contour": [
           {
            "colorbar": {
             "outlinewidth": 0,
             "ticks": ""
            },
            "colorscale": [
             [
              0,
              "#0d0887"
             ],
             [
              0.1111111111111111,
              "#46039f"
             ],
             [
              0.2222222222222222,
              "#7201a8"
             ],
             [
              0.3333333333333333,
              "#9c179e"
             ],
             [
              0.4444444444444444,
              "#bd3786"
             ],
             [
              0.5555555555555556,
              "#d8576b"
             ],
             [
              0.6666666666666666,
              "#ed7953"
             ],
             [
              0.7777777777777778,
              "#fb9f3a"
             ],
             [
              0.8888888888888888,
              "#fdca26"
             ],
             [
              1,
              "#f0f921"
             ]
            ],
            "type": "contour"
           }
          ],
          "contourcarpet": [
           {
            "colorbar": {
             "outlinewidth": 0,
             "ticks": ""
            },
            "type": "contourcarpet"
           }
          ],
          "heatmap": [
           {
            "colorbar": {
             "outlinewidth": 0,
             "ticks": ""
            },
            "colorscale": [
             [
              0,
              "#0d0887"
             ],
             [
              0.1111111111111111,
              "#46039f"
             ],
             [
              0.2222222222222222,
              "#7201a8"
             ],
             [
              0.3333333333333333,
              "#9c179e"
             ],
             [
              0.4444444444444444,
              "#bd3786"
             ],
             [
              0.5555555555555556,
              "#d8576b"
             ],
             [
              0.6666666666666666,
              "#ed7953"
             ],
             [
              0.7777777777777778,
              "#fb9f3a"
             ],
             [
              0.8888888888888888,
              "#fdca26"
             ],
             [
              1,
              "#f0f921"
             ]
            ],
            "type": "heatmap"
           }
          ],
          "heatmapgl": [
           {
            "colorbar": {
             "outlinewidth": 0,
             "ticks": ""
            },
            "colorscale": [
             [
              0,
              "#0d0887"
             ],
             [
              0.1111111111111111,
              "#46039f"
             ],
             [
              0.2222222222222222,
              "#7201a8"
             ],
             [
              0.3333333333333333,
              "#9c179e"
             ],
             [
              0.4444444444444444,
              "#bd3786"
             ],
             [
              0.5555555555555556,
              "#d8576b"
             ],
             [
              0.6666666666666666,
              "#ed7953"
             ],
             [
              0.7777777777777778,
              "#fb9f3a"
             ],
             [
              0.8888888888888888,
              "#fdca26"
             ],
             [
              1,
              "#f0f921"
             ]
            ],
            "type": "heatmapgl"
           }
          ],
          "histogram": [
           {
            "marker": {
             "pattern": {
              "fillmode": "overlay",
              "size": 10,
              "solidity": 0.2
             }
            },
            "type": "histogram"
           }
          ],
          "histogram2d": [
           {
            "colorbar": {
             "outlinewidth": 0,
             "ticks": ""
            },
            "colorscale": [
             [
              0,
              "#0d0887"
             ],
             [
              0.1111111111111111,
              "#46039f"
             ],
             [
              0.2222222222222222,
              "#7201a8"
             ],
             [
              0.3333333333333333,
              "#9c179e"
             ],
             [
              0.4444444444444444,
              "#bd3786"
             ],
             [
              0.5555555555555556,
              "#d8576b"
             ],
             [
              0.6666666666666666,
              "#ed7953"
             ],
             [
              0.7777777777777778,
              "#fb9f3a"
             ],
             [
              0.8888888888888888,
              "#fdca26"
             ],
             [
              1,
              "#f0f921"
             ]
            ],
            "type": "histogram2d"
           }
          ],
          "histogram2dcontour": [
           {
            "colorbar": {
             "outlinewidth": 0,
             "ticks": ""
            },
            "colorscale": [
             [
              0,
              "#0d0887"
             ],
             [
              0.1111111111111111,
              "#46039f"
             ],
             [
              0.2222222222222222,
              "#7201a8"
             ],
             [
              0.3333333333333333,
              "#9c179e"
             ],
             [
              0.4444444444444444,
              "#bd3786"
             ],
             [
              0.5555555555555556,
              "#d8576b"
             ],
             [
              0.6666666666666666,
              "#ed7953"
             ],
             [
              0.7777777777777778,
              "#fb9f3a"
             ],
             [
              0.8888888888888888,
              "#fdca26"
             ],
             [
              1,
              "#f0f921"
             ]
            ],
            "type": "histogram2dcontour"
           }
          ],
          "mesh3d": [
           {
            "colorbar": {
             "outlinewidth": 0,
             "ticks": ""
            },
            "type": "mesh3d"
           }
          ],
          "parcoords": [
           {
            "line": {
             "colorbar": {
              "outlinewidth": 0,
              "ticks": ""
             }
            },
            "type": "parcoords"
           }
          ],
          "pie": [
           {
            "automargin": true,
            "type": "pie"
           }
          ],
          "scatter": [
           {
            "fillpattern": {
             "fillmode": "overlay",
             "size": 10,
             "solidity": 0.2
            },
            "type": "scatter"
           }
          ],
          "scatter3d": [
           {
            "line": {
             "colorbar": {
              "outlinewidth": 0,
              "ticks": ""
             }
            },
            "marker": {
             "colorbar": {
              "outlinewidth": 0,
              "ticks": ""
             }
            },
            "type": "scatter3d"
           }
          ],
          "scattercarpet": [
           {
            "marker": {
             "colorbar": {
              "outlinewidth": 0,
              "ticks": ""
             }
            },
            "type": "scattercarpet"
           }
          ],
          "scattergeo": [
           {
            "marker": {
             "colorbar": {
              "outlinewidth": 0,
              "ticks": ""
             }
            },
            "type": "scattergeo"
           }
          ],
          "scattergl": [
           {
            "marker": {
             "colorbar": {
              "outlinewidth": 0,
              "ticks": ""
             }
            },
            "type": "scattergl"
           }
          ],
          "scattermapbox": [
           {
            "marker": {
             "colorbar": {
              "outlinewidth": 0,
              "ticks": ""
             }
            },
            "type": "scattermapbox"
           }
          ],
          "scatterpolar": [
           {
            "marker": {
             "colorbar": {
              "outlinewidth": 0,
              "ticks": ""
             }
            },
            "type": "scatterpolar"
           }
          ],
          "scatterpolargl": [
           {
            "marker": {
             "colorbar": {
              "outlinewidth": 0,
              "ticks": ""
             }
            },
            "type": "scatterpolargl"
           }
          ],
          "scatterternary": [
           {
            "marker": {
             "colorbar": {
              "outlinewidth": 0,
              "ticks": ""
             }
            },
            "type": "scatterternary"
           }
          ],
          "surface": [
           {
            "colorbar": {
             "outlinewidth": 0,
             "ticks": ""
            },
            "colorscale": [
             [
              0,
              "#0d0887"
             ],
             [
              0.1111111111111111,
              "#46039f"
             ],
             [
              0.2222222222222222,
              "#7201a8"
             ],
             [
              0.3333333333333333,
              "#9c179e"
             ],
             [
              0.4444444444444444,
              "#bd3786"
             ],
             [
              0.5555555555555556,
              "#d8576b"
             ],
             [
              0.6666666666666666,
              "#ed7953"
             ],
             [
              0.7777777777777778,
              "#fb9f3a"
             ],
             [
              0.8888888888888888,
              "#fdca26"
             ],
             [
              1,
              "#f0f921"
             ]
            ],
            "type": "surface"
           }
          ],
          "table": [
           {
            "cells": {
             "fill": {
              "color": "#EBF0F8"
             },
             "line": {
              "color": "white"
             }
            },
            "header": {
             "fill": {
              "color": "#C8D4E3"
             },
             "line": {
              "color": "white"
             }
            },
            "type": "table"
           }
          ]
         },
         "layout": {
          "annotationdefaults": {
           "arrowcolor": "#2a3f5f",
           "arrowhead": 0,
           "arrowwidth": 1
          },
          "autotypenumbers": "strict",
          "coloraxis": {
           "colorbar": {
            "outlinewidth": 0,
            "ticks": ""
           }
          },
          "colorscale": {
           "diverging": [
            [
             0,
             "#8e0152"
            ],
            [
             0.1,
             "#c51b7d"
            ],
            [
             0.2,
             "#de77ae"
            ],
            [
             0.3,
             "#f1b6da"
            ],
            [
             0.4,
             "#fde0ef"
            ],
            [
             0.5,
             "#f7f7f7"
            ],
            [
             0.6,
             "#e6f5d0"
            ],
            [
             0.7,
             "#b8e186"
            ],
            [
             0.8,
             "#7fbc41"
            ],
            [
             0.9,
             "#4d9221"
            ],
            [
             1,
             "#276419"
            ]
           ],
           "sequential": [
            [
             0,
             "#0d0887"
            ],
            [
             0.1111111111111111,
             "#46039f"
            ],
            [
             0.2222222222222222,
             "#7201a8"
            ],
            [
             0.3333333333333333,
             "#9c179e"
            ],
            [
             0.4444444444444444,
             "#bd3786"
            ],
            [
             0.5555555555555556,
             "#d8576b"
            ],
            [
             0.6666666666666666,
             "#ed7953"
            ],
            [
             0.7777777777777778,
             "#fb9f3a"
            ],
            [
             0.8888888888888888,
             "#fdca26"
            ],
            [
             1,
             "#f0f921"
            ]
           ],
           "sequentialminus": [
            [
             0,
             "#0d0887"
            ],
            [
             0.1111111111111111,
             "#46039f"
            ],
            [
             0.2222222222222222,
             "#7201a8"
            ],
            [
             0.3333333333333333,
             "#9c179e"
            ],
            [
             0.4444444444444444,
             "#bd3786"
            ],
            [
             0.5555555555555556,
             "#d8576b"
            ],
            [
             0.6666666666666666,
             "#ed7953"
            ],
            [
             0.7777777777777778,
             "#fb9f3a"
            ],
            [
             0.8888888888888888,
             "#fdca26"
            ],
            [
             1,
             "#f0f921"
            ]
           ]
          },
          "colorway": [
           "#636efa",
           "#EF553B",
           "#00cc96",
           "#ab63fa",
           "#FFA15A",
           "#19d3f3",
           "#FF6692",
           "#B6E880",
           "#FF97FF",
           "#FECB52"
          ],
          "font": {
           "color": "#2a3f5f"
          },
          "geo": {
           "bgcolor": "white",
           "lakecolor": "white",
           "landcolor": "#E5ECF6",
           "showlakes": true,
           "showland": true,
           "subunitcolor": "white"
          },
          "hoverlabel": {
           "align": "left"
          },
          "hovermode": "closest",
          "mapbox": {
           "style": "light"
          },
          "paper_bgcolor": "white",
          "plot_bgcolor": "#E5ECF6",
          "polar": {
           "angularaxis": {
            "gridcolor": "white",
            "linecolor": "white",
            "ticks": ""
           },
           "bgcolor": "#E5ECF6",
           "radialaxis": {
            "gridcolor": "white",
            "linecolor": "white",
            "ticks": ""
           }
          },
          "scene": {
           "xaxis": {
            "backgroundcolor": "#E5ECF6",
            "gridcolor": "white",
            "gridwidth": 2,
            "linecolor": "white",
            "showbackground": true,
            "ticks": "",
            "zerolinecolor": "white"
           },
           "yaxis": {
            "backgroundcolor": "#E5ECF6",
            "gridcolor": "white",
            "gridwidth": 2,
            "linecolor": "white",
            "showbackground": true,
            "ticks": "",
            "zerolinecolor": "white"
           },
           "zaxis": {
            "backgroundcolor": "#E5ECF6",
            "gridcolor": "white",
            "gridwidth": 2,
            "linecolor": "white",
            "showbackground": true,
            "ticks": "",
            "zerolinecolor": "white"
           }
          },
          "shapedefaults": {
           "line": {
            "color": "#2a3f5f"
           }
          },
          "ternary": {
           "aaxis": {
            "gridcolor": "white",
            "linecolor": "white",
            "ticks": ""
           },
           "baxis": {
            "gridcolor": "white",
            "linecolor": "white",
            "ticks": ""
           },
           "bgcolor": "#E5ECF6",
           "caxis": {
            "gridcolor": "white",
            "linecolor": "white",
            "ticks": ""
           }
          },
          "title": {
           "x": 0.05
          },
          "xaxis": {
           "automargin": true,
           "gridcolor": "white",
           "linecolor": "white",
           "ticks": "",
           "title": {
            "standoff": 15
           },
           "zerolinecolor": "white",
           "zerolinewidth": 2
          },
          "yaxis": {
           "automargin": true,
           "gridcolor": "white",
           "linecolor": "white",
           "ticks": "",
           "title": {
            "standoff": 15
           },
           "zerolinecolor": "white",
           "zerolinewidth": 2
          }
         }
        }
       }
      }
     },
     "metadata": {},
     "output_type": "display_data"
    }
   ],
   "source": [
    "# dict for the dataframes and their names\n",
    "dfs = {\"ipca\" : ipca, \"covid\": months, \"ibov\":ibov, \"usd\":usd}\n",
    "\n",
    "# plot the data\n",
    "fig = go.Figure()\n",
    "fig = fig.add_trace(go.Scatter(x = dfs[\"ipca\"][\"data\"],\n",
    "                               y = dfs[\"ipca\"][\"valor\"], \n",
    "                               name = \"Variação do IPCA no Brasil\"))\n",
    "\n",
    "fig = fig.add_trace(go.Scatter(x = dfs[\"covid\"].index[:-2],\n",
    "                               y = dfs[\"covid\"][\"deaths_var\"], \n",
    "                               name = \"Variação no Número de Óbitos por Covid\"))\n",
    "\n",
    "fig = fig.add_trace(go.Scatter(x = dfs[\"ibov\"].index[1:-1],\n",
    "                               y = dfs[\"ibov\"][\"Close\"], \n",
    "                               name = \"Variação na Bolsa de Valores\"))\n",
    "\n",
    "fig = fig.add_trace(go.Scatter(x = dfs[\"usd\"].index[1:],\n",
    "                               y = dfs[\"usd\"][\"Close\"], \n",
    "                               name = \"Variação da Cotação do Dolar\"))\n",
    "\n",
    "fig.show()"
   ]
  },
  {
   "cell_type": "code",
   "execution_count": 63,
   "id": "b1799f7f",
   "metadata": {},
   "outputs": [
    {
     "data": {
      "text/plain": [
       "34"
      ]
     },
     "execution_count": 63,
     "metadata": {},
     "output_type": "execute_result"
    }
   ],
   "source": [
    "len(months[\"deaths_var\"])"
   ]
  },
  {
   "cell_type": "code",
   "execution_count": 64,
   "id": "67358781",
   "metadata": {},
   "outputs": [
    {
     "data": {
      "text/plain": [
       "30"
      ]
     },
     "execution_count": 64,
     "metadata": {},
     "output_type": "execute_result"
    }
   ],
   "source": [
    "len(ipca[\"valor\"])"
   ]
  },
  {
   "cell_type": "code",
   "execution_count": 65,
   "id": "3bf9201a",
   "metadata": {},
   "outputs": [
    {
     "data": {
      "text/plain": [
       "33"
      ]
     },
     "execution_count": 65,
     "metadata": {},
     "output_type": "execute_result"
    }
   ],
   "source": [
    "len(ibov[\"Close\"])"
   ]
  },
  {
   "cell_type": "code",
   "execution_count": 66,
   "id": "3df2fb55",
   "metadata": {},
   "outputs": [
    {
     "data": {
      "text/html": [
       "<div>\n",
       "<style scoped>\n",
       "    .dataframe tbody tr th:only-of-type {\n",
       "        vertical-align: middle;\n",
       "    }\n",
       "\n",
       "    .dataframe tbody tr th {\n",
       "        vertical-align: top;\n",
       "    }\n",
       "\n",
       "    .dataframe thead th {\n",
       "        text-align: right;\n",
       "    }\n",
       "</style>\n",
       "<table border=\"1\" class=\"dataframe\">\n",
       "  <thead>\n",
       "    <tr style=\"text-align: right;\">\n",
       "      <th></th>\n",
       "      <th>ipca</th>\n",
       "      <th>covid</th>\n",
       "      <th>ibov</th>\n",
       "      <th>usd</th>\n",
       "    </tr>\n",
       "  </thead>\n",
       "  <tbody>\n",
       "    <tr>\n",
       "      <th>0</th>\n",
       "      <td>-1.02</td>\n",
       "      <td>27.603960</td>\n",
       "      <td>0.102520</td>\n",
       "      <td>0.027365</td>\n",
       "    </tr>\n",
       "    <tr>\n",
       "      <th>1</th>\n",
       "      <td>0.89</td>\n",
       "      <td>3.047248</td>\n",
       "      <td>0.085671</td>\n",
       "      <td>-0.000469</td>\n",
       "    </tr>\n",
       "    <tr>\n",
       "      <th>2</th>\n",
       "      <td>1.23</td>\n",
       "      <td>0.300663</td>\n",
       "      <td>0.087560</td>\n",
       "      <td>0.013090</td>\n",
       "    </tr>\n",
       "    <tr>\n",
       "      <th>3</th>\n",
       "      <td>0.78</td>\n",
       "      <td>0.082457</td>\n",
       "      <td>0.082646</td>\n",
       "      <td>-0.045945</td>\n",
       "    </tr>\n",
       "    <tr>\n",
       "      <th>4</th>\n",
       "      <td>0.13</td>\n",
       "      <td>-0.123648</td>\n",
       "      <td>-0.034427</td>\n",
       "      <td>0.045810</td>\n",
       "    </tr>\n",
       "    <tr>\n",
       "      <th>5</th>\n",
       "      <td>0.23</td>\n",
       "      <td>-0.221259</td>\n",
       "      <td>-0.047963</td>\n",
       "      <td>0.044620</td>\n",
       "    </tr>\n",
       "    <tr>\n",
       "      <th>6</th>\n",
       "      <td>0.41</td>\n",
       "      <td>-0.292803</td>\n",
       "      <td>-0.006881</td>\n",
       "      <td>0.026161</td>\n",
       "    </tr>\n",
       "    <tr>\n",
       "      <th>7</th>\n",
       "      <td>2.04</td>\n",
       "      <td>-0.163310</td>\n",
       "      <td>0.158975</td>\n",
       "      <td>-0.075340</td>\n",
       "    </tr>\n",
       "    <tr>\n",
       "      <th>8</th>\n",
       "      <td>-0.29</td>\n",
       "      <td>0.639413</td>\n",
       "      <td>0.095676</td>\n",
       "      <td>-0.028388</td>\n",
       "    </tr>\n",
       "    <tr>\n",
       "      <th>9</th>\n",
       "      <td>1.69</td>\n",
       "      <td>0.356258</td>\n",
       "      <td>-0.027652</td>\n",
       "      <td>0.052007</td>\n",
       "    </tr>\n",
       "    <tr>\n",
       "      <th>10</th>\n",
       "      <td>2.81</td>\n",
       "      <td>0.032340</td>\n",
       "      <td>-0.051480</td>\n",
       "      <td>0.025051</td>\n",
       "    </tr>\n",
       "    <tr>\n",
       "      <th>11</th>\n",
       "      <td>0.38</td>\n",
       "      <td>1.192843</td>\n",
       "      <td>0.059972</td>\n",
       "      <td>0.031085</td>\n",
       "    </tr>\n",
       "    <tr>\n",
       "      <th>12</th>\n",
       "      <td>2.11</td>\n",
       "      <td>0.230801</td>\n",
       "      <td>0.019377</td>\n",
       "      <td>-0.075404</td>\n",
       "    </tr>\n",
       "    <tr>\n",
       "      <th>13</th>\n",
       "      <td>0.81</td>\n",
       "      <td>-0.287371</td>\n",
       "      <td>0.061584</td>\n",
       "      <td>-0.018439</td>\n",
       "    </tr>\n",
       "    <tr>\n",
       "      <th>14</th>\n",
       "      <td>1.68</td>\n",
       "      <td>-0.059204</td>\n",
       "      <td>0.004643</td>\n",
       "      <td>-0.054009</td>\n",
       "    </tr>\n",
       "    <tr>\n",
       "      <th>15</th>\n",
       "      <td>0.95</td>\n",
       "      <td>-0.308801</td>\n",
       "      <td>-0.039439</td>\n",
       "      <td>0.049949</td>\n",
       "    </tr>\n",
       "    <tr>\n",
       "      <th>16</th>\n",
       "      <td>1.93</td>\n",
       "      <td>-0.369288</td>\n",
       "      <td>-0.024795</td>\n",
       "      <td>-0.003787</td>\n",
       "    </tr>\n",
       "    <tr>\n",
       "      <th>17</th>\n",
       "      <td>1.35</td>\n",
       "      <td>-0.324388</td>\n",
       "      <td>-0.065684</td>\n",
       "      <td>0.044647</td>\n",
       "    </tr>\n",
       "    <tr>\n",
       "      <th>18</th>\n",
       "      <td>2.30</td>\n",
       "      <td>-0.320831</td>\n",
       "      <td>-0.067382</td>\n",
       "      <td>0.040522</td>\n",
       "    </tr>\n",
       "    <tr>\n",
       "      <th>19</th>\n",
       "      <td>0.05</td>\n",
       "      <td>-0.375521</td>\n",
       "      <td>-0.015324</td>\n",
       "      <td>-0.005858</td>\n",
       "    </tr>\n",
       "    <tr>\n",
       "      <th>20</th>\n",
       "      <td>-0.35</td>\n",
       "      <td>-0.369962</td>\n",
       "      <td>0.028524</td>\n",
       "      <td>-0.005446</td>\n",
       "    </tr>\n",
       "    <tr>\n",
       "      <th>21</th>\n",
       "      <td>0.12</td>\n",
       "      <td>0.911413</td>\n",
       "      <td>0.072180</td>\n",
       "      <td>-0.037270</td>\n",
       "    </tr>\n",
       "    <tr>\n",
       "      <th>22</th>\n",
       "      <td>2.65</td>\n",
       "      <td>1.651980</td>\n",
       "      <td>0.006709</td>\n",
       "      <td>-0.037892</td>\n",
       "    </tr>\n",
       "    <tr>\n",
       "      <th>23</th>\n",
       "      <td>0.55</td>\n",
       "      <td>-0.530595</td>\n",
       "      <td>0.060605</td>\n",
       "      <td>-0.075532</td>\n",
       "    </tr>\n",
       "    <tr>\n",
       "      <th>24</th>\n",
       "      <td>-0.51</td>\n",
       "      <td>-0.638333</td>\n",
       "      <td>-0.101026</td>\n",
       "      <td>0.042057</td>\n",
       "    </tr>\n",
       "    <tr>\n",
       "      <th>25</th>\n",
       "      <td>0.48</td>\n",
       "      <td>-0.150000</td>\n",
       "      <td>0.032213</td>\n",
       "      <td>-0.043840</td>\n",
       "    </tr>\n",
       "    <tr>\n",
       "      <th>26</th>\n",
       "      <td>-4.35</td>\n",
       "      <td>0.491035</td>\n",
       "      <td>-0.115033</td>\n",
       "      <td>0.090165</td>\n",
       "    </tr>\n",
       "    <tr>\n",
       "      <th>27</th>\n",
       "      <td>-2.55</td>\n",
       "      <td>0.497468</td>\n",
       "      <td>0.046914</td>\n",
       "      <td>-0.001949</td>\n",
       "    </tr>\n",
       "    <tr>\n",
       "      <th>28</th>\n",
       "      <td>-1.21</td>\n",
       "      <td>-0.232037</td>\n",
       "      <td>0.061629</td>\n",
       "      <td>-0.009457</td>\n",
       "    </tr>\n",
       "    <tr>\n",
       "      <th>29</th>\n",
       "      <td>0.18</td>\n",
       "      <td>-0.620070</td>\n",
       "      <td>0.004693</td>\n",
       "      <td>0.053554</td>\n",
       "    </tr>\n",
       "  </tbody>\n",
       "</table>\n",
       "</div>"
      ],
      "text/plain": [
       "    ipca      covid      ibov       usd\n",
       "0  -1.02  27.603960  0.102520  0.027365\n",
       "1   0.89   3.047248  0.085671 -0.000469\n",
       "2   1.23   0.300663  0.087560  0.013090\n",
       "3   0.78   0.082457  0.082646 -0.045945\n",
       "4   0.13  -0.123648 -0.034427  0.045810\n",
       "5   0.23  -0.221259 -0.047963  0.044620\n",
       "6   0.41  -0.292803 -0.006881  0.026161\n",
       "7   2.04  -0.163310  0.158975 -0.075340\n",
       "8  -0.29   0.639413  0.095676 -0.028388\n",
       "9   1.69   0.356258 -0.027652  0.052007\n",
       "10  2.81   0.032340 -0.051480  0.025051\n",
       "11  0.38   1.192843  0.059972  0.031085\n",
       "12  2.11   0.230801  0.019377 -0.075404\n",
       "13  0.81  -0.287371  0.061584 -0.018439\n",
       "14  1.68  -0.059204  0.004643 -0.054009\n",
       "15  0.95  -0.308801 -0.039439  0.049949\n",
       "16  1.93  -0.369288 -0.024795 -0.003787\n",
       "17  1.35  -0.324388 -0.065684  0.044647\n",
       "18  2.30  -0.320831 -0.067382  0.040522\n",
       "19  0.05  -0.375521 -0.015324 -0.005858\n",
       "20 -0.35  -0.369962  0.028524 -0.005446\n",
       "21  0.12   0.911413  0.072180 -0.037270\n",
       "22  2.65   1.651980  0.006709 -0.037892\n",
       "23  0.55  -0.530595  0.060605 -0.075532\n",
       "24 -0.51  -0.638333 -0.101026  0.042057\n",
       "25  0.48  -0.150000  0.032213 -0.043840\n",
       "26 -4.35   0.491035 -0.115033  0.090165\n",
       "27 -2.55   0.497468  0.046914 -0.001949\n",
       "28 -1.21  -0.232037  0.061629 -0.009457\n",
       "29  0.18  -0.620070  0.004693  0.053554"
      ]
     },
     "execution_count": 66,
     "metadata": {},
     "output_type": "execute_result"
    }
   ],
   "source": [
    "pd.DataFrame({\n",
    "    \"ipca\": [row for row in ipca[\"valor\"]],\n",
    "    \"covid\": [row for row in months[\"deaths_var\"][2:-2]],\n",
    "    \"ibov\": [row for row in ibov[\"Close\"][1:-2]],\n",
    "    \"usd\": [row for row in usd[\"Close\"][1:-1]]\n",
    "    \n",
    "})"
   ]
  },
  {
   "cell_type": "code",
   "execution_count": 67,
   "id": "ab0cb557",
   "metadata": {},
   "outputs": [],
   "source": [
    "corr_df = pd.DataFrame({\n",
    "    \"ipca\": [row for row in ipca[\"valor\"]],\n",
    "    \"covid\": [row for row in months[\"deaths_var\"][2:-2]],\n",
    "    \"ibov\": [row for row in ibov[\"Close\"][1:-2]],\n",
    "    \"usd\": [row for row in usd[\"Close\"][1:-1]]\n",
    "    \n",
    "})"
   ]
  },
  {
   "cell_type": "code",
   "execution_count": 68,
   "id": "e5363c47",
   "metadata": {},
   "outputs": [
    {
     "data": {
      "text/html": [
       "<div>\n",
       "<style scoped>\n",
       "    .dataframe tbody tr th:only-of-type {\n",
       "        vertical-align: middle;\n",
       "    }\n",
       "\n",
       "    .dataframe tbody tr th {\n",
       "        vertical-align: top;\n",
       "    }\n",
       "\n",
       "    .dataframe thead th {\n",
       "        text-align: right;\n",
       "    }\n",
       "</style>\n",
       "<table border=\"1\" class=\"dataframe\">\n",
       "  <thead>\n",
       "    <tr style=\"text-align: right;\">\n",
       "      <th></th>\n",
       "      <th>ipca</th>\n",
       "      <th>covid</th>\n",
       "      <th>ibov</th>\n",
       "      <th>usd</th>\n",
       "    </tr>\n",
       "  </thead>\n",
       "  <tbody>\n",
       "    <tr>\n",
       "      <th>ipca</th>\n",
       "      <td>1.000000</td>\n",
       "      <td>-0.187565</td>\n",
       "      <td>0.069953</td>\n",
       "      <td>-0.338606</td>\n",
       "    </tr>\n",
       "    <tr>\n",
       "      <th>covid</th>\n",
       "      <td>-0.187565</td>\n",
       "      <td>1.000000</td>\n",
       "      <td>0.292992</td>\n",
       "      <td>0.092094</td>\n",
       "    </tr>\n",
       "    <tr>\n",
       "      <th>ibov</th>\n",
       "      <td>0.069953</td>\n",
       "      <td>0.292992</td>\n",
       "      <td>1.000000</td>\n",
       "      <td>-0.648904</td>\n",
       "    </tr>\n",
       "    <tr>\n",
       "      <th>usd</th>\n",
       "      <td>-0.338606</td>\n",
       "      <td>0.092094</td>\n",
       "      <td>-0.648904</td>\n",
       "      <td>1.000000</td>\n",
       "    </tr>\n",
       "  </tbody>\n",
       "</table>\n",
       "</div>"
      ],
      "text/plain": [
       "           ipca     covid      ibov       usd\n",
       "ipca   1.000000 -0.187565  0.069953 -0.338606\n",
       "covid -0.187565  1.000000  0.292992  0.092094\n",
       "ibov   0.069953  0.292992  1.000000 -0.648904\n",
       "usd   -0.338606  0.092094 -0.648904  1.000000"
      ]
     },
     "execution_count": 68,
     "metadata": {},
     "output_type": "execute_result"
    }
   ],
   "source": [
    "corr_df.corr()"
   ]
  }
 ],
 "metadata": {
  "kernelspec": {
   "display_name": "Python 3.10.8 64-bit",
   "language": "python",
   "name": "python3"
  },
  "language_info": {
   "codemirror_mode": {
    "name": "ipython",
    "version": 3
   },
   "file_extension": ".py",
   "mimetype": "text/x-python",
   "name": "python",
   "nbconvert_exporter": "python",
   "pygments_lexer": "ipython3",
   "version": "3.10.8"
  },
  "vscode": {
   "interpreter": {
    "hash": "479a612002619efeaede023ca7692c2d29642ea615c064262f25205b1aac33b3"
   }
  }
 },
 "nbformat": 4,
 "nbformat_minor": 5
}
