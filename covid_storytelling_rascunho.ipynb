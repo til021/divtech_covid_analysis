{
 "cells": [
  {
   "cell_type": "code",
   "execution_count": 2,
   "id": "63199c64",
   "metadata": {},
   "outputs": [],
   "source": [
    "import pandas as pd\n",
    "import numpy as np\n",
    "import requests\n",
    "import yfinance as yf\n",
    "from dash import Dash, html, dcc, Input, Output\n",
    "import plotly.express as px\n",
    "import plotly.graph_objects as go\n",
    "from plotly.offline import iplot\n",
    "from plotly.subplots import make_subplots\n",
    "from mlxtend.preprocessing import minmax_scaling"
   ]
  },
  {
   "cell_type": "code",
   "execution_count": 3,
   "id": "e12bf05c",
   "metadata": {},
   "outputs": [
    {
     "data": {
      "text/plain": [
       "<Response [200]>"
      ]
     },
     "execution_count": 3,
     "metadata": {},
     "output_type": "execute_result"
    }
   ],
   "source": [
    "response = requests.get(\"https://raw.githubusercontent.com/wcota/covid19br/master/cases-brazil-states.csv\")\n"
   ]
  },
  {
   "cell_type": "code",
   "execution_count": 4,
   "id": "fe3e9ae5",
   "metadata": {},
   "outputs": [],
   "source": [
    "# Criando o dataframe:\n",
    "response = response.content.decode(\"utf-8\")\n",
    "result = [x.split(',') for x in response.split('\\n')]\n",
    "df = pd.DataFrame(result[1:], columns= result[0])"
   ]
  },
  {
   "cell_type": "code",
   "execution_count": 5,
   "id": "56457471",
   "metadata": {},
   "outputs": [],
   "source": [
    "# Substituindo os valores vazios por 0:\n",
    "df = df.replace(\"\", 0, regex=True)"
   ]
  },
  {
   "cell_type": "code",
   "execution_count": 6,
   "id": "bce9aa62",
   "metadata": {},
   "outputs": [],
   "source": [
    "#  Removendo colunas com valores constantes:\n",
    "df.drop([\"country\", \"city\"], axis=1, inplace=True)\n",
    "df = df[:-1]"
   ]
  },
  {
   "cell_type": "code",
   "execution_count": 7,
   "id": "7c7b73b6",
   "metadata": {},
   "outputs": [],
   "source": [
    "# Transformando a coluna de data para o formato apropriado:\n",
    "df[\"date\"] = pd.to_datetime(df[\"date\"], format=\"%Y-%m-%d\")"
   ]
  },
  {
   "cell_type": "code",
   "execution_count": 8,
   "id": "50911cdb",
   "metadata": {},
   "outputs": [],
   "source": [
    "# Como a maioria das colunas está em um formato numérico, vamos converter elas para float:\n",
    "for column in df.columns:\n",
    "    try:\n",
    "        df[column] = df[column].astype(float)\n",
    "    except:\n",
    "        continue"
   ]
  },
  {
   "cell_type": "code",
   "execution_count": 9,
   "id": "5e3be9b6",
   "metadata": {},
   "outputs": [
    {
     "name": "stderr",
     "output_type": "stream",
     "text": [
      "C:\\Users\\Giga\\AppData\\Local\\Temp\\ipykernel_12656\\725959677.py:6: SettingWithCopyWarning:\n",
      "\n",
      "\n",
      "A value is trying to be set on a copy of a slice from a DataFrame\n",
      "\n",
      "See the caveats in the documentation: https://pandas.pydata.org/pandas-docs/stable/user_guide/indexing.html#returning-a-view-versus-a-copy\n",
      "\n",
      "C:\\Users\\Giga\\AppData\\Local\\Temp\\ipykernel_12656\\725959677.py:4: SettingWithCopyWarning:\n",
      "\n",
      "\n",
      "A value is trying to be set on a copy of a slice from a DataFrame\n",
      "\n",
      "See the caveats in the documentation: https://pandas.pydata.org/pandas-docs/stable/user_guide/indexing.html#returning-a-view-versus-a-copy\n",
      "\n"
     ]
    }
   ],
   "source": [
    "# Colocando as semanas epidemiológicas na ordem direta:\n",
    "for row in df.index:\n",
    "    if df[\"epi_week\"][row] > 200:\n",
    "        df[\"epi_week\"][row] = (df[\"epi_week\"][row]-200+105)\n",
    "    elif df[\"epi_week\"][row] > 100:\n",
    "        df[\"epi_week\"][row] = (df[\"epi_week\"][row]-100+53)\n",
    "        \n",
    "# Acabei nem usando isso aqui"
   ]
  },
  {
   "cell_type": "code",
   "execution_count": 10,
   "id": "2c7a92e7",
   "metadata": {},
   "outputs": [],
   "source": [
    "# Separando os dados a nível nacional:\n",
    "df_total = df[df[\"state\"]==\"TOTAL\"]"
   ]
  },
  {
   "cell_type": "code",
   "execution_count": 11,
   "id": "419a15aa",
   "metadata": {},
   "outputs": [],
   "source": [
    "# Criando um sub-dataframe para análise de variações de novos casos:\n",
    "days = pd.DataFrame({\n",
    "    \"newDeaths\": [row for row in df_total[\"newDeaths\"]],\n",
    "    \"newCases\" : [row for row in df_total[\"newCases\"]],\n",
    "    \"date\"     : [row for row in df_total[\"date\"]],\n",
    "    \"suspects\" : [row for row in df_total[\"suspects\"]],\n",
    "    \"vaccinated\" : [row for row in df_total[\"vaccinated\"]]\n",
    "    \n",
    "})"
   ]
  },
  {
   "cell_type": "code",
   "execution_count": 12,
   "id": "3cefb558",
   "metadata": {},
   "outputs": [
    {
     "data": {
      "text/html": [
       "<div>\n",
       "<style scoped>\n",
       "    .dataframe tbody tr th:only-of-type {\n",
       "        vertical-align: middle;\n",
       "    }\n",
       "\n",
       "    .dataframe tbody tr th {\n",
       "        vertical-align: top;\n",
       "    }\n",
       "\n",
       "    .dataframe thead th {\n",
       "        text-align: right;\n",
       "    }\n",
       "</style>\n",
       "<table border=\"1\" class=\"dataframe\">\n",
       "  <thead>\n",
       "    <tr style=\"text-align: right;\">\n",
       "      <th></th>\n",
       "      <th>newDeaths</th>\n",
       "      <th>newCases</th>\n",
       "      <th>suspects</th>\n",
       "      <th>vaccinated</th>\n",
       "    </tr>\n",
       "    <tr>\n",
       "      <th>date</th>\n",
       "      <th></th>\n",
       "      <th></th>\n",
       "      <th></th>\n",
       "      <th></th>\n",
       "    </tr>\n",
       "  </thead>\n",
       "  <tbody>\n",
       "    <tr>\n",
       "      <th>2020-02-29</th>\n",
       "      <td>0.0</td>\n",
       "      <td>2.0</td>\n",
       "      <td>0.0</td>\n",
       "      <td>0.0</td>\n",
       "    </tr>\n",
       "    <tr>\n",
       "      <th>2020-03-31</th>\n",
       "      <td>202.0</td>\n",
       "      <td>5822.0</td>\n",
       "      <td>398135.0</td>\n",
       "      <td>0.0</td>\n",
       "    </tr>\n",
       "    <tr>\n",
       "      <th>2020-04-30</th>\n",
       "      <td>5778.0</td>\n",
       "      <td>81297.0</td>\n",
       "      <td>3979439.0</td>\n",
       "      <td>0.0</td>\n",
       "    </tr>\n",
       "    <tr>\n",
       "      <th>2020-05-31</th>\n",
       "      <td>23385.0</td>\n",
       "      <td>428975.0</td>\n",
       "      <td>10400746.0</td>\n",
       "      <td>0.0</td>\n",
       "    </tr>\n",
       "    <tr>\n",
       "      <th>2020-06-30</th>\n",
       "      <td>30416.0</td>\n",
       "      <td>896462.0</td>\n",
       "      <td>19133899.0</td>\n",
       "      <td>0.0</td>\n",
       "    </tr>\n",
       "  </tbody>\n",
       "</table>\n",
       "</div>"
      ],
      "text/plain": [
       "            newDeaths  newCases    suspects  vaccinated\n",
       "date                                                   \n",
       "2020-02-29        0.0       2.0         0.0         0.0\n",
       "2020-03-31      202.0    5822.0    398135.0         0.0\n",
       "2020-04-30     5778.0   81297.0   3979439.0         0.0\n",
       "2020-05-31    23385.0  428975.0  10400746.0         0.0\n",
       "2020-06-30    30416.0  896462.0  19133899.0         0.0"
      ]
     },
     "metadata": {},
     "output_type": "display_data"
    }
   ],
   "source": [
    "\"\"\"\n",
    "FUNÇÃO PARA FAZER A AGREGAÇÃO DE DADOS POR MÊS E POR SEMANA:\n",
    "\"\"\"\n",
    "months = days.set_index(\"date\").resample('M').sum()\n",
    "display(months.head())\n",
    "\n",
    "weeks = days.set_index(\"date\").resample('W').sum()\n",
    "\n",
    "\"\"\"\n",
    "Fazendo essa agregação não podemos trabalhar com colunas de valores agregados!!!! \n",
    "Por exemplo, a coluna 'deaths' soma diversas vezes a coluna 'newDeaths', \n",
    "e quando ela é agregada ela soma esses valores mais de uma vez!\n",
    "\n",
    "Isso gera um número absurdo de casos, além de dados errados!\n",
    "\n",
    "Recomendo usar as colunas newDeaths e newCases da base de dados original,\n",
    "as outras tem que ser avaliadas antes de serem usadas!!\n",
    "\"\"\";"
   ]
  },
  {
   "cell_type": "code",
   "execution_count": 13,
   "id": "895413d5",
   "metadata": {},
   "outputs": [],
   "source": [
    "\"\"\"\n",
    "Ao invés de usar resample poderiamos pensar em usar groupby, mas isso dificultaria - muito - a plotagem.\n",
    "\n",
    "Groupby com multy index:\n",
    "monthly_deaths = df_total.groupby([df_total.date.dt.year, df_total.date.dt.month])['newDeaths'].sum()\n",
    "\n",
    "Groupby com index resetado:\n",
    "monthly_deaths = df_total.groupby([df_total.date.dt.year, df_total.date.dt.month], as_index=False)['newDeaths'].sum()\n",
    "\n",
    "\n",
    "\"\"\";"
   ]
  },
  {
   "cell_type": "code",
   "execution_count": 14,
   "id": "8c6713e1",
   "metadata": {},
   "outputs": [
    {
     "data": {
      "text/html": [
       "<div>\n",
       "<style scoped>\n",
       "    .dataframe tbody tr th:only-of-type {\n",
       "        vertical-align: middle;\n",
       "    }\n",
       "\n",
       "    .dataframe tbody tr th {\n",
       "        vertical-align: top;\n",
       "    }\n",
       "\n",
       "    .dataframe thead th {\n",
       "        text-align: right;\n",
       "    }\n",
       "</style>\n",
       "<table border=\"1\" class=\"dataframe\">\n",
       "  <thead>\n",
       "    <tr style=\"text-align: right;\">\n",
       "      <th></th>\n",
       "      <th>newCases</th>\n",
       "      <th>newDeaths</th>\n",
       "      <th>suspects</th>\n",
       "      <th>vaccinated</th>\n",
       "    </tr>\n",
       "    <tr>\n",
       "      <th>date</th>\n",
       "      <th></th>\n",
       "      <th></th>\n",
       "      <th></th>\n",
       "      <th></th>\n",
       "    </tr>\n",
       "  </thead>\n",
       "  <tbody>\n",
       "    <tr>\n",
       "      <th>2020-02-29</th>\n",
       "      <td>0.000000</td>\n",
       "      <td>0.000000</td>\n",
       "      <td>0.000000</td>\n",
       "      <td>0.0</td>\n",
       "    </tr>\n",
       "    <tr>\n",
       "      <th>2020-03-31</th>\n",
       "      <td>0.001751</td>\n",
       "      <td>0.002453</td>\n",
       "      <td>0.001449</td>\n",
       "      <td>0.0</td>\n",
       "    </tr>\n",
       "    <tr>\n",
       "      <th>2020-04-30</th>\n",
       "      <td>0.024465</td>\n",
       "      <td>0.070152</td>\n",
       "      <td>0.014478</td>\n",
       "      <td>0.0</td>\n",
       "    </tr>\n",
       "    <tr>\n",
       "      <th>2020-05-31</th>\n",
       "      <td>0.129094</td>\n",
       "      <td>0.283923</td>\n",
       "      <td>0.037841</td>\n",
       "      <td>0.0</td>\n",
       "    </tr>\n",
       "    <tr>\n",
       "      <th>2020-06-30</th>\n",
       "      <td>0.269778</td>\n",
       "      <td>0.369288</td>\n",
       "      <td>0.069614</td>\n",
       "      <td>0.0</td>\n",
       "    </tr>\n",
       "  </tbody>\n",
       "</table>\n",
       "</div>"
      ],
      "text/plain": [
       "            newCases  newDeaths  suspects  vaccinated\n",
       "date                                                 \n",
       "2020-02-29  0.000000   0.000000  0.000000         0.0\n",
       "2020-03-31  0.001751   0.002453  0.001449         0.0\n",
       "2020-04-30  0.024465   0.070152  0.014478         0.0\n",
       "2020-05-31  0.129094   0.283923  0.037841         0.0\n",
       "2020-06-30  0.269778   0.369288  0.069614         0.0"
      ]
     },
     "execution_count": 14,
     "metadata": {},
     "output_type": "execute_result"
    }
   ],
   "source": [
    "# Reescalando os dados, facilitar a plotagem:\n",
    "scaled_months = minmax_scaling(months, columns = [\"newCases\",\"newDeaths\", \"suspects\",\"vaccinated\"])\n",
    "scaled_months.head()"
   ]
  },
  {
   "cell_type": "code",
   "execution_count": 15,
   "id": "46b757e7",
   "metadata": {},
   "outputs": [],
   "source": [
    "#cores nos plots\n",
    "colors = px.colors.qualitative.swatches()"
   ]
  },
  {
   "cell_type": "code",
   "execution_count": 25,
   "id": "e8d563d2",
   "metadata": {},
   "outputs": [
    {
     "data": {
      "application/vnd.plotly.v1+json": {
       "config": {
        "plotlyServerURL": "https://plot.ly"
       },
       "data": [
        {
         "hovertemplate": "Data=%{x}<br>Quantidade=%{y}<extra></extra>",
         "legendgroup": "",
         "line": {
          "color": "royalblue",
          "dash": "solid"
         },
         "marker": {
          "symbol": "circle"
         },
         "mode": "lines+markers",
         "name": "",
         "orientation": "v",
         "showlegend": false,
         "type": "scatter",
         "x": [
          "2020-02-29T00:00:00",
          "2020-03-31T00:00:00",
          "2020-04-30T00:00:00",
          "2020-05-31T00:00:00",
          "2020-06-30T00:00:00",
          "2020-07-31T00:00:00",
          "2020-08-31T00:00:00",
          "2020-09-30T00:00:00",
          "2020-10-31T00:00:00",
          "2020-11-30T00:00:00",
          "2020-12-31T00:00:00",
          "2021-01-31T00:00:00",
          "2021-02-28T00:00:00",
          "2021-03-31T00:00:00",
          "2021-04-30T00:00:00",
          "2021-05-31T00:00:00",
          "2021-06-30T00:00:00",
          "2021-07-31T00:00:00",
          "2021-08-31T00:00:00",
          "2021-09-30T00:00:00",
          "2021-10-31T00:00:00",
          "2021-11-30T00:00:00",
          "2021-12-31T00:00:00",
          "2022-01-31T00:00:00",
          "2022-02-28T00:00:00",
          "2022-03-31T00:00:00",
          "2022-04-30T00:00:00",
          "2022-05-31T00:00:00",
          "2022-06-30T00:00:00",
          "2022-07-31T00:00:00",
          "2022-08-31T00:00:00",
          "2022-09-30T00:00:00",
          "2022-10-31T00:00:00",
          "2022-11-30T00:00:00"
         ],
         "xaxis": "x",
         "y": [
          2,
          5822,
          81297,
          428975,
          896462,
          1257680,
          1243672,
          902811,
          720306,
          804116,
          1338939,
          1527224,
          1349314,
          2204981,
          1911396,
          1882511,
          2012110,
          1351564,
          862847,
          647083,
          382172,
          285485,
          191866,
          3181005,
          3322951,
          1155304,
          500341,
          570802,
          1338980,
          1475882,
          595953,
          242671,
          156225,
          79449
         ],
         "yaxis": "y"
        }
       ],
       "layout": {
        "font": {
         "color": "blue"
        },
        "legend": {
         "tracegroupgap": 0
        },
        "template": {
         "data": {
          "bar": [
           {
            "error_x": {
             "color": "#2a3f5f"
            },
            "error_y": {
             "color": "#2a3f5f"
            },
            "marker": {
             "line": {
              "color": "#E5ECF6",
              "width": 0.5
             },
             "pattern": {
              "fillmode": "overlay",
              "size": 10,
              "solidity": 0.2
             }
            },
            "type": "bar"
           }
          ],
          "barpolar": [
           {
            "marker": {
             "line": {
              "color": "#E5ECF6",
              "width": 0.5
             },
             "pattern": {
              "fillmode": "overlay",
              "size": 10,
              "solidity": 0.2
             }
            },
            "type": "barpolar"
           }
          ],
          "carpet": [
           {
            "aaxis": {
             "endlinecolor": "#2a3f5f",
             "gridcolor": "white",
             "linecolor": "white",
             "minorgridcolor": "white",
             "startlinecolor": "#2a3f5f"
            },
            "baxis": {
             "endlinecolor": "#2a3f5f",
             "gridcolor": "white",
             "linecolor": "white",
             "minorgridcolor": "white",
             "startlinecolor": "#2a3f5f"
            },
            "type": "carpet"
           }
          ],
          "choropleth": [
           {
            "colorbar": {
             "outlinewidth": 0,
             "ticks": ""
            },
            "type": "choropleth"
           }
          ],
          "contour": [
           {
            "colorbar": {
             "outlinewidth": 0,
             "ticks": ""
            },
            "colorscale": [
             [
              0,
              "#0d0887"
             ],
             [
              0.1111111111111111,
              "#46039f"
             ],
             [
              0.2222222222222222,
              "#7201a8"
             ],
             [
              0.3333333333333333,
              "#9c179e"
             ],
             [
              0.4444444444444444,
              "#bd3786"
             ],
             [
              0.5555555555555556,
              "#d8576b"
             ],
             [
              0.6666666666666666,
              "#ed7953"
             ],
             [
              0.7777777777777778,
              "#fb9f3a"
             ],
             [
              0.8888888888888888,
              "#fdca26"
             ],
             [
              1,
              "#f0f921"
             ]
            ],
            "type": "contour"
           }
          ],
          "contourcarpet": [
           {
            "colorbar": {
             "outlinewidth": 0,
             "ticks": ""
            },
            "type": "contourcarpet"
           }
          ],
          "heatmap": [
           {
            "colorbar": {
             "outlinewidth": 0,
             "ticks": ""
            },
            "colorscale": [
             [
              0,
              "#0d0887"
             ],
             [
              0.1111111111111111,
              "#46039f"
             ],
             [
              0.2222222222222222,
              "#7201a8"
             ],
             [
              0.3333333333333333,
              "#9c179e"
             ],
             [
              0.4444444444444444,
              "#bd3786"
             ],
             [
              0.5555555555555556,
              "#d8576b"
             ],
             [
              0.6666666666666666,
              "#ed7953"
             ],
             [
              0.7777777777777778,
              "#fb9f3a"
             ],
             [
              0.8888888888888888,
              "#fdca26"
             ],
             [
              1,
              "#f0f921"
             ]
            ],
            "type": "heatmap"
           }
          ],
          "heatmapgl": [
           {
            "colorbar": {
             "outlinewidth": 0,
             "ticks": ""
            },
            "colorscale": [
             [
              0,
              "#0d0887"
             ],
             [
              0.1111111111111111,
              "#46039f"
             ],
             [
              0.2222222222222222,
              "#7201a8"
             ],
             [
              0.3333333333333333,
              "#9c179e"
             ],
             [
              0.4444444444444444,
              "#bd3786"
             ],
             [
              0.5555555555555556,
              "#d8576b"
             ],
             [
              0.6666666666666666,
              "#ed7953"
             ],
             [
              0.7777777777777778,
              "#fb9f3a"
             ],
             [
              0.8888888888888888,
              "#fdca26"
             ],
             [
              1,
              "#f0f921"
             ]
            ],
            "type": "heatmapgl"
           }
          ],
          "histogram": [
           {
            "marker": {
             "pattern": {
              "fillmode": "overlay",
              "size": 10,
              "solidity": 0.2
             }
            },
            "type": "histogram"
           }
          ],
          "histogram2d": [
           {
            "colorbar": {
             "outlinewidth": 0,
             "ticks": ""
            },
            "colorscale": [
             [
              0,
              "#0d0887"
             ],
             [
              0.1111111111111111,
              "#46039f"
             ],
             [
              0.2222222222222222,
              "#7201a8"
             ],
             [
              0.3333333333333333,
              "#9c179e"
             ],
             [
              0.4444444444444444,
              "#bd3786"
             ],
             [
              0.5555555555555556,
              "#d8576b"
             ],
             [
              0.6666666666666666,
              "#ed7953"
             ],
             [
              0.7777777777777778,
              "#fb9f3a"
             ],
             [
              0.8888888888888888,
              "#fdca26"
             ],
             [
              1,
              "#f0f921"
             ]
            ],
            "type": "histogram2d"
           }
          ],
          "histogram2dcontour": [
           {
            "colorbar": {
             "outlinewidth": 0,
             "ticks": ""
            },
            "colorscale": [
             [
              0,
              "#0d0887"
             ],
             [
              0.1111111111111111,
              "#46039f"
             ],
             [
              0.2222222222222222,
              "#7201a8"
             ],
             [
              0.3333333333333333,
              "#9c179e"
             ],
             [
              0.4444444444444444,
              "#bd3786"
             ],
             [
              0.5555555555555556,
              "#d8576b"
             ],
             [
              0.6666666666666666,
              "#ed7953"
             ],
             [
              0.7777777777777778,
              "#fb9f3a"
             ],
             [
              0.8888888888888888,
              "#fdca26"
             ],
             [
              1,
              "#f0f921"
             ]
            ],
            "type": "histogram2dcontour"
           }
          ],
          "mesh3d": [
           {
            "colorbar": {
             "outlinewidth": 0,
             "ticks": ""
            },
            "type": "mesh3d"
           }
          ],
          "parcoords": [
           {
            "line": {
             "colorbar": {
              "outlinewidth": 0,
              "ticks": ""
             }
            },
            "type": "parcoords"
           }
          ],
          "pie": [
           {
            "automargin": true,
            "type": "pie"
           }
          ],
          "scatter": [
           {
            "fillpattern": {
             "fillmode": "overlay",
             "size": 10,
             "solidity": 0.2
            },
            "type": "scatter"
           }
          ],
          "scatter3d": [
           {
            "line": {
             "colorbar": {
              "outlinewidth": 0,
              "ticks": ""
             }
            },
            "marker": {
             "colorbar": {
              "outlinewidth": 0,
              "ticks": ""
             }
            },
            "type": "scatter3d"
           }
          ],
          "scattercarpet": [
           {
            "marker": {
             "colorbar": {
              "outlinewidth": 0,
              "ticks": ""
             }
            },
            "type": "scattercarpet"
           }
          ],
          "scattergeo": [
           {
            "marker": {
             "colorbar": {
              "outlinewidth": 0,
              "ticks": ""
             }
            },
            "type": "scattergeo"
           }
          ],
          "scattergl": [
           {
            "marker": {
             "colorbar": {
              "outlinewidth": 0,
              "ticks": ""
             }
            },
            "type": "scattergl"
           }
          ],
          "scattermapbox": [
           {
            "marker": {
             "colorbar": {
              "outlinewidth": 0,
              "ticks": ""
             }
            },
            "type": "scattermapbox"
           }
          ],
          "scatterpolar": [
           {
            "marker": {
             "colorbar": {
              "outlinewidth": 0,
              "ticks": ""
             }
            },
            "type": "scatterpolar"
           }
          ],
          "scatterpolargl": [
           {
            "marker": {
             "colorbar": {
              "outlinewidth": 0,
              "ticks": ""
             }
            },
            "type": "scatterpolargl"
           }
          ],
          "scatterternary": [
           {
            "marker": {
             "colorbar": {
              "outlinewidth": 0,
              "ticks": ""
             }
            },
            "type": "scatterternary"
           }
          ],
          "surface": [
           {
            "colorbar": {
             "outlinewidth": 0,
             "ticks": ""
            },
            "colorscale": [
             [
              0,
              "#0d0887"
             ],
             [
              0.1111111111111111,
              "#46039f"
             ],
             [
              0.2222222222222222,
              "#7201a8"
             ],
             [
              0.3333333333333333,
              "#9c179e"
             ],
             [
              0.4444444444444444,
              "#bd3786"
             ],
             [
              0.5555555555555556,
              "#d8576b"
             ],
             [
              0.6666666666666666,
              "#ed7953"
             ],
             [
              0.7777777777777778,
              "#fb9f3a"
             ],
             [
              0.8888888888888888,
              "#fdca26"
             ],
             [
              1,
              "#f0f921"
             ]
            ],
            "type": "surface"
           }
          ],
          "table": [
           {
            "cells": {
             "fill": {
              "color": "#EBF0F8"
             },
             "line": {
              "color": "white"
             }
            },
            "header": {
             "fill": {
              "color": "#C8D4E3"
             },
             "line": {
              "color": "white"
             }
            },
            "type": "table"
           }
          ]
         },
         "layout": {
          "annotationdefaults": {
           "arrowcolor": "#2a3f5f",
           "arrowhead": 0,
           "arrowwidth": 1
          },
          "autotypenumbers": "strict",
          "coloraxis": {
           "colorbar": {
            "outlinewidth": 0,
            "ticks": ""
           }
          },
          "colorscale": {
           "diverging": [
            [
             0,
             "#8e0152"
            ],
            [
             0.1,
             "#c51b7d"
            ],
            [
             0.2,
             "#de77ae"
            ],
            [
             0.3,
             "#f1b6da"
            ],
            [
             0.4,
             "#fde0ef"
            ],
            [
             0.5,
             "#f7f7f7"
            ],
            [
             0.6,
             "#e6f5d0"
            ],
            [
             0.7,
             "#b8e186"
            ],
            [
             0.8,
             "#7fbc41"
            ],
            [
             0.9,
             "#4d9221"
            ],
            [
             1,
             "#276419"
            ]
           ],
           "sequential": [
            [
             0,
             "#0d0887"
            ],
            [
             0.1111111111111111,
             "#46039f"
            ],
            [
             0.2222222222222222,
             "#7201a8"
            ],
            [
             0.3333333333333333,
             "#9c179e"
            ],
            [
             0.4444444444444444,
             "#bd3786"
            ],
            [
             0.5555555555555556,
             "#d8576b"
            ],
            [
             0.6666666666666666,
             "#ed7953"
            ],
            [
             0.7777777777777778,
             "#fb9f3a"
            ],
            [
             0.8888888888888888,
             "#fdca26"
            ],
            [
             1,
             "#f0f921"
            ]
           ],
           "sequentialminus": [
            [
             0,
             "#0d0887"
            ],
            [
             0.1111111111111111,
             "#46039f"
            ],
            [
             0.2222222222222222,
             "#7201a8"
            ],
            [
             0.3333333333333333,
             "#9c179e"
            ],
            [
             0.4444444444444444,
             "#bd3786"
            ],
            [
             0.5555555555555556,
             "#d8576b"
            ],
            [
             0.6666666666666666,
             "#ed7953"
            ],
            [
             0.7777777777777778,
             "#fb9f3a"
            ],
            [
             0.8888888888888888,
             "#fdca26"
            ],
            [
             1,
             "#f0f921"
            ]
           ]
          },
          "colorway": [
           "#636efa",
           "#EF553B",
           "#00cc96",
           "#ab63fa",
           "#FFA15A",
           "#19d3f3",
           "#FF6692",
           "#B6E880",
           "#FF97FF",
           "#FECB52"
          ],
          "font": {
           "color": "#2a3f5f"
          },
          "geo": {
           "bgcolor": "white",
           "lakecolor": "white",
           "landcolor": "#E5ECF6",
           "showlakes": true,
           "showland": true,
           "subunitcolor": "white"
          },
          "hoverlabel": {
           "align": "left"
          },
          "hovermode": "closest",
          "mapbox": {
           "style": "light"
          },
          "paper_bgcolor": "white",
          "plot_bgcolor": "#E5ECF6",
          "polar": {
           "angularaxis": {
            "gridcolor": "white",
            "linecolor": "white",
            "ticks": ""
           },
           "bgcolor": "#E5ECF6",
           "radialaxis": {
            "gridcolor": "white",
            "linecolor": "white",
            "ticks": ""
           }
          },
          "scene": {
           "xaxis": {
            "backgroundcolor": "#E5ECF6",
            "gridcolor": "white",
            "gridwidth": 2,
            "linecolor": "white",
            "showbackground": true,
            "ticks": "",
            "zerolinecolor": "white"
           },
           "yaxis": {
            "backgroundcolor": "#E5ECF6",
            "gridcolor": "white",
            "gridwidth": 2,
            "linecolor": "white",
            "showbackground": true,
            "ticks": "",
            "zerolinecolor": "white"
           },
           "zaxis": {
            "backgroundcolor": "#E5ECF6",
            "gridcolor": "white",
            "gridwidth": 2,
            "linecolor": "white",
            "showbackground": true,
            "ticks": "",
            "zerolinecolor": "white"
           }
          },
          "shapedefaults": {
           "line": {
            "color": "#2a3f5f"
           }
          },
          "ternary": {
           "aaxis": {
            "gridcolor": "white",
            "linecolor": "white",
            "ticks": ""
           },
           "baxis": {
            "gridcolor": "white",
            "linecolor": "white",
            "ticks": ""
           },
           "bgcolor": "#E5ECF6",
           "caxis": {
            "gridcolor": "white",
            "linecolor": "white",
            "ticks": ""
           }
          },
          "title": {
           "x": 0.05
          },
          "xaxis": {
           "automargin": true,
           "gridcolor": "white",
           "linecolor": "white",
           "ticks": "",
           "title": {
            "standoff": 15
           },
           "zerolinecolor": "white",
           "zerolinewidth": 2
          },
          "yaxis": {
           "automargin": true,
           "gridcolor": "white",
           "linecolor": "white",
           "ticks": "",
           "title": {
            "standoff": 15
           },
           "zerolinecolor": "white",
           "zerolinewidth": 2
          }
         }
        },
        "title": {
         "font": {
          "color": "red",
          "size": 20
         },
         "text": "Infecções Divulgadas ao Mês",
         "x": 0.5
        },
        "xaxis": {
         "anchor": "y",
         "domain": [
          0,
          1
         ],
         "title": {
          "text": "Data"
         }
        },
        "yaxis": {
         "anchor": "x",
         "domain": [
          0,
          1
         ],
         "title": {
          "text": "Quantidade"
         }
        }
       }
      }
     },
     "metadata": {},
     "output_type": "display_data"
    }
   ],
   "source": [
    "fig_infec_mes = px.line(months, x=months.index, y=\"newCases\",\n",
    "               markers= True,\n",
    "               title='Infecções Divulgadas ao Mês',\n",
    "               labels = {\n",
    "                \"newCases\": \"Quantidade\",\n",
    "                \"date\": \"Data\"\n",
    "                },color_discrete_sequence=[\"royalblue\"])\n",
    "fig_infec_mes.update_layout(font_color='blue',\n",
    "                title_font_color='red',\n",
    "                title_font_size = 20,\n",
    "                title_x = 0.5)\n",
    "fig_infec_mes.show()"
   ]
  },
  {
   "cell_type": "code",
   "execution_count": 29,
   "id": "7f8b5ac0",
   "metadata": {},
   "outputs": [
    {
     "data": {
      "application/vnd.plotly.v1+json": {
       "config": {
        "plotlyServerURL": "https://plot.ly"
       },
       "data": [
        {
         "hovertemplate": "Data=%{x}<br>newDeaths=%{y}<extra></extra>",
         "legendgroup": "",
         "line": {
          "color": "red",
          "dash": "solid"
         },
         "marker": {
          "symbol": "circle"
         },
         "mode": "lines+markers",
         "name": "",
         "orientation": "v",
         "showlegend": false,
         "type": "scatter",
         "x": [
          "2020-02-29T00:00:00",
          "2020-03-31T00:00:00",
          "2020-04-30T00:00:00",
          "2020-05-31T00:00:00",
          "2020-06-30T00:00:00",
          "2020-07-31T00:00:00",
          "2020-08-31T00:00:00",
          "2020-09-30T00:00:00",
          "2020-10-31T00:00:00",
          "2020-11-30T00:00:00",
          "2020-12-31T00:00:00",
          "2021-01-31T00:00:00",
          "2021-02-28T00:00:00",
          "2021-03-31T00:00:00",
          "2021-04-30T00:00:00",
          "2021-05-31T00:00:00",
          "2021-06-30T00:00:00",
          "2021-07-31T00:00:00",
          "2021-08-31T00:00:00",
          "2021-09-30T00:00:00",
          "2021-10-31T00:00:00",
          "2021-11-30T00:00:00",
          "2021-12-31T00:00:00",
          "2022-01-31T00:00:00",
          "2022-02-28T00:00:00",
          "2022-03-31T00:00:00",
          "2022-04-30T00:00:00",
          "2022-05-31T00:00:00",
          "2022-06-30T00:00:00",
          "2022-07-31T00:00:00",
          "2022-08-31T00:00:00",
          "2022-09-30T00:00:00",
          "2022-10-31T00:00:00",
          "2022-11-30T00:00:00"
         ],
         "xaxis": "x",
         "y": [
          0,
          202,
          5778,
          23385,
          30416,
          32924,
          28853,
          22469,
          15890,
          13295,
          21796,
          29561,
          30517,
          66919,
          82364,
          58695,
          55220,
          38168,
          24073,
          16264,
          11046,
          6898,
          4346,
          8307,
          22030,
          10341,
          3740,
          3179,
          4740,
          7098,
          5451,
          2071,
          2121,
          499
         ],
         "yaxis": "y"
        }
       ],
       "layout": {
        "font": {
         "color": "red"
        },
        "legend": {
         "tracegroupgap": 0
        },
        "template": {
         "data": {
          "bar": [
           {
            "error_x": {
             "color": "#2a3f5f"
            },
            "error_y": {
             "color": "#2a3f5f"
            },
            "marker": {
             "line": {
              "color": "#E5ECF6",
              "width": 0.5
             },
             "pattern": {
              "fillmode": "overlay",
              "size": 10,
              "solidity": 0.2
             }
            },
            "type": "bar"
           }
          ],
          "barpolar": [
           {
            "marker": {
             "line": {
              "color": "#E5ECF6",
              "width": 0.5
             },
             "pattern": {
              "fillmode": "overlay",
              "size": 10,
              "solidity": 0.2
             }
            },
            "type": "barpolar"
           }
          ],
          "carpet": [
           {
            "aaxis": {
             "endlinecolor": "#2a3f5f",
             "gridcolor": "white",
             "linecolor": "white",
             "minorgridcolor": "white",
             "startlinecolor": "#2a3f5f"
            },
            "baxis": {
             "endlinecolor": "#2a3f5f",
             "gridcolor": "white",
             "linecolor": "white",
             "minorgridcolor": "white",
             "startlinecolor": "#2a3f5f"
            },
            "type": "carpet"
           }
          ],
          "choropleth": [
           {
            "colorbar": {
             "outlinewidth": 0,
             "ticks": ""
            },
            "type": "choropleth"
           }
          ],
          "contour": [
           {
            "colorbar": {
             "outlinewidth": 0,
             "ticks": ""
            },
            "colorscale": [
             [
              0,
              "#0d0887"
             ],
             [
              0.1111111111111111,
              "#46039f"
             ],
             [
              0.2222222222222222,
              "#7201a8"
             ],
             [
              0.3333333333333333,
              "#9c179e"
             ],
             [
              0.4444444444444444,
              "#bd3786"
             ],
             [
              0.5555555555555556,
              "#d8576b"
             ],
             [
              0.6666666666666666,
              "#ed7953"
             ],
             [
              0.7777777777777778,
              "#fb9f3a"
             ],
             [
              0.8888888888888888,
              "#fdca26"
             ],
             [
              1,
              "#f0f921"
             ]
            ],
            "type": "contour"
           }
          ],
          "contourcarpet": [
           {
            "colorbar": {
             "outlinewidth": 0,
             "ticks": ""
            },
            "type": "contourcarpet"
           }
          ],
          "heatmap": [
           {
            "colorbar": {
             "outlinewidth": 0,
             "ticks": ""
            },
            "colorscale": [
             [
              0,
              "#0d0887"
             ],
             [
              0.1111111111111111,
              "#46039f"
             ],
             [
              0.2222222222222222,
              "#7201a8"
             ],
             [
              0.3333333333333333,
              "#9c179e"
             ],
             [
              0.4444444444444444,
              "#bd3786"
             ],
             [
              0.5555555555555556,
              "#d8576b"
             ],
             [
              0.6666666666666666,
              "#ed7953"
             ],
             [
              0.7777777777777778,
              "#fb9f3a"
             ],
             [
              0.8888888888888888,
              "#fdca26"
             ],
             [
              1,
              "#f0f921"
             ]
            ],
            "type": "heatmap"
           }
          ],
          "heatmapgl": [
           {
            "colorbar": {
             "outlinewidth": 0,
             "ticks": ""
            },
            "colorscale": [
             [
              0,
              "#0d0887"
             ],
             [
              0.1111111111111111,
              "#46039f"
             ],
             [
              0.2222222222222222,
              "#7201a8"
             ],
             [
              0.3333333333333333,
              "#9c179e"
             ],
             [
              0.4444444444444444,
              "#bd3786"
             ],
             [
              0.5555555555555556,
              "#d8576b"
             ],
             [
              0.6666666666666666,
              "#ed7953"
             ],
             [
              0.7777777777777778,
              "#fb9f3a"
             ],
             [
              0.8888888888888888,
              "#fdca26"
             ],
             [
              1,
              "#f0f921"
             ]
            ],
            "type": "heatmapgl"
           }
          ],
          "histogram": [
           {
            "marker": {
             "pattern": {
              "fillmode": "overlay",
              "size": 10,
              "solidity": 0.2
             }
            },
            "type": "histogram"
           }
          ],
          "histogram2d": [
           {
            "colorbar": {
             "outlinewidth": 0,
             "ticks": ""
            },
            "colorscale": [
             [
              0,
              "#0d0887"
             ],
             [
              0.1111111111111111,
              "#46039f"
             ],
             [
              0.2222222222222222,
              "#7201a8"
             ],
             [
              0.3333333333333333,
              "#9c179e"
             ],
             [
              0.4444444444444444,
              "#bd3786"
             ],
             [
              0.5555555555555556,
              "#d8576b"
             ],
             [
              0.6666666666666666,
              "#ed7953"
             ],
             [
              0.7777777777777778,
              "#fb9f3a"
             ],
             [
              0.8888888888888888,
              "#fdca26"
             ],
             [
              1,
              "#f0f921"
             ]
            ],
            "type": "histogram2d"
           }
          ],
          "histogram2dcontour": [
           {
            "colorbar": {
             "outlinewidth": 0,
             "ticks": ""
            },
            "colorscale": [
             [
              0,
              "#0d0887"
             ],
             [
              0.1111111111111111,
              "#46039f"
             ],
             [
              0.2222222222222222,
              "#7201a8"
             ],
             [
              0.3333333333333333,
              "#9c179e"
             ],
             [
              0.4444444444444444,
              "#bd3786"
             ],
             [
              0.5555555555555556,
              "#d8576b"
             ],
             [
              0.6666666666666666,
              "#ed7953"
             ],
             [
              0.7777777777777778,
              "#fb9f3a"
             ],
             [
              0.8888888888888888,
              "#fdca26"
             ],
             [
              1,
              "#f0f921"
             ]
            ],
            "type": "histogram2dcontour"
           }
          ],
          "mesh3d": [
           {
            "colorbar": {
             "outlinewidth": 0,
             "ticks": ""
            },
            "type": "mesh3d"
           }
          ],
          "parcoords": [
           {
            "line": {
             "colorbar": {
              "outlinewidth": 0,
              "ticks": ""
             }
            },
            "type": "parcoords"
           }
          ],
          "pie": [
           {
            "automargin": true,
            "type": "pie"
           }
          ],
          "scatter": [
           {
            "fillpattern": {
             "fillmode": "overlay",
             "size": 10,
             "solidity": 0.2
            },
            "type": "scatter"
           }
          ],
          "scatter3d": [
           {
            "line": {
             "colorbar": {
              "outlinewidth": 0,
              "ticks": ""
             }
            },
            "marker": {
             "colorbar": {
              "outlinewidth": 0,
              "ticks": ""
             }
            },
            "type": "scatter3d"
           }
          ],
          "scattercarpet": [
           {
            "marker": {
             "colorbar": {
              "outlinewidth": 0,
              "ticks": ""
             }
            },
            "type": "scattercarpet"
           }
          ],
          "scattergeo": [
           {
            "marker": {
             "colorbar": {
              "outlinewidth": 0,
              "ticks": ""
             }
            },
            "type": "scattergeo"
           }
          ],
          "scattergl": [
           {
            "marker": {
             "colorbar": {
              "outlinewidth": 0,
              "ticks": ""
             }
            },
            "type": "scattergl"
           }
          ],
          "scattermapbox": [
           {
            "marker": {
             "colorbar": {
              "outlinewidth": 0,
              "ticks": ""
             }
            },
            "type": "scattermapbox"
           }
          ],
          "scatterpolar": [
           {
            "marker": {
             "colorbar": {
              "outlinewidth": 0,
              "ticks": ""
             }
            },
            "type": "scatterpolar"
           }
          ],
          "scatterpolargl": [
           {
            "marker": {
             "colorbar": {
              "outlinewidth": 0,
              "ticks": ""
             }
            },
            "type": "scatterpolargl"
           }
          ],
          "scatterternary": [
           {
            "marker": {
             "colorbar": {
              "outlinewidth": 0,
              "ticks": ""
             }
            },
            "type": "scatterternary"
           }
          ],
          "surface": [
           {
            "colorbar": {
             "outlinewidth": 0,
             "ticks": ""
            },
            "colorscale": [
             [
              0,
              "#0d0887"
             ],
             [
              0.1111111111111111,
              "#46039f"
             ],
             [
              0.2222222222222222,
              "#7201a8"
             ],
             [
              0.3333333333333333,
              "#9c179e"
             ],
             [
              0.4444444444444444,
              "#bd3786"
             ],
             [
              0.5555555555555556,
              "#d8576b"
             ],
             [
              0.6666666666666666,
              "#ed7953"
             ],
             [
              0.7777777777777778,
              "#fb9f3a"
             ],
             [
              0.8888888888888888,
              "#fdca26"
             ],
             [
              1,
              "#f0f921"
             ]
            ],
            "type": "surface"
           }
          ],
          "table": [
           {
            "cells": {
             "fill": {
              "color": "#EBF0F8"
             },
             "line": {
              "color": "white"
             }
            },
            "header": {
             "fill": {
              "color": "#C8D4E3"
             },
             "line": {
              "color": "white"
             }
            },
            "type": "table"
           }
          ]
         },
         "layout": {
          "annotationdefaults": {
           "arrowcolor": "#2a3f5f",
           "arrowhead": 0,
           "arrowwidth": 1
          },
          "autotypenumbers": "strict",
          "coloraxis": {
           "colorbar": {
            "outlinewidth": 0,
            "ticks": ""
           }
          },
          "colorscale": {
           "diverging": [
            [
             0,
             "#8e0152"
            ],
            [
             0.1,
             "#c51b7d"
            ],
            [
             0.2,
             "#de77ae"
            ],
            [
             0.3,
             "#f1b6da"
            ],
            [
             0.4,
             "#fde0ef"
            ],
            [
             0.5,
             "#f7f7f7"
            ],
            [
             0.6,
             "#e6f5d0"
            ],
            [
             0.7,
             "#b8e186"
            ],
            [
             0.8,
             "#7fbc41"
            ],
            [
             0.9,
             "#4d9221"
            ],
            [
             1,
             "#276419"
            ]
           ],
           "sequential": [
            [
             0,
             "#0d0887"
            ],
            [
             0.1111111111111111,
             "#46039f"
            ],
            [
             0.2222222222222222,
             "#7201a8"
            ],
            [
             0.3333333333333333,
             "#9c179e"
            ],
            [
             0.4444444444444444,
             "#bd3786"
            ],
            [
             0.5555555555555556,
             "#d8576b"
            ],
            [
             0.6666666666666666,
             "#ed7953"
            ],
            [
             0.7777777777777778,
             "#fb9f3a"
            ],
            [
             0.8888888888888888,
             "#fdca26"
            ],
            [
             1,
             "#f0f921"
            ]
           ],
           "sequentialminus": [
            [
             0,
             "#0d0887"
            ],
            [
             0.1111111111111111,
             "#46039f"
            ],
            [
             0.2222222222222222,
             "#7201a8"
            ],
            [
             0.3333333333333333,
             "#9c179e"
            ],
            [
             0.4444444444444444,
             "#bd3786"
            ],
            [
             0.5555555555555556,
             "#d8576b"
            ],
            [
             0.6666666666666666,
             "#ed7953"
            ],
            [
             0.7777777777777778,
             "#fb9f3a"
            ],
            [
             0.8888888888888888,
             "#fdca26"
            ],
            [
             1,
             "#f0f921"
            ]
           ]
          },
          "colorway": [
           "#636efa",
           "#EF553B",
           "#00cc96",
           "#ab63fa",
           "#FFA15A",
           "#19d3f3",
           "#FF6692",
           "#B6E880",
           "#FF97FF",
           "#FECB52"
          ],
          "font": {
           "color": "#2a3f5f"
          },
          "geo": {
           "bgcolor": "white",
           "lakecolor": "white",
           "landcolor": "#E5ECF6",
           "showlakes": true,
           "showland": true,
           "subunitcolor": "white"
          },
          "hoverlabel": {
           "align": "left"
          },
          "hovermode": "closest",
          "mapbox": {
           "style": "light"
          },
          "paper_bgcolor": "white",
          "plot_bgcolor": "#E5ECF6",
          "polar": {
           "angularaxis": {
            "gridcolor": "white",
            "linecolor": "white",
            "ticks": ""
           },
           "bgcolor": "#E5ECF6",
           "radialaxis": {
            "gridcolor": "white",
            "linecolor": "white",
            "ticks": ""
           }
          },
          "scene": {
           "xaxis": {
            "backgroundcolor": "#E5ECF6",
            "gridcolor": "white",
            "gridwidth": 2,
            "linecolor": "white",
            "showbackground": true,
            "ticks": "",
            "zerolinecolor": "white"
           },
           "yaxis": {
            "backgroundcolor": "#E5ECF6",
            "gridcolor": "white",
            "gridwidth": 2,
            "linecolor": "white",
            "showbackground": true,
            "ticks": "",
            "zerolinecolor": "white"
           },
           "zaxis": {
            "backgroundcolor": "#E5ECF6",
            "gridcolor": "white",
            "gridwidth": 2,
            "linecolor": "white",
            "showbackground": true,
            "ticks": "",
            "zerolinecolor": "white"
           }
          },
          "shapedefaults": {
           "line": {
            "color": "#2a3f5f"
           }
          },
          "ternary": {
           "aaxis": {
            "gridcolor": "white",
            "linecolor": "white",
            "ticks": ""
           },
           "baxis": {
            "gridcolor": "white",
            "linecolor": "white",
            "ticks": ""
           },
           "bgcolor": "#E5ECF6",
           "caxis": {
            "gridcolor": "white",
            "linecolor": "white",
            "ticks": ""
           }
          },
          "title": {
           "x": 0.05
          },
          "xaxis": {
           "automargin": true,
           "gridcolor": "white",
           "linecolor": "white",
           "ticks": "",
           "title": {
            "standoff": 15
           },
           "zerolinecolor": "white",
           "zerolinewidth": 2
          },
          "yaxis": {
           "automargin": true,
           "gridcolor": "white",
           "linecolor": "white",
           "ticks": "",
           "title": {
            "standoff": 15
           },
           "zerolinecolor": "white",
           "zerolinewidth": 2
          }
         }
        },
        "title": {
         "font": {
          "color": "orange",
          "size": 20
         },
         "text": "Óbitos Divulgados ao Mês",
         "x": 0.5
        },
        "xaxis": {
         "anchor": "y",
         "domain": [
          0,
          1
         ],
         "title": {
          "text": "Data"
         }
        },
        "yaxis": {
         "anchor": "x",
         "domain": [
          0,
          1
         ],
         "title": {
          "text": "newDeaths"
         }
        }
       }
      }
     },
     "metadata": {},
     "output_type": "display_data"
    }
   ],
   "source": [
    "fig_mortes_mes = px.line(months, x=months.index, y=\"newDeaths\",\n",
    "               markers= True,\n",
    "               title='Óbitos Divulgados ao Mês',\n",
    "               labels = {\n",
    "                \"deathsMS\": \"Quantidade\",\n",
    "                \"date\": \"Data\"\n",
    "                },color_discrete_sequence=[\"red\"])\n",
    "fig_mortes_mes.update_layout(font_color='red',\n",
    "                title_font_color='orange',\n",
    "                title_font_size = 20,\n",
    "                title_x = 0.5)\n",
    "fig_mortes_mes.show()"
   ]
  },
  {
   "cell_type": "code",
   "execution_count": 27,
   "id": "9cc08e9b",
   "metadata": {},
   "outputs": [
    {
     "data": {
      "application/vnd.plotly.v1+json": {
       "config": {
        "plotlyServerURL": "https://plot.ly"
       },
       "data": [
        {
         "hovertemplate": "Data=%{x}<br>suspects=%{y}<extra></extra>",
         "legendgroup": "",
         "line": {
          "color": "orange",
          "dash": "solid"
         },
         "marker": {
          "symbol": "circle"
         },
         "mode": "lines+markers",
         "name": "",
         "orientation": "v",
         "showlegend": false,
         "type": "scatter",
         "x": [
          "2020-02-29T00:00:00",
          "2020-03-31T00:00:00",
          "2020-04-30T00:00:00",
          "2020-05-31T00:00:00",
          "2020-06-30T00:00:00",
          "2020-07-31T00:00:00",
          "2020-08-31T00:00:00",
          "2020-09-30T00:00:00",
          "2020-10-31T00:00:00",
          "2020-11-30T00:00:00",
          "2020-12-31T00:00:00",
          "2021-01-31T00:00:00",
          "2021-02-28T00:00:00",
          "2021-03-31T00:00:00",
          "2021-04-30T00:00:00",
          "2021-05-31T00:00:00",
          "2021-06-30T00:00:00",
          "2021-07-31T00:00:00",
          "2021-08-31T00:00:00",
          "2021-09-30T00:00:00",
          "2021-10-31T00:00:00",
          "2021-11-30T00:00:00",
          "2021-12-31T00:00:00",
          "2022-01-31T00:00:00",
          "2022-02-28T00:00:00",
          "2022-03-31T00:00:00",
          "2022-04-30T00:00:00",
          "2022-05-31T00:00:00",
          "2022-06-30T00:00:00",
          "2022-07-31T00:00:00",
          "2022-08-31T00:00:00",
          "2022-09-30T00:00:00",
          "2022-10-31T00:00:00",
          "2022-11-30T00:00:00"
         ],
         "xaxis": "x",
         "y": [
          0,
          398135,
          3979439,
          10400746,
          19133899,
          28251709,
          46918208,
          64804620,
          76856391,
          75526964,
          78122945,
          97592251,
          126532501,
          159538508,
          164924152,
          195780316,
          203500048,
          232623444,
          240525607,
          238768050,
          246726985,
          238768050,
          248314329,
          264149736,
          248257156,
          274856137,
          265989810,
          274856137,
          265989810,
          274856137,
          274856137,
          265989810,
          274856137,
          132994905
         ],
         "yaxis": "y"
        }
       ],
       "layout": {
        "font": {
         "color": "orange"
        },
        "legend": {
         "tracegroupgap": 0
        },
        "template": {
         "data": {
          "bar": [
           {
            "error_x": {
             "color": "#2a3f5f"
            },
            "error_y": {
             "color": "#2a3f5f"
            },
            "marker": {
             "line": {
              "color": "#E5ECF6",
              "width": 0.5
             },
             "pattern": {
              "fillmode": "overlay",
              "size": 10,
              "solidity": 0.2
             }
            },
            "type": "bar"
           }
          ],
          "barpolar": [
           {
            "marker": {
             "line": {
              "color": "#E5ECF6",
              "width": 0.5
             },
             "pattern": {
              "fillmode": "overlay",
              "size": 10,
              "solidity": 0.2
             }
            },
            "type": "barpolar"
           }
          ],
          "carpet": [
           {
            "aaxis": {
             "endlinecolor": "#2a3f5f",
             "gridcolor": "white",
             "linecolor": "white",
             "minorgridcolor": "white",
             "startlinecolor": "#2a3f5f"
            },
            "baxis": {
             "endlinecolor": "#2a3f5f",
             "gridcolor": "white",
             "linecolor": "white",
             "minorgridcolor": "white",
             "startlinecolor": "#2a3f5f"
            },
            "type": "carpet"
           }
          ],
          "choropleth": [
           {
            "colorbar": {
             "outlinewidth": 0,
             "ticks": ""
            },
            "type": "choropleth"
           }
          ],
          "contour": [
           {
            "colorbar": {
             "outlinewidth": 0,
             "ticks": ""
            },
            "colorscale": [
             [
              0,
              "#0d0887"
             ],
             [
              0.1111111111111111,
              "#46039f"
             ],
             [
              0.2222222222222222,
              "#7201a8"
             ],
             [
              0.3333333333333333,
              "#9c179e"
             ],
             [
              0.4444444444444444,
              "#bd3786"
             ],
             [
              0.5555555555555556,
              "#d8576b"
             ],
             [
              0.6666666666666666,
              "#ed7953"
             ],
             [
              0.7777777777777778,
              "#fb9f3a"
             ],
             [
              0.8888888888888888,
              "#fdca26"
             ],
             [
              1,
              "#f0f921"
             ]
            ],
            "type": "contour"
           }
          ],
          "contourcarpet": [
           {
            "colorbar": {
             "outlinewidth": 0,
             "ticks": ""
            },
            "type": "contourcarpet"
           }
          ],
          "heatmap": [
           {
            "colorbar": {
             "outlinewidth": 0,
             "ticks": ""
            },
            "colorscale": [
             [
              0,
              "#0d0887"
             ],
             [
              0.1111111111111111,
              "#46039f"
             ],
             [
              0.2222222222222222,
              "#7201a8"
             ],
             [
              0.3333333333333333,
              "#9c179e"
             ],
             [
              0.4444444444444444,
              "#bd3786"
             ],
             [
              0.5555555555555556,
              "#d8576b"
             ],
             [
              0.6666666666666666,
              "#ed7953"
             ],
             [
              0.7777777777777778,
              "#fb9f3a"
             ],
             [
              0.8888888888888888,
              "#fdca26"
             ],
             [
              1,
              "#f0f921"
             ]
            ],
            "type": "heatmap"
           }
          ],
          "heatmapgl": [
           {
            "colorbar": {
             "outlinewidth": 0,
             "ticks": ""
            },
            "colorscale": [
             [
              0,
              "#0d0887"
             ],
             [
              0.1111111111111111,
              "#46039f"
             ],
             [
              0.2222222222222222,
              "#7201a8"
             ],
             [
              0.3333333333333333,
              "#9c179e"
             ],
             [
              0.4444444444444444,
              "#bd3786"
             ],
             [
              0.5555555555555556,
              "#d8576b"
             ],
             [
              0.6666666666666666,
              "#ed7953"
             ],
             [
              0.7777777777777778,
              "#fb9f3a"
             ],
             [
              0.8888888888888888,
              "#fdca26"
             ],
             [
              1,
              "#f0f921"
             ]
            ],
            "type": "heatmapgl"
           }
          ],
          "histogram": [
           {
            "marker": {
             "pattern": {
              "fillmode": "overlay",
              "size": 10,
              "solidity": 0.2
             }
            },
            "type": "histogram"
           }
          ],
          "histogram2d": [
           {
            "colorbar": {
             "outlinewidth": 0,
             "ticks": ""
            },
            "colorscale": [
             [
              0,
              "#0d0887"
             ],
             [
              0.1111111111111111,
              "#46039f"
             ],
             [
              0.2222222222222222,
              "#7201a8"
             ],
             [
              0.3333333333333333,
              "#9c179e"
             ],
             [
              0.4444444444444444,
              "#bd3786"
             ],
             [
              0.5555555555555556,
              "#d8576b"
             ],
             [
              0.6666666666666666,
              "#ed7953"
             ],
             [
              0.7777777777777778,
              "#fb9f3a"
             ],
             [
              0.8888888888888888,
              "#fdca26"
             ],
             [
              1,
              "#f0f921"
             ]
            ],
            "type": "histogram2d"
           }
          ],
          "histogram2dcontour": [
           {
            "colorbar": {
             "outlinewidth": 0,
             "ticks": ""
            },
            "colorscale": [
             [
              0,
              "#0d0887"
             ],
             [
              0.1111111111111111,
              "#46039f"
             ],
             [
              0.2222222222222222,
              "#7201a8"
             ],
             [
              0.3333333333333333,
              "#9c179e"
             ],
             [
              0.4444444444444444,
              "#bd3786"
             ],
             [
              0.5555555555555556,
              "#d8576b"
             ],
             [
              0.6666666666666666,
              "#ed7953"
             ],
             [
              0.7777777777777778,
              "#fb9f3a"
             ],
             [
              0.8888888888888888,
              "#fdca26"
             ],
             [
              1,
              "#f0f921"
             ]
            ],
            "type": "histogram2dcontour"
           }
          ],
          "mesh3d": [
           {
            "colorbar": {
             "outlinewidth": 0,
             "ticks": ""
            },
            "type": "mesh3d"
           }
          ],
          "parcoords": [
           {
            "line": {
             "colorbar": {
              "outlinewidth": 0,
              "ticks": ""
             }
            },
            "type": "parcoords"
           }
          ],
          "pie": [
           {
            "automargin": true,
            "type": "pie"
           }
          ],
          "scatter": [
           {
            "fillpattern": {
             "fillmode": "overlay",
             "size": 10,
             "solidity": 0.2
            },
            "type": "scatter"
           }
          ],
          "scatter3d": [
           {
            "line": {
             "colorbar": {
              "outlinewidth": 0,
              "ticks": ""
             }
            },
            "marker": {
             "colorbar": {
              "outlinewidth": 0,
              "ticks": ""
             }
            },
            "type": "scatter3d"
           }
          ],
          "scattercarpet": [
           {
            "marker": {
             "colorbar": {
              "outlinewidth": 0,
              "ticks": ""
             }
            },
            "type": "scattercarpet"
           }
          ],
          "scattergeo": [
           {
            "marker": {
             "colorbar": {
              "outlinewidth": 0,
              "ticks": ""
             }
            },
            "type": "scattergeo"
           }
          ],
          "scattergl": [
           {
            "marker": {
             "colorbar": {
              "outlinewidth": 0,
              "ticks": ""
             }
            },
            "type": "scattergl"
           }
          ],
          "scattermapbox": [
           {
            "marker": {
             "colorbar": {
              "outlinewidth": 0,
              "ticks": ""
             }
            },
            "type": "scattermapbox"
           }
          ],
          "scatterpolar": [
           {
            "marker": {
             "colorbar": {
              "outlinewidth": 0,
              "ticks": ""
             }
            },
            "type": "scatterpolar"
           }
          ],
          "scatterpolargl": [
           {
            "marker": {
             "colorbar": {
              "outlinewidth": 0,
              "ticks": ""
             }
            },
            "type": "scatterpolargl"
           }
          ],
          "scatterternary": [
           {
            "marker": {
             "colorbar": {
              "outlinewidth": 0,
              "ticks": ""
             }
            },
            "type": "scatterternary"
           }
          ],
          "surface": [
           {
            "colorbar": {
             "outlinewidth": 0,
             "ticks": ""
            },
            "colorscale": [
             [
              0,
              "#0d0887"
             ],
             [
              0.1111111111111111,
              "#46039f"
             ],
             [
              0.2222222222222222,
              "#7201a8"
             ],
             [
              0.3333333333333333,
              "#9c179e"
             ],
             [
              0.4444444444444444,
              "#bd3786"
             ],
             [
              0.5555555555555556,
              "#d8576b"
             ],
             [
              0.6666666666666666,
              "#ed7953"
             ],
             [
              0.7777777777777778,
              "#fb9f3a"
             ],
             [
              0.8888888888888888,
              "#fdca26"
             ],
             [
              1,
              "#f0f921"
             ]
            ],
            "type": "surface"
           }
          ],
          "table": [
           {
            "cells": {
             "fill": {
              "color": "#EBF0F8"
             },
             "line": {
              "color": "white"
             }
            },
            "header": {
             "fill": {
              "color": "#C8D4E3"
             },
             "line": {
              "color": "white"
             }
            },
            "type": "table"
           }
          ]
         },
         "layout": {
          "annotationdefaults": {
           "arrowcolor": "#2a3f5f",
           "arrowhead": 0,
           "arrowwidth": 1
          },
          "autotypenumbers": "strict",
          "coloraxis": {
           "colorbar": {
            "outlinewidth": 0,
            "ticks": ""
           }
          },
          "colorscale": {
           "diverging": [
            [
             0,
             "#8e0152"
            ],
            [
             0.1,
             "#c51b7d"
            ],
            [
             0.2,
             "#de77ae"
            ],
            [
             0.3,
             "#f1b6da"
            ],
            [
             0.4,
             "#fde0ef"
            ],
            [
             0.5,
             "#f7f7f7"
            ],
            [
             0.6,
             "#e6f5d0"
            ],
            [
             0.7,
             "#b8e186"
            ],
            [
             0.8,
             "#7fbc41"
            ],
            [
             0.9,
             "#4d9221"
            ],
            [
             1,
             "#276419"
            ]
           ],
           "sequential": [
            [
             0,
             "#0d0887"
            ],
            [
             0.1111111111111111,
             "#46039f"
            ],
            [
             0.2222222222222222,
             "#7201a8"
            ],
            [
             0.3333333333333333,
             "#9c179e"
            ],
            [
             0.4444444444444444,
             "#bd3786"
            ],
            [
             0.5555555555555556,
             "#d8576b"
            ],
            [
             0.6666666666666666,
             "#ed7953"
            ],
            [
             0.7777777777777778,
             "#fb9f3a"
            ],
            [
             0.8888888888888888,
             "#fdca26"
            ],
            [
             1,
             "#f0f921"
            ]
           ],
           "sequentialminus": [
            [
             0,
             "#0d0887"
            ],
            [
             0.1111111111111111,
             "#46039f"
            ],
            [
             0.2222222222222222,
             "#7201a8"
            ],
            [
             0.3333333333333333,
             "#9c179e"
            ],
            [
             0.4444444444444444,
             "#bd3786"
            ],
            [
             0.5555555555555556,
             "#d8576b"
            ],
            [
             0.6666666666666666,
             "#ed7953"
            ],
            [
             0.7777777777777778,
             "#fb9f3a"
            ],
            [
             0.8888888888888888,
             "#fdca26"
            ],
            [
             1,
             "#f0f921"
            ]
           ]
          },
          "colorway": [
           "#636efa",
           "#EF553B",
           "#00cc96",
           "#ab63fa",
           "#FFA15A",
           "#19d3f3",
           "#FF6692",
           "#B6E880",
           "#FF97FF",
           "#FECB52"
          ],
          "font": {
           "color": "#2a3f5f"
          },
          "geo": {
           "bgcolor": "white",
           "lakecolor": "white",
           "landcolor": "#E5ECF6",
           "showlakes": true,
           "showland": true,
           "subunitcolor": "white"
          },
          "hoverlabel": {
           "align": "left"
          },
          "hovermode": "closest",
          "mapbox": {
           "style": "light"
          },
          "paper_bgcolor": "white",
          "plot_bgcolor": "#E5ECF6",
          "polar": {
           "angularaxis": {
            "gridcolor": "white",
            "linecolor": "white",
            "ticks": ""
           },
           "bgcolor": "#E5ECF6",
           "radialaxis": {
            "gridcolor": "white",
            "linecolor": "white",
            "ticks": ""
           }
          },
          "scene": {
           "xaxis": {
            "backgroundcolor": "#E5ECF6",
            "gridcolor": "white",
            "gridwidth": 2,
            "linecolor": "white",
            "showbackground": true,
            "ticks": "",
            "zerolinecolor": "white"
           },
           "yaxis": {
            "backgroundcolor": "#E5ECF6",
            "gridcolor": "white",
            "gridwidth": 2,
            "linecolor": "white",
            "showbackground": true,
            "ticks": "",
            "zerolinecolor": "white"
           },
           "zaxis": {
            "backgroundcolor": "#E5ECF6",
            "gridcolor": "white",
            "gridwidth": 2,
            "linecolor": "white",
            "showbackground": true,
            "ticks": "",
            "zerolinecolor": "white"
           }
          },
          "shapedefaults": {
           "line": {
            "color": "#2a3f5f"
           }
          },
          "ternary": {
           "aaxis": {
            "gridcolor": "white",
            "linecolor": "white",
            "ticks": ""
           },
           "baxis": {
            "gridcolor": "white",
            "linecolor": "white",
            "ticks": ""
           },
           "bgcolor": "#E5ECF6",
           "caxis": {
            "gridcolor": "white",
            "linecolor": "white",
            "ticks": ""
           }
          },
          "title": {
           "x": 0.05
          },
          "xaxis": {
           "automargin": true,
           "gridcolor": "white",
           "linecolor": "white",
           "ticks": "",
           "title": {
            "standoff": 15
           },
           "zerolinecolor": "white",
           "zerolinewidth": 2
          },
          "yaxis": {
           "automargin": true,
           "gridcolor": "white",
           "linecolor": "white",
           "ticks": "",
           "title": {
            "standoff": 15
           },
           "zerolinecolor": "white",
           "zerolinewidth": 2
          }
         }
        },
        "title": {
         "font": {
          "color": "red",
          "size": 20
         },
         "text": "Casos Suspeitos Divulgados por Mês",
         "x": 0.5
        },
        "xaxis": {
         "anchor": "y",
         "domain": [
          0,
          1
         ],
         "title": {
          "text": "Data"
         }
        },
        "yaxis": {
         "anchor": "x",
         "domain": [
          0,
          1
         ],
         "title": {
          "text": "suspects"
         }
        }
       }
      }
     },
     "metadata": {},
     "output_type": "display_data"
    }
   ],
   "source": [
    "fig_susp_mes = px.line(months, x=months.index, y=\"suspects\",\n",
    "                markers= True,\n",
    "                title='Casos Suspeitos Divulgados por Mês',\n",
    "                labels  = {\n",
    "                \"newCases\": \"Quantidade\",\n",
    "                \"date\": \"Data\"\n",
    "                },color_discrete_sequence=[\"orange\"])\n",
    "fig_susp_mes.update_layout(font_color='orange',\n",
    "                title_font_color='red',\n",
    "                title_font_size = 20,\n",
    "                title_x = 0.5)\n",
    "fig_susp_mes.show()"
   ]
  },
  {
   "cell_type": "code",
   "execution_count": 28,
   "id": "46a61553",
   "metadata": {},
   "outputs": [
    {
     "data": {
      "application/vnd.plotly.v1+json": {
       "config": {
        "plotlyServerURL": "https://plot.ly"
       },
       "data": [
        {
         "hovertemplate": "Data=%{x}<br>vaccinated=%{y}<extra></extra>",
         "legendgroup": "",
         "line": {
          "color": "green",
          "dash": "solid"
         },
         "marker": {
          "symbol": "circle"
         },
         "mode": "lines+markers",
         "name": "",
         "orientation": "v",
         "showlegend": false,
         "type": "scatter",
         "x": [
          "2020-02-29T00:00:00",
          "2020-03-31T00:00:00",
          "2020-04-30T00:00:00",
          "2020-05-31T00:00:00",
          "2020-06-30T00:00:00",
          "2020-07-31T00:00:00",
          "2020-08-31T00:00:00",
          "2020-09-30T00:00:00",
          "2020-10-31T00:00:00",
          "2020-11-30T00:00:00",
          "2020-12-31T00:00:00",
          "2021-01-31T00:00:00",
          "2021-02-28T00:00:00",
          "2021-03-31T00:00:00",
          "2021-04-30T00:00:00",
          "2021-05-31T00:00:00",
          "2021-06-30T00:00:00",
          "2021-07-31T00:00:00",
          "2021-08-31T00:00:00",
          "2021-09-30T00:00:00",
          "2021-10-31T00:00:00",
          "2021-11-30T00:00:00",
          "2021-12-31T00:00:00",
          "2022-01-31T00:00:00",
          "2022-02-28T00:00:00",
          "2022-03-31T00:00:00",
          "2022-04-30T00:00:00",
          "2022-05-31T00:00:00",
          "2022-06-30T00:00:00",
          "2022-07-31T00:00:00",
          "2022-08-31T00:00:00",
          "2022-09-30T00:00:00",
          "2022-10-31T00:00:00",
          "2022-11-30T00:00:00"
         ],
         "xaxis": "x",
         "y": [
          0,
          0,
          0,
          0,
          0,
          0,
          0,
          0,
          0,
          0,
          0,
          15169741,
          143601077,
          355834411,
          764514084,
          1228924429,
          1819553212,
          2768283577,
          3646795303,
          4228966562,
          4708460760,
          4731849481,
          4988877799,
          5057771805,
          4760933692,
          5426473168,
          5314529483,
          5528275977,
          5381604662,
          5579262760,
          5600098148,
          5441467610,
          5640051428,
          2729418891
         ],
         "yaxis": "y"
        }
       ],
       "layout": {
        "font": {
         "color": "green"
        },
        "legend": {
         "tracegroupgap": 0
        },
        "template": {
         "data": {
          "bar": [
           {
            "error_x": {
             "color": "#2a3f5f"
            },
            "error_y": {
             "color": "#2a3f5f"
            },
            "marker": {
             "line": {
              "color": "#E5ECF6",
              "width": 0.5
             },
             "pattern": {
              "fillmode": "overlay",
              "size": 10,
              "solidity": 0.2
             }
            },
            "type": "bar"
           }
          ],
          "barpolar": [
           {
            "marker": {
             "line": {
              "color": "#E5ECF6",
              "width": 0.5
             },
             "pattern": {
              "fillmode": "overlay",
              "size": 10,
              "solidity": 0.2
             }
            },
            "type": "barpolar"
           }
          ],
          "carpet": [
           {
            "aaxis": {
             "endlinecolor": "#2a3f5f",
             "gridcolor": "white",
             "linecolor": "white",
             "minorgridcolor": "white",
             "startlinecolor": "#2a3f5f"
            },
            "baxis": {
             "endlinecolor": "#2a3f5f",
             "gridcolor": "white",
             "linecolor": "white",
             "minorgridcolor": "white",
             "startlinecolor": "#2a3f5f"
            },
            "type": "carpet"
           }
          ],
          "choropleth": [
           {
            "colorbar": {
             "outlinewidth": 0,
             "ticks": ""
            },
            "type": "choropleth"
           }
          ],
          "contour": [
           {
            "colorbar": {
             "outlinewidth": 0,
             "ticks": ""
            },
            "colorscale": [
             [
              0,
              "#0d0887"
             ],
             [
              0.1111111111111111,
              "#46039f"
             ],
             [
              0.2222222222222222,
              "#7201a8"
             ],
             [
              0.3333333333333333,
              "#9c179e"
             ],
             [
              0.4444444444444444,
              "#bd3786"
             ],
             [
              0.5555555555555556,
              "#d8576b"
             ],
             [
              0.6666666666666666,
              "#ed7953"
             ],
             [
              0.7777777777777778,
              "#fb9f3a"
             ],
             [
              0.8888888888888888,
              "#fdca26"
             ],
             [
              1,
              "#f0f921"
             ]
            ],
            "type": "contour"
           }
          ],
          "contourcarpet": [
           {
            "colorbar": {
             "outlinewidth": 0,
             "ticks": ""
            },
            "type": "contourcarpet"
           }
          ],
          "heatmap": [
           {
            "colorbar": {
             "outlinewidth": 0,
             "ticks": ""
            },
            "colorscale": [
             [
              0,
              "#0d0887"
             ],
             [
              0.1111111111111111,
              "#46039f"
             ],
             [
              0.2222222222222222,
              "#7201a8"
             ],
             [
              0.3333333333333333,
              "#9c179e"
             ],
             [
              0.4444444444444444,
              "#bd3786"
             ],
             [
              0.5555555555555556,
              "#d8576b"
             ],
             [
              0.6666666666666666,
              "#ed7953"
             ],
             [
              0.7777777777777778,
              "#fb9f3a"
             ],
             [
              0.8888888888888888,
              "#fdca26"
             ],
             [
              1,
              "#f0f921"
             ]
            ],
            "type": "heatmap"
           }
          ],
          "heatmapgl": [
           {
            "colorbar": {
             "outlinewidth": 0,
             "ticks": ""
            },
            "colorscale": [
             [
              0,
              "#0d0887"
             ],
             [
              0.1111111111111111,
              "#46039f"
             ],
             [
              0.2222222222222222,
              "#7201a8"
             ],
             [
              0.3333333333333333,
              "#9c179e"
             ],
             [
              0.4444444444444444,
              "#bd3786"
             ],
             [
              0.5555555555555556,
              "#d8576b"
             ],
             [
              0.6666666666666666,
              "#ed7953"
             ],
             [
              0.7777777777777778,
              "#fb9f3a"
             ],
             [
              0.8888888888888888,
              "#fdca26"
             ],
             [
              1,
              "#f0f921"
             ]
            ],
            "type": "heatmapgl"
           }
          ],
          "histogram": [
           {
            "marker": {
             "pattern": {
              "fillmode": "overlay",
              "size": 10,
              "solidity": 0.2
             }
            },
            "type": "histogram"
           }
          ],
          "histogram2d": [
           {
            "colorbar": {
             "outlinewidth": 0,
             "ticks": ""
            },
            "colorscale": [
             [
              0,
              "#0d0887"
             ],
             [
              0.1111111111111111,
              "#46039f"
             ],
             [
              0.2222222222222222,
              "#7201a8"
             ],
             [
              0.3333333333333333,
              "#9c179e"
             ],
             [
              0.4444444444444444,
              "#bd3786"
             ],
             [
              0.5555555555555556,
              "#d8576b"
             ],
             [
              0.6666666666666666,
              "#ed7953"
             ],
             [
              0.7777777777777778,
              "#fb9f3a"
             ],
             [
              0.8888888888888888,
              "#fdca26"
             ],
             [
              1,
              "#f0f921"
             ]
            ],
            "type": "histogram2d"
           }
          ],
          "histogram2dcontour": [
           {
            "colorbar": {
             "outlinewidth": 0,
             "ticks": ""
            },
            "colorscale": [
             [
              0,
              "#0d0887"
             ],
             [
              0.1111111111111111,
              "#46039f"
             ],
             [
              0.2222222222222222,
              "#7201a8"
             ],
             [
              0.3333333333333333,
              "#9c179e"
             ],
             [
              0.4444444444444444,
              "#bd3786"
             ],
             [
              0.5555555555555556,
              "#d8576b"
             ],
             [
              0.6666666666666666,
              "#ed7953"
             ],
             [
              0.7777777777777778,
              "#fb9f3a"
             ],
             [
              0.8888888888888888,
              "#fdca26"
             ],
             [
              1,
              "#f0f921"
             ]
            ],
            "type": "histogram2dcontour"
           }
          ],
          "mesh3d": [
           {
            "colorbar": {
             "outlinewidth": 0,
             "ticks": ""
            },
            "type": "mesh3d"
           }
          ],
          "parcoords": [
           {
            "line": {
             "colorbar": {
              "outlinewidth": 0,
              "ticks": ""
             }
            },
            "type": "parcoords"
           }
          ],
          "pie": [
           {
            "automargin": true,
            "type": "pie"
           }
          ],
          "scatter": [
           {
            "fillpattern": {
             "fillmode": "overlay",
             "size": 10,
             "solidity": 0.2
            },
            "type": "scatter"
           }
          ],
          "scatter3d": [
           {
            "line": {
             "colorbar": {
              "outlinewidth": 0,
              "ticks": ""
             }
            },
            "marker": {
             "colorbar": {
              "outlinewidth": 0,
              "ticks": ""
             }
            },
            "type": "scatter3d"
           }
          ],
          "scattercarpet": [
           {
            "marker": {
             "colorbar": {
              "outlinewidth": 0,
              "ticks": ""
             }
            },
            "type": "scattercarpet"
           }
          ],
          "scattergeo": [
           {
            "marker": {
             "colorbar": {
              "outlinewidth": 0,
              "ticks": ""
             }
            },
            "type": "scattergeo"
           }
          ],
          "scattergl": [
           {
            "marker": {
             "colorbar": {
              "outlinewidth": 0,
              "ticks": ""
             }
            },
            "type": "scattergl"
           }
          ],
          "scattermapbox": [
           {
            "marker": {
             "colorbar": {
              "outlinewidth": 0,
              "ticks": ""
             }
            },
            "type": "scattermapbox"
           }
          ],
          "scatterpolar": [
           {
            "marker": {
             "colorbar": {
              "outlinewidth": 0,
              "ticks": ""
             }
            },
            "type": "scatterpolar"
           }
          ],
          "scatterpolargl": [
           {
            "marker": {
             "colorbar": {
              "outlinewidth": 0,
              "ticks": ""
             }
            },
            "type": "scatterpolargl"
           }
          ],
          "scatterternary": [
           {
            "marker": {
             "colorbar": {
              "outlinewidth": 0,
              "ticks": ""
             }
            },
            "type": "scatterternary"
           }
          ],
          "surface": [
           {
            "colorbar": {
             "outlinewidth": 0,
             "ticks": ""
            },
            "colorscale": [
             [
              0,
              "#0d0887"
             ],
             [
              0.1111111111111111,
              "#46039f"
             ],
             [
              0.2222222222222222,
              "#7201a8"
             ],
             [
              0.3333333333333333,
              "#9c179e"
             ],
             [
              0.4444444444444444,
              "#bd3786"
             ],
             [
              0.5555555555555556,
              "#d8576b"
             ],
             [
              0.6666666666666666,
              "#ed7953"
             ],
             [
              0.7777777777777778,
              "#fb9f3a"
             ],
             [
              0.8888888888888888,
              "#fdca26"
             ],
             [
              1,
              "#f0f921"
             ]
            ],
            "type": "surface"
           }
          ],
          "table": [
           {
            "cells": {
             "fill": {
              "color": "#EBF0F8"
             },
             "line": {
              "color": "white"
             }
            },
            "header": {
             "fill": {
              "color": "#C8D4E3"
             },
             "line": {
              "color": "white"
             }
            },
            "type": "table"
           }
          ]
         },
         "layout": {
          "annotationdefaults": {
           "arrowcolor": "#2a3f5f",
           "arrowhead": 0,
           "arrowwidth": 1
          },
          "autotypenumbers": "strict",
          "coloraxis": {
           "colorbar": {
            "outlinewidth": 0,
            "ticks": ""
           }
          },
          "colorscale": {
           "diverging": [
            [
             0,
             "#8e0152"
            ],
            [
             0.1,
             "#c51b7d"
            ],
            [
             0.2,
             "#de77ae"
            ],
            [
             0.3,
             "#f1b6da"
            ],
            [
             0.4,
             "#fde0ef"
            ],
            [
             0.5,
             "#f7f7f7"
            ],
            [
             0.6,
             "#e6f5d0"
            ],
            [
             0.7,
             "#b8e186"
            ],
            [
             0.8,
             "#7fbc41"
            ],
            [
             0.9,
             "#4d9221"
            ],
            [
             1,
             "#276419"
            ]
           ],
           "sequential": [
            [
             0,
             "#0d0887"
            ],
            [
             0.1111111111111111,
             "#46039f"
            ],
            [
             0.2222222222222222,
             "#7201a8"
            ],
            [
             0.3333333333333333,
             "#9c179e"
            ],
            [
             0.4444444444444444,
             "#bd3786"
            ],
            [
             0.5555555555555556,
             "#d8576b"
            ],
            [
             0.6666666666666666,
             "#ed7953"
            ],
            [
             0.7777777777777778,
             "#fb9f3a"
            ],
            [
             0.8888888888888888,
             "#fdca26"
            ],
            [
             1,
             "#f0f921"
            ]
           ],
           "sequentialminus": [
            [
             0,
             "#0d0887"
            ],
            [
             0.1111111111111111,
             "#46039f"
            ],
            [
             0.2222222222222222,
             "#7201a8"
            ],
            [
             0.3333333333333333,
             "#9c179e"
            ],
            [
             0.4444444444444444,
             "#bd3786"
            ],
            [
             0.5555555555555556,
             "#d8576b"
            ],
            [
             0.6666666666666666,
             "#ed7953"
            ],
            [
             0.7777777777777778,
             "#fb9f3a"
            ],
            [
             0.8888888888888888,
             "#fdca26"
            ],
            [
             1,
             "#f0f921"
            ]
           ]
          },
          "colorway": [
           "#636efa",
           "#EF553B",
           "#00cc96",
           "#ab63fa",
           "#FFA15A",
           "#19d3f3",
           "#FF6692",
           "#B6E880",
           "#FF97FF",
           "#FECB52"
          ],
          "font": {
           "color": "#2a3f5f"
          },
          "geo": {
           "bgcolor": "white",
           "lakecolor": "white",
           "landcolor": "#E5ECF6",
           "showlakes": true,
           "showland": true,
           "subunitcolor": "white"
          },
          "hoverlabel": {
           "align": "left"
          },
          "hovermode": "closest",
          "mapbox": {
           "style": "light"
          },
          "paper_bgcolor": "white",
          "plot_bgcolor": "#E5ECF6",
          "polar": {
           "angularaxis": {
            "gridcolor": "white",
            "linecolor": "white",
            "ticks": ""
           },
           "bgcolor": "#E5ECF6",
           "radialaxis": {
            "gridcolor": "white",
            "linecolor": "white",
            "ticks": ""
           }
          },
          "scene": {
           "xaxis": {
            "backgroundcolor": "#E5ECF6",
            "gridcolor": "white",
            "gridwidth": 2,
            "linecolor": "white",
            "showbackground": true,
            "ticks": "",
            "zerolinecolor": "white"
           },
           "yaxis": {
            "backgroundcolor": "#E5ECF6",
            "gridcolor": "white",
            "gridwidth": 2,
            "linecolor": "white",
            "showbackground": true,
            "ticks": "",
            "zerolinecolor": "white"
           },
           "zaxis": {
            "backgroundcolor": "#E5ECF6",
            "gridcolor": "white",
            "gridwidth": 2,
            "linecolor": "white",
            "showbackground": true,
            "ticks": "",
            "zerolinecolor": "white"
           }
          },
          "shapedefaults": {
           "line": {
            "color": "#2a3f5f"
           }
          },
          "ternary": {
           "aaxis": {
            "gridcolor": "white",
            "linecolor": "white",
            "ticks": ""
           },
           "baxis": {
            "gridcolor": "white",
            "linecolor": "white",
            "ticks": ""
           },
           "bgcolor": "#E5ECF6",
           "caxis": {
            "gridcolor": "white",
            "linecolor": "white",
            "ticks": ""
           }
          },
          "title": {
           "x": 0.05
          },
          "xaxis": {
           "automargin": true,
           "gridcolor": "white",
           "linecolor": "white",
           "ticks": "",
           "title": {
            "standoff": 15
           },
           "zerolinecolor": "white",
           "zerolinewidth": 2
          },
          "yaxis": {
           "automargin": true,
           "gridcolor": "white",
           "linecolor": "white",
           "ticks": "",
           "title": {
            "standoff": 15
           },
           "zerolinecolor": "white",
           "zerolinewidth": 2
          }
         }
        },
        "title": {
         "font": {
          "color": "black",
          "size": 20
         },
         "text": "Quantidade de Vacinados por Mês",
         "x": 0.5
        },
        "xaxis": {
         "anchor": "y",
         "domain": [
          0,
          1
         ],
         "title": {
          "text": "Data"
         }
        },
        "yaxis": {
         "anchor": "x",
         "domain": [
          0,
          1
         ],
         "title": {
          "text": "vaccinated"
         }
        }
       }
      }
     },
     "metadata": {},
     "output_type": "display_data"
    }
   ],
   "source": [
    "fig_vacinados_mes = px.line(months, x=months.index, y=\"vaccinated\",\n",
    "                markers= True,\n",
    "                title='Quantidade de Vacinados por Mês',\n",
    "                labels  = {\n",
    "                \"newCases\": \"Quantidade\",\n",
    "                \"date\": \"Data\"\n",
    "                },color_discrete_sequence=[\"green\"])\n",
    "fig_vacinados_mes.update_layout(font_color='green',\n",
    "                title_font_color='black',\n",
    "                title_font_size = 20,\n",
    "                title_x = 0.5)\n",
    "fig_vacinados_mes.show()"
   ]
  },
  {
   "cell_type": "code",
   "execution_count": 32,
   "id": "5ab8860a",
   "metadata": {},
   "outputs": [
    {
     "data": {
      "application/vnd.plotly.v1+json": {
       "config": {
        "plotlyServerURL": "https://plot.ly"
       },
       "data": [
        {
         "line": {
          "color": "royalblue",
          "dash": "dot",
          "width": 2
         },
         "mode": "lines+markers",
         "name": "Infecções",
         "type": "scatter",
         "x": [
          "2020-02-29T00:00:00",
          "2020-03-31T00:00:00",
          "2020-04-30T00:00:00",
          "2020-05-31T00:00:00",
          "2020-06-30T00:00:00",
          "2020-07-31T00:00:00",
          "2020-08-31T00:00:00",
          "2020-09-30T00:00:00",
          "2020-10-31T00:00:00",
          "2020-11-30T00:00:00",
          "2020-12-31T00:00:00",
          "2021-01-31T00:00:00",
          "2021-02-28T00:00:00",
          "2021-03-31T00:00:00",
          "2021-04-30T00:00:00",
          "2021-05-31T00:00:00",
          "2021-06-30T00:00:00",
          "2021-07-31T00:00:00",
          "2021-08-31T00:00:00",
          "2021-09-30T00:00:00",
          "2021-10-31T00:00:00",
          "2021-11-30T00:00:00",
          "2021-12-31T00:00:00",
          "2022-01-31T00:00:00",
          "2022-02-28T00:00:00",
          "2022-03-31T00:00:00",
          "2022-04-30T00:00:00",
          "2022-05-31T00:00:00",
          "2022-06-30T00:00:00",
          "2022-07-31T00:00:00",
          "2022-08-31T00:00:00",
          "2022-09-30T00:00:00",
          "2022-10-31T00:00:00",
          "2022-11-30T00:00:00"
         ],
         "y": [
          0,
          0.001751456311848301,
          0.024464714926410246,
          0.12909406674613425,
          0.26977844077655116,
          0.3784824864901628,
          0.3742669538413018,
          0.2716890930315211,
          0.21676649265456677,
          0.24198806542020357,
          0.4029363676661905,
          0.45959838685456805,
          0.4060585943389441,
          0.663560891244494,
          0.5752101521871085,
          0.5665175721926518,
          0.6055187726323816,
          0.40673570373785456,
          0.25966242635682946,
          0.1947309453139365,
          0.1150092884362655,
          0.08591254334628669,
          0.05773907453891107,
          0.9572831241165604,
          1,
          0.3476737079022278,
          0.15057077312953043,
          0.17177513106580933,
          0.4029487061041262,
          0.444147653183964,
          0.17934401039558537,
          0.07302820476630847,
          0.0470133607226593,
          0.023908582406771815
         ]
        },
        {
         "line": {
          "color": "orange",
          "dash": "dot",
          "width": 2
         },
         "mode": "lines+markers",
         "name": "Suspeitos",
         "type": "scatter",
         "x": [
          "2020-02-29T00:00:00",
          "2020-03-31T00:00:00",
          "2020-04-30T00:00:00",
          "2020-05-31T00:00:00",
          "2020-06-30T00:00:00",
          "2020-07-31T00:00:00",
          "2020-08-31T00:00:00",
          "2020-09-30T00:00:00",
          "2020-10-31T00:00:00",
          "2020-11-30T00:00:00",
          "2020-12-31T00:00:00",
          "2021-01-31T00:00:00",
          "2021-02-28T00:00:00",
          "2021-03-31T00:00:00",
          "2021-04-30T00:00:00",
          "2021-05-31T00:00:00",
          "2021-06-30T00:00:00",
          "2021-07-31T00:00:00",
          "2021-08-31T00:00:00",
          "2021-09-30T00:00:00",
          "2021-10-31T00:00:00",
          "2021-11-30T00:00:00",
          "2021-12-31T00:00:00",
          "2022-01-31T00:00:00",
          "2022-02-28T00:00:00",
          "2022-03-31T00:00:00",
          "2022-04-30T00:00:00",
          "2022-05-31T00:00:00",
          "2022-06-30T00:00:00",
          "2022-07-31T00:00:00",
          "2022-08-31T00:00:00",
          "2022-09-30T00:00:00",
          "2022-10-31T00:00:00",
          "2022-11-30T00:00:00"
         ],
         "y": [
          0,
          0.001448521413222074,
          0.014478261404074088,
          0.03784069045545816,
          0.06961423240842536,
          0.10278725921262584,
          0.17070096564734882,
          0.23577650732972355,
          0.2796240674808,
          0.2747872571606433,
          0.2842321290428381,
          0.3550666616550752,
          0.46035901683359537,
          0.5804436813430147,
          0.6000380919273416,
          0.7123010536963197,
          0.7403874995157922,
          0.8463461887336355,
          0.8750963672315601,
          0.8687019056809344,
          0.8976586358702989,
          0.8687019056809344,
          0.9034338170881009,
          0.9610472550591075,
          0.9032258064516129,
          1,
          0.967741935483871,
          1,
          0.967741935483871,
          1,
          1,
          0.967741935483871,
          1,
          0.4838709677419355
         ]
        },
        {
         "mode": "lines+markers",
         "name": "Vacinados",
         "type": "scatter",
         "x": [
          "2020-02-29T00:00:00",
          "2020-03-31T00:00:00",
          "2020-04-30T00:00:00",
          "2020-05-31T00:00:00",
          "2020-06-30T00:00:00",
          "2020-07-31T00:00:00",
          "2020-08-31T00:00:00",
          "2020-09-30T00:00:00",
          "2020-10-31T00:00:00",
          "2020-11-30T00:00:00",
          "2020-12-31T00:00:00",
          "2021-01-31T00:00:00",
          "2021-02-28T00:00:00",
          "2021-03-31T00:00:00",
          "2021-04-30T00:00:00",
          "2021-05-31T00:00:00",
          "2021-06-30T00:00:00",
          "2021-07-31T00:00:00",
          "2021-08-31T00:00:00",
          "2021-09-30T00:00:00",
          "2021-10-31T00:00:00",
          "2021-11-30T00:00:00",
          "2021-12-31T00:00:00",
          "2022-01-31T00:00:00",
          "2022-02-28T00:00:00",
          "2022-03-31T00:00:00",
          "2022-04-30T00:00:00",
          "2022-05-31T00:00:00",
          "2022-06-30T00:00:00",
          "2022-07-31T00:00:00",
          "2022-08-31T00:00:00",
          "2022-09-30T00:00:00",
          "2022-10-31T00:00:00",
          "2022-11-30T00:00:00"
         ],
         "y": [
          0,
          0,
          0,
          0,
          0,
          0,
          0,
          0,
          0,
          0,
          0,
          0.0026896458646972466,
          0.02546095170109502,
          0.06309063233598586,
          0.1355509065404217,
          0.21789241546610946,
          0.3226128760044349,
          0.49082594588710193,
          0.646589015996469,
          0.7498099292154184,
          0.8348258557758669,
          0.8389727543101403,
          0.884544735573287,
          0.8967598734810686,
          0.8441294822888271,
          0.9621318594827536,
          0.9422838693661643,
          0.9801818383348259,
          0.9541765231577601,
          0.989221965654743,
          0.9929161497000449,
          0.9647904242478833,
          1,
          0.48393510694775177
         ]
        },
        {
         "line": {
          "color": "red"
         },
         "mode": "lines+markers",
         "name": "Óbitos",
         "type": "scatter",
         "x": [
          "2020-02-29T00:00:00",
          "2020-03-31T00:00:00",
          "2020-04-30T00:00:00",
          "2020-05-31T00:00:00",
          "2020-06-30T00:00:00",
          "2020-07-31T00:00:00",
          "2020-08-31T00:00:00",
          "2020-09-30T00:00:00",
          "2020-10-31T00:00:00",
          "2020-11-30T00:00:00",
          "2020-12-31T00:00:00",
          "2021-01-31T00:00:00",
          "2021-02-28T00:00:00",
          "2021-03-31T00:00:00",
          "2021-04-30T00:00:00",
          "2021-05-31T00:00:00",
          "2021-06-30T00:00:00",
          "2021-07-31T00:00:00",
          "2021-08-31T00:00:00",
          "2021-09-30T00:00:00",
          "2021-10-31T00:00:00",
          "2021-11-30T00:00:00",
          "2021-12-31T00:00:00",
          "2022-01-31T00:00:00",
          "2022-02-28T00:00:00",
          "2022-03-31T00:00:00",
          "2022-04-30T00:00:00",
          "2022-05-31T00:00:00",
          "2022-06-30T00:00:00",
          "2022-07-31T00:00:00",
          "2022-08-31T00:00:00",
          "2022-09-30T00:00:00",
          "2022-10-31T00:00:00",
          "2022-11-30T00:00:00"
         ],
         "y": [
          0,
          0.0024525278034092566,
          0.07015200815890438,
          0.28392258753824484,
          0.36928755281433634,
          0.3997377495022097,
          0.3503108154047885,
          0.27280122383565636,
          0.19292409305036182,
          0.16141760963527754,
          0.26463017823320867,
          0.35890680394347046,
          0.370513816716041,
          0.8124787528531883,
          1,
          0.7126293040648827,
          0.6704385411101937,
          0.463406342576854,
          0.2922757515419358,
          0.1974649118546938,
          0.13411199067553786,
          0.08375018211840124,
          0.05276577145354767,
          0.10085717060851829,
          0.2674712252926036,
          0.12555242581710457,
          0.0454081880433199,
          0.03859695983682191,
          0.05754941479287067,
          0.08617842746831139,
          0.06618182701180127,
          0.025144480598319655,
          0.025751541935797193,
          0.006058472148025837
         ]
        }
       ],
       "layout": {
        "template": {
         "data": {
          "bar": [
           {
            "error_x": {
             "color": "#2a3f5f"
            },
            "error_y": {
             "color": "#2a3f5f"
            },
            "marker": {
             "line": {
              "color": "#E5ECF6",
              "width": 0.5
             },
             "pattern": {
              "fillmode": "overlay",
              "size": 10,
              "solidity": 0.2
             }
            },
            "type": "bar"
           }
          ],
          "barpolar": [
           {
            "marker": {
             "line": {
              "color": "#E5ECF6",
              "width": 0.5
             },
             "pattern": {
              "fillmode": "overlay",
              "size": 10,
              "solidity": 0.2
             }
            },
            "type": "barpolar"
           }
          ],
          "carpet": [
           {
            "aaxis": {
             "endlinecolor": "#2a3f5f",
             "gridcolor": "white",
             "linecolor": "white",
             "minorgridcolor": "white",
             "startlinecolor": "#2a3f5f"
            },
            "baxis": {
             "endlinecolor": "#2a3f5f",
             "gridcolor": "white",
             "linecolor": "white",
             "minorgridcolor": "white",
             "startlinecolor": "#2a3f5f"
            },
            "type": "carpet"
           }
          ],
          "choropleth": [
           {
            "colorbar": {
             "outlinewidth": 0,
             "ticks": ""
            },
            "type": "choropleth"
           }
          ],
          "contour": [
           {
            "colorbar": {
             "outlinewidth": 0,
             "ticks": ""
            },
            "colorscale": [
             [
              0,
              "#0d0887"
             ],
             [
              0.1111111111111111,
              "#46039f"
             ],
             [
              0.2222222222222222,
              "#7201a8"
             ],
             [
              0.3333333333333333,
              "#9c179e"
             ],
             [
              0.4444444444444444,
              "#bd3786"
             ],
             [
              0.5555555555555556,
              "#d8576b"
             ],
             [
              0.6666666666666666,
              "#ed7953"
             ],
             [
              0.7777777777777778,
              "#fb9f3a"
             ],
             [
              0.8888888888888888,
              "#fdca26"
             ],
             [
              1,
              "#f0f921"
             ]
            ],
            "type": "contour"
           }
          ],
          "contourcarpet": [
           {
            "colorbar": {
             "outlinewidth": 0,
             "ticks": ""
            },
            "type": "contourcarpet"
           }
          ],
          "heatmap": [
           {
            "colorbar": {
             "outlinewidth": 0,
             "ticks": ""
            },
            "colorscale": [
             [
              0,
              "#0d0887"
             ],
             [
              0.1111111111111111,
              "#46039f"
             ],
             [
              0.2222222222222222,
              "#7201a8"
             ],
             [
              0.3333333333333333,
              "#9c179e"
             ],
             [
              0.4444444444444444,
              "#bd3786"
             ],
             [
              0.5555555555555556,
              "#d8576b"
             ],
             [
              0.6666666666666666,
              "#ed7953"
             ],
             [
              0.7777777777777778,
              "#fb9f3a"
             ],
             [
              0.8888888888888888,
              "#fdca26"
             ],
             [
              1,
              "#f0f921"
             ]
            ],
            "type": "heatmap"
           }
          ],
          "heatmapgl": [
           {
            "colorbar": {
             "outlinewidth": 0,
             "ticks": ""
            },
            "colorscale": [
             [
              0,
              "#0d0887"
             ],
             [
              0.1111111111111111,
              "#46039f"
             ],
             [
              0.2222222222222222,
              "#7201a8"
             ],
             [
              0.3333333333333333,
              "#9c179e"
             ],
             [
              0.4444444444444444,
              "#bd3786"
             ],
             [
              0.5555555555555556,
              "#d8576b"
             ],
             [
              0.6666666666666666,
              "#ed7953"
             ],
             [
              0.7777777777777778,
              "#fb9f3a"
             ],
             [
              0.8888888888888888,
              "#fdca26"
             ],
             [
              1,
              "#f0f921"
             ]
            ],
            "type": "heatmapgl"
           }
          ],
          "histogram": [
           {
            "marker": {
             "pattern": {
              "fillmode": "overlay",
              "size": 10,
              "solidity": 0.2
             }
            },
            "type": "histogram"
           }
          ],
          "histogram2d": [
           {
            "colorbar": {
             "outlinewidth": 0,
             "ticks": ""
            },
            "colorscale": [
             [
              0,
              "#0d0887"
             ],
             [
              0.1111111111111111,
              "#46039f"
             ],
             [
              0.2222222222222222,
              "#7201a8"
             ],
             [
              0.3333333333333333,
              "#9c179e"
             ],
             [
              0.4444444444444444,
              "#bd3786"
             ],
             [
              0.5555555555555556,
              "#d8576b"
             ],
             [
              0.6666666666666666,
              "#ed7953"
             ],
             [
              0.7777777777777778,
              "#fb9f3a"
             ],
             [
              0.8888888888888888,
              "#fdca26"
             ],
             [
              1,
              "#f0f921"
             ]
            ],
            "type": "histogram2d"
           }
          ],
          "histogram2dcontour": [
           {
            "colorbar": {
             "outlinewidth": 0,
             "ticks": ""
            },
            "colorscale": [
             [
              0,
              "#0d0887"
             ],
             [
              0.1111111111111111,
              "#46039f"
             ],
             [
              0.2222222222222222,
              "#7201a8"
             ],
             [
              0.3333333333333333,
              "#9c179e"
             ],
             [
              0.4444444444444444,
              "#bd3786"
             ],
             [
              0.5555555555555556,
              "#d8576b"
             ],
             [
              0.6666666666666666,
              "#ed7953"
             ],
             [
              0.7777777777777778,
              "#fb9f3a"
             ],
             [
              0.8888888888888888,
              "#fdca26"
             ],
             [
              1,
              "#f0f921"
             ]
            ],
            "type": "histogram2dcontour"
           }
          ],
          "mesh3d": [
           {
            "colorbar": {
             "outlinewidth": 0,
             "ticks": ""
            },
            "type": "mesh3d"
           }
          ],
          "parcoords": [
           {
            "line": {
             "colorbar": {
              "outlinewidth": 0,
              "ticks": ""
             }
            },
            "type": "parcoords"
           }
          ],
          "pie": [
           {
            "automargin": true,
            "type": "pie"
           }
          ],
          "scatter": [
           {
            "fillpattern": {
             "fillmode": "overlay",
             "size": 10,
             "solidity": 0.2
            },
            "type": "scatter"
           }
          ],
          "scatter3d": [
           {
            "line": {
             "colorbar": {
              "outlinewidth": 0,
              "ticks": ""
             }
            },
            "marker": {
             "colorbar": {
              "outlinewidth": 0,
              "ticks": ""
             }
            },
            "type": "scatter3d"
           }
          ],
          "scattercarpet": [
           {
            "marker": {
             "colorbar": {
              "outlinewidth": 0,
              "ticks": ""
             }
            },
            "type": "scattercarpet"
           }
          ],
          "scattergeo": [
           {
            "marker": {
             "colorbar": {
              "outlinewidth": 0,
              "ticks": ""
             }
            },
            "type": "scattergeo"
           }
          ],
          "scattergl": [
           {
            "marker": {
             "colorbar": {
              "outlinewidth": 0,
              "ticks": ""
             }
            },
            "type": "scattergl"
           }
          ],
          "scattermapbox": [
           {
            "marker": {
             "colorbar": {
              "outlinewidth": 0,
              "ticks": ""
             }
            },
            "type": "scattermapbox"
           }
          ],
          "scatterpolar": [
           {
            "marker": {
             "colorbar": {
              "outlinewidth": 0,
              "ticks": ""
             }
            },
            "type": "scatterpolar"
           }
          ],
          "scatterpolargl": [
           {
            "marker": {
             "colorbar": {
              "outlinewidth": 0,
              "ticks": ""
             }
            },
            "type": "scatterpolargl"
           }
          ],
          "scatterternary": [
           {
            "marker": {
             "colorbar": {
              "outlinewidth": 0,
              "ticks": ""
             }
            },
            "type": "scatterternary"
           }
          ],
          "surface": [
           {
            "colorbar": {
             "outlinewidth": 0,
             "ticks": ""
            },
            "colorscale": [
             [
              0,
              "#0d0887"
             ],
             [
              0.1111111111111111,
              "#46039f"
             ],
             [
              0.2222222222222222,
              "#7201a8"
             ],
             [
              0.3333333333333333,
              "#9c179e"
             ],
             [
              0.4444444444444444,
              "#bd3786"
             ],
             [
              0.5555555555555556,
              "#d8576b"
             ],
             [
              0.6666666666666666,
              "#ed7953"
             ],
             [
              0.7777777777777778,
              "#fb9f3a"
             ],
             [
              0.8888888888888888,
              "#fdca26"
             ],
             [
              1,
              "#f0f921"
             ]
            ],
            "type": "surface"
           }
          ],
          "table": [
           {
            "cells": {
             "fill": {
              "color": "#EBF0F8"
             },
             "line": {
              "color": "white"
             }
            },
            "header": {
             "fill": {
              "color": "#C8D4E3"
             },
             "line": {
              "color": "white"
             }
            },
            "type": "table"
           }
          ]
         },
         "layout": {
          "annotationdefaults": {
           "arrowcolor": "#2a3f5f",
           "arrowhead": 0,
           "arrowwidth": 1
          },
          "autotypenumbers": "strict",
          "coloraxis": {
           "colorbar": {
            "outlinewidth": 0,
            "ticks": ""
           }
          },
          "colorscale": {
           "diverging": [
            [
             0,
             "#8e0152"
            ],
            [
             0.1,
             "#c51b7d"
            ],
            [
             0.2,
             "#de77ae"
            ],
            [
             0.3,
             "#f1b6da"
            ],
            [
             0.4,
             "#fde0ef"
            ],
            [
             0.5,
             "#f7f7f7"
            ],
            [
             0.6,
             "#e6f5d0"
            ],
            [
             0.7,
             "#b8e186"
            ],
            [
             0.8,
             "#7fbc41"
            ],
            [
             0.9,
             "#4d9221"
            ],
            [
             1,
             "#276419"
            ]
           ],
           "sequential": [
            [
             0,
             "#0d0887"
            ],
            [
             0.1111111111111111,
             "#46039f"
            ],
            [
             0.2222222222222222,
             "#7201a8"
            ],
            [
             0.3333333333333333,
             "#9c179e"
            ],
            [
             0.4444444444444444,
             "#bd3786"
            ],
            [
             0.5555555555555556,
             "#d8576b"
            ],
            [
             0.6666666666666666,
             "#ed7953"
            ],
            [
             0.7777777777777778,
             "#fb9f3a"
            ],
            [
             0.8888888888888888,
             "#fdca26"
            ],
            [
             1,
             "#f0f921"
            ]
           ],
           "sequentialminus": [
            [
             0,
             "#0d0887"
            ],
            [
             0.1111111111111111,
             "#46039f"
            ],
            [
             0.2222222222222222,
             "#7201a8"
            ],
            [
             0.3333333333333333,
             "#9c179e"
            ],
            [
             0.4444444444444444,
             "#bd3786"
            ],
            [
             0.5555555555555556,
             "#d8576b"
            ],
            [
             0.6666666666666666,
             "#ed7953"
            ],
            [
             0.7777777777777778,
             "#fb9f3a"
            ],
            [
             0.8888888888888888,
             "#fdca26"
            ],
            [
             1,
             "#f0f921"
            ]
           ]
          },
          "colorway": [
           "#636efa",
           "#EF553B",
           "#00cc96",
           "#ab63fa",
           "#FFA15A",
           "#19d3f3",
           "#FF6692",
           "#B6E880",
           "#FF97FF",
           "#FECB52"
          ],
          "font": {
           "color": "#2a3f5f"
          },
          "geo": {
           "bgcolor": "white",
           "lakecolor": "white",
           "landcolor": "#E5ECF6",
           "showlakes": true,
           "showland": true,
           "subunitcolor": "white"
          },
          "hoverlabel": {
           "align": "left"
          },
          "hovermode": "closest",
          "mapbox": {
           "style": "light"
          },
          "paper_bgcolor": "white",
          "plot_bgcolor": "#E5ECF6",
          "polar": {
           "angularaxis": {
            "gridcolor": "white",
            "linecolor": "white",
            "ticks": ""
           },
           "bgcolor": "#E5ECF6",
           "radialaxis": {
            "gridcolor": "white",
            "linecolor": "white",
            "ticks": ""
           }
          },
          "scene": {
           "xaxis": {
            "backgroundcolor": "#E5ECF6",
            "gridcolor": "white",
            "gridwidth": 2,
            "linecolor": "white",
            "showbackground": true,
            "ticks": "",
            "zerolinecolor": "white"
           },
           "yaxis": {
            "backgroundcolor": "#E5ECF6",
            "gridcolor": "white",
            "gridwidth": 2,
            "linecolor": "white",
            "showbackground": true,
            "ticks": "",
            "zerolinecolor": "white"
           },
           "zaxis": {
            "backgroundcolor": "#E5ECF6",
            "gridcolor": "white",
            "gridwidth": 2,
            "linecolor": "white",
            "showbackground": true,
            "ticks": "",
            "zerolinecolor": "white"
           }
          },
          "shapedefaults": {
           "line": {
            "color": "#2a3f5f"
           }
          },
          "ternary": {
           "aaxis": {
            "gridcolor": "white",
            "linecolor": "white",
            "ticks": ""
           },
           "baxis": {
            "gridcolor": "white",
            "linecolor": "white",
            "ticks": ""
           },
           "bgcolor": "#E5ECF6",
           "caxis": {
            "gridcolor": "white",
            "linecolor": "white",
            "ticks": ""
           }
          },
          "title": {
           "x": 0.05
          },
          "xaxis": {
           "automargin": true,
           "gridcolor": "white",
           "linecolor": "white",
           "ticks": "",
           "title": {
            "standoff": 15
           },
           "zerolinecolor": "white",
           "zerolinewidth": 2
          },
          "yaxis": {
           "automargin": true,
           "gridcolor": "white",
           "linecolor": "white",
           "ticks": "",
           "title": {
            "standoff": 15
           },
           "zerolinecolor": "white",
           "zerolinewidth": 2
          }
         }
        },
        "title": {
         "font": {
          "color": "black",
          "size": 20
         },
         "text": "Comparando Novos casos, suspeitos, vacinados e Óbitos Mês",
         "x": 0.5
        }
       }
      }
     },
     "metadata": {},
     "output_type": "display_data"
    }
   ],
   "source": [
    "# plotando novos casos, suspeitas, vacinados e óbitos\n",
    "fig_infec_susp_vacin_mortes = go.Figure()\n",
    "fig_infec_susp_vacin_mortes = fig_infec_susp_vacin_mortes.add_trace(go.Scatter(x = months.index, \n",
    "                               y = scaled_months[\"newCases\"],\n",
    "                               mode = 'lines+markers',\n",
    "                               name = \"Infecções\",\n",
    "                               line = dict(color='royalblue',width=2,dash='dot')))\n",
    "fig_infec_susp_vacin_mortes = fig_infec_susp_vacin_mortes.add_trace(go.Scatter(x = months.index, \n",
    "                               y = scaled_months[\"suspects\"],\n",
    "                               mode = 'lines+markers',\n",
    "                               name = \"Suspeitos\",\n",
    "                               line = dict(color='orange',width=2,dash='dot')))\n",
    "fig_infec_susp_vacin_mortes = fig_infec_susp_vacin_mortes.add_trace(go.Scatter(x = months.index, \n",
    "                               y = scaled_months[\"vaccinated\"],\n",
    "                               mode = 'lines+markers',\n",
    "                               name = \"Vacinados\"))\n",
    "fig_infec_susp_vacin_mortes = fig_infec_susp_vacin_mortes.add_trace(go.Scatter(x = months.index, \n",
    "                               y = scaled_months[\"newDeaths\"],\n",
    "                               mode = 'lines+markers',\n",
    "                               name = \"Óbitos\",\n",
    "                               line = dict(color='red')\n",
    "                               ))\n",
    "fig_infec_susp_vacin_mortes.update_layout(\n",
    "                                title='Comparando Novos casos, suspeitos, vacinados e Óbitos Mês',\n",
    "                                title_font_size = 20,\n",
    "                                title_font_color = 'black',\n",
    "                                title_x = 0.5)\n",
    "fig_infec_susp_vacin_mortes.show()"
   ]
  },
  {
   "cell_type": "code",
   "execution_count": 33,
   "id": "10861eef",
   "metadata": {},
   "outputs": [
    {
     "data": {
      "application/vnd.plotly.v1+json": {
       "config": {
        "plotlyServerURL": "https://plot.ly"
       },
       "data": [
        {
         "line": {
          "color": "royalblue",
          "dash": "dot",
          "width": 2
         },
         "mode": "lines+markers",
         "name": "Infecções",
         "type": "scatter",
         "x": [
          "2020-02-29T00:00:00",
          "2020-03-31T00:00:00",
          "2020-04-30T00:00:00",
          "2020-05-31T00:00:00",
          "2020-06-30T00:00:00",
          "2020-07-31T00:00:00",
          "2020-08-31T00:00:00",
          "2020-09-30T00:00:00",
          "2020-10-31T00:00:00",
          "2020-11-30T00:00:00",
          "2020-12-31T00:00:00",
          "2021-01-31T00:00:00",
          "2021-02-28T00:00:00",
          "2021-03-31T00:00:00",
          "2021-04-30T00:00:00",
          "2021-05-31T00:00:00",
          "2021-06-30T00:00:00",
          "2021-07-31T00:00:00",
          "2021-08-31T00:00:00",
          "2021-09-30T00:00:00",
          "2021-10-31T00:00:00",
          "2021-11-30T00:00:00",
          "2021-12-31T00:00:00",
          "2022-01-31T00:00:00",
          "2022-02-28T00:00:00",
          "2022-03-31T00:00:00",
          "2022-04-30T00:00:00",
          "2022-05-31T00:00:00",
          "2022-06-30T00:00:00",
          "2022-07-31T00:00:00",
          "2022-08-31T00:00:00",
          "2022-09-30T00:00:00",
          "2022-10-31T00:00:00",
          "2022-11-30T00:00:00"
         ],
         "y": [
          0,
          0.001751456311848301,
          0.024464714926410246,
          0.12909406674613425,
          0.26977844077655116,
          0.3784824864901628,
          0.3742669538413018,
          0.2716890930315211,
          0.21676649265456677,
          0.24198806542020357,
          0.4029363676661905,
          0.45959838685456805,
          0.4060585943389441,
          0.663560891244494,
          0.5752101521871085,
          0.5665175721926518,
          0.6055187726323816,
          0.40673570373785456,
          0.25966242635682946,
          0.1947309453139365,
          0.1150092884362655,
          0.08591254334628669,
          0.05773907453891107,
          0.9572831241165604,
          1,
          0.3476737079022278,
          0.15057077312953043,
          0.17177513106580933,
          0.4029487061041262,
          0.444147653183964,
          0.17934401039558537,
          0.07302820476630847,
          0.0470133607226593,
          0.023908582406771815
         ]
        },
        {
         "name": "Óbitos",
         "type": "bar",
         "x": [
          "2020-02-29T00:00:00",
          "2020-03-31T00:00:00",
          "2020-04-30T00:00:00",
          "2020-05-31T00:00:00",
          "2020-06-30T00:00:00",
          "2020-07-31T00:00:00",
          "2020-08-31T00:00:00",
          "2020-09-30T00:00:00",
          "2020-10-31T00:00:00",
          "2020-11-30T00:00:00",
          "2020-12-31T00:00:00",
          "2021-01-31T00:00:00",
          "2021-02-28T00:00:00",
          "2021-03-31T00:00:00",
          "2021-04-30T00:00:00",
          "2021-05-31T00:00:00",
          "2021-06-30T00:00:00",
          "2021-07-31T00:00:00",
          "2021-08-31T00:00:00",
          "2021-09-30T00:00:00",
          "2021-10-31T00:00:00",
          "2021-11-30T00:00:00",
          "2021-12-31T00:00:00",
          "2022-01-31T00:00:00",
          "2022-02-28T00:00:00",
          "2022-03-31T00:00:00",
          "2022-04-30T00:00:00",
          "2022-05-31T00:00:00",
          "2022-06-30T00:00:00",
          "2022-07-31T00:00:00",
          "2022-08-31T00:00:00",
          "2022-09-30T00:00:00",
          "2022-10-31T00:00:00",
          "2022-11-30T00:00:00"
         ],
         "y": [
          0,
          0.0024525278034092566,
          0.07015200815890438,
          0.28392258753824484,
          0.36928755281433634,
          0.3997377495022097,
          0.3503108154047885,
          0.27280122383565636,
          0.19292409305036182,
          0.16141760963527754,
          0.26463017823320867,
          0.35890680394347046,
          0.370513816716041,
          0.8124787528531883,
          1,
          0.7126293040648827,
          0.6704385411101937,
          0.463406342576854,
          0.2922757515419358,
          0.1974649118546938,
          0.13411199067553786,
          0.08375018211840124,
          0.05276577145354767,
          0.10085717060851829,
          0.2674712252926036,
          0.12555242581710457,
          0.0454081880433199,
          0.03859695983682191,
          0.05754941479287067,
          0.08617842746831139,
          0.06618182701180127,
          0.025144480598319655,
          0.025751541935797193,
          0.006058472148025837
         ]
        }
       ],
       "layout": {
        "annotations": [
         {
          "bgcolor": "#FFFFFF",
          "bordercolor": "#c7c7c7",
          "borderpad": 4,
          "borderwidth": 2,
          "text": "Início das Vacinações no Brasil",
          "x": "2021-01-17",
          "y": 1
         }
        ],
        "shapes": [
         {
          "line": {
           "dash": "dot",
           "width": 2
          },
          "type": "line",
          "x0": "2021-01-17",
          "x1": "2021-01-17",
          "xref": "x",
          "y0": 0,
          "y1": 1,
          "yref": "y domain"
         }
        ],
        "template": {
         "data": {
          "bar": [
           {
            "error_x": {
             "color": "#2a3f5f"
            },
            "error_y": {
             "color": "#2a3f5f"
            },
            "marker": {
             "line": {
              "color": "#E5ECF6",
              "width": 0.5
             },
             "pattern": {
              "fillmode": "overlay",
              "size": 10,
              "solidity": 0.2
             }
            },
            "type": "bar"
           }
          ],
          "barpolar": [
           {
            "marker": {
             "line": {
              "color": "#E5ECF6",
              "width": 0.5
             },
             "pattern": {
              "fillmode": "overlay",
              "size": 10,
              "solidity": 0.2
             }
            },
            "type": "barpolar"
           }
          ],
          "carpet": [
           {
            "aaxis": {
             "endlinecolor": "#2a3f5f",
             "gridcolor": "white",
             "linecolor": "white",
             "minorgridcolor": "white",
             "startlinecolor": "#2a3f5f"
            },
            "baxis": {
             "endlinecolor": "#2a3f5f",
             "gridcolor": "white",
             "linecolor": "white",
             "minorgridcolor": "white",
             "startlinecolor": "#2a3f5f"
            },
            "type": "carpet"
           }
          ],
          "choropleth": [
           {
            "colorbar": {
             "outlinewidth": 0,
             "ticks": ""
            },
            "type": "choropleth"
           }
          ],
          "contour": [
           {
            "colorbar": {
             "outlinewidth": 0,
             "ticks": ""
            },
            "colorscale": [
             [
              0,
              "#0d0887"
             ],
             [
              0.1111111111111111,
              "#46039f"
             ],
             [
              0.2222222222222222,
              "#7201a8"
             ],
             [
              0.3333333333333333,
              "#9c179e"
             ],
             [
              0.4444444444444444,
              "#bd3786"
             ],
             [
              0.5555555555555556,
              "#d8576b"
             ],
             [
              0.6666666666666666,
              "#ed7953"
             ],
             [
              0.7777777777777778,
              "#fb9f3a"
             ],
             [
              0.8888888888888888,
              "#fdca26"
             ],
             [
              1,
              "#f0f921"
             ]
            ],
            "type": "contour"
           }
          ],
          "contourcarpet": [
           {
            "colorbar": {
             "outlinewidth": 0,
             "ticks": ""
            },
            "type": "contourcarpet"
           }
          ],
          "heatmap": [
           {
            "colorbar": {
             "outlinewidth": 0,
             "ticks": ""
            },
            "colorscale": [
             [
              0,
              "#0d0887"
             ],
             [
              0.1111111111111111,
              "#46039f"
             ],
             [
              0.2222222222222222,
              "#7201a8"
             ],
             [
              0.3333333333333333,
              "#9c179e"
             ],
             [
              0.4444444444444444,
              "#bd3786"
             ],
             [
              0.5555555555555556,
              "#d8576b"
             ],
             [
              0.6666666666666666,
              "#ed7953"
             ],
             [
              0.7777777777777778,
              "#fb9f3a"
             ],
             [
              0.8888888888888888,
              "#fdca26"
             ],
             [
              1,
              "#f0f921"
             ]
            ],
            "type": "heatmap"
           }
          ],
          "heatmapgl": [
           {
            "colorbar": {
             "outlinewidth": 0,
             "ticks": ""
            },
            "colorscale": [
             [
              0,
              "#0d0887"
             ],
             [
              0.1111111111111111,
              "#46039f"
             ],
             [
              0.2222222222222222,
              "#7201a8"
             ],
             [
              0.3333333333333333,
              "#9c179e"
             ],
             [
              0.4444444444444444,
              "#bd3786"
             ],
             [
              0.5555555555555556,
              "#d8576b"
             ],
             [
              0.6666666666666666,
              "#ed7953"
             ],
             [
              0.7777777777777778,
              "#fb9f3a"
             ],
             [
              0.8888888888888888,
              "#fdca26"
             ],
             [
              1,
              "#f0f921"
             ]
            ],
            "type": "heatmapgl"
           }
          ],
          "histogram": [
           {
            "marker": {
             "pattern": {
              "fillmode": "overlay",
              "size": 10,
              "solidity": 0.2
             }
            },
            "type": "histogram"
           }
          ],
          "histogram2d": [
           {
            "colorbar": {
             "outlinewidth": 0,
             "ticks": ""
            },
            "colorscale": [
             [
              0,
              "#0d0887"
             ],
             [
              0.1111111111111111,
              "#46039f"
             ],
             [
              0.2222222222222222,
              "#7201a8"
             ],
             [
              0.3333333333333333,
              "#9c179e"
             ],
             [
              0.4444444444444444,
              "#bd3786"
             ],
             [
              0.5555555555555556,
              "#d8576b"
             ],
             [
              0.6666666666666666,
              "#ed7953"
             ],
             [
              0.7777777777777778,
              "#fb9f3a"
             ],
             [
              0.8888888888888888,
              "#fdca26"
             ],
             [
              1,
              "#f0f921"
             ]
            ],
            "type": "histogram2d"
           }
          ],
          "histogram2dcontour": [
           {
            "colorbar": {
             "outlinewidth": 0,
             "ticks": ""
            },
            "colorscale": [
             [
              0,
              "#0d0887"
             ],
             [
              0.1111111111111111,
              "#46039f"
             ],
             [
              0.2222222222222222,
              "#7201a8"
             ],
             [
              0.3333333333333333,
              "#9c179e"
             ],
             [
              0.4444444444444444,
              "#bd3786"
             ],
             [
              0.5555555555555556,
              "#d8576b"
             ],
             [
              0.6666666666666666,
              "#ed7953"
             ],
             [
              0.7777777777777778,
              "#fb9f3a"
             ],
             [
              0.8888888888888888,
              "#fdca26"
             ],
             [
              1,
              "#f0f921"
             ]
            ],
            "type": "histogram2dcontour"
           }
          ],
          "mesh3d": [
           {
            "colorbar": {
             "outlinewidth": 0,
             "ticks": ""
            },
            "type": "mesh3d"
           }
          ],
          "parcoords": [
           {
            "line": {
             "colorbar": {
              "outlinewidth": 0,
              "ticks": ""
             }
            },
            "type": "parcoords"
           }
          ],
          "pie": [
           {
            "automargin": true,
            "type": "pie"
           }
          ],
          "scatter": [
           {
            "fillpattern": {
             "fillmode": "overlay",
             "size": 10,
             "solidity": 0.2
            },
            "type": "scatter"
           }
          ],
          "scatter3d": [
           {
            "line": {
             "colorbar": {
              "outlinewidth": 0,
              "ticks": ""
             }
            },
            "marker": {
             "colorbar": {
              "outlinewidth": 0,
              "ticks": ""
             }
            },
            "type": "scatter3d"
           }
          ],
          "scattercarpet": [
           {
            "marker": {
             "colorbar": {
              "outlinewidth": 0,
              "ticks": ""
             }
            },
            "type": "scattercarpet"
           }
          ],
          "scattergeo": [
           {
            "marker": {
             "colorbar": {
              "outlinewidth": 0,
              "ticks": ""
             }
            },
            "type": "scattergeo"
           }
          ],
          "scattergl": [
           {
            "marker": {
             "colorbar": {
              "outlinewidth": 0,
              "ticks": ""
             }
            },
            "type": "scattergl"
           }
          ],
          "scattermapbox": [
           {
            "marker": {
             "colorbar": {
              "outlinewidth": 0,
              "ticks": ""
             }
            },
            "type": "scattermapbox"
           }
          ],
          "scatterpolar": [
           {
            "marker": {
             "colorbar": {
              "outlinewidth": 0,
              "ticks": ""
             }
            },
            "type": "scatterpolar"
           }
          ],
          "scatterpolargl": [
           {
            "marker": {
             "colorbar": {
              "outlinewidth": 0,
              "ticks": ""
             }
            },
            "type": "scatterpolargl"
           }
          ],
          "scatterternary": [
           {
            "marker": {
             "colorbar": {
              "outlinewidth": 0,
              "ticks": ""
             }
            },
            "type": "scatterternary"
           }
          ],
          "surface": [
           {
            "colorbar": {
             "outlinewidth": 0,
             "ticks": ""
            },
            "colorscale": [
             [
              0,
              "#0d0887"
             ],
             [
              0.1111111111111111,
              "#46039f"
             ],
             [
              0.2222222222222222,
              "#7201a8"
             ],
             [
              0.3333333333333333,
              "#9c179e"
             ],
             [
              0.4444444444444444,
              "#bd3786"
             ],
             [
              0.5555555555555556,
              "#d8576b"
             ],
             [
              0.6666666666666666,
              "#ed7953"
             ],
             [
              0.7777777777777778,
              "#fb9f3a"
             ],
             [
              0.8888888888888888,
              "#fdca26"
             ],
             [
              1,
              "#f0f921"
             ]
            ],
            "type": "surface"
           }
          ],
          "table": [
           {
            "cells": {
             "fill": {
              "color": "#EBF0F8"
             },
             "line": {
              "color": "white"
             }
            },
            "header": {
             "fill": {
              "color": "#C8D4E3"
             },
             "line": {
              "color": "white"
             }
            },
            "type": "table"
           }
          ]
         },
         "layout": {
          "annotationdefaults": {
           "arrowcolor": "#2a3f5f",
           "arrowhead": 0,
           "arrowwidth": 1
          },
          "autotypenumbers": "strict",
          "coloraxis": {
           "colorbar": {
            "outlinewidth": 0,
            "ticks": ""
           }
          },
          "colorscale": {
           "diverging": [
            [
             0,
             "#8e0152"
            ],
            [
             0.1,
             "#c51b7d"
            ],
            [
             0.2,
             "#de77ae"
            ],
            [
             0.3,
             "#f1b6da"
            ],
            [
             0.4,
             "#fde0ef"
            ],
            [
             0.5,
             "#f7f7f7"
            ],
            [
             0.6,
             "#e6f5d0"
            ],
            [
             0.7,
             "#b8e186"
            ],
            [
             0.8,
             "#7fbc41"
            ],
            [
             0.9,
             "#4d9221"
            ],
            [
             1,
             "#276419"
            ]
           ],
           "sequential": [
            [
             0,
             "#0d0887"
            ],
            [
             0.1111111111111111,
             "#46039f"
            ],
            [
             0.2222222222222222,
             "#7201a8"
            ],
            [
             0.3333333333333333,
             "#9c179e"
            ],
            [
             0.4444444444444444,
             "#bd3786"
            ],
            [
             0.5555555555555556,
             "#d8576b"
            ],
            [
             0.6666666666666666,
             "#ed7953"
            ],
            [
             0.7777777777777778,
             "#fb9f3a"
            ],
            [
             0.8888888888888888,
             "#fdca26"
            ],
            [
             1,
             "#f0f921"
            ]
           ],
           "sequentialminus": [
            [
             0,
             "#0d0887"
            ],
            [
             0.1111111111111111,
             "#46039f"
            ],
            [
             0.2222222222222222,
             "#7201a8"
            ],
            [
             0.3333333333333333,
             "#9c179e"
            ],
            [
             0.4444444444444444,
             "#bd3786"
            ],
            [
             0.5555555555555556,
             "#d8576b"
            ],
            [
             0.6666666666666666,
             "#ed7953"
            ],
            [
             0.7777777777777778,
             "#fb9f3a"
            ],
            [
             0.8888888888888888,
             "#fdca26"
            ],
            [
             1,
             "#f0f921"
            ]
           ]
          },
          "colorway": [
           "#636efa",
           "#EF553B",
           "#00cc96",
           "#ab63fa",
           "#FFA15A",
           "#19d3f3",
           "#FF6692",
           "#B6E880",
           "#FF97FF",
           "#FECB52"
          ],
          "font": {
           "color": "#2a3f5f"
          },
          "geo": {
           "bgcolor": "white",
           "lakecolor": "white",
           "landcolor": "#E5ECF6",
           "showlakes": true,
           "showland": true,
           "subunitcolor": "white"
          },
          "hoverlabel": {
           "align": "left"
          },
          "hovermode": "closest",
          "mapbox": {
           "style": "light"
          },
          "paper_bgcolor": "white",
          "plot_bgcolor": "#E5ECF6",
          "polar": {
           "angularaxis": {
            "gridcolor": "white",
            "linecolor": "white",
            "ticks": ""
           },
           "bgcolor": "#E5ECF6",
           "radialaxis": {
            "gridcolor": "white",
            "linecolor": "white",
            "ticks": ""
           }
          },
          "scene": {
           "xaxis": {
            "backgroundcolor": "#E5ECF6",
            "gridcolor": "white",
            "gridwidth": 2,
            "linecolor": "white",
            "showbackground": true,
            "ticks": "",
            "zerolinecolor": "white"
           },
           "yaxis": {
            "backgroundcolor": "#E5ECF6",
            "gridcolor": "white",
            "gridwidth": 2,
            "linecolor": "white",
            "showbackground": true,
            "ticks": "",
            "zerolinecolor": "white"
           },
           "zaxis": {
            "backgroundcolor": "#E5ECF6",
            "gridcolor": "white",
            "gridwidth": 2,
            "linecolor": "white",
            "showbackground": true,
            "ticks": "",
            "zerolinecolor": "white"
           }
          },
          "shapedefaults": {
           "line": {
            "color": "#2a3f5f"
           }
          },
          "ternary": {
           "aaxis": {
            "gridcolor": "white",
            "linecolor": "white",
            "ticks": ""
           },
           "baxis": {
            "gridcolor": "white",
            "linecolor": "white",
            "ticks": ""
           },
           "bgcolor": "#E5ECF6",
           "caxis": {
            "gridcolor": "white",
            "linecolor": "white",
            "ticks": ""
           }
          },
          "title": {
           "x": 0.05
          },
          "xaxis": {
           "automargin": true,
           "gridcolor": "white",
           "linecolor": "white",
           "ticks": "",
           "title": {
            "standoff": 15
           },
           "zerolinecolor": "white",
           "zerolinewidth": 2
          },
          "yaxis": {
           "automargin": true,
           "gridcolor": "white",
           "linecolor": "white",
           "ticks": "",
           "title": {
            "standoff": 15
           },
           "zerolinecolor": "white",
           "zerolinewidth": 2
          }
         }
        },
        "title": {
         "font": {
          "color": "black",
          "size": 20
         },
         "text": "Relação das Infecções e Óbitos por Covid",
         "x": 0.5
        }
       }
      }
     },
     "metadata": {},
     "output_type": "display_data"
    }
   ],
   "source": [
    "# Plotando relaçao das infecções e óbitos por covid:\n",
    "fig_infec_mortes_covid = go.Figure()\n",
    "fig_infec_mortes_covid = fig_infec_mortes_covid.add_trace(go.Scatter(x = scaled_months.index,\n",
    "                               y = scaled_months[\"newCases\"], \n",
    "                               mode = 'lines+markers',\n",
    "                               name = \"Infecções\",\n",
    "                               line = dict(color='royalblue',width=2,dash='dot')))\n",
    "\n",
    "fig_infec_mortes_covid = fig_infec_mortes_covid.add_trace(go.Bar(x = scaled_months.index,\n",
    "                           y = scaled_months[\"newDeaths\"], \n",
    "                           name = \"Óbitos\"))\n",
    "\n",
    "fig_infec_mortes_covid.add_vline(x='2021-01-17',\n",
    "                line_width=2,\n",
    "                line_dash=\"dot\")\n",
    "\n",
    "fig_infec_mortes_covid.add_annotation(x=\"2021-01-17\", y = 1,\n",
    "            text=\"Início das Vacinações no Brasil\",\n",
    "            bordercolor=\"#c7c7c7\",\n",
    "            borderwidth=2,\n",
    "            borderpad=4,\n",
    "            bgcolor= \"#FFFFFF\")\n",
    "\n",
    "fig_infec_mortes_covid.update_layout(\n",
    "            title='Relação das Infecções e Óbitos por Covid',\n",
    "            title_font_size = 20,\n",
    "            title_font_color = 'black',\n",
    "            title_x = 0.5)\n",
    "\n",
    "fig_infec_mortes_covid.show()"
   ]
  },
  {
   "cell_type": "code",
   "execution_count": 35,
   "id": "0616c96a",
   "metadata": {},
   "outputs": [],
   "source": [
    "# Analisando a variação de novos casos divulgados:\n",
    "days_var = days.set_index(\"date\").pct_change()\n",
    "weeks_var = weeks.pct_change()\n",
    "months_var = months.pct_change()"
   ]
  },
  {
   "cell_type": "code",
   "execution_count": 36,
   "id": "189bab84",
   "metadata": {},
   "outputs": [
    {
     "data": {
      "application/vnd.plotly.v1+json": {
       "config": {
        "plotlyServerURL": "https://plot.ly"
       },
       "data": [
        {
         "line": {
          "color": "orange"
         },
         "name": "Variação Diária",
         "type": "scatter",
         "x": [
          "2020-02-27T00:00:00",
          "2020-02-28T00:00:00",
          "2020-02-29T00:00:00",
          "2020-03-01T00:00:00",
          "2020-03-02T00:00:00",
          "2020-03-03T00:00:00",
          "2020-03-04T00:00:00",
          "2020-03-05T00:00:00",
          "2020-03-06T00:00:00",
          "2020-03-07T00:00:00",
          "2020-03-08T00:00:00",
          "2020-03-09T00:00:00",
          "2020-03-10T00:00:00",
          "2020-03-11T00:00:00",
          "2020-03-12T00:00:00",
          "2020-03-13T00:00:00",
          "2020-03-14T00:00:00",
          "2020-03-15T00:00:00",
          "2020-03-16T00:00:00",
          "2020-03-17T00:00:00",
          "2020-03-18T00:00:00",
          "2020-03-19T00:00:00",
          "2020-03-20T00:00:00",
          "2020-03-21T00:00:00",
          "2020-03-22T00:00:00",
          "2020-03-23T00:00:00",
          "2020-03-24T00:00:00",
          "2020-03-25T00:00:00",
          "2020-03-26T00:00:00",
          "2020-03-27T00:00:00",
          "2020-03-28T00:00:00",
          "2020-03-29T00:00:00",
          "2020-03-30T00:00:00",
          "2020-03-31T00:00:00",
          "2020-04-01T00:00:00",
          "2020-04-02T00:00:00",
          "2020-04-03T00:00:00",
          "2020-04-04T00:00:00",
          "2020-04-05T00:00:00",
          "2020-04-06T00:00:00",
          "2020-04-07T00:00:00",
          "2020-04-08T00:00:00",
          "2020-04-09T00:00:00",
          "2020-04-10T00:00:00",
          "2020-04-11T00:00:00",
          "2020-04-12T00:00:00",
          "2020-04-13T00:00:00",
          "2020-04-14T00:00:00",
          "2020-04-15T00:00:00",
          "2020-04-16T00:00:00",
          "2020-04-17T00:00:00",
          "2020-04-18T00:00:00",
          "2020-04-19T00:00:00",
          "2020-04-20T00:00:00",
          "2020-04-21T00:00:00",
          "2020-04-22T00:00:00",
          "2020-04-23T00:00:00",
          "2020-04-24T00:00:00",
          "2020-04-25T00:00:00",
          "2020-04-26T00:00:00",
          "2020-04-27T00:00:00",
          "2020-04-28T00:00:00",
          "2020-04-29T00:00:00",
          "2020-04-30T00:00:00",
          "2020-05-01T00:00:00",
          "2020-05-02T00:00:00",
          "2020-05-03T00:00:00",
          "2020-05-04T00:00:00",
          "2020-05-05T00:00:00",
          "2020-05-06T00:00:00",
          "2020-05-07T00:00:00",
          "2020-05-08T00:00:00",
          "2020-05-09T00:00:00",
          "2020-05-10T00:00:00",
          "2020-05-11T00:00:00",
          "2020-05-12T00:00:00",
          "2020-05-13T00:00:00",
          "2020-05-14T00:00:00",
          "2020-05-15T00:00:00",
          "2020-05-16T00:00:00",
          "2020-05-17T00:00:00",
          "2020-05-18T00:00:00",
          "2020-05-19T00:00:00",
          "2020-05-20T00:00:00",
          "2020-05-21T00:00:00",
          "2020-05-22T00:00:00",
          "2020-05-23T00:00:00",
          "2020-05-24T00:00:00",
          "2020-05-25T00:00:00",
          "2020-05-26T00:00:00",
          "2020-05-27T00:00:00",
          "2020-05-28T00:00:00",
          "2020-05-29T00:00:00",
          "2020-05-30T00:00:00",
          "2020-05-31T00:00:00",
          "2020-06-01T00:00:00",
          "2020-06-02T00:00:00",
          "2020-06-03T00:00:00",
          "2020-06-04T00:00:00",
          "2020-06-05T00:00:00",
          "2020-06-06T00:00:00",
          "2020-06-07T00:00:00",
          "2020-06-08T00:00:00",
          "2020-06-09T00:00:00",
          "2020-06-10T00:00:00",
          "2020-06-11T00:00:00",
          "2020-06-12T00:00:00",
          "2020-06-13T00:00:00",
          "2020-06-14T00:00:00",
          "2020-06-15T00:00:00",
          "2020-06-16T00:00:00",
          "2020-06-17T00:00:00",
          "2020-06-18T00:00:00",
          "2020-06-19T00:00:00",
          "2020-06-20T00:00:00",
          "2020-06-21T00:00:00",
          "2020-06-22T00:00:00",
          "2020-06-23T00:00:00",
          "2020-06-24T00:00:00",
          "2020-06-25T00:00:00",
          "2020-06-26T00:00:00",
          "2020-06-27T00:00:00",
          "2020-06-28T00:00:00",
          "2020-06-29T00:00:00",
          "2020-06-30T00:00:00",
          "2020-07-01T00:00:00",
          "2020-07-02T00:00:00",
          "2020-07-03T00:00:00",
          "2020-07-04T00:00:00",
          "2020-07-05T00:00:00",
          "2020-07-06T00:00:00",
          "2020-07-07T00:00:00",
          "2020-07-08T00:00:00",
          "2020-07-09T00:00:00",
          "2020-07-10T00:00:00",
          "2020-07-11T00:00:00",
          "2020-07-12T00:00:00",
          "2020-07-13T00:00:00",
          "2020-07-14T00:00:00",
          "2020-07-15T00:00:00",
          "2020-07-16T00:00:00",
          "2020-07-17T00:00:00",
          "2020-07-18T00:00:00",
          "2020-07-19T00:00:00",
          "2020-07-20T00:00:00",
          "2020-07-21T00:00:00",
          "2020-07-22T00:00:00",
          "2020-07-23T00:00:00",
          "2020-07-24T00:00:00",
          "2020-07-25T00:00:00",
          "2020-07-26T00:00:00",
          "2020-07-27T00:00:00",
          "2020-07-28T00:00:00",
          "2020-07-29T00:00:00",
          "2020-07-30T00:00:00",
          "2020-07-31T00:00:00",
          "2020-08-01T00:00:00",
          "2020-08-02T00:00:00",
          "2020-08-03T00:00:00",
          "2020-08-04T00:00:00",
          "2020-08-05T00:00:00",
          "2020-08-06T00:00:00",
          "2020-08-07T00:00:00",
          "2020-08-08T00:00:00",
          "2020-08-09T00:00:00",
          "2020-08-10T00:00:00",
          "2020-08-11T00:00:00",
          "2020-08-12T00:00:00",
          "2020-08-13T00:00:00",
          "2020-08-14T00:00:00",
          "2020-08-15T00:00:00",
          "2020-08-16T00:00:00",
          "2020-08-17T00:00:00",
          "2020-08-18T00:00:00",
          "2020-08-19T00:00:00",
          "2020-08-20T00:00:00",
          "2020-08-21T00:00:00",
          "2020-08-22T00:00:00",
          "2020-08-23T00:00:00",
          "2020-08-24T00:00:00",
          "2020-08-25T00:00:00",
          "2020-08-26T00:00:00",
          "2020-08-27T00:00:00",
          "2020-08-28T00:00:00",
          "2020-08-29T00:00:00",
          "2020-08-30T00:00:00",
          "2020-08-31T00:00:00",
          "2020-09-01T00:00:00",
          "2020-09-02T00:00:00",
          "2020-09-03T00:00:00",
          "2020-09-04T00:00:00",
          "2020-09-05T00:00:00",
          "2020-09-06T00:00:00",
          "2020-09-07T00:00:00",
          "2020-09-08T00:00:00",
          "2020-09-09T00:00:00",
          "2020-09-10T00:00:00",
          "2020-09-11T00:00:00",
          "2020-09-12T00:00:00",
          "2020-09-13T00:00:00",
          "2020-09-14T00:00:00",
          "2020-09-15T00:00:00",
          "2020-09-16T00:00:00",
          "2020-09-17T00:00:00",
          "2020-09-18T00:00:00",
          "2020-09-19T00:00:00",
          "2020-09-20T00:00:00",
          "2020-09-21T00:00:00",
          "2020-09-22T00:00:00",
          "2020-09-23T00:00:00",
          "2020-09-24T00:00:00",
          "2020-09-25T00:00:00",
          "2020-09-26T00:00:00",
          "2020-09-27T00:00:00",
          "2020-09-28T00:00:00",
          "2020-09-29T00:00:00",
          "2020-09-30T00:00:00",
          "2020-10-01T00:00:00",
          "2020-10-02T00:00:00",
          "2020-10-03T00:00:00",
          "2020-10-04T00:00:00",
          "2020-10-05T00:00:00",
          "2020-10-06T00:00:00",
          "2020-10-07T00:00:00",
          "2020-10-08T00:00:00",
          "2020-10-09T00:00:00",
          "2020-10-10T00:00:00",
          "2020-10-11T00:00:00",
          "2020-10-12T00:00:00",
          "2020-10-13T00:00:00",
          "2020-10-14T00:00:00",
          "2020-10-15T00:00:00",
          "2020-10-16T00:00:00",
          "2020-10-17T00:00:00",
          "2020-10-18T00:00:00",
          "2020-10-19T00:00:00",
          "2020-10-20T00:00:00",
          "2020-10-21T00:00:00",
          "2020-10-22T00:00:00",
          "2020-10-23T00:00:00",
          "2020-10-24T00:00:00",
          "2020-10-25T00:00:00",
          "2020-10-26T00:00:00",
          "2020-10-27T00:00:00",
          "2020-10-28T00:00:00",
          "2020-10-29T00:00:00",
          "2020-10-30T00:00:00",
          "2020-10-31T00:00:00",
          "2020-11-01T00:00:00",
          "2020-11-02T00:00:00",
          "2020-11-03T00:00:00",
          "2020-11-04T00:00:00",
          "2020-11-05T00:00:00",
          "2020-11-06T00:00:00",
          "2020-11-07T00:00:00",
          "2020-11-08T00:00:00",
          "2020-11-09T00:00:00",
          "2020-11-10T00:00:00",
          "2020-11-11T00:00:00",
          "2020-11-12T00:00:00",
          "2020-11-13T00:00:00",
          "2020-11-14T00:00:00",
          "2020-11-15T00:00:00",
          "2020-11-16T00:00:00",
          "2020-11-17T00:00:00",
          "2020-11-18T00:00:00",
          "2020-11-19T00:00:00",
          "2020-11-20T00:00:00",
          "2020-11-21T00:00:00",
          "2020-11-22T00:00:00",
          "2020-11-23T00:00:00",
          "2020-11-24T00:00:00",
          "2020-11-25T00:00:00",
          "2020-11-26T00:00:00",
          "2020-11-27T00:00:00",
          "2020-11-28T00:00:00",
          "2020-11-29T00:00:00",
          "2020-11-30T00:00:00",
          "2020-12-01T00:00:00",
          "2020-12-02T00:00:00",
          "2020-12-03T00:00:00",
          "2020-12-04T00:00:00",
          "2020-12-05T00:00:00",
          "2020-12-06T00:00:00",
          "2020-12-07T00:00:00",
          "2020-12-08T00:00:00",
          "2020-12-09T00:00:00",
          "2020-12-10T00:00:00",
          "2020-12-11T00:00:00",
          "2020-12-12T00:00:00",
          "2020-12-13T00:00:00",
          "2020-12-14T00:00:00",
          "2020-12-15T00:00:00",
          "2020-12-16T00:00:00",
          "2020-12-17T00:00:00",
          "2020-12-18T00:00:00",
          "2020-12-19T00:00:00",
          "2020-12-20T00:00:00",
          "2020-12-21T00:00:00",
          "2020-12-22T00:00:00",
          "2020-12-23T00:00:00",
          "2020-12-24T00:00:00",
          "2020-12-25T00:00:00",
          "2020-12-26T00:00:00",
          "2020-12-27T00:00:00",
          "2020-12-28T00:00:00",
          "2020-12-29T00:00:00",
          "2020-12-30T00:00:00",
          "2020-12-31T00:00:00",
          "2021-01-01T00:00:00",
          "2021-01-02T00:00:00",
          "2021-01-03T00:00:00",
          "2021-01-04T00:00:00",
          "2021-01-05T00:00:00",
          "2021-01-06T00:00:00",
          "2021-01-07T00:00:00",
          "2021-01-08T00:00:00",
          "2021-01-09T00:00:00",
          "2021-01-10T00:00:00",
          "2021-01-11T00:00:00",
          "2021-01-12T00:00:00",
          "2021-01-13T00:00:00",
          "2021-01-14T00:00:00",
          "2021-01-15T00:00:00",
          "2021-01-16T00:00:00",
          "2021-01-17T00:00:00",
          "2021-01-18T00:00:00",
          "2021-01-19T00:00:00",
          "2021-01-20T00:00:00",
          "2021-01-21T00:00:00",
          "2021-01-22T00:00:00",
          "2021-01-23T00:00:00",
          "2021-01-24T00:00:00",
          "2021-01-25T00:00:00",
          "2021-01-26T00:00:00",
          "2021-01-27T00:00:00",
          "2021-01-28T00:00:00",
          "2021-01-29T00:00:00",
          "2021-01-30T00:00:00",
          "2021-01-31T00:00:00",
          "2021-02-01T00:00:00",
          "2021-02-02T00:00:00",
          "2021-02-03T00:00:00",
          "2021-02-04T00:00:00",
          "2021-02-05T00:00:00",
          "2021-02-06T00:00:00",
          "2021-02-07T00:00:00",
          "2021-02-08T00:00:00",
          "2021-02-09T00:00:00",
          "2021-02-10T00:00:00",
          "2021-02-11T00:00:00",
          "2021-02-12T00:00:00",
          "2021-02-13T00:00:00",
          "2021-02-14T00:00:00",
          "2021-02-15T00:00:00",
          "2021-02-16T00:00:00",
          "2021-02-17T00:00:00",
          "2021-02-18T00:00:00",
          "2021-02-19T00:00:00",
          "2021-02-20T00:00:00",
          "2021-02-21T00:00:00",
          "2021-02-22T00:00:00",
          "2021-02-23T00:00:00",
          "2021-02-24T00:00:00",
          "2021-02-25T00:00:00",
          "2021-02-26T00:00:00",
          "2021-02-27T00:00:00",
          "2021-02-28T00:00:00",
          "2021-03-01T00:00:00",
          "2021-03-02T00:00:00",
          "2021-03-03T00:00:00",
          "2021-03-04T00:00:00",
          "2021-03-05T00:00:00",
          "2021-03-06T00:00:00",
          "2021-03-07T00:00:00",
          "2021-03-08T00:00:00",
          "2021-03-09T00:00:00",
          "2021-03-10T00:00:00",
          "2021-03-11T00:00:00",
          "2021-03-12T00:00:00",
          "2021-03-13T00:00:00",
          "2021-03-14T00:00:00",
          "2021-03-15T00:00:00",
          "2021-03-16T00:00:00",
          "2021-03-17T00:00:00",
          "2021-03-18T00:00:00",
          "2021-03-19T00:00:00",
          "2021-03-20T00:00:00",
          "2021-03-21T00:00:00",
          "2021-03-22T00:00:00",
          "2021-03-23T00:00:00",
          "2021-03-24T00:00:00",
          "2021-03-25T00:00:00",
          "2021-03-26T00:00:00",
          "2021-03-27T00:00:00",
          "2021-03-28T00:00:00",
          "2021-03-29T00:00:00",
          "2021-03-30T00:00:00",
          "2021-03-31T00:00:00",
          "2021-04-01T00:00:00",
          "2021-04-02T00:00:00",
          "2021-04-03T00:00:00",
          "2021-04-04T00:00:00",
          "2021-04-05T00:00:00",
          "2021-04-06T00:00:00",
          "2021-04-07T00:00:00",
          "2021-04-08T00:00:00",
          "2021-04-09T00:00:00",
          "2021-04-10T00:00:00",
          "2021-04-11T00:00:00",
          "2021-04-12T00:00:00",
          "2021-04-13T00:00:00",
          "2021-04-14T00:00:00",
          "2021-04-15T00:00:00",
          "2021-04-16T00:00:00",
          "2021-04-17T00:00:00",
          "2021-04-18T00:00:00",
          "2021-04-19T00:00:00",
          "2021-04-20T00:00:00",
          "2021-04-21T00:00:00",
          "2021-04-22T00:00:00",
          "2021-04-23T00:00:00",
          "2021-04-24T00:00:00",
          "2021-04-25T00:00:00",
          "2021-04-26T00:00:00",
          "2021-04-27T00:00:00",
          "2021-04-28T00:00:00",
          "2021-04-29T00:00:00",
          "2021-04-30T00:00:00",
          "2021-05-01T00:00:00",
          "2021-05-02T00:00:00",
          "2021-05-03T00:00:00",
          "2021-05-04T00:00:00",
          "2021-05-05T00:00:00",
          "2021-05-06T00:00:00",
          "2021-05-07T00:00:00",
          "2021-05-08T00:00:00",
          "2021-05-09T00:00:00",
          "2021-05-10T00:00:00",
          "2021-05-11T00:00:00",
          "2021-05-12T00:00:00",
          "2021-05-13T00:00:00",
          "2021-05-14T00:00:00",
          "2021-05-15T00:00:00",
          "2021-05-16T00:00:00",
          "2021-05-17T00:00:00",
          "2021-05-18T00:00:00",
          "2021-05-19T00:00:00",
          "2021-05-20T00:00:00",
          "2021-05-21T00:00:00",
          "2021-05-22T00:00:00",
          "2021-05-23T00:00:00",
          "2021-05-24T00:00:00",
          "2021-05-25T00:00:00",
          "2021-05-26T00:00:00",
          "2021-05-27T00:00:00",
          "2021-05-28T00:00:00",
          "2021-05-29T00:00:00",
          "2021-05-30T00:00:00",
          "2021-05-31T00:00:00",
          "2021-06-01T00:00:00",
          "2021-06-02T00:00:00",
          "2021-06-03T00:00:00",
          "2021-06-04T00:00:00",
          "2021-06-05T00:00:00",
          "2021-06-06T00:00:00",
          "2021-06-07T00:00:00",
          "2021-06-08T00:00:00",
          "2021-06-09T00:00:00",
          "2021-06-10T00:00:00",
          "2021-06-11T00:00:00",
          "2021-06-12T00:00:00",
          "2021-06-13T00:00:00",
          "2021-06-14T00:00:00",
          "2021-06-15T00:00:00",
          "2021-06-16T00:00:00",
          "2021-06-17T00:00:00",
          "2021-06-18T00:00:00",
          "2021-06-19T00:00:00",
          "2021-06-20T00:00:00",
          "2021-06-21T00:00:00",
          "2021-06-22T00:00:00",
          "2021-06-23T00:00:00",
          "2021-06-24T00:00:00",
          "2021-06-25T00:00:00",
          "2021-06-26T00:00:00",
          "2021-06-27T00:00:00",
          "2021-06-28T00:00:00",
          "2021-06-29T00:00:00",
          "2021-06-30T00:00:00",
          "2021-07-01T00:00:00",
          "2021-07-02T00:00:00",
          "2021-07-03T00:00:00",
          "2021-07-04T00:00:00",
          "2021-07-05T00:00:00",
          "2021-07-06T00:00:00",
          "2021-07-07T00:00:00",
          "2021-07-08T00:00:00",
          "2021-07-09T00:00:00",
          "2021-07-10T00:00:00",
          "2021-07-11T00:00:00",
          "2021-07-12T00:00:00",
          "2021-07-13T00:00:00",
          "2021-07-14T00:00:00",
          "2021-07-15T00:00:00",
          "2021-07-16T00:00:00",
          "2021-07-17T00:00:00",
          "2021-07-18T00:00:00",
          "2021-07-19T00:00:00",
          "2021-07-20T00:00:00",
          "2021-07-21T00:00:00",
          "2021-07-22T00:00:00",
          "2021-07-23T00:00:00",
          "2021-07-24T00:00:00",
          "2021-07-25T00:00:00",
          "2021-07-26T00:00:00",
          "2021-07-27T00:00:00",
          "2021-07-28T00:00:00",
          "2021-07-29T00:00:00",
          "2021-07-30T00:00:00",
          "2021-07-31T00:00:00",
          "2021-08-01T00:00:00",
          "2021-08-02T00:00:00",
          "2021-08-03T00:00:00",
          "2021-08-04T00:00:00",
          "2021-08-05T00:00:00",
          "2021-08-06T00:00:00",
          "2021-08-07T00:00:00",
          "2021-08-08T00:00:00",
          "2021-08-09T00:00:00",
          "2021-08-10T00:00:00",
          "2021-08-11T00:00:00",
          "2021-08-12T00:00:00",
          "2021-08-13T00:00:00",
          "2021-08-14T00:00:00",
          "2021-08-15T00:00:00",
          "2021-08-16T00:00:00",
          "2021-08-17T00:00:00",
          "2021-08-18T00:00:00",
          "2021-08-19T00:00:00",
          "2021-08-20T00:00:00",
          "2021-08-21T00:00:00",
          "2021-08-22T00:00:00",
          "2021-08-23T00:00:00",
          "2021-08-24T00:00:00",
          "2021-08-25T00:00:00",
          "2021-08-26T00:00:00",
          "2021-08-27T00:00:00",
          "2021-08-28T00:00:00",
          "2021-08-29T00:00:00",
          "2021-08-30T00:00:00",
          "2021-08-31T00:00:00",
          "2021-09-01T00:00:00",
          "2021-09-02T00:00:00",
          "2021-09-03T00:00:00",
          "2021-09-04T00:00:00",
          "2021-09-05T00:00:00",
          "2021-09-06T00:00:00",
          "2021-09-07T00:00:00",
          "2021-09-08T00:00:00",
          "2021-09-09T00:00:00",
          "2021-09-10T00:00:00",
          "2021-09-11T00:00:00",
          "2021-09-12T00:00:00",
          "2021-09-13T00:00:00",
          "2021-09-14T00:00:00",
          "2021-09-15T00:00:00",
          "2021-09-16T00:00:00",
          "2021-09-17T00:00:00",
          "2021-09-18T00:00:00",
          "2021-09-19T00:00:00",
          "2021-09-20T00:00:00",
          "2021-09-21T00:00:00",
          "2021-09-22T00:00:00",
          "2021-09-23T00:00:00",
          "2021-09-24T00:00:00",
          "2021-09-25T00:00:00",
          "2021-09-26T00:00:00",
          "2021-09-27T00:00:00",
          "2021-09-28T00:00:00",
          "2021-09-29T00:00:00",
          "2021-09-30T00:00:00",
          "2021-10-01T00:00:00",
          "2021-10-02T00:00:00",
          "2021-10-03T00:00:00",
          "2021-10-04T00:00:00",
          "2021-10-05T00:00:00",
          "2021-10-06T00:00:00",
          "2021-10-07T00:00:00",
          "2021-10-08T00:00:00",
          "2021-10-09T00:00:00",
          "2021-10-10T00:00:00",
          "2021-10-11T00:00:00",
          "2021-10-12T00:00:00",
          "2021-10-13T00:00:00",
          "2021-10-14T00:00:00",
          "2021-10-15T00:00:00",
          "2021-10-16T00:00:00",
          "2021-10-17T00:00:00",
          "2021-10-18T00:00:00",
          "2021-10-19T00:00:00",
          "2021-10-20T00:00:00",
          "2021-10-21T00:00:00",
          "2021-10-22T00:00:00",
          "2021-10-23T00:00:00",
          "2021-10-24T00:00:00",
          "2021-10-25T00:00:00",
          "2021-10-26T00:00:00",
          "2021-10-27T00:00:00",
          "2021-10-28T00:00:00",
          "2021-10-29T00:00:00",
          "2021-10-30T00:00:00",
          "2021-10-31T00:00:00",
          "2021-11-01T00:00:00",
          "2021-11-02T00:00:00",
          "2021-11-03T00:00:00",
          "2021-11-04T00:00:00",
          "2021-11-05T00:00:00",
          "2021-11-06T00:00:00",
          "2021-11-07T00:00:00",
          "2021-11-08T00:00:00",
          "2021-11-09T00:00:00",
          "2021-11-10T00:00:00",
          "2021-11-11T00:00:00",
          "2021-11-12T00:00:00",
          "2021-11-13T00:00:00",
          "2021-11-14T00:00:00",
          "2021-11-15T00:00:00",
          "2021-11-16T00:00:00",
          "2021-11-17T00:00:00",
          "2021-11-18T00:00:00",
          "2021-11-19T00:00:00",
          "2021-11-20T00:00:00",
          "2021-11-21T00:00:00",
          "2021-11-22T00:00:00",
          "2021-11-23T00:00:00",
          "2021-11-24T00:00:00",
          "2021-11-25T00:00:00",
          "2021-11-26T00:00:00",
          "2021-11-27T00:00:00",
          "2021-11-28T00:00:00",
          "2021-11-29T00:00:00",
          "2021-11-30T00:00:00",
          "2021-12-01T00:00:00",
          "2021-12-02T00:00:00",
          "2021-12-03T00:00:00",
          "2021-12-04T00:00:00",
          "2021-12-05T00:00:00",
          "2021-12-06T00:00:00",
          "2021-12-07T00:00:00",
          "2021-12-08T00:00:00",
          "2021-12-09T00:00:00",
          "2021-12-10T00:00:00",
          "2021-12-11T00:00:00",
          "2021-12-12T00:00:00",
          "2021-12-13T00:00:00",
          "2021-12-14T00:00:00",
          "2021-12-15T00:00:00",
          "2021-12-16T00:00:00",
          "2021-12-17T00:00:00",
          "2021-12-18T00:00:00",
          "2021-12-19T00:00:00",
          "2021-12-20T00:00:00",
          "2021-12-21T00:00:00",
          "2021-12-22T00:00:00",
          "2021-12-23T00:00:00",
          "2021-12-24T00:00:00",
          "2021-12-25T00:00:00",
          "2021-12-26T00:00:00",
          "2021-12-27T00:00:00",
          "2021-12-28T00:00:00",
          "2021-12-29T00:00:00",
          "2021-12-30T00:00:00",
          "2021-12-31T00:00:00",
          "2022-01-01T00:00:00",
          "2022-01-02T00:00:00",
          "2022-01-03T00:00:00",
          "2022-01-04T00:00:00",
          "2022-01-05T00:00:00",
          "2022-01-06T00:00:00",
          "2022-01-07T00:00:00",
          "2022-01-08T00:00:00",
          "2022-01-09T00:00:00",
          "2022-01-10T00:00:00",
          "2022-01-11T00:00:00",
          "2022-01-12T00:00:00",
          "2022-01-13T00:00:00",
          "2022-01-14T00:00:00",
          "2022-01-15T00:00:00",
          "2022-01-16T00:00:00",
          "2022-01-17T00:00:00",
          "2022-01-18T00:00:00",
          "2022-01-19T00:00:00",
          "2022-01-20T00:00:00",
          "2022-01-21T00:00:00",
          "2022-01-22T00:00:00",
          "2022-01-23T00:00:00",
          "2022-01-24T00:00:00",
          "2022-01-25T00:00:00",
          "2022-01-26T00:00:00",
          "2022-01-27T00:00:00",
          "2022-01-28T00:00:00",
          "2022-01-29T00:00:00",
          "2022-01-30T00:00:00",
          "2022-01-31T00:00:00",
          "2022-02-01T00:00:00",
          "2022-02-02T00:00:00",
          "2022-02-03T00:00:00",
          "2022-02-04T00:00:00",
          "2022-02-05T00:00:00",
          "2022-02-06T00:00:00",
          "2022-02-07T00:00:00",
          "2022-02-08T00:00:00",
          "2022-02-09T00:00:00",
          "2022-02-10T00:00:00",
          "2022-02-11T00:00:00",
          "2022-02-12T00:00:00",
          "2022-02-13T00:00:00",
          "2022-02-14T00:00:00",
          "2022-02-15T00:00:00",
          "2022-02-16T00:00:00",
          "2022-02-17T00:00:00",
          "2022-02-18T00:00:00",
          "2022-02-19T00:00:00",
          "2022-02-20T00:00:00",
          "2022-02-21T00:00:00",
          "2022-02-22T00:00:00",
          "2022-02-23T00:00:00",
          "2022-02-24T00:00:00",
          "2022-02-25T00:00:00",
          "2022-02-26T00:00:00",
          "2022-02-27T00:00:00",
          "2022-02-28T00:00:00",
          "2022-03-01T00:00:00",
          "2022-03-02T00:00:00",
          "2022-03-03T00:00:00",
          "2022-03-04T00:00:00",
          "2022-03-05T00:00:00",
          "2022-03-06T00:00:00",
          "2022-03-07T00:00:00",
          "2022-03-08T00:00:00",
          "2022-03-09T00:00:00",
          "2022-03-10T00:00:00",
          "2022-03-11T00:00:00",
          "2022-03-12T00:00:00",
          "2022-03-13T00:00:00",
          "2022-03-14T00:00:00",
          "2022-03-15T00:00:00",
          "2022-03-16T00:00:00",
          "2022-03-17T00:00:00",
          "2022-03-18T00:00:00",
          "2022-03-19T00:00:00",
          "2022-03-20T00:00:00",
          "2022-03-21T00:00:00",
          "2022-03-22T00:00:00",
          "2022-03-23T00:00:00",
          "2022-03-24T00:00:00",
          "2022-03-25T00:00:00",
          "2022-03-26T00:00:00",
          "2022-03-27T00:00:00",
          "2022-03-28T00:00:00",
          "2022-03-29T00:00:00",
          "2022-03-30T00:00:00",
          "2022-03-31T00:00:00",
          "2022-04-01T00:00:00",
          "2022-04-02T00:00:00",
          "2022-04-03T00:00:00",
          "2022-04-04T00:00:00",
          "2022-04-05T00:00:00",
          "2022-04-06T00:00:00",
          "2022-04-07T00:00:00",
          "2022-04-08T00:00:00",
          "2022-04-09T00:00:00",
          "2022-04-10T00:00:00",
          "2022-04-11T00:00:00",
          "2022-04-12T00:00:00",
          "2022-04-13T00:00:00",
          "2022-04-14T00:00:00",
          "2022-04-15T00:00:00",
          "2022-04-16T00:00:00",
          "2022-04-17T00:00:00",
          "2022-04-18T00:00:00",
          "2022-04-19T00:00:00",
          "2022-04-20T00:00:00",
          "2022-04-21T00:00:00",
          "2022-04-22T00:00:00",
          "2022-04-23T00:00:00",
          "2022-04-24T00:00:00",
          "2022-04-25T00:00:00",
          "2022-04-26T00:00:00",
          "2022-04-27T00:00:00",
          "2022-04-28T00:00:00",
          "2022-04-29T00:00:00",
          "2022-04-30T00:00:00",
          "2022-05-01T00:00:00",
          "2022-05-02T00:00:00",
          "2022-05-03T00:00:00",
          "2022-05-04T00:00:00",
          "2022-05-05T00:00:00",
          "2022-05-06T00:00:00",
          "2022-05-07T00:00:00",
          "2022-05-08T00:00:00",
          "2022-05-09T00:00:00",
          "2022-05-10T00:00:00",
          "2022-05-11T00:00:00",
          "2022-05-12T00:00:00",
          "2022-05-13T00:00:00",
          "2022-05-14T00:00:00",
          "2022-05-15T00:00:00",
          "2022-05-16T00:00:00",
          "2022-05-17T00:00:00",
          "2022-05-18T00:00:00",
          "2022-05-19T00:00:00",
          "2022-05-20T00:00:00",
          "2022-05-21T00:00:00",
          "2022-05-22T00:00:00",
          "2022-05-23T00:00:00",
          "2022-05-24T00:00:00",
          "2022-05-25T00:00:00",
          "2022-05-26T00:00:00",
          "2022-05-27T00:00:00",
          "2022-05-28T00:00:00",
          "2022-05-29T00:00:00",
          "2022-05-30T00:00:00",
          "2022-05-31T00:00:00",
          "2022-06-01T00:00:00",
          "2022-06-02T00:00:00",
          "2022-06-03T00:00:00",
          "2022-06-04T00:00:00",
          "2022-06-05T00:00:00",
          "2022-06-06T00:00:00",
          "2022-06-07T00:00:00",
          "2022-06-08T00:00:00",
          "2022-06-09T00:00:00",
          "2022-06-10T00:00:00",
          "2022-06-11T00:00:00",
          "2022-06-12T00:00:00",
          "2022-06-13T00:00:00",
          "2022-06-14T00:00:00",
          "2022-06-15T00:00:00",
          "2022-06-16T00:00:00",
          "2022-06-17T00:00:00",
          "2022-06-18T00:00:00",
          "2022-06-19T00:00:00",
          "2022-06-20T00:00:00",
          "2022-06-21T00:00:00",
          "2022-06-22T00:00:00",
          "2022-06-23T00:00:00",
          "2022-06-24T00:00:00",
          "2022-06-25T00:00:00",
          "2022-06-26T00:00:00",
          "2022-06-27T00:00:00",
          "2022-06-28T00:00:00",
          "2022-06-29T00:00:00",
          "2022-06-30T00:00:00",
          "2022-07-01T00:00:00",
          "2022-07-02T00:00:00",
          "2022-07-03T00:00:00",
          "2022-07-04T00:00:00",
          "2022-07-05T00:00:00",
          "2022-07-06T00:00:00",
          "2022-07-07T00:00:00",
          "2022-07-08T00:00:00",
          "2022-07-09T00:00:00",
          "2022-07-10T00:00:00",
          "2022-07-11T00:00:00",
          "2022-07-12T00:00:00",
          "2022-07-13T00:00:00",
          "2022-07-14T00:00:00",
          "2022-07-15T00:00:00",
          "2022-07-16T00:00:00",
          "2022-07-17T00:00:00",
          "2022-07-18T00:00:00",
          "2022-07-19T00:00:00",
          "2022-07-20T00:00:00",
          "2022-07-21T00:00:00",
          "2022-07-22T00:00:00",
          "2022-07-23T00:00:00",
          "2022-07-24T00:00:00",
          "2022-07-25T00:00:00",
          "2022-07-26T00:00:00",
          "2022-07-27T00:00:00",
          "2022-07-28T00:00:00",
          "2022-07-29T00:00:00",
          "2022-07-30T00:00:00",
          "2022-07-31T00:00:00",
          "2022-08-01T00:00:00",
          "2022-08-02T00:00:00",
          "2022-08-03T00:00:00",
          "2022-08-04T00:00:00",
          "2022-08-05T00:00:00",
          "2022-08-06T00:00:00",
          "2022-08-07T00:00:00",
          "2022-08-08T00:00:00",
          "2022-08-09T00:00:00",
          "2022-08-10T00:00:00",
          "2022-08-11T00:00:00",
          "2022-08-12T00:00:00",
          "2022-08-13T00:00:00",
          "2022-08-14T00:00:00",
          "2022-08-15T00:00:00",
          "2022-08-16T00:00:00",
          "2022-08-17T00:00:00",
          "2022-08-18T00:00:00",
          "2022-08-19T00:00:00",
          "2022-08-20T00:00:00",
          "2022-08-21T00:00:00",
          "2022-08-22T00:00:00",
          "2022-08-23T00:00:00",
          "2022-08-24T00:00:00",
          "2022-08-25T00:00:00",
          "2022-08-26T00:00:00",
          "2022-08-27T00:00:00",
          "2022-08-28T00:00:00",
          "2022-08-29T00:00:00",
          "2022-08-30T00:00:00",
          "2022-08-31T00:00:00",
          "2022-09-01T00:00:00",
          "2022-09-02T00:00:00",
          "2022-09-03T00:00:00",
          "2022-09-04T00:00:00",
          "2022-09-05T00:00:00",
          "2022-09-06T00:00:00",
          "2022-09-07T00:00:00",
          "2022-09-08T00:00:00",
          "2022-09-09T00:00:00",
          "2022-09-10T00:00:00",
          "2022-09-11T00:00:00",
          "2022-09-12T00:00:00",
          "2022-09-13T00:00:00",
          "2022-09-14T00:00:00",
          "2022-09-15T00:00:00",
          "2022-09-16T00:00:00",
          "2022-09-17T00:00:00",
          "2022-09-18T00:00:00",
          "2022-09-19T00:00:00",
          "2022-09-20T00:00:00",
          "2022-09-21T00:00:00",
          "2022-09-22T00:00:00",
          "2022-09-23T00:00:00",
          "2022-09-24T00:00:00",
          "2022-09-25T00:00:00",
          "2022-09-26T00:00:00",
          "2022-09-27T00:00:00",
          "2022-09-28T00:00:00",
          "2022-09-29T00:00:00",
          "2022-09-30T00:00:00",
          "2022-10-01T00:00:00",
          "2022-10-02T00:00:00",
          "2022-10-03T00:00:00",
          "2022-10-04T00:00:00",
          "2022-10-05T00:00:00",
          "2022-10-06T00:00:00",
          "2022-10-07T00:00:00",
          "2022-10-08T00:00:00",
          "2022-10-09T00:00:00",
          "2022-10-10T00:00:00",
          "2022-10-11T00:00:00",
          "2022-10-12T00:00:00",
          "2022-10-13T00:00:00",
          "2022-10-14T00:00:00",
          "2022-10-15T00:00:00",
          "2022-10-16T00:00:00",
          "2022-10-17T00:00:00",
          "2022-10-18T00:00:00",
          "2022-10-19T00:00:00",
          "2022-10-20T00:00:00",
          "2022-10-21T00:00:00",
          "2022-10-22T00:00:00",
          "2022-10-23T00:00:00",
          "2022-10-24T00:00:00",
          "2022-10-25T00:00:00",
          "2022-10-26T00:00:00",
          "2022-10-27T00:00:00",
          "2022-10-28T00:00:00",
          "2022-10-29T00:00:00",
          "2022-10-30T00:00:00",
          "2022-10-31T00:00:00",
          "2022-11-01T00:00:00",
          "2022-11-02T00:00:00",
          "2022-11-03T00:00:00",
          "2022-11-04T00:00:00",
          "2022-11-05T00:00:00",
          "2022-11-06T00:00:00",
          "2022-11-07T00:00:00",
          "2022-11-08T00:00:00",
          "2022-11-09T00:00:00",
          "2022-11-10T00:00:00",
          "2022-11-11T00:00:00",
          "2022-11-12T00:00:00",
          "2022-11-13T00:00:00",
          "2022-11-14T00:00:00",
          "2022-11-15T00:00:00"
         ],
         "y": [
          null,
          null,
          -1,
          null,
          null,
          null,
          null,
          3,
          0.75,
          -0.2857142857142857,
          0.19999999999999996,
          -1,
          null,
          1.1111111111111112,
          0.894736842105263,
          -0.5277777777777778,
          1.1176470588235294,
          1.3055555555555554,
          -0.3493975903614458,
          0,
          2.3518518518518516,
          -0.28729281767955805,
          1.5658914728682172,
          -0.32326283987915405,
          0.7678571428571428,
          -0.09595959595959591,
          -0.15363128491620115,
          0.0264026402640265,
          0.36334405144694526,
          0.14622641509433953,
          -0.014403292181069949,
          -0.24843423799582465,
          -0.033333333333333326,
          2.336206896551724,
          -0.046511627906976716,
          0.05600722673893399,
          -0.04875962360992303,
          0.05125899280575541,
          -0.10778443113772451,
          -0.19654841802492806,
          1.1730310262529833,
          0.19439868204283361,
          -0.10942528735632184,
          -0.10067114093959728,
          -0.394374282433984,
          0.3876777251184833,
          -0.03551912568306015,
          0.3519830028328612,
          0.6982713462545835,
          -0.35780382479950645,
          0.5830931796349663,
          -0.15716019417475724,
          -0.2721382289416847,
          -0.13946587537091992,
          0.5758620689655172,
          -0.0007293946024798936,
          0.4156934306569342,
          0.007991750451147306,
          0.35524296675191813,
          -0.2989243253444046,
          0.11574697173620452,
          0.5032569360675512,
          -0.004814636494944624,
          0.1807772939848411,
          -0.24282982791586993,
          -0.11381673881673882,
          -0.0952574801546916,
          0.570753655793026,
          0.06087081065597255,
          0.4228432563791009,
          -0.0761931872094127,
          0.06840591618734604,
          -0.023072486060373043,
          -0.38407793741389495,
          -0.0063907972519572365,
          0.5442997266441549,
          0.21772178259058728,
          0.20820863616930319,
          0.09426751592356686,
          -0.09099728366317428,
          -0.45435787975809316,
          0.897900638935976,
          0.2011679835108211,
          0.15660927758393872,
          -0.10276445279659763,
          0.2014551066527035,
          -0.21965317919075145,
          -0.14891240446796006,
          -0.11728949367962971,
          0.27732999452226315,
          0.2373950866874961,
          0.4027626497673038,
          -0.050930010941305226,
          0.20193380438824837,
          -0.5909034653465346,
          0.14574194524277728,
          1.0906990560433032,
          -0.17640186915887845,
          0.22484186313973553,
          0.004632237871674549,
          -0.25883232600162,
          -0.24401008827238335,
          -0.03614122880177928,
          0.8282088260744158,
          0.06616811813706924,
          -0.14889461067211218,
          -0.15658251616941377,
          -0.1264069264069264,
          -0.20751333238944736,
          0.46593616007622685,
          0.5023561910952226,
          -0.16391758152614788,
          -0.1747412677878396,
          1.1967707802641376,
          -0.48525555258228525,
          -0.42586816385943027,
          0.5989375830013279,
          0.4912413168227121,
          0.03931645569620246,
          0.010011448615204754,
          0.08240883658113063,
          -0.17742474543793585,
          -0.10639796305325311,
          -0.35013640497120335,
          0.8508325948038622,
          0.1800655241935485,
          -0.05183128670581949,
          -0.030632010450921232,
          -0.22008457642083745,
          -0.2494786390990884,
          -0.02937440457288032,
          0.9097006379846229,
          -0.030987664896350853,
          -0.050675153042056165,
          0.031520625756588094,
          -0.21132927104491084,
          -0.3230412636639386,
          -0.04725873948514181,
          0.8975997160477396,
          -0.05157820902501753,
          0.08071196134503511,
          -0.20890551576258043,
          -0.25911188004613606,
          -0.09644274927998753,
          -0.008959338387319105,
          1.0395949235048678,
          0.40963624352718053,
          -0.13339380196523054,
          -0.010047796811220033,
          -0.16250220264317183,
          -0.5230180104359535,
          0.23502426113806796,
          0.9285306093292378,
          0.026743216964533856,
          0.04909900972239756,
          -0.08629493990818593,
          -0.21860298822024016,
          -0.4167850692354004,
          -0.17635642910232063,
          1.8079911766180379,
          0.011890521504704488,
          -0.05192582529068224,
          -0.0758551382737187,
          -0.0713681582021024,
          -0.5068525827297568,
          0.17066092080383455,
          0.9001202013372398,
          0.0848275180389444,
          0.10838982433121958,
          -0.18688346705247927,
          -0.25488808459874235,
          -0.37488806273913866,
          0.04775134571974293,
          1.0244448127278756,
          -0.011358519913225007,
          -0.11087420042643925,
          -0.24178715280203023,
          0.4161702388994657,
          -0.5265508792471649,
          0.059033661552553296,
          1.00177304964539,
          0.03983667826049375,
          -0.12006315833212144,
          0.03872125419086747,
          -0.14540619175342095,
          -0.6099422826289331,
          2.4002045687009885,
          -0.11409032568586552,
          0.05478211658177701,
          0.004850305826805457,
          -0.14807458191836997,
          -0.15074709185720014,
          -0.566140221402214,
          -0.3508879363135333,
          0.9665618448637316,
          0.9781994563189595,
          0.09786328240778164,
          0.017327279420787933,
          -0.25528937781959427,
          -0.5458550649518935,
          0.44981810400171196,
          0.7091758917589175,
          0.07590892080946476,
          -0.026139768835616417,
          0.09115635044918813,
          -0.2558602109927739,
          -0.4776518355608188,
          0.1222308589195491,
          1.0351515151515152,
          -0.07189653705436905,
          -0.02181884855152183,
          0.00930959075288973,
          -0.23501919029342577,
          -0.44224155371232043,
          0.22343126586869788,
          0.9406463089238066,
          0.008066240948394476,
          0.08432091655805785,
          -0.08271139063591892,
          -0.3072891272549976,
          -0.6045662502199542,
          1.897318945377684,
          0.2103363538626939,
          -0.018717086479284273,
          -0.13306608043450152,
          0.03423329355608584,
          -0.1435422225427273,
          -0.48684376710310273,
          -0.29173845270325705,
          0.5468550909301517,
          1.0845439568668565,
          0.09289794158853315,
          -0.06015185879104623,
          -0.27338859161333195,
          -0.42000385059684253,
          0.3756846473029045,
          0.4334921879712854,
          0.08795185793039595,
          -0.04208409082118125,
          0.20783363618009276,
          -0.16207542123562446,
          -0.5111315033514203,
          0.5185668815800213,
          0.6098780029021336,
          -0.05274578534468366,
          -0.05959471365638769,
          -0.08694348673362318,
          -0.4596125430963717,
          -0.226264620993468,
          -0.19024246588789628,
          0.7676081949327191,
          0.5988615321308552,
          0.022691202333462,
          -0.15275564130525965,
          -0.12163366336633663,
          -0.40810460463281295,
          0.27709007808036556,
          2.4611541902773637,
          -0.4346524202408393,
          0.2917619265355891,
          0.14200171086398639,
          -0.3212708252615265,
          -0.47083000342504855,
          0.1320388349514563,
          1.2544946318531225,
          -0.026995040577096452,
          0.04202143064002306,
          0.07995886717990053,
          -0.22227083226105304,
          -0.40686939545349265,
          0.01288702928870289,
          0.9017955496805463,
          0.2923339801326421,
          -0.08383569011496317,
          -0.18039724083948927,
          0.5365147581102456,
          -0.591950897366172,
          0.12771325209444018,
          1.1942509813853364,
          -0.06755924899969223,
          0.03426720580953946,
          -0.04914926296052502,
          -0.15498542029411144,
          -0.34385938780070013,
          0.02228528187665524,
          0.7689403752914616,
          0.14198137880531436,
          -0.01896264267785497,
          -0.018694206850184858,
          -0.19457607764773055,
          -0.4794782731977033,
          0.24258931408597761,
          0.7545391444123772,
          0.37672559185458177,
          0.03885359951603151,
          -0.23064828429588435,
          -0.08717783749006547,
          -0.4924853334438939,
          0.1289927293521771,
          1.0499638205499275,
          -0.1940311678226646,
          0.2746403310924739,
          -0.6361387414317374,
          -0.17219074598677997,
          0.0045057890834425685,
          0.5577447195094254,
          1.0545653362493166,
          -0.01373143860769599,
          -0.02036227582609318,
          -0.5788362314316666,
          -0.3307320050573309,
          0.11973161357566275,
          0.45616382570248404,
          1.3204554534558528,
          0.0757562714140596,
          0.40770794321473725,
          -0.3226536296970042,
          -0.13743789445414256,
          -0.43514049972756286,
          0.05897957074447935,
          1.0955463743127623,
          -0.07155165722269663,
          0.14231013610674514,
          0.011270986723656007,
          -0.154138984179368,
          -0.4624388240528423,
          -0.07926402241039032,
          1.1482851611118794,
          0.037546067560390695,
          -0.08582286334729328,
          -0.03980521573883977,
          0.030093124348394618,
          -0.5108072871993687,
          0.07051933934144539,
          1.0177541928721174,
          0.05134906977499276,
          -0.06202807245101216,
          -0.020742789411299922,
          -0.10715486517382822,
          -0.4747128601016758,
          0.020825865653451903,
          0.9755609396397344,
          -0.033077387935018354,
          0.04961305858348197,
          -0.09490367775831876,
          -0.10394535709448349,
          -0.4350774147573906,
          0.09238943465463856,
          0.7917628945342572,
          0.19312567132116,
          -0.12269617311028902,
          -0.08703682973245275,
          -0.08339975067950056,
          -0.3150807098903059,
          -0.1601236979166667,
          1.5295143599085308,
          -0.2765383672468742,
          0.13237038292104364,
          -0.024856918415441576,
          0.004468995147400179,
          -0.43702501432117624,
          0.07960519621476791,
          0.9969839773798304,
          0.0285224340821848,
          0.04432751579301586,
          -0.07163676309044309,
          -0.07842673229837183,
          -0.42887713351479984,
          0.21015557087617287,
          0.4783513326067572,
          0.22131559546947255,
          0.0425692453321993,
          -0.04609453129112062,
          -0.07713848233622556,
          0.2209682964380204,
          -0.5523235884628568,
          0.9493819733099977,
          0.14270884477800383,
          -0.054003290039038476,
          0.07014106074566251,
          -0.14698535118354672,
          -0.3823834638841107,
          0.019657037633789898,
          0.933000744937809,
          0.03515123204484416,
          -0.008145306859205781,
          0.001956368434222755,
          -0.16790782154614603,
          -0.35277425340045565,
          0.17963365021816569,
          0.5222200382395512,
          0.06695778748180503,
          0.08090921093165515,
          -0.18227714105408876,
          0.01685379272573373,
          -0.42521911570288395,
          -0.09262059418592272,
          1.0284936393935125,
          0.026461944322310416,
          -0.010753779040275968,
          -0.2095283674608872,
          -0.4327600870680832,
          -0.17880559085133418,
          0.3203255554867859,
          0.9950779327317474,
          0.04177631578947372,
          -0.0015562271640578995,
          -0.0049809121507149445,
          -0.24473024053032455,
          -0.4112599005064851,
          0.01192147652719977,
          1.084762865792129,
          -0.09748305905130683,
          -0.04569344631556371,
          0.18542767224907264,
          -0.1874866665086401,
          -0.43353511778863685,
          -0.05992171808209301,
          0.9894266852932314,
          0.018642947623506156,
          -0.34982833662242163,
          0.44024032764391596,
          -0.07943473302827775,
          -0.4725279894627905,
          -0.03721870447991915,
          1.341278908203909,
          0.0190037849314888,
          -0.11214215457886834,
          0.049516784980248696,
          -0.19043055555555555,
          -0.49755528487364686,
          0.3306586540103118,
          0.7841471863693517,
          0.09831727311951677,
          -0.05349239190215538,
          0.06293493449177512,
          -0.19629051151893795,
          -0.4701128763218838,
          0.109015892420538,
          0.931325268002315,
          0.08782568990611006,
          0.049595340844996505,
          -0.026344072583668665,
          -0.13556667950198953,
          -0.44231454534655823,
          -0.05258393460954769,
          1.1020402428057552,
          0.07296888995842199,
          0.038887573669586395,
          -0.08104056225862932,
          -0.11391132979209351,
          -0.433078520613318,
          -0.026604312808521713,
          0.9758180750547163,
          0.08382190041336823,
          -0.19582206379080402,
          -0.16498760074395535,
          0.408092807424594,
          -0.453645483186354,
          -0.11696865876903029,
          1.1559058990682805,
          0.2200902362364392,
          -0.2099200166199231,
          -0.43245552911478946,
          0.42837286879169745,
          -0.3457184560493026,
          -0.01591354138264378,
          0.4030628951411803,
          0.5231854657738362,
          0.0752539895811235,
          -0.05398384321118921,
          -0.14536648668690477,
          -0.49861713665943597,
          0.1542101562922502,
          1.0409745812346256,
          -0.006887131394988422,
          -0.11620568892382022,
          0.24804812659386655,
          -0.18339760248134795,
          -0.42793532657513156,
          0.018281330611695568,
          1.7367829764736982,
          -0.3771360039923052,
          -0.010002067610875631,
          -0.020362876909019723,
          -0.19171219187208532,
          -0.47284955985625265,
          0.0022202764400525155,
          1.057724109956629,
          -0.28537635712985987,
          0.2968723476489561,
          0.040020288290057104,
          -0.1547392432942657,
          -0.5261404455694318,
          0.09697564807541248,
          1.2081707186078985,
          -0.12203268906472953,
          -0.00022162301924422145,
          0.07954335537739676,
          -0.24512320328542092,
          -0.5660432959310893,
          0.00349979105725029,
          1.527250013013378,
          0.15525941793165954,
          -0.030433774893472876,
          -0.21108087234746786,
          0.14278721767708547,
          -0.6585286259152746,
          0.000059730020308235154,
          0.8595233829062892,
          0.793152180895484,
          -0.1281614960235008,
          1.2004807593532347,
          -0.6765106812070512,
          -0.4731145553727596,
          0.17408929060531353,
          1.0334530863621518,
          0.07931991831677498,
          -0.1216836734693878,
          -0.02301771710717393,
          -0.1308559395515917,
          -0.4198899752016646,
          -0.07326061320754718,
          0.7220189809660145,
          0.24782166938637262,
          -0.025883339913146508,
          0.08062514248081265,
          -0.07341427968684078,
          -0.648545408550468,
          0.11804505866263582,
          1.2828172278375072,
          -0.0005922332835105459,
          0.011654156555110262,
          -0.07977462274413549,
          -0.11200024249037621,
          -0.5301064991807756,
          0.32028185384280117,
          1.1454195323246217,
          0.029979739953325035,
          -0.10343110402868383,
          -0.05004443457009555,
          -0.25977898614278194,
          -0.4492890995260663,
          0.12177280550774516,
          1.0334995524868944,
          -0.05809859154929575,
          0.03200934579439263,
          -0.10242892719686925,
          -0.17324877486307289,
          -0.5091091352859135,
          0.13610938471100065,
          1.0972960300093781,
          -0.04087640198233777,
          0.04976689976689985,
          -0.12645719995559013,
          -0.13900186409083204,
          -0.3771096786891699,
          -0.1965400110593254,
          0.33742994789106273,
          0.042490627067558684,
          1.3143642902475143,
          -0.49868982327848876,
          -0.16379991490913515,
          -0.42862334641663036,
          0.09986006869355046,
          0.5693962526023595,
          -0.021667035153659087,
          1.6701318267419962,
          -0.0031879478643570547,
          2.5342597571675203,
          -0.9265431307857395,
          0.011991714815218657,
          0.6562533663686307,
          1.1191544715447153,
          -0.23543674421459704,
          -0.2509333226285577,
          -0.25728831725616297,
          -0.3609928566274623,
          0.054313459801264674,
          0.8075398950412338,
          0.00035551342063167013,
          0.3000059231179293,
          -0.17755604155276106,
          -0.31383302864107254,
          -0.26102050702405943,
          0.25827597509013445,
          0.9221151341495182,
          -0.16235262230654557,
          -0.21210160168257564,
          0.26837782340862426,
          -0.20117640710161355,
          -0.4317368101060596,
          -0.16880646695197332,
          0.05191647597254012,
          0.13759347382732834,
          0.8195291024261981,
          -0.06135049921177094,
          -0.317074877536739,
          -0.36622604775079415,
          0.5062247372675828,
          0.419815371404036,
          0.18734406894987532,
          0.08137535816618913,
          -0.21127009362303484,
          -0.11123553564762967,
          -0.6189836203275935,
          0.7250881834215168,
          0.7051757188498402,
          0.28276999175597695,
          -0.2004557139518579,
          -0.07351114358786992,
          -0.21034781922864576,
          -0.38773471833799444,
          -0.24551386623164762,
          0.2795675675675675,
          1.7543088881378845,
          -0.18736196319018406,
          -0.01925109467008912,
          -0.13994303748749137,
          -0.49333213998030967,
          0.2144497438615085,
          0.7176727272727272,
          0.26852400711321867,
          0.03724966622162884,
          -0.060625563135538685,
          -0.35886544258701014,
          -0.5403932464201753,
          -0.3622413392234364,
          1.3930003645643456,
          0.9975624619134673,
          -0.13049115314215987,
          0.0850802561178845,
          -0.33586613854983427,
          -0.3807205452775073,
          -0.09414308176100628,
          1.6960295074853549,
          -0.014566232093996434,
          0.00244997958350357,
          -0.11437881873727085,
          -0.2761475485235949,
          -0.5506417588003558,
          0.2695135746606334,
          1.2942748941857873,
          0.19089231964268372,
          -0.027476559315124383,
          -0.1096579476861167,
          -0.3026365348399247,
          -0.36645962732919257,
          0.28196930946291565,
          0.684621778886118,
          -0.00009868745682428681,
          -0.1363008290564548,
          -0.19289224088675583,
          -0.6199915050261928,
          -0.39828614008941876,
          0.7151702786377709,
          0.5783393501805054,
          0.16079597438243365,
          -0.2790147783251231,
          0.19158239956272216,
          -0.4538990825688073,
          -0.38765224695506095,
          0.8093278463648834,
          0.41394996209249424,
          -0.08257372654155493,
          0.0862068965517242,
          0.08366962604250738,
          -0.2000993048659384,
          0.5400372439478585,
          0.6352277307537284,
          0.06421000739462657,
          0.105848291835553,
          0.34830872342653674,
          -0.25475728155339805,
          -0.6306409588327253,
          -0.3098194130925508,
          4.028209321340965,
          0.5402878282787218,
          0.49920819256756754,
          0.643075948029999,
          0.14321225758062783,
          -0.08611381869985757,
          -0.49876933174713867,
          0.41895486352661937,
          1.1329488103821195,
          0.20397512168739862,
          0.09188509309794934,
          0.11764100876290784,
          -0.5587580291903631,
          -0.281137899391007,
          1.2392073807589647,
          0.7264482191212864,
          0.5288369893957929,
          -0.16606942999077146,
          0.01595785384230508,
          -0.059091751836659046,
          -0.25922276889351403,
          -0.22070656691604318,
          1.1512656134998775,
          0.0854030414668856,
          0.05198649630201513,
          0.12665285757090183,
          -0.22901996153386595,
          -0.48318252262160677,
          0.0580485398388455,
          0.5364691899798866,
          0.12149899737592151,
          0.5142138605036131,
          -0.23112797656589446,
          -0.31121116696212514,
          -0.5802848957609681,
          0.1385784321452781,
          1.4997507891676358,
          -0.017645885949754136,
          -0.0744731233720104,
          -0.014662792326857854,
          -0.17676661514683156,
          -0.5822781958275132,
          0.16426658037142916,
          0.9116893143915998,
          0.16492596990331254,
          -0.1018867139558588,
          -0.07251881876085697,
          -0.13665800952285823,
          -0.6274309405582605,
          0.13462384513858328,
          1.3393015988869377,
          0.2754431465845051,
          -0.2627587683087178,
          -0.07932393197843224,
          -0.1796148214889064,
          -0.6960956590977733,
          -0.09870352802999505,
          0.1234462710505213,
          0.34441222395717164,
          1.175012444001991,
          0.07193640912974497,
          -0.21533184360722468,
          -0.7068565209504807,
          0.3522678052100736,
          2.437906104145694,
          -0.32987275728051957,
          0.1322396122984031,
          -0.06287057502719007,
          -0.14289992886825653,
          -0.6821656329169214,
          0.15721844293272857,
          1.9788611127605251,
          0.008132836326668835,
          -0.09953534354918436,
          0.05338047034540305,
          -0.20395230551154842,
          -0.6579553786529799,
          0.026795284030010746,
          2.0866388308977037,
          0.11713126237982507,
          -0.19393690401539554,
          -0.08804120392724935,
          -0.1674608777503236,
          -0.6489064763452638,
          -0.08563952903290728,
          2.3079462909971387,
          0.12912563215331385,
          -0.07001208120929958,
          -0.13595893666233638,
          -0.3743307664099743,
          -0.5774235142421755,
          0.8531206657420249,
          1.0455804206271986,
          -0.0077201712341297135,
          -0.02278761061946899,
          0.13998943475964087,
          -0.29733218588640276,
          -0.6603702482453249,
          0.22094313453536762,
          1.5813927070316938,
          0.1848266150325646,
          -0.13939236369038777,
          -0.42695610892926505,
          -0.7910076818798012,
          -0.08432432432432435,
          2.3333333333333335,
          0.6683589138134594,
          1.6006652041610643,
          -0.4922448979591837,
          -0.5676312968917471,
          -0.13770451165096675,
          -0.4524938910449906,
          0.6949330532948281,
          2.4296778190830235,
          -0.05415048324451266,
          -0.049037864680322785,
          -0.2909218718618196,
          0.07590992777227012,
          -0.5877978149269448,
          0.037521954334983176,
          2.2982456140350878,
          -0.06345651362448679,
          0.0802112395376644,
          -0.09025920118070285,
          -0.2587072243346008,
          -0.589249076733689,
          0.6165501165501166,
          1.0746729838294367,
          0.1615945986198679,
          -0.08778528079323022,
          0.19982196401799102,
          -0.32230856339568126,
          -0.6372227023912418,
          1.1458068614993646,
          0.9530717986676536,
          -0.4874175699234442,
          -0.22994454713493528,
          -0.0218915026404225,
          0.5896731127908119,
          -0.22113128319130537,
          0.012843891223341064,
          1.5690802348336597,
          -0.7017976843388178,
          2.4648002452232554,
          0.19826010026540852,
          -0.4034651637831319,
          -0.6619084945748587,
          1.938621110433191,
          0.7181712482351965,
          -0.00961887038692999,
          0.0071744064032797095,
          -0.12317980277663365,
          -0.5692061123545828,
          -0.5980756895445798,
          4.71066070858602,
          0.9854400134141912,
          -0.3016538813428109,
          -0.0915265852380377,
          0.253322388125929,
          -0.5079570197022534,
          -0.5780687868758094,
          2.4253922237380627,
          0.106240509795136,
          0.5816475776872707,
          -0.5314553990610329,
          -0.12941033582316153,
          -0.2980259486607143,
          -0.4688229741143737,
          3.7022729398559537,
          0.2802753023551878,
          0.11721201951462046,
          0.0019887074792088733,
          -0.16190370442337854,
          -0.3575616057233705,
          -0.5700512979145722,
          2.0983871934768272,
          0.48299082781841407,
          -0.00930347869203263,
          -0.010352321369772821,
          0.01205765314949625,
          -0.5031363008744822,
          -0.5083897946220622,
          1.4495827725437418,
          0.6393266082064131,
          0.03452159107667141,
          -0.06629862892983962,
          -0.012990978487161686,
          -0.3860983772534241,
          -0.4969191653114048,
          1.0053271411009423,
          0.4542151987830074,
          0.12765425930552077,
          -0.09477459016393441,
          0.6512794628244543,
          -0.6281088190887281,
          -0.7297068420134998,
          2.565886472539624,
          0.4987983564617413,
          -0.02619010672597799,
          -0.08935906515580738,
          -0.03176948651643885,
          -0.47776059760236145,
          -0.6222939977698312,
          2.11605415860735,
          0.23865529746153102,
          0.174078176926729,
          0.001752257716673311,
          -0.06456315034086835,
          -0.4512741831083835,
          -0.11254314299445145,
          0.08620095505341396,
          0.5620014503263233,
          -0.024112116991643506,
          0.2021823804002021,
          -0.2586253802586995,
          -0.4427875633840406,
          -0.5690594503981321,
          1.4185884968046678,
          0.7358837382962835,
          0.023659827928524058,
          -0.10638435429125581,
          -0.1480248878599334,
          -0.24736752717391308,
          -0.7501410357666705,
          0.7958907202528787,
          1.8966557706814182,
          -0.048307291666666696,
          0.010945409768778225,
          -0.1490503902196959,
          -0.1757408683666437,
          -0.6733341908927193,
          0.22425674345343571,
          2.255226761016404,
          -0.09703077911170399,
          0.1511188925972533,
          -0.13161271923570517,
          -0.3220580186097427,
          -0.7212982399483288,
          2.608922363847045,
          0.34901268261358154,
          -0.05736046650005955,
          -0.06444893321550305,
          -0.2260306322110519,
          0.02188126580071481,
          -0.7518341579935165,
          1.3248539016844276,
          0.9801863078515451,
          -0.3360215053763441,
          -0.5269905533063428,
          2.02187351402758,
          -0.2597167584579072,
          -0.7367414177914762,
          1.1526039563988695,
          0.9542385596399099,
          0.3939539347408829,
          -0.31628227194492253,
          0.03232302889940586,
          -0.7095200936402652,
          0.6736064472800538,
          -0.0008025682182986049,
          0.7552208835341365,
          -0.17869808946344812,
          0.21298230951385988,
          -0.10748736793752867,
          -0.15504374678332478,
          -0.8133089690878635,
          3.9494290375203915,
          0.3660184574818721,
          -0.08155386657015318,
          0.25325101799553384,
          -0.07839849072424276,
          -0.3192312066416467,
          -0.8291012362178416,
          3.8836754643206257,
          0.4745796637309847,
          -0.03339215420116737,
          0.15377053784580808,
          -0.03797468354430378,
          -0.5080971659919029,
          -0.8760288065843621,
          8.71369294605809,
          0.569841947885519,
          -0.3042176870748299,
          -0.3719202190066484,
          1.0538605230386051,
          -0.6640897377595877,
          -0.8285198555956679,
          13.557894736842105,
          0.49728850325379614,
          0.01979958952070504,
          -0.415295371137682,
          -0.1490180198420733,
          -0.5983821080180823,
          -0.03080568720379151,
          4.820904645476773,
          -0.36837131156148273,
          0.28861180382377394,
          0.05573474390401234,
          -0.14835634852743496,
          -0.7356866121394748,
          -0.5673181324647123,
          3.8720200752823084,
          1.1339170744269893,
          -0.7221819937243543,
          2.028236316246742,
          -0.6047912781523455,
          -0.5245009074410163,
          -0.17786259541984728,
          2.7530176415970287,
          2.132360217714003,
          -0.257088697575231,
          0.27758877312353825,
          0.5496380128151785,
          -1,
          null,
          null,
          null
         ]
        },
        {
         "line": {
          "color": "blue"
         },
         "name": "Variação Semanal",
         "type": "scatter",
         "x": [
          "2020-03-15T00:00:00",
          "2020-03-22T00:00:00",
          "2020-03-29T00:00:00",
          "2020-04-05T00:00:00",
          "2020-04-12T00:00:00",
          "2020-04-19T00:00:00",
          "2020-04-26T00:00:00",
          "2020-05-03T00:00:00",
          "2020-05-10T00:00:00",
          "2020-05-17T00:00:00",
          "2020-05-24T00:00:00",
          "2020-05-31T00:00:00",
          "2020-06-07T00:00:00",
          "2020-06-14T00:00:00",
          "2020-06-21T00:00:00",
          "2020-06-28T00:00:00",
          "2020-07-05T00:00:00",
          "2020-07-12T00:00:00",
          "2020-07-19T00:00:00",
          "2020-07-26T00:00:00",
          "2020-08-02T00:00:00",
          "2020-08-09T00:00:00",
          "2020-08-16T00:00:00",
          "2020-08-23T00:00:00",
          "2020-08-30T00:00:00",
          "2020-09-06T00:00:00",
          "2020-09-13T00:00:00",
          "2020-09-20T00:00:00",
          "2020-09-27T00:00:00",
          "2020-10-04T00:00:00",
          "2020-10-11T00:00:00",
          "2020-10-18T00:00:00",
          "2020-10-25T00:00:00",
          "2020-11-01T00:00:00",
          "2020-11-08T00:00:00",
          "2020-11-15T00:00:00",
          "2020-11-22T00:00:00",
          "2020-11-29T00:00:00",
          "2020-12-06T00:00:00",
          "2020-12-13T00:00:00",
          "2020-12-20T00:00:00",
          "2020-12-27T00:00:00",
          "2021-01-03T00:00:00",
          "2021-01-10T00:00:00",
          "2021-01-17T00:00:00",
          "2021-01-24T00:00:00",
          "2021-01-31T00:00:00",
          "2021-02-07T00:00:00",
          "2021-02-14T00:00:00",
          "2021-02-21T00:00:00",
          "2021-02-28T00:00:00",
          "2021-03-07T00:00:00",
          "2021-03-14T00:00:00",
          "2021-03-21T00:00:00",
          "2021-03-28T00:00:00",
          "2021-04-04T00:00:00",
          "2021-04-11T00:00:00",
          "2021-04-18T00:00:00",
          "2021-04-25T00:00:00",
          "2021-05-02T00:00:00",
          "2021-05-09T00:00:00",
          "2021-05-16T00:00:00",
          "2021-05-23T00:00:00",
          "2021-05-30T00:00:00",
          "2021-06-06T00:00:00",
          "2021-06-13T00:00:00",
          "2021-06-20T00:00:00",
          "2021-06-27T00:00:00",
          "2021-07-04T00:00:00",
          "2021-07-11T00:00:00",
          "2021-07-18T00:00:00",
          "2021-07-25T00:00:00",
          "2021-08-01T00:00:00",
          "2021-08-08T00:00:00",
          "2021-08-15T00:00:00",
          "2021-08-22T00:00:00",
          "2021-08-29T00:00:00",
          "2021-09-05T00:00:00",
          "2021-09-12T00:00:00",
          "2021-09-19T00:00:00",
          "2021-09-26T00:00:00",
          "2021-10-03T00:00:00",
          "2021-10-10T00:00:00",
          "2021-10-17T00:00:00",
          "2021-10-24T00:00:00",
          "2021-10-31T00:00:00",
          "2021-11-07T00:00:00",
          "2021-11-14T00:00:00",
          "2021-11-21T00:00:00",
          "2021-11-28T00:00:00",
          "2021-12-05T00:00:00",
          "2021-12-12T00:00:00",
          "2021-12-19T00:00:00",
          "2021-12-26T00:00:00",
          "2022-01-02T00:00:00",
          "2022-01-09T00:00:00",
          "2022-01-16T00:00:00",
          "2022-01-23T00:00:00",
          "2022-01-30T00:00:00",
          "2022-02-06T00:00:00",
          "2022-02-13T00:00:00",
          "2022-02-20T00:00:00",
          "2022-02-27T00:00:00",
          "2022-03-06T00:00:00",
          "2022-03-13T00:00:00",
          "2022-03-20T00:00:00",
          "2022-03-27T00:00:00",
          "2022-04-03T00:00:00",
          "2022-04-10T00:00:00",
          "2022-04-17T00:00:00",
          "2022-04-24T00:00:00",
          "2022-05-01T00:00:00",
          "2022-05-08T00:00:00",
          "2022-05-15T00:00:00",
          "2022-05-22T00:00:00",
          "2022-05-29T00:00:00",
          "2022-06-05T00:00:00",
          "2022-06-12T00:00:00",
          "2022-06-19T00:00:00",
          "2022-06-26T00:00:00",
          "2022-07-03T00:00:00",
          "2022-07-10T00:00:00",
          "2022-07-17T00:00:00",
          "2022-07-24T00:00:00",
          "2022-07-31T00:00:00",
          "2022-08-07T00:00:00",
          "2022-08-14T00:00:00",
          "2022-08-21T00:00:00",
          "2022-08-28T00:00:00",
          "2022-09-04T00:00:00",
          "2022-09-11T00:00:00",
          "2022-09-18T00:00:00",
          "2022-09-25T00:00:00",
          "2022-10-02T00:00:00",
          "2022-10-09T00:00:00",
          "2022-10-16T00:00:00",
          "2022-10-23T00:00:00",
          "2022-10-30T00:00:00",
          "2022-11-06T00:00:00",
          "2022-11-13T00:00:00",
          "2022-11-20T00:00:00"
         ],
         "y": [
          7.695652173913043,
          5.845,
          0.987582176771366,
          1.6126424108783537,
          0.5518357012238009,
          0.5174945612762871,
          0.43509945642434733,
          0.6150260145681581,
          0.5846756526893637,
          0.28212467676094133,
          0.5689550194078696,
          0.21326412638353265,
          0.19101056208976108,
          -0.027522114486177363,
          0.262930786490996,
          0.1994624390688351,
          -0.034774814465958204,
          0.031982623613941996,
          -0.11044130767998905,
          0.3731574232429351,
          -0.018357530145867607,
          -0.030514058217108952,
          -0.00862956816079663,
          -0.12398635571098193,
          -0.03255582076925401,
          0.07713658864129669,
          -0.3023286156968632,
          0.10935698033226315,
          -0.11904996043062721,
          -0.027784569915907387,
          -0.021372451462282505,
          -0.20852561595619867,
          0.11661937232645792,
          -0.04329685751673651,
          -0.21744703907809015,
          0.6792620113147008,
          0.04962413576367064,
          0.16980128770168235,
          0.1821171305832776,
          0.03871682948797894,
          0.11986552648781323,
          -0.2718300295435052,
          0.019758529582580175,
          0.49814906169660644,
          0.023231906793953927,
          -0.06369696715993056,
          0.0007069606281611129,
          -0.10535486411093398,
          -0.004410208712425034,
          0.0211831462787635,
          0.17949143020289382,
          0.22336831474945607,
          -0.015746037959844528,
          0.1139050888198141,
          0.04648983053149802,
          -0.17196267574553936,
          0.11704912672801249,
          -0.07819272422545043,
          -0.13461199687692338,
          0.0395895533640942,
          0.03574424468344861,
          0.03966418250098602,
          0.02599895384573947,
          -0.06475837049419941,
          0.01305255178674214,
          0.08204062308749327,
          0.0900733999389578,
          -0.038008266582604144,
          -0.2896712726354975,
          -0.08429274666330466,
          -0.1022373114713061,
          0.08879880937028384,
          -0.20235351362425735,
          -0.08724896858395004,
          -0.1279415385697703,
          0.04272590680367472,
          -0.17658891338826355,
          -0.12512919289673963,
          -0.2693851523694456,
          1.207851387727728,
          -0.48598939738180247,
          -0.1529313666758415,
          0.03744444975390637,
          -0.37199340414359805,
          0.24782902071231594,
          -0.05027801615197436,
          -0.1346206213640302,
          0.10788969305146323,
          -0.23189640703874403,
          0.07288007395579466,
          -0.03340069872005769,
          -0.24807533347380017,
          -0.4810639536136917,
          0.0682866043613708,
          1.1290874450795134,
          3.252310164724789,
          1.0871598639455784,
          1.1385663520517868,
          0.2580023168905943,
          -0.09342150348152767,
          -0.20289101901080375,
          -0.23288852856692288,
          -0.2309169652576667,
          -0.4984159332359811,
          0.1377237156468618,
          -0.17527970500121026,
          -0.19735387617878675,
          -0.25829292732617504,
          -0.0205977641469568,
          -0.3448435916712973,
          -0.03363734333838908,
          0.08457845010067633,
          0.04761224722952129,
          0.12556685478520868,
          -0.16974825197409849,
          0.5789069337741903,
          0.26729038735148647,
          0.44603316549699645,
          -0.16872920377777034,
          0.5139612174925605,
          0.09971824967618748,
          -0.013944203757309648,
          -0.0034183655877962904,
          -0.28275020140663376,
          -0.16432720732640105,
          -0.23943284517448382,
          -0.17648302443202457,
          -0.24577559819635986,
          -0.12825324233273405,
          -0.13870228166955334,
          -0.3275639609898987,
          0.00990509775449877,
          -0.22678100715483895,
          0.04737343103181102,
          -0.15511593008264113,
          -0.2607444839145444,
          0.1751886568982437,
          0.18290716424786924,
          -0.3528724440116845,
          1.1346674691543788,
          -1
         ]
        },
        {
         "line": {
          "color": "red"
         },
         "name": "Variação Mensal",
         "type": "scatter",
         "x": [
          "2020-04-30T00:00:00",
          "2020-05-31T00:00:00",
          "2020-06-30T00:00:00",
          "2020-07-31T00:00:00",
          "2020-08-31T00:00:00",
          "2020-09-30T00:00:00",
          "2020-10-31T00:00:00",
          "2020-11-30T00:00:00",
          "2020-12-31T00:00:00",
          "2021-01-31T00:00:00",
          "2021-02-28T00:00:00",
          "2021-03-31T00:00:00",
          "2021-04-30T00:00:00",
          "2021-05-31T00:00:00",
          "2021-06-30T00:00:00",
          "2021-07-31T00:00:00",
          "2021-08-31T00:00:00",
          "2021-09-30T00:00:00",
          "2021-10-31T00:00:00",
          "2021-11-30T00:00:00",
          "2021-12-31T00:00:00",
          "2022-01-31T00:00:00",
          "2022-02-28T00:00:00",
          "2022-03-31T00:00:00",
          "2022-04-30T00:00:00",
          "2022-05-31T00:00:00",
          "2022-06-30T00:00:00",
          "2022-07-31T00:00:00",
          "2022-08-31T00:00:00",
          "2022-09-30T00:00:00",
          "2022-10-31T00:00:00",
          "2022-11-30T00:00:00"
         ],
         "y": [
          12.963758158708348,
          4.2766399744148,
          1.089776793519436,
          0.40293732472765154,
          -0.011137968322625813,
          -0.27407628377900284,
          -0.202151945423793,
          0.116353327613542,
          0.6651067756393356,
          0.14062253769589206,
          -0.1164924071387039,
          0.6341496493773873,
          -0.133146272008693,
          -0.015111991444996198,
          0.0688436880315706,
          -0.32828523291470146,
          -0.36159367961857525,
          -0.25006055534758764,
          -0.40939261269419847,
          -0.2529934165768293,
          -0.32792966355500286,
          15.579305348524493,
          0.044623004364972685,
          -0.6523258994791076,
          -0.5669183176029859,
          0.14082595669753228,
          1.345787155616133,
          0.10224349878265548,
          -0.5962055232057848,
          -0.5928017813485291,
          -0.3562271552843149,
          -0.49144503120499283
         ]
        }
       ],
       "layout": {
        "template": {
         "data": {
          "bar": [
           {
            "error_x": {
             "color": "#2a3f5f"
            },
            "error_y": {
             "color": "#2a3f5f"
            },
            "marker": {
             "line": {
              "color": "#E5ECF6",
              "width": 0.5
             },
             "pattern": {
              "fillmode": "overlay",
              "size": 10,
              "solidity": 0.2
             }
            },
            "type": "bar"
           }
          ],
          "barpolar": [
           {
            "marker": {
             "line": {
              "color": "#E5ECF6",
              "width": 0.5
             },
             "pattern": {
              "fillmode": "overlay",
              "size": 10,
              "solidity": 0.2
             }
            },
            "type": "barpolar"
           }
          ],
          "carpet": [
           {
            "aaxis": {
             "endlinecolor": "#2a3f5f",
             "gridcolor": "white",
             "linecolor": "white",
             "minorgridcolor": "white",
             "startlinecolor": "#2a3f5f"
            },
            "baxis": {
             "endlinecolor": "#2a3f5f",
             "gridcolor": "white",
             "linecolor": "white",
             "minorgridcolor": "white",
             "startlinecolor": "#2a3f5f"
            },
            "type": "carpet"
           }
          ],
          "choropleth": [
           {
            "colorbar": {
             "outlinewidth": 0,
             "ticks": ""
            },
            "type": "choropleth"
           }
          ],
          "contour": [
           {
            "colorbar": {
             "outlinewidth": 0,
             "ticks": ""
            },
            "colorscale": [
             [
              0,
              "#0d0887"
             ],
             [
              0.1111111111111111,
              "#46039f"
             ],
             [
              0.2222222222222222,
              "#7201a8"
             ],
             [
              0.3333333333333333,
              "#9c179e"
             ],
             [
              0.4444444444444444,
              "#bd3786"
             ],
             [
              0.5555555555555556,
              "#d8576b"
             ],
             [
              0.6666666666666666,
              "#ed7953"
             ],
             [
              0.7777777777777778,
              "#fb9f3a"
             ],
             [
              0.8888888888888888,
              "#fdca26"
             ],
             [
              1,
              "#f0f921"
             ]
            ],
            "type": "contour"
           }
          ],
          "contourcarpet": [
           {
            "colorbar": {
             "outlinewidth": 0,
             "ticks": ""
            },
            "type": "contourcarpet"
           }
          ],
          "heatmap": [
           {
            "colorbar": {
             "outlinewidth": 0,
             "ticks": ""
            },
            "colorscale": [
             [
              0,
              "#0d0887"
             ],
             [
              0.1111111111111111,
              "#46039f"
             ],
             [
              0.2222222222222222,
              "#7201a8"
             ],
             [
              0.3333333333333333,
              "#9c179e"
             ],
             [
              0.4444444444444444,
              "#bd3786"
             ],
             [
              0.5555555555555556,
              "#d8576b"
             ],
             [
              0.6666666666666666,
              "#ed7953"
             ],
             [
              0.7777777777777778,
              "#fb9f3a"
             ],
             [
              0.8888888888888888,
              "#fdca26"
             ],
             [
              1,
              "#f0f921"
             ]
            ],
            "type": "heatmap"
           }
          ],
          "heatmapgl": [
           {
            "colorbar": {
             "outlinewidth": 0,
             "ticks": ""
            },
            "colorscale": [
             [
              0,
              "#0d0887"
             ],
             [
              0.1111111111111111,
              "#46039f"
             ],
             [
              0.2222222222222222,
              "#7201a8"
             ],
             [
              0.3333333333333333,
              "#9c179e"
             ],
             [
              0.4444444444444444,
              "#bd3786"
             ],
             [
              0.5555555555555556,
              "#d8576b"
             ],
             [
              0.6666666666666666,
              "#ed7953"
             ],
             [
              0.7777777777777778,
              "#fb9f3a"
             ],
             [
              0.8888888888888888,
              "#fdca26"
             ],
             [
              1,
              "#f0f921"
             ]
            ],
            "type": "heatmapgl"
           }
          ],
          "histogram": [
           {
            "marker": {
             "pattern": {
              "fillmode": "overlay",
              "size": 10,
              "solidity": 0.2
             }
            },
            "type": "histogram"
           }
          ],
          "histogram2d": [
           {
            "colorbar": {
             "outlinewidth": 0,
             "ticks": ""
            },
            "colorscale": [
             [
              0,
              "#0d0887"
             ],
             [
              0.1111111111111111,
              "#46039f"
             ],
             [
              0.2222222222222222,
              "#7201a8"
             ],
             [
              0.3333333333333333,
              "#9c179e"
             ],
             [
              0.4444444444444444,
              "#bd3786"
             ],
             [
              0.5555555555555556,
              "#d8576b"
             ],
             [
              0.6666666666666666,
              "#ed7953"
             ],
             [
              0.7777777777777778,
              "#fb9f3a"
             ],
             [
              0.8888888888888888,
              "#fdca26"
             ],
             [
              1,
              "#f0f921"
             ]
            ],
            "type": "histogram2d"
           }
          ],
          "histogram2dcontour": [
           {
            "colorbar": {
             "outlinewidth": 0,
             "ticks": ""
            },
            "colorscale": [
             [
              0,
              "#0d0887"
             ],
             [
              0.1111111111111111,
              "#46039f"
             ],
             [
              0.2222222222222222,
              "#7201a8"
             ],
             [
              0.3333333333333333,
              "#9c179e"
             ],
             [
              0.4444444444444444,
              "#bd3786"
             ],
             [
              0.5555555555555556,
              "#d8576b"
             ],
             [
              0.6666666666666666,
              "#ed7953"
             ],
             [
              0.7777777777777778,
              "#fb9f3a"
             ],
             [
              0.8888888888888888,
              "#fdca26"
             ],
             [
              1,
              "#f0f921"
             ]
            ],
            "type": "histogram2dcontour"
           }
          ],
          "mesh3d": [
           {
            "colorbar": {
             "outlinewidth": 0,
             "ticks": ""
            },
            "type": "mesh3d"
           }
          ],
          "parcoords": [
           {
            "line": {
             "colorbar": {
              "outlinewidth": 0,
              "ticks": ""
             }
            },
            "type": "parcoords"
           }
          ],
          "pie": [
           {
            "automargin": true,
            "type": "pie"
           }
          ],
          "scatter": [
           {
            "fillpattern": {
             "fillmode": "overlay",
             "size": 10,
             "solidity": 0.2
            },
            "type": "scatter"
           }
          ],
          "scatter3d": [
           {
            "line": {
             "colorbar": {
              "outlinewidth": 0,
              "ticks": ""
             }
            },
            "marker": {
             "colorbar": {
              "outlinewidth": 0,
              "ticks": ""
             }
            },
            "type": "scatter3d"
           }
          ],
          "scattercarpet": [
           {
            "marker": {
             "colorbar": {
              "outlinewidth": 0,
              "ticks": ""
             }
            },
            "type": "scattercarpet"
           }
          ],
          "scattergeo": [
           {
            "marker": {
             "colorbar": {
              "outlinewidth": 0,
              "ticks": ""
             }
            },
            "type": "scattergeo"
           }
          ],
          "scattergl": [
           {
            "marker": {
             "colorbar": {
              "outlinewidth": 0,
              "ticks": ""
             }
            },
            "type": "scattergl"
           }
          ],
          "scattermapbox": [
           {
            "marker": {
             "colorbar": {
              "outlinewidth": 0,
              "ticks": ""
             }
            },
            "type": "scattermapbox"
           }
          ],
          "scatterpolar": [
           {
            "marker": {
             "colorbar": {
              "outlinewidth": 0,
              "ticks": ""
             }
            },
            "type": "scatterpolar"
           }
          ],
          "scatterpolargl": [
           {
            "marker": {
             "colorbar": {
              "outlinewidth": 0,
              "ticks": ""
             }
            },
            "type": "scatterpolargl"
           }
          ],
          "scatterternary": [
           {
            "marker": {
             "colorbar": {
              "outlinewidth": 0,
              "ticks": ""
             }
            },
            "type": "scatterternary"
           }
          ],
          "surface": [
           {
            "colorbar": {
             "outlinewidth": 0,
             "ticks": ""
            },
            "colorscale": [
             [
              0,
              "#0d0887"
             ],
             [
              0.1111111111111111,
              "#46039f"
             ],
             [
              0.2222222222222222,
              "#7201a8"
             ],
             [
              0.3333333333333333,
              "#9c179e"
             ],
             [
              0.4444444444444444,
              "#bd3786"
             ],
             [
              0.5555555555555556,
              "#d8576b"
             ],
             [
              0.6666666666666666,
              "#ed7953"
             ],
             [
              0.7777777777777778,
              "#fb9f3a"
             ],
             [
              0.8888888888888888,
              "#fdca26"
             ],
             [
              1,
              "#f0f921"
             ]
            ],
            "type": "surface"
           }
          ],
          "table": [
           {
            "cells": {
             "fill": {
              "color": "#EBF0F8"
             },
             "line": {
              "color": "white"
             }
            },
            "header": {
             "fill": {
              "color": "#C8D4E3"
             },
             "line": {
              "color": "white"
             }
            },
            "type": "table"
           }
          ]
         },
         "layout": {
          "annotationdefaults": {
           "arrowcolor": "#2a3f5f",
           "arrowhead": 0,
           "arrowwidth": 1
          },
          "autotypenumbers": "strict",
          "coloraxis": {
           "colorbar": {
            "outlinewidth": 0,
            "ticks": ""
           }
          },
          "colorscale": {
           "diverging": [
            [
             0,
             "#8e0152"
            ],
            [
             0.1,
             "#c51b7d"
            ],
            [
             0.2,
             "#de77ae"
            ],
            [
             0.3,
             "#f1b6da"
            ],
            [
             0.4,
             "#fde0ef"
            ],
            [
             0.5,
             "#f7f7f7"
            ],
            [
             0.6,
             "#e6f5d0"
            ],
            [
             0.7,
             "#b8e186"
            ],
            [
             0.8,
             "#7fbc41"
            ],
            [
             0.9,
             "#4d9221"
            ],
            [
             1,
             "#276419"
            ]
           ],
           "sequential": [
            [
             0,
             "#0d0887"
            ],
            [
             0.1111111111111111,
             "#46039f"
            ],
            [
             0.2222222222222222,
             "#7201a8"
            ],
            [
             0.3333333333333333,
             "#9c179e"
            ],
            [
             0.4444444444444444,
             "#bd3786"
            ],
            [
             0.5555555555555556,
             "#d8576b"
            ],
            [
             0.6666666666666666,
             "#ed7953"
            ],
            [
             0.7777777777777778,
             "#fb9f3a"
            ],
            [
             0.8888888888888888,
             "#fdca26"
            ],
            [
             1,
             "#f0f921"
            ]
           ],
           "sequentialminus": [
            [
             0,
             "#0d0887"
            ],
            [
             0.1111111111111111,
             "#46039f"
            ],
            [
             0.2222222222222222,
             "#7201a8"
            ],
            [
             0.3333333333333333,
             "#9c179e"
            ],
            [
             0.4444444444444444,
             "#bd3786"
            ],
            [
             0.5555555555555556,
             "#d8576b"
            ],
            [
             0.6666666666666666,
             "#ed7953"
            ],
            [
             0.7777777777777778,
             "#fb9f3a"
            ],
            [
             0.8888888888888888,
             "#fdca26"
            ],
            [
             1,
             "#f0f921"
            ]
           ]
          },
          "colorway": [
           "#636efa",
           "#EF553B",
           "#00cc96",
           "#ab63fa",
           "#FFA15A",
           "#19d3f3",
           "#FF6692",
           "#B6E880",
           "#FF97FF",
           "#FECB52"
          ],
          "font": {
           "color": "#2a3f5f"
          },
          "geo": {
           "bgcolor": "white",
           "lakecolor": "white",
           "landcolor": "#E5ECF6",
           "showlakes": true,
           "showland": true,
           "subunitcolor": "white"
          },
          "hoverlabel": {
           "align": "left"
          },
          "hovermode": "closest",
          "mapbox": {
           "style": "light"
          },
          "paper_bgcolor": "white",
          "plot_bgcolor": "#E5ECF6",
          "polar": {
           "angularaxis": {
            "gridcolor": "white",
            "linecolor": "white",
            "ticks": ""
           },
           "bgcolor": "#E5ECF6",
           "radialaxis": {
            "gridcolor": "white",
            "linecolor": "white",
            "ticks": ""
           }
          },
          "scene": {
           "xaxis": {
            "backgroundcolor": "#E5ECF6",
            "gridcolor": "white",
            "gridwidth": 2,
            "linecolor": "white",
            "showbackground": true,
            "ticks": "",
            "zerolinecolor": "white"
           },
           "yaxis": {
            "backgroundcolor": "#E5ECF6",
            "gridcolor": "white",
            "gridwidth": 2,
            "linecolor": "white",
            "showbackground": true,
            "ticks": "",
            "zerolinecolor": "white"
           },
           "zaxis": {
            "backgroundcolor": "#E5ECF6",
            "gridcolor": "white",
            "gridwidth": 2,
            "linecolor": "white",
            "showbackground": true,
            "ticks": "",
            "zerolinecolor": "white"
           }
          },
          "shapedefaults": {
           "line": {
            "color": "#2a3f5f"
           }
          },
          "ternary": {
           "aaxis": {
            "gridcolor": "white",
            "linecolor": "white",
            "ticks": ""
           },
           "baxis": {
            "gridcolor": "white",
            "linecolor": "white",
            "ticks": ""
           },
           "bgcolor": "#E5ECF6",
           "caxis": {
            "gridcolor": "white",
            "linecolor": "white",
            "ticks": ""
           }
          },
          "title": {
           "x": 0.05
          },
          "xaxis": {
           "automargin": true,
           "gridcolor": "white",
           "linecolor": "white",
           "ticks": "",
           "title": {
            "standoff": 15
           },
           "zerolinecolor": "white",
           "zerolinewidth": 2
          },
          "yaxis": {
           "automargin": true,
           "gridcolor": "white",
           "linecolor": "white",
           "ticks": "",
           "title": {
            "standoff": 15
           },
           "zerolinecolor": "white",
           "zerolinewidth": 2
          }
         }
        },
        "title": {
         "font": {
          "color": "black",
          "size": 20
         },
         "text": "Variação de Novas Infecções Divulgadas",
         "x": 0.5
        }
       }
      }
     },
     "metadata": {},
     "output_type": "display_data"
    }
   ],
   "source": [
    "# Criando um dicionário para os Dfs\n",
    "dfs = {\"days\" : days_var[2:], \"weeks\": weeks_var[2:], \"months\":months_var[2:]}\n",
    "\n",
    "# Plotando os Dfs\n",
    "fig_var_novas_inf_divul = go.Figure()\n",
    "fig_var_novas_inf_divul = fig_var_novas_inf_divul.add_trace(go.Scatter(x = dfs[\"days\"].index,\n",
    "                               y = dfs[\"days\"][\"newCases\"], \n",
    "                               name = \"Variação Diária\",\n",
    "                               line = dict(color='orange')))\n",
    "\n",
    "fig_var_novas_inf_divul = fig_var_novas_inf_divul.add_trace(go.Scatter(x = dfs[\"weeks\"].index,\n",
    "                               y = dfs[\"weeks\"][\"newCases\"], \n",
    "                               name = \"Variação Semanal\",\n",
    "                               line = dict(color='blue')))\n",
    "\n",
    "fig_var_novas_inf_divul = fig_var_novas_inf_divul.add_trace(go.Scatter(x = dfs[\"months\"].index,\n",
    "                               y = dfs[\"months\"][\"newCases\"], \n",
    "                               name = \"Variação Mensal\",\n",
    "                               line = dict(color='red')))\n",
    "\n",
    "fig_var_novas_inf_divul.update_layout(\n",
    "                title='Variação de Novas Infecções Divulgadas',\n",
    "                title_font_color= 'black',\n",
    "                title_font_size = 20,\n",
    "                title_x = 0.5)\n",
    "\n",
    "fig_var_novas_inf_divul.show()"
   ]
  },
  {
   "cell_type": "code",
   "execution_count": 38,
   "id": "66399d07",
   "metadata": {},
   "outputs": [
    {
     "data": {
      "application/vnd.plotly.v1+json": {
       "config": {
        "plotlyServerURL": "https://plot.ly"
       },
       "data": [
        {
         "line": {
          "color": "orange"
         },
         "name": "Variação Diária",
         "type": "scatter",
         "x": [
          "2020-02-27T00:00:00",
          "2020-02-28T00:00:00",
          "2020-02-29T00:00:00",
          "2020-03-01T00:00:00",
          "2020-03-02T00:00:00",
          "2020-03-03T00:00:00",
          "2020-03-04T00:00:00",
          "2020-03-05T00:00:00",
          "2020-03-06T00:00:00",
          "2020-03-07T00:00:00",
          "2020-03-08T00:00:00",
          "2020-03-09T00:00:00",
          "2020-03-10T00:00:00",
          "2020-03-11T00:00:00",
          "2020-03-12T00:00:00",
          "2020-03-13T00:00:00",
          "2020-03-14T00:00:00",
          "2020-03-15T00:00:00",
          "2020-03-16T00:00:00",
          "2020-03-17T00:00:00",
          "2020-03-18T00:00:00",
          "2020-03-19T00:00:00",
          "2020-03-20T00:00:00",
          "2020-03-21T00:00:00",
          "2020-03-22T00:00:00",
          "2020-03-23T00:00:00",
          "2020-03-24T00:00:00",
          "2020-03-25T00:00:00",
          "2020-03-26T00:00:00",
          "2020-03-27T00:00:00",
          "2020-03-28T00:00:00",
          "2020-03-29T00:00:00",
          "2020-03-30T00:00:00",
          "2020-03-31T00:00:00",
          "2020-04-01T00:00:00",
          "2020-04-02T00:00:00",
          "2020-04-03T00:00:00",
          "2020-04-04T00:00:00",
          "2020-04-05T00:00:00",
          "2020-04-06T00:00:00",
          "2020-04-07T00:00:00",
          "2020-04-08T00:00:00",
          "2020-04-09T00:00:00",
          "2020-04-10T00:00:00",
          "2020-04-11T00:00:00",
          "2020-04-12T00:00:00",
          "2020-04-13T00:00:00",
          "2020-04-14T00:00:00",
          "2020-04-15T00:00:00",
          "2020-04-16T00:00:00",
          "2020-04-17T00:00:00",
          "2020-04-18T00:00:00",
          "2020-04-19T00:00:00",
          "2020-04-20T00:00:00",
          "2020-04-21T00:00:00",
          "2020-04-22T00:00:00",
          "2020-04-23T00:00:00",
          "2020-04-24T00:00:00",
          "2020-04-25T00:00:00",
          "2020-04-26T00:00:00",
          "2020-04-27T00:00:00",
          "2020-04-28T00:00:00",
          "2020-04-29T00:00:00",
          "2020-04-30T00:00:00",
          "2020-05-01T00:00:00",
          "2020-05-02T00:00:00",
          "2020-05-03T00:00:00",
          "2020-05-04T00:00:00",
          "2020-05-05T00:00:00",
          "2020-05-06T00:00:00",
          "2020-05-07T00:00:00",
          "2020-05-08T00:00:00",
          "2020-05-09T00:00:00",
          "2020-05-10T00:00:00",
          "2020-05-11T00:00:00",
          "2020-05-12T00:00:00",
          "2020-05-13T00:00:00",
          "2020-05-14T00:00:00",
          "2020-05-15T00:00:00",
          "2020-05-16T00:00:00",
          "2020-05-17T00:00:00",
          "2020-05-18T00:00:00",
          "2020-05-19T00:00:00",
          "2020-05-20T00:00:00",
          "2020-05-21T00:00:00",
          "2020-05-22T00:00:00",
          "2020-05-23T00:00:00",
          "2020-05-24T00:00:00",
          "2020-05-25T00:00:00",
          "2020-05-26T00:00:00",
          "2020-05-27T00:00:00",
          "2020-05-28T00:00:00",
          "2020-05-29T00:00:00",
          "2020-05-30T00:00:00",
          "2020-05-31T00:00:00",
          "2020-06-01T00:00:00",
          "2020-06-02T00:00:00",
          "2020-06-03T00:00:00",
          "2020-06-04T00:00:00",
          "2020-06-05T00:00:00",
          "2020-06-06T00:00:00",
          "2020-06-07T00:00:00",
          "2020-06-08T00:00:00",
          "2020-06-09T00:00:00",
          "2020-06-10T00:00:00",
          "2020-06-11T00:00:00",
          "2020-06-12T00:00:00",
          "2020-06-13T00:00:00",
          "2020-06-14T00:00:00",
          "2020-06-15T00:00:00",
          "2020-06-16T00:00:00",
          "2020-06-17T00:00:00",
          "2020-06-18T00:00:00",
          "2020-06-19T00:00:00",
          "2020-06-20T00:00:00",
          "2020-06-21T00:00:00",
          "2020-06-22T00:00:00",
          "2020-06-23T00:00:00",
          "2020-06-24T00:00:00",
          "2020-06-25T00:00:00",
          "2020-06-26T00:00:00",
          "2020-06-27T00:00:00",
          "2020-06-28T00:00:00",
          "2020-06-29T00:00:00",
          "2020-06-30T00:00:00",
          "2020-07-01T00:00:00",
          "2020-07-02T00:00:00",
          "2020-07-03T00:00:00",
          "2020-07-04T00:00:00",
          "2020-07-05T00:00:00",
          "2020-07-06T00:00:00",
          "2020-07-07T00:00:00",
          "2020-07-08T00:00:00",
          "2020-07-09T00:00:00",
          "2020-07-10T00:00:00",
          "2020-07-11T00:00:00",
          "2020-07-12T00:00:00",
          "2020-07-13T00:00:00",
          "2020-07-14T00:00:00",
          "2020-07-15T00:00:00",
          "2020-07-16T00:00:00",
          "2020-07-17T00:00:00",
          "2020-07-18T00:00:00",
          "2020-07-19T00:00:00",
          "2020-07-20T00:00:00",
          "2020-07-21T00:00:00",
          "2020-07-22T00:00:00",
          "2020-07-23T00:00:00",
          "2020-07-24T00:00:00",
          "2020-07-25T00:00:00",
          "2020-07-26T00:00:00",
          "2020-07-27T00:00:00",
          "2020-07-28T00:00:00",
          "2020-07-29T00:00:00",
          "2020-07-30T00:00:00",
          "2020-07-31T00:00:00",
          "2020-08-01T00:00:00",
          "2020-08-02T00:00:00",
          "2020-08-03T00:00:00",
          "2020-08-04T00:00:00",
          "2020-08-05T00:00:00",
          "2020-08-06T00:00:00",
          "2020-08-07T00:00:00",
          "2020-08-08T00:00:00",
          "2020-08-09T00:00:00",
          "2020-08-10T00:00:00",
          "2020-08-11T00:00:00",
          "2020-08-12T00:00:00",
          "2020-08-13T00:00:00",
          "2020-08-14T00:00:00",
          "2020-08-15T00:00:00",
          "2020-08-16T00:00:00",
          "2020-08-17T00:00:00",
          "2020-08-18T00:00:00",
          "2020-08-19T00:00:00",
          "2020-08-20T00:00:00",
          "2020-08-21T00:00:00",
          "2020-08-22T00:00:00",
          "2020-08-23T00:00:00",
          "2020-08-24T00:00:00",
          "2020-08-25T00:00:00",
          "2020-08-26T00:00:00",
          "2020-08-27T00:00:00",
          "2020-08-28T00:00:00",
          "2020-08-29T00:00:00",
          "2020-08-30T00:00:00",
          "2020-08-31T00:00:00",
          "2020-09-01T00:00:00",
          "2020-09-02T00:00:00",
          "2020-09-03T00:00:00",
          "2020-09-04T00:00:00",
          "2020-09-05T00:00:00",
          "2020-09-06T00:00:00",
          "2020-09-07T00:00:00",
          "2020-09-08T00:00:00",
          "2020-09-09T00:00:00",
          "2020-09-10T00:00:00",
          "2020-09-11T00:00:00",
          "2020-09-12T00:00:00",
          "2020-09-13T00:00:00",
          "2020-09-14T00:00:00",
          "2020-09-15T00:00:00",
          "2020-09-16T00:00:00",
          "2020-09-17T00:00:00",
          "2020-09-18T00:00:00",
          "2020-09-19T00:00:00",
          "2020-09-20T00:00:00",
          "2020-09-21T00:00:00",
          "2020-09-22T00:00:00",
          "2020-09-23T00:00:00",
          "2020-09-24T00:00:00",
          "2020-09-25T00:00:00",
          "2020-09-26T00:00:00",
          "2020-09-27T00:00:00",
          "2020-09-28T00:00:00",
          "2020-09-29T00:00:00",
          "2020-09-30T00:00:00",
          "2020-10-01T00:00:00",
          "2020-10-02T00:00:00",
          "2020-10-03T00:00:00",
          "2020-10-04T00:00:00",
          "2020-10-05T00:00:00",
          "2020-10-06T00:00:00",
          "2020-10-07T00:00:00",
          "2020-10-08T00:00:00",
          "2020-10-09T00:00:00",
          "2020-10-10T00:00:00",
          "2020-10-11T00:00:00",
          "2020-10-12T00:00:00",
          "2020-10-13T00:00:00",
          "2020-10-14T00:00:00",
          "2020-10-15T00:00:00",
          "2020-10-16T00:00:00",
          "2020-10-17T00:00:00",
          "2020-10-18T00:00:00",
          "2020-10-19T00:00:00",
          "2020-10-20T00:00:00",
          "2020-10-21T00:00:00",
          "2020-10-22T00:00:00",
          "2020-10-23T00:00:00",
          "2020-10-24T00:00:00",
          "2020-10-25T00:00:00",
          "2020-10-26T00:00:00",
          "2020-10-27T00:00:00",
          "2020-10-28T00:00:00",
          "2020-10-29T00:00:00",
          "2020-10-30T00:00:00",
          "2020-10-31T00:00:00",
          "2020-11-01T00:00:00",
          "2020-11-02T00:00:00",
          "2020-11-03T00:00:00",
          "2020-11-04T00:00:00",
          "2020-11-05T00:00:00",
          "2020-11-06T00:00:00",
          "2020-11-07T00:00:00",
          "2020-11-08T00:00:00",
          "2020-11-09T00:00:00",
          "2020-11-10T00:00:00",
          "2020-11-11T00:00:00",
          "2020-11-12T00:00:00",
          "2020-11-13T00:00:00",
          "2020-11-14T00:00:00",
          "2020-11-15T00:00:00",
          "2020-11-16T00:00:00",
          "2020-11-17T00:00:00",
          "2020-11-18T00:00:00",
          "2020-11-19T00:00:00",
          "2020-11-20T00:00:00",
          "2020-11-21T00:00:00",
          "2020-11-22T00:00:00",
          "2020-11-23T00:00:00",
          "2020-11-24T00:00:00",
          "2020-11-25T00:00:00",
          "2020-11-26T00:00:00",
          "2020-11-27T00:00:00",
          "2020-11-28T00:00:00",
          "2020-11-29T00:00:00",
          "2020-11-30T00:00:00",
          "2020-12-01T00:00:00",
          "2020-12-02T00:00:00",
          "2020-12-03T00:00:00",
          "2020-12-04T00:00:00",
          "2020-12-05T00:00:00",
          "2020-12-06T00:00:00",
          "2020-12-07T00:00:00",
          "2020-12-08T00:00:00",
          "2020-12-09T00:00:00",
          "2020-12-10T00:00:00",
          "2020-12-11T00:00:00",
          "2020-12-12T00:00:00",
          "2020-12-13T00:00:00",
          "2020-12-14T00:00:00",
          "2020-12-15T00:00:00",
          "2020-12-16T00:00:00",
          "2020-12-17T00:00:00",
          "2020-12-18T00:00:00",
          "2020-12-19T00:00:00",
          "2020-12-20T00:00:00",
          "2020-12-21T00:00:00",
          "2020-12-22T00:00:00",
          "2020-12-23T00:00:00",
          "2020-12-24T00:00:00",
          "2020-12-25T00:00:00",
          "2020-12-26T00:00:00",
          "2020-12-27T00:00:00",
          "2020-12-28T00:00:00",
          "2020-12-29T00:00:00",
          "2020-12-30T00:00:00",
          "2020-12-31T00:00:00",
          "2021-01-01T00:00:00",
          "2021-01-02T00:00:00",
          "2021-01-03T00:00:00",
          "2021-01-04T00:00:00",
          "2021-01-05T00:00:00",
          "2021-01-06T00:00:00",
          "2021-01-07T00:00:00",
          "2021-01-08T00:00:00",
          "2021-01-09T00:00:00",
          "2021-01-10T00:00:00",
          "2021-01-11T00:00:00",
          "2021-01-12T00:00:00",
          "2021-01-13T00:00:00",
          "2021-01-14T00:00:00",
          "2021-01-15T00:00:00",
          "2021-01-16T00:00:00",
          "2021-01-17T00:00:00",
          "2021-01-18T00:00:00",
          "2021-01-19T00:00:00",
          "2021-01-20T00:00:00",
          "2021-01-21T00:00:00",
          "2021-01-22T00:00:00",
          "2021-01-23T00:00:00",
          "2021-01-24T00:00:00",
          "2021-01-25T00:00:00",
          "2021-01-26T00:00:00",
          "2021-01-27T00:00:00",
          "2021-01-28T00:00:00",
          "2021-01-29T00:00:00",
          "2021-01-30T00:00:00",
          "2021-01-31T00:00:00",
          "2021-02-01T00:00:00",
          "2021-02-02T00:00:00",
          "2021-02-03T00:00:00",
          "2021-02-04T00:00:00",
          "2021-02-05T00:00:00",
          "2021-02-06T00:00:00",
          "2021-02-07T00:00:00",
          "2021-02-08T00:00:00",
          "2021-02-09T00:00:00",
          "2021-02-10T00:00:00",
          "2021-02-11T00:00:00",
          "2021-02-12T00:00:00",
          "2021-02-13T00:00:00",
          "2021-02-14T00:00:00",
          "2021-02-15T00:00:00",
          "2021-02-16T00:00:00",
          "2021-02-17T00:00:00",
          "2021-02-18T00:00:00",
          "2021-02-19T00:00:00",
          "2021-02-20T00:00:00",
          "2021-02-21T00:00:00",
          "2021-02-22T00:00:00",
          "2021-02-23T00:00:00",
          "2021-02-24T00:00:00",
          "2021-02-25T00:00:00",
          "2021-02-26T00:00:00",
          "2021-02-27T00:00:00",
          "2021-02-28T00:00:00",
          "2021-03-01T00:00:00",
          "2021-03-02T00:00:00",
          "2021-03-03T00:00:00",
          "2021-03-04T00:00:00",
          "2021-03-05T00:00:00",
          "2021-03-06T00:00:00",
          "2021-03-07T00:00:00",
          "2021-03-08T00:00:00",
          "2021-03-09T00:00:00",
          "2021-03-10T00:00:00",
          "2021-03-11T00:00:00",
          "2021-03-12T00:00:00",
          "2021-03-13T00:00:00",
          "2021-03-14T00:00:00",
          "2021-03-15T00:00:00",
          "2021-03-16T00:00:00",
          "2021-03-17T00:00:00",
          "2021-03-18T00:00:00",
          "2021-03-19T00:00:00",
          "2021-03-20T00:00:00",
          "2021-03-21T00:00:00",
          "2021-03-22T00:00:00",
          "2021-03-23T00:00:00",
          "2021-03-24T00:00:00",
          "2021-03-25T00:00:00",
          "2021-03-26T00:00:00",
          "2021-03-27T00:00:00",
          "2021-03-28T00:00:00",
          "2021-03-29T00:00:00",
          "2021-03-30T00:00:00",
          "2021-03-31T00:00:00",
          "2021-04-01T00:00:00",
          "2021-04-02T00:00:00",
          "2021-04-03T00:00:00",
          "2021-04-04T00:00:00",
          "2021-04-05T00:00:00",
          "2021-04-06T00:00:00",
          "2021-04-07T00:00:00",
          "2021-04-08T00:00:00",
          "2021-04-09T00:00:00",
          "2021-04-10T00:00:00",
          "2021-04-11T00:00:00",
          "2021-04-12T00:00:00",
          "2021-04-13T00:00:00",
          "2021-04-14T00:00:00",
          "2021-04-15T00:00:00",
          "2021-04-16T00:00:00",
          "2021-04-17T00:00:00",
          "2021-04-18T00:00:00",
          "2021-04-19T00:00:00",
          "2021-04-20T00:00:00",
          "2021-04-21T00:00:00",
          "2021-04-22T00:00:00",
          "2021-04-23T00:00:00",
          "2021-04-24T00:00:00",
          "2021-04-25T00:00:00",
          "2021-04-26T00:00:00",
          "2021-04-27T00:00:00",
          "2021-04-28T00:00:00",
          "2021-04-29T00:00:00",
          "2021-04-30T00:00:00",
          "2021-05-01T00:00:00",
          "2021-05-02T00:00:00",
          "2021-05-03T00:00:00",
          "2021-05-04T00:00:00",
          "2021-05-05T00:00:00",
          "2021-05-06T00:00:00",
          "2021-05-07T00:00:00",
          "2021-05-08T00:00:00",
          "2021-05-09T00:00:00",
          "2021-05-10T00:00:00",
          "2021-05-11T00:00:00",
          "2021-05-12T00:00:00",
          "2021-05-13T00:00:00",
          "2021-05-14T00:00:00",
          "2021-05-15T00:00:00",
          "2021-05-16T00:00:00",
          "2021-05-17T00:00:00",
          "2021-05-18T00:00:00",
          "2021-05-19T00:00:00",
          "2021-05-20T00:00:00",
          "2021-05-21T00:00:00",
          "2021-05-22T00:00:00",
          "2021-05-23T00:00:00",
          "2021-05-24T00:00:00",
          "2021-05-25T00:00:00",
          "2021-05-26T00:00:00",
          "2021-05-27T00:00:00",
          "2021-05-28T00:00:00",
          "2021-05-29T00:00:00",
          "2021-05-30T00:00:00",
          "2021-05-31T00:00:00",
          "2021-06-01T00:00:00",
          "2021-06-02T00:00:00",
          "2021-06-03T00:00:00",
          "2021-06-04T00:00:00",
          "2021-06-05T00:00:00",
          "2021-06-06T00:00:00",
          "2021-06-07T00:00:00",
          "2021-06-08T00:00:00",
          "2021-06-09T00:00:00",
          "2021-06-10T00:00:00",
          "2021-06-11T00:00:00",
          "2021-06-12T00:00:00",
          "2021-06-13T00:00:00",
          "2021-06-14T00:00:00",
          "2021-06-15T00:00:00",
          "2021-06-16T00:00:00",
          "2021-06-17T00:00:00",
          "2021-06-18T00:00:00",
          "2021-06-19T00:00:00",
          "2021-06-20T00:00:00",
          "2021-06-21T00:00:00",
          "2021-06-22T00:00:00",
          "2021-06-23T00:00:00",
          "2021-06-24T00:00:00",
          "2021-06-25T00:00:00",
          "2021-06-26T00:00:00",
          "2021-06-27T00:00:00",
          "2021-06-28T00:00:00",
          "2021-06-29T00:00:00",
          "2021-06-30T00:00:00",
          "2021-07-01T00:00:00",
          "2021-07-02T00:00:00",
          "2021-07-03T00:00:00",
          "2021-07-04T00:00:00",
          "2021-07-05T00:00:00",
          "2021-07-06T00:00:00",
          "2021-07-07T00:00:00",
          "2021-07-08T00:00:00",
          "2021-07-09T00:00:00",
          "2021-07-10T00:00:00",
          "2021-07-11T00:00:00",
          "2021-07-12T00:00:00",
          "2021-07-13T00:00:00",
          "2021-07-14T00:00:00",
          "2021-07-15T00:00:00",
          "2021-07-16T00:00:00",
          "2021-07-17T00:00:00",
          "2021-07-18T00:00:00",
          "2021-07-19T00:00:00",
          "2021-07-20T00:00:00",
          "2021-07-21T00:00:00",
          "2021-07-22T00:00:00",
          "2021-07-23T00:00:00",
          "2021-07-24T00:00:00",
          "2021-07-25T00:00:00",
          "2021-07-26T00:00:00",
          "2021-07-27T00:00:00",
          "2021-07-28T00:00:00",
          "2021-07-29T00:00:00",
          "2021-07-30T00:00:00",
          "2021-07-31T00:00:00",
          "2021-08-01T00:00:00",
          "2021-08-02T00:00:00",
          "2021-08-03T00:00:00",
          "2021-08-04T00:00:00",
          "2021-08-05T00:00:00",
          "2021-08-06T00:00:00",
          "2021-08-07T00:00:00",
          "2021-08-08T00:00:00",
          "2021-08-09T00:00:00",
          "2021-08-10T00:00:00",
          "2021-08-11T00:00:00",
          "2021-08-12T00:00:00",
          "2021-08-13T00:00:00",
          "2021-08-14T00:00:00",
          "2021-08-15T00:00:00",
          "2021-08-16T00:00:00",
          "2021-08-17T00:00:00",
          "2021-08-18T00:00:00",
          "2021-08-19T00:00:00",
          "2021-08-20T00:00:00",
          "2021-08-21T00:00:00",
          "2021-08-22T00:00:00",
          "2021-08-23T00:00:00",
          "2021-08-24T00:00:00",
          "2021-08-25T00:00:00",
          "2021-08-26T00:00:00",
          "2021-08-27T00:00:00",
          "2021-08-28T00:00:00",
          "2021-08-29T00:00:00",
          "2021-08-30T00:00:00",
          "2021-08-31T00:00:00",
          "2021-09-01T00:00:00",
          "2021-09-02T00:00:00",
          "2021-09-03T00:00:00",
          "2021-09-04T00:00:00",
          "2021-09-05T00:00:00",
          "2021-09-06T00:00:00",
          "2021-09-07T00:00:00",
          "2021-09-08T00:00:00",
          "2021-09-09T00:00:00",
          "2021-09-10T00:00:00",
          "2021-09-11T00:00:00",
          "2021-09-12T00:00:00",
          "2021-09-13T00:00:00",
          "2021-09-14T00:00:00",
          "2021-09-15T00:00:00",
          "2021-09-16T00:00:00",
          "2021-09-17T00:00:00",
          "2021-09-18T00:00:00",
          "2021-09-19T00:00:00",
          "2021-09-20T00:00:00",
          "2021-09-21T00:00:00",
          "2021-09-22T00:00:00",
          "2021-09-23T00:00:00",
          "2021-09-24T00:00:00",
          "2021-09-25T00:00:00",
          "2021-09-26T00:00:00",
          "2021-09-27T00:00:00",
          "2021-09-28T00:00:00",
          "2021-09-29T00:00:00",
          "2021-09-30T00:00:00",
          "2021-10-01T00:00:00",
          "2021-10-02T00:00:00",
          "2021-10-03T00:00:00",
          "2021-10-04T00:00:00",
          "2021-10-05T00:00:00",
          "2021-10-06T00:00:00",
          "2021-10-07T00:00:00",
          "2021-10-08T00:00:00",
          "2021-10-09T00:00:00",
          "2021-10-10T00:00:00",
          "2021-10-11T00:00:00",
          "2021-10-12T00:00:00",
          "2021-10-13T00:00:00",
          "2021-10-14T00:00:00",
          "2021-10-15T00:00:00",
          "2021-10-16T00:00:00",
          "2021-10-17T00:00:00",
          "2021-10-18T00:00:00",
          "2021-10-19T00:00:00",
          "2021-10-20T00:00:00",
          "2021-10-21T00:00:00",
          "2021-10-22T00:00:00",
          "2021-10-23T00:00:00",
          "2021-10-24T00:00:00",
          "2021-10-25T00:00:00",
          "2021-10-26T00:00:00",
          "2021-10-27T00:00:00",
          "2021-10-28T00:00:00",
          "2021-10-29T00:00:00",
          "2021-10-30T00:00:00",
          "2021-10-31T00:00:00",
          "2021-11-01T00:00:00",
          "2021-11-02T00:00:00",
          "2021-11-03T00:00:00",
          "2021-11-04T00:00:00",
          "2021-11-05T00:00:00",
          "2021-11-06T00:00:00",
          "2021-11-07T00:00:00",
          "2021-11-08T00:00:00",
          "2021-11-09T00:00:00",
          "2021-11-10T00:00:00",
          "2021-11-11T00:00:00",
          "2021-11-12T00:00:00",
          "2021-11-13T00:00:00",
          "2021-11-14T00:00:00",
          "2021-11-15T00:00:00",
          "2021-11-16T00:00:00",
          "2021-11-17T00:00:00",
          "2021-11-18T00:00:00",
          "2021-11-19T00:00:00",
          "2021-11-20T00:00:00",
          "2021-11-21T00:00:00",
          "2021-11-22T00:00:00",
          "2021-11-23T00:00:00",
          "2021-11-24T00:00:00",
          "2021-11-25T00:00:00",
          "2021-11-26T00:00:00",
          "2021-11-27T00:00:00",
          "2021-11-28T00:00:00",
          "2021-11-29T00:00:00",
          "2021-11-30T00:00:00",
          "2021-12-01T00:00:00",
          "2021-12-02T00:00:00",
          "2021-12-03T00:00:00",
          "2021-12-04T00:00:00",
          "2021-12-05T00:00:00",
          "2021-12-06T00:00:00",
          "2021-12-07T00:00:00",
          "2021-12-08T00:00:00",
          "2021-12-09T00:00:00",
          "2021-12-10T00:00:00",
          "2021-12-11T00:00:00",
          "2021-12-12T00:00:00",
          "2021-12-13T00:00:00",
          "2021-12-14T00:00:00",
          "2021-12-15T00:00:00",
          "2021-12-16T00:00:00",
          "2021-12-17T00:00:00",
          "2021-12-18T00:00:00",
          "2021-12-19T00:00:00",
          "2021-12-20T00:00:00",
          "2021-12-21T00:00:00",
          "2021-12-22T00:00:00",
          "2021-12-23T00:00:00",
          "2021-12-24T00:00:00",
          "2021-12-25T00:00:00",
          "2021-12-26T00:00:00",
          "2021-12-27T00:00:00",
          "2021-12-28T00:00:00",
          "2021-12-29T00:00:00",
          "2021-12-30T00:00:00",
          "2021-12-31T00:00:00",
          "2022-01-01T00:00:00",
          "2022-01-02T00:00:00",
          "2022-01-03T00:00:00",
          "2022-01-04T00:00:00",
          "2022-01-05T00:00:00",
          "2022-01-06T00:00:00",
          "2022-01-07T00:00:00",
          "2022-01-08T00:00:00",
          "2022-01-09T00:00:00",
          "2022-01-10T00:00:00",
          "2022-01-11T00:00:00",
          "2022-01-12T00:00:00",
          "2022-01-13T00:00:00",
          "2022-01-14T00:00:00",
          "2022-01-15T00:00:00",
          "2022-01-16T00:00:00",
          "2022-01-17T00:00:00",
          "2022-01-18T00:00:00",
          "2022-01-19T00:00:00",
          "2022-01-20T00:00:00",
          "2022-01-21T00:00:00",
          "2022-01-22T00:00:00",
          "2022-01-23T00:00:00",
          "2022-01-24T00:00:00",
          "2022-01-25T00:00:00",
          "2022-01-26T00:00:00",
          "2022-01-27T00:00:00",
          "2022-01-28T00:00:00",
          "2022-01-29T00:00:00",
          "2022-01-30T00:00:00",
          "2022-01-31T00:00:00",
          "2022-02-01T00:00:00",
          "2022-02-02T00:00:00",
          "2022-02-03T00:00:00",
          "2022-02-04T00:00:00",
          "2022-02-05T00:00:00",
          "2022-02-06T00:00:00",
          "2022-02-07T00:00:00",
          "2022-02-08T00:00:00",
          "2022-02-09T00:00:00",
          "2022-02-10T00:00:00",
          "2022-02-11T00:00:00",
          "2022-02-12T00:00:00",
          "2022-02-13T00:00:00",
          "2022-02-14T00:00:00",
          "2022-02-15T00:00:00",
          "2022-02-16T00:00:00",
          "2022-02-17T00:00:00",
          "2022-02-18T00:00:00",
          "2022-02-19T00:00:00",
          "2022-02-20T00:00:00",
          "2022-02-21T00:00:00",
          "2022-02-22T00:00:00",
          "2022-02-23T00:00:00",
          "2022-02-24T00:00:00",
          "2022-02-25T00:00:00",
          "2022-02-26T00:00:00",
          "2022-02-27T00:00:00",
          "2022-02-28T00:00:00",
          "2022-03-01T00:00:00",
          "2022-03-02T00:00:00",
          "2022-03-03T00:00:00",
          "2022-03-04T00:00:00",
          "2022-03-05T00:00:00",
          "2022-03-06T00:00:00",
          "2022-03-07T00:00:00",
          "2022-03-08T00:00:00",
          "2022-03-09T00:00:00",
          "2022-03-10T00:00:00",
          "2022-03-11T00:00:00",
          "2022-03-12T00:00:00",
          "2022-03-13T00:00:00",
          "2022-03-14T00:00:00",
          "2022-03-15T00:00:00",
          "2022-03-16T00:00:00",
          "2022-03-17T00:00:00",
          "2022-03-18T00:00:00",
          "2022-03-19T00:00:00",
          "2022-03-20T00:00:00",
          "2022-03-21T00:00:00",
          "2022-03-22T00:00:00",
          "2022-03-23T00:00:00",
          "2022-03-24T00:00:00",
          "2022-03-25T00:00:00",
          "2022-03-26T00:00:00",
          "2022-03-27T00:00:00",
          "2022-03-28T00:00:00",
          "2022-03-29T00:00:00",
          "2022-03-30T00:00:00",
          "2022-03-31T00:00:00",
          "2022-04-01T00:00:00",
          "2022-04-02T00:00:00",
          "2022-04-03T00:00:00",
          "2022-04-04T00:00:00",
          "2022-04-05T00:00:00",
          "2022-04-06T00:00:00",
          "2022-04-07T00:00:00",
          "2022-04-08T00:00:00",
          "2022-04-09T00:00:00",
          "2022-04-10T00:00:00",
          "2022-04-11T00:00:00",
          "2022-04-12T00:00:00",
          "2022-04-13T00:00:00",
          "2022-04-14T00:00:00",
          "2022-04-15T00:00:00",
          "2022-04-16T00:00:00",
          "2022-04-17T00:00:00",
          "2022-04-18T00:00:00",
          "2022-04-19T00:00:00",
          "2022-04-20T00:00:00",
          "2022-04-21T00:00:00",
          "2022-04-22T00:00:00",
          "2022-04-23T00:00:00",
          "2022-04-24T00:00:00",
          "2022-04-25T00:00:00",
          "2022-04-26T00:00:00",
          "2022-04-27T00:00:00",
          "2022-04-28T00:00:00",
          "2022-04-29T00:00:00",
          "2022-04-30T00:00:00",
          "2022-05-01T00:00:00",
          "2022-05-02T00:00:00",
          "2022-05-03T00:00:00",
          "2022-05-04T00:00:00",
          "2022-05-05T00:00:00",
          "2022-05-06T00:00:00",
          "2022-05-07T00:00:00",
          "2022-05-08T00:00:00",
          "2022-05-09T00:00:00",
          "2022-05-10T00:00:00",
          "2022-05-11T00:00:00",
          "2022-05-12T00:00:00",
          "2022-05-13T00:00:00",
          "2022-05-14T00:00:00",
          "2022-05-15T00:00:00",
          "2022-05-16T00:00:00",
          "2022-05-17T00:00:00",
          "2022-05-18T00:00:00",
          "2022-05-19T00:00:00",
          "2022-05-20T00:00:00",
          "2022-05-21T00:00:00",
          "2022-05-22T00:00:00",
          "2022-05-23T00:00:00",
          "2022-05-24T00:00:00",
          "2022-05-25T00:00:00",
          "2022-05-26T00:00:00",
          "2022-05-27T00:00:00",
          "2022-05-28T00:00:00",
          "2022-05-29T00:00:00",
          "2022-05-30T00:00:00",
          "2022-05-31T00:00:00",
          "2022-06-01T00:00:00",
          "2022-06-02T00:00:00",
          "2022-06-03T00:00:00",
          "2022-06-04T00:00:00",
          "2022-06-05T00:00:00",
          "2022-06-06T00:00:00",
          "2022-06-07T00:00:00",
          "2022-06-08T00:00:00",
          "2022-06-09T00:00:00",
          "2022-06-10T00:00:00",
          "2022-06-11T00:00:00",
          "2022-06-12T00:00:00",
          "2022-06-13T00:00:00",
          "2022-06-14T00:00:00",
          "2022-06-15T00:00:00",
          "2022-06-16T00:00:00",
          "2022-06-17T00:00:00",
          "2022-06-18T00:00:00",
          "2022-06-19T00:00:00",
          "2022-06-20T00:00:00",
          "2022-06-21T00:00:00",
          "2022-06-22T00:00:00",
          "2022-06-23T00:00:00",
          "2022-06-24T00:00:00",
          "2022-06-25T00:00:00",
          "2022-06-26T00:00:00",
          "2022-06-27T00:00:00",
          "2022-06-28T00:00:00",
          "2022-06-29T00:00:00",
          "2022-06-30T00:00:00",
          "2022-07-01T00:00:00",
          "2022-07-02T00:00:00",
          "2022-07-03T00:00:00",
          "2022-07-04T00:00:00",
          "2022-07-05T00:00:00",
          "2022-07-06T00:00:00",
          "2022-07-07T00:00:00",
          "2022-07-08T00:00:00",
          "2022-07-09T00:00:00",
          "2022-07-10T00:00:00",
          "2022-07-11T00:00:00",
          "2022-07-12T00:00:00",
          "2022-07-13T00:00:00",
          "2022-07-14T00:00:00",
          "2022-07-15T00:00:00",
          "2022-07-16T00:00:00",
          "2022-07-17T00:00:00",
          "2022-07-18T00:00:00",
          "2022-07-19T00:00:00",
          "2022-07-20T00:00:00",
          "2022-07-21T00:00:00",
          "2022-07-22T00:00:00",
          "2022-07-23T00:00:00",
          "2022-07-24T00:00:00",
          "2022-07-25T00:00:00",
          "2022-07-26T00:00:00",
          "2022-07-27T00:00:00",
          "2022-07-28T00:00:00",
          "2022-07-29T00:00:00",
          "2022-07-30T00:00:00",
          "2022-07-31T00:00:00",
          "2022-08-01T00:00:00",
          "2022-08-02T00:00:00",
          "2022-08-03T00:00:00",
          "2022-08-04T00:00:00",
          "2022-08-05T00:00:00",
          "2022-08-06T00:00:00",
          "2022-08-07T00:00:00",
          "2022-08-08T00:00:00",
          "2022-08-09T00:00:00",
          "2022-08-10T00:00:00",
          "2022-08-11T00:00:00",
          "2022-08-12T00:00:00",
          "2022-08-13T00:00:00",
          "2022-08-14T00:00:00",
          "2022-08-15T00:00:00",
          "2022-08-16T00:00:00",
          "2022-08-17T00:00:00",
          "2022-08-18T00:00:00",
          "2022-08-19T00:00:00",
          "2022-08-20T00:00:00",
          "2022-08-21T00:00:00",
          "2022-08-22T00:00:00",
          "2022-08-23T00:00:00",
          "2022-08-24T00:00:00",
          "2022-08-25T00:00:00",
          "2022-08-26T00:00:00",
          "2022-08-27T00:00:00",
          "2022-08-28T00:00:00",
          "2022-08-29T00:00:00",
          "2022-08-30T00:00:00",
          "2022-08-31T00:00:00",
          "2022-09-01T00:00:00",
          "2022-09-02T00:00:00",
          "2022-09-03T00:00:00",
          "2022-09-04T00:00:00",
          "2022-09-05T00:00:00",
          "2022-09-06T00:00:00",
          "2022-09-07T00:00:00",
          "2022-09-08T00:00:00",
          "2022-09-09T00:00:00",
          "2022-09-10T00:00:00",
          "2022-09-11T00:00:00",
          "2022-09-12T00:00:00",
          "2022-09-13T00:00:00",
          "2022-09-14T00:00:00",
          "2022-09-15T00:00:00",
          "2022-09-16T00:00:00",
          "2022-09-17T00:00:00",
          "2022-09-18T00:00:00",
          "2022-09-19T00:00:00",
          "2022-09-20T00:00:00",
          "2022-09-21T00:00:00",
          "2022-09-22T00:00:00",
          "2022-09-23T00:00:00",
          "2022-09-24T00:00:00",
          "2022-09-25T00:00:00",
          "2022-09-26T00:00:00",
          "2022-09-27T00:00:00",
          "2022-09-28T00:00:00",
          "2022-09-29T00:00:00",
          "2022-09-30T00:00:00",
          "2022-10-01T00:00:00",
          "2022-10-02T00:00:00",
          "2022-10-03T00:00:00",
          "2022-10-04T00:00:00",
          "2022-10-05T00:00:00",
          "2022-10-06T00:00:00",
          "2022-10-07T00:00:00",
          "2022-10-08T00:00:00",
          "2022-10-09T00:00:00",
          "2022-10-10T00:00:00",
          "2022-10-11T00:00:00",
          "2022-10-12T00:00:00",
          "2022-10-13T00:00:00",
          "2022-10-14T00:00:00",
          "2022-10-15T00:00:00",
          "2022-10-16T00:00:00",
          "2022-10-17T00:00:00",
          "2022-10-18T00:00:00",
          "2022-10-19T00:00:00",
          "2022-10-20T00:00:00",
          "2022-10-21T00:00:00",
          "2022-10-22T00:00:00",
          "2022-10-23T00:00:00",
          "2022-10-24T00:00:00",
          "2022-10-25T00:00:00",
          "2022-10-26T00:00:00",
          "2022-10-27T00:00:00",
          "2022-10-28T00:00:00",
          "2022-10-29T00:00:00",
          "2022-10-30T00:00:00",
          "2022-10-31T00:00:00",
          "2022-11-01T00:00:00",
          "2022-11-02T00:00:00",
          "2022-11-03T00:00:00",
          "2022-11-04T00:00:00",
          "2022-11-05T00:00:00",
          "2022-11-06T00:00:00",
          "2022-11-07T00:00:00",
          "2022-11-08T00:00:00",
          "2022-11-09T00:00:00",
          "2022-11-10T00:00:00",
          "2022-11-11T00:00:00",
          "2022-11-12T00:00:00",
          "2022-11-13T00:00:00",
          "2022-11-14T00:00:00",
          "2022-11-15T00:00:00"
         ],
         "y": [
          null,
          null,
          null,
          null,
          null,
          null,
          null,
          null,
          null,
          null,
          null,
          null,
          null,
          null,
          null,
          null,
          null,
          null,
          null,
          null,
          2,
          0,
          0.33333333333333326,
          0.75,
          0,
          0.2857142857142858,
          0.4444444444444444,
          -0.07692307692307687,
          0.5,
          -0.11111111111111116,
          0.375,
          0.09090909090909083,
          0.125,
          0.33333333333333326,
          0.16666666666666674,
          0.45238095238095233,
          -0.016393442622950838,
          0.33333333333333326,
          -0.35,
          0.40384615384615374,
          0.6575342465753424,
          0.11570247933884303,
          -0.014814814814814836,
          -0.1428571428571429,
          -0.4035087719298246,
          0.41176470588235303,
          0.25,
          0.6666666666666667,
          0.014999999999999902,
          -0.0049261083743842304,
          0.044554455445544594,
          -0.042654028436018954,
          -0.4257425742574258,
          -0.07758620689655171,
          0.6261682242990654,
          -0.028735632183908066,
          1.4142011834319526,
          -0.08578431372549022,
          -0.05630026809651478,
          -0.35511363636363635,
          0.3436123348017621,
          0.6000000000000001,
          -0.09221311475409832,
          0,
          0.03611738148984189,
          -0.1917211328976035,
          -0.2803234501347709,
          0.13857677902621712,
          0.944078947368421,
          0.05752961082910324,
          0.08000000000000007,
          0.11703703703703705,
          -0.11007957559681703,
          -0.28763040238450077,
          0.014644351464435212,
          0.7360824742268042,
          -0.07600950118764849,
          0.014138817480719768,
          0.15842839036755385,
          -0.21334792122538293,
          -0.30458970792767737,
          0.44399999999999995,
          0.5927977839335179,
          -0.14347826086956517,
          0.08527918781725896,
          -0.03554724041159962,
          0.014548981571290032,
          -0.3709369024856597,
          0.10334346504559266,
          0.45316804407713507,
          0.004739336492890933,
          0.1216981132075472,
          -0.042893187552565215,
          -0.24077328646748686,
          -0.4560185185185185,
          0.5787234042553191,
          0.8382749326145553,
          -0.12463343108504399,
          0.2646566164154105,
          -0.28741721854304636,
          -0.2555762081784386,
          -0.40574282147315854,
          0.8130252100840336,
          0.38238702201622243,
          0.03604358759430015,
          0.02669902912621369,
          -0.3364854215918046,
          0.017814726840855055,
          -0.2602100350058343,
          0.20504731861198744,
          0.743455497382199,
          -0.11036036036036034,
          0.043881856540084474,
          -0.05254648342764756,
          -0.16211604095563137,
          -0.37983706720977595,
          0.2068965517241379,
          0.91156462585034,
          -0.2099644128113879,
          0.05675675675675684,
          -0.15430520034100592,
          0.04334677419354849,
          -0.42028985507246375,
          0.18999999999999995,
          0.8403361344537814,
          -0.1735159817351598,
          0.15837937384898715,
          -0.03577106518282991,
          -0.12860676009892824,
          -0.4711447492904447,
          0.2218246869409659,
          0.9019033674963397,
          -0.0969976905311778,
          0.04177323103154307,
          0.06301145662847785,
          -0.2832948421862972,
          -0.33727175080558536,
          0.3484602917341977,
          0.5637019230769231,
          -0.02305918524212147,
          0.03855232100708106,
          -0.1492424242424243,
          -0.24844167408726625,
          -0.16706161137440756,
          0.10099573257467998,
          0.7015503875968991,
          -0.015945330296127547,
          0.013117283950617287,
          -0.13023610053313028,
          -0.02977232924693518,
          -0.48465703971119134,
          0.19789842381786338,
          0.8377192982456141,
          -0.0469371519490851,
          0.0033388981636059967,
          0.05740432612312807,
          -0.2627852084972463,
          -0.42902881536819637,
          0.11775700934579447,
          1.2090301003344481,
          0.052990158970476875,
          -0.1193386053199137,
          -0.11510204081632658,
          -0.23892988929889303,
          -0.3115151515151515,
          0.3890845070422535,
          0.496831432192649,
          0.008467400508044065,
          0.031066330814441656,
          -0.17508143322475567,
          -0.2793682132280355,
          -0.1863013698630137,
          0.3215488215488216,
          0.715923566878981,
          -0.14179658500371195,
          0.0692041522491349,
          -0.13915857605177995,
          -0.22180451127819545,
          -0.4492753623188406,
          0.5504385964912282,
          0.7029702970297029,
          -0.09966777408637872,
          -0.09225092250922506,
          -0.141260162601626,
          0.07573964497041419,
          -0.5610561056105611,
          0.6015037593984962,
          0.8137715179968701,
          0.03796376186367567,
          -0.2759767248545303,
          -0.027554535017221604,
          -0.2833530106257379,
          -0.2471169686985173,
          -0.29540481400437635,
          0.6180124223602483,
          1.2245681381957771,
          -0.15962036238136323,
          -0.1303901437371663,
          -0.09327036599763872,
          -0.47265625,
          0.125925925925926,
          1.3771929824561404,
          -0.11254612546125464,
          -0.09667359667359665,
          -0.04718066743383198,
          -0.17753623188405798,
          -0.4845814977973568,
          0.3162393162393162,
          0.725108225108225,
          0.16938519447929745,
          -0.148068669527897,
          0.035264483627204024,
          -0.12165450121654497,
          -0.5304709141274238,
          0.1504424778761062,
          1.194871794871795,
          0.14953271028037385,
          -0.21443089430894313,
          -0.15394566623544637,
          -0.12538226299694188,
          -0.34615384615384615,
          0.050802139037433136,
          1.0610687022900764,
          -0.1049382716049383,
          0.011034482758620623,
          -0.10777626193724421,
          -0.18501529051987764,
          -0.4784240150093808,
          -0.302158273381295,
          0.9432989690721649,
          0.9442970822281167,
          0.11050477489768085,
          -0.21007371007371012,
          -0.35458786936236397,
          -0.4337349397590361,
          0.3872340425531915,
          0.9877300613496933,
          -0.12037037037037035,
          -0.11403508771929827,
          0.11485148514851495,
          -0.3126110124333925,
          -0.3979328165374677,
          0.296137339055794,
          0.7384105960264902,
          -0.03809523809523807,
          0.09108910891089117,
          0.03992740471869327,
          -0.49040139616055844,
          -0.3047945205479452,
          -0.18719211822660098,
          0.7454545454545454,
          1.1458333333333335,
          -0.024271844660194164,
          -0.550580431177446,
          -0.15867158671586712,
          -0.16666666666666663,
          -0.021052631578947323,
          0.06451612903225801,
          1.8989898989898988,
          0.6254355400696865,
          -0.382636655948553,
          0.2743055555555556,
          -0.8092643051771117,
          0.8357142857142856,
          1.6381322957198443,
          0.1135693215339233,
          -0.14304635761589402,
          -0.20556414219474495,
          -0.30544747081712065,
          -0.5014005602240896,
          0.9943820224719102,
          0.7661971830985916,
          -0.006379585326953707,
          0.1396468699839486,
          -0.21267605633802822,
          -0.02683363148479423,
          -0.5716911764705883,
          0.5064377682403434,
          0.9515669515669516,
          -0.008759124087591275,
          0.1207658321060383,
          -0.10906701708278577,
          -0.04572271386430682,
          -0.4744976816074189,
          0.25,
          0.8752941176470588,
          0.07026348808030103,
          -0.09847596717467766,
          -0.14044213263979188,
          0.024205748865355536,
          -0.5642540620384047,
          0.7389830508474575,
          0.8206627680311891,
          0.007494646680942241,
          0.12646121147715195,
          -0.23018867924528297,
          -0.1924019607843137,
          -0.3657056145675266,
          0.3421052631578947,
          0.7272727272727273,
          -0.0041279669762641635,
          -0.21243523316062174,
          -0.36578947368421055,
          -0.3858921161825726,
          0.1385135135135136,
          0.5934718100890208,
          0.9553072625698324,
          0.15809523809523807,
          -0.16529605263157898,
          -0.5369458128078818,
          -0.37872340425531914,
          0.06506849315068486,
          0.909967845659164,
          1,
          0.03535353535353525,
          0.23414634146341462,
          -0.28985507246376807,
          -0.06493506493506496,
          -0.5148809523809523,
          0.004089979550102152,
          1.291242362525458,
          0.12355555555555564,
          -0.08702531645569622,
          -0.01559792027729634,
          -0.10739436619718312,
          -0.45660749506903353,
          -0.1361161524500908,
          1.4369747899159662,
          0.20258620689655182,
          -0.03440860215053765,
          -0.2048997772828508,
          0.06909430438842201,
          -0.48122270742358075,
          0.15993265993266004,
          0.6748911465892597,
          0.15771230502599654,
          0.07559880239520966,
          -0.24565066109951283,
          0.09963099630996308,
          -0.5234899328859061,
          0.09507042253521125,
          1.0241157556270095,
          -0.04924543288324068,
          0.06599832915622383,
          -0.019592476489028177,
          -0.25099920063948844,
          -0.4791889007470651,
          0.47540983606557385,
          0.825,
          0.035768645357686424,
          0.05878030859662009,
          -0.15336571825121448,
          -0.1598360655737705,
          -0.36292682926829267,
          -0.06584992343032159,
          0.7901639344262295,
          0.08882783882783873,
          0.20941968040370051,
          -0.07510431154381081,
          -0.22481203007518802,
          -0.41222114451988356,
          0.1732673267326732,
          0.9099859353023909,
          0.06480117820324005,
          0.08921161825726132,
          -0.14730158730158727,
          -0.06775874906924795,
          -0.38338658146964855,
          0.06994818652849744,
          1.0835351089588379,
          0.0726321905868681,
          -0.021668472372697756,
          -0.05149501661129563,
          -0.13076474022183304,
          -0.26259234385493624,
          0.01821493624772308,
          0.7432915921288015,
          0.22062596203181117,
          -0.07776376628835646,
          -0.03281677301732,
          -0.07869934024505187,
          -0.45319693094629154,
          0.24602432179607114,
          1.1381381381381384,
          -0.0656601123595506,
          0.02329951146185638,
          -0.025339698861549742,
          -0.10738507912584783,
          -0.4740396791895315,
          0.2849117174959872,
          0.9656464709556527,
          -0.26406101048617736,
          0.14464594127806563,
          0.3240286684270086,
          -0.029629629629629672,
          -0.5358191426893717,
          0.2726122707147376,
          0.8156063618290259,
          0.07418560087599224,
          -0.06931702344546387,
          -0.23302300109529028,
          -0.3184576936808283,
          -0.3493975903614458,
          0.537037037037037,
          1.1293871136720797,
          -0.09692496924969252,
          0.12939253609370738,
          -0.09527255185721173,
          -0.3660357238069848,
          -0.21909167367535742,
          -0.07969843834141088,
          1.1966062024575774,
          -0.08257858284496533,
          0.013646922183507604,
          -0.04411343454597538,
          -0.1378483667965238,
          -0.47132429614181437,
          0.15450361604207763,
          0.9048974943052392,
          -0.04454409566517192,
          -0.35826032540675845,
          0.48317893710385174,
          -0.09072978303747536,
          -0.5177151120751988,
          0.034482758620689724,
          1.232608695652174,
          -0.024018175916910134,
          0.008313934153641567,
          -0.05672823218997358,
          -0.21713286713286717,
          -0.43501563197856186,
          -0.11067193675889331,
          1.6480000000000001,
          -0.07015777106411547,
          -0.08483754512635377,
          -0.1384615384615384,
          -0.04761904761904767,
          -0.5567307692307693,
          0.2049891540130151,
          1.0198019801980198,
          0.15017825311942956,
          -0.11778380472685002,
          -0.03952569169960474,
          -0.08504801097393688,
          -0.4702648675662169,
          0.02264150943396226,
          1.261070110701107,
          0.019583843329253448,
          0.004401760704281665,
          -0.15298804780876496,
          -0.1881467544684854,
          -0.484936268829664,
          -0.03149606299212604,
          1.535423925667828,
          0.1282638570774164,
          -0.14697523345513597,
          0.15421227986673003,
          -0.20041237113402066,
          -0.5291387313047963,
          0.056955093099671394,
          1.4165803108808288,
          0.07504288164665529,
          -0.2369365775827682,
          -0.3774176685833769,
          0.40218303946263645,
          -0.4730538922155688,
          0.30568181818181817,
          1.3037423846823324,
          -0.09746883264072537,
          0.046881540393470145,
          -0.12994802079168333,
          -0.09283088235294112,
          -0.43313069908814594,
          -0.08936550491510276,
          1.63297350343474,
          0.006336190831159216,
          -0.14296296296296296,
          0.06957649092480556,
          -0.10909090909090913,
          -0.5324263038548753,
          -0.04849660523763333,
          1.143730886850153,
          0.07703281027104136,
          -0.1002207505518764,
          -0.01521099116781155,
          -0.2446437468858994,
          -0.525065963060686,
          -0.008333333333333304,
          1.7142857142857144,
          0.06449948400412797,
          -0.06349975763451288,
          -0.029503105590062084,
          -0.128,
          -0.5284403669724771,
          0.02075226977950706,
          1.2325285895806863,
          -0.0984632896983495,
          0.09027777777777768,
          -0.14765489287782285,
          -0.21399456521739135,
          -0.5125324114088159,
          0.38120567375886516,
          1.1283697047496792,
          -0.07418576598311222,
          0.04820846905537457,
          -0.13673088875077688,
          -0.08495320374370052,
          -0.6215578284815106,
          0.38877338877338885,
          1.0643712574850301,
          0.015228426395939021,
          0.021428571428571352,
          -0.09720279720279723,
          -0.16343919442292798,
          -0.5564814814814815,
          0.3048016701461378,
          1.0623999999999998,
          0.06439100077579529,
          -0.023323615160349864,
          -0.341044776119403,
          0.07474518686296716,
          -0.5626975763962065,
          0.31084337349397595,
          1.2720588235294117,
          -0.1326860841423948,
          0.050373134328358216,
          -0.15008880994671403,
          0.043887147335423204,
          -0.6106106106106106,
          0.3033419023136248,
          1.5009861932938855,
          -0.17665615141955837,
          -0.026819923371647514,
          -0.1220472440944882,
          0.022421524663677195,
          -0.5734649122807017,
          0.05398457583547556,
          1.6682926829268294,
          -0.09597806215722116,
          0.03336703741152669,
          -0.12524461839530332,
          -0.31655480984340045,
          -0.4549918166939444,
          0.25225225225225234,
          1.0623501199040768,
          0.0313953488372094,
          -0.01916572717023679,
          -0.05977011494252871,
          -0.23349633251833746,
          -0.5566188197767146,
          0.14028776978417268,
          1.77602523659306,
          -0.2090909090909091,
          0.12356321839080464,
          -0.053708439897698246,
          -0.1391891891891892,
          -0.5745682888540031,
          -0.1881918819188192,
          0.48636363636363633,
          -0.23853211009174313,
          2.3092369477911645,
          -0.22815533980582525,
          0.05031446540880502,
          -0.5523952095808383,
          -0.05351170568561869,
          1.3957597173144878,
          0.18141592920353977,
          -0.17228464419475653,
          -0.037707390648567096,
          -0.08150470219435735,
          -0.5767918088737201,
          0.06854838709677424,
          1.539622641509434,
          -0.011887072808320909,
          -0.0541353383458647,
          0.08108108108108114,
          -0.20588235294117652,
          -0.5074074074074074,
          -0.2706766917293233,
          3.211340206185567,
          -0.16646266829865364,
          -0.10719530102790009,
          -0.19407894736842102,
          -0.07346938775510203,
          -0.5022026431718062,
          -0.09734513274336287,
          2.3529411764705883,
          -0.16666666666666663,
          -0.25087719298245614,
          0.47540983606557385,
          -0.3396825396825397,
          -0.6370192307692308,
          0.3708609271523178,
          -0.15458937198067635,
          0.17142857142857149,
          1.7853658536585364,
          -0.11208406304728546,
          -0.08284023668639051,
          -0.7247311827956989,
          0.578125,
          0.8762376237623761,
          0.05013192612137196,
          0.170854271356784,
          -0.04077253218884125,
          -0.21700223713646527,
          -0.6599999999999999,
          0.7394957983193278,
          0.9468599033816425,
          0.07940446650124078,
          -0.14252873563218393,
          0.09383378016085797,
          -0.47058823529411764,
          -0.3842592592592593,
          -0.22556390977443608,
          0.47572815533980584,
          0.25,
          1.2842105263157895,
          -0.11981566820276501,
          -0.2068062827225131,
          -0.768976897689769,
          0.7142857142857142,
          0.7333333333333334,
          0.28846153846153855,
          -0.10447761194029848,
          1.5875,
          -0.5056360708534622,
          -0.7882736156351792,
          0.07692307692307687,
          1.0285714285714285,
          1.6549295774647885,
          -0.2785145888594165,
          -0.13235294117647056,
          -0.11864406779661019,
          -0.5384615384615384,
          0.3125,
          1.3333333333333335,
          -0.08163265306122447,
          0.06666666666666665,
          0.05902777777777768,
          -0.2557377049180328,
          -0.6475770925110131,
          0.4750000000000001,
          1.7627118644067798,
          -0.17791411042944782,
          -0.26865671641791045,
          0.19387755102040827,
          -0.37606837606837606,
          -0.5136986301369864,
          0.8591549295774648,
          0.9772727272727273,
          -0.08429118773946365,
          -0.16736401673640167,
          0.14572864321608048,
          -0.7675438596491229,
          0.5471698113207548,
          -0.4512195121951219,
          1.511111111111111,
          1.6371681415929205,
          -0.587248322147651,
          0.6097560975609757,
          -0.303030303030303,
          -0.6014492753623188,
          0.509090909090909,
          -0.14457831325301207,
          1.0985915492957745,
          -0.14093959731543626,
          0.28125,
          -0.7134146341463414,
          -0.46808510638297873,
          2.2,
          1.125,
          -0.3176470588235294,
          0.27586206896551735,
          -0.41891891891891897,
          -0.627906976744186,
          0.28125,
          0.7560975609756098,
          1.5277777777777777,
          -0.30219780219780223,
          0.3700787401574803,
          -0.16091954022988508,
          -0.34246575342465757,
          -0.48958333333333337,
          1.4285714285714284,
          0.134453781512605,
          0.029629629629629672,
          0.41007194244604306,
          0.1785714285714286,
          -0.29004329004329,
          -0.39634146341463417,
          0.6767676767676767,
          0.8795180722891567,
          0.03205128205128216,
          0.0931677018633541,
          0.13068181818181812,
          -0.2211055276381909,
          -0.3838709677419355,
          0.4136125654450262,
          0.7962962962962963,
          0.24329896907216497,
          0.13266998341625214,
          0.1171303074670571,
          -0.09043250327653996,
          -0.6051873198847262,
          0.7591240875912408,
          0.5560165975103735,
          0.2533333333333334,
          0.06063829787234032,
          -0.029087261785356033,
          -0.16942148760330578,
          -0.44402985074626866,
          -0.07158836689038028,
          1.8843373493975903,
          0.07518796992481214,
          -0.2812742812742812,
          0.20648648648648638,
          -0.22401433691756267,
          -0.605080831408776,
          0.4415204678362572,
          0.8559837728194726,
          0.12896174863387988,
          0.0726040658276863,
          0.00902527075812265,
          -0.2522361359570662,
          -0.5227272727272727,
          -0.14035087719298245,
          1.3440233236151604,
          0.22512437810945274,
          -0.0020304568527919065,
          -0.18819938962360117,
          -0.1127819548872181,
          -0.6963276836158192,
          0.10697674418604652,
          0.16806722689075637,
          0.24460431654676262,
          0.6965317919075145,
          0.18228279386712098,
          -0.08789625360230546,
          -0.6619273301737757,
          0.028037383177569986,
          1.2363636363636363,
          0.37804878048780477,
          -0.16666666666666663,
          -0.1929203539823009,
          -0.1578947368421053,
          -0.640625,
          0.3405797101449275,
          0.7729729729729731,
          0.08536585365853666,
          0.3398876404494382,
          -0.19916142557651995,
          -0.25392670157068065,
          -0.6280701754385964,
          -0.037735849056603765,
          3.0294117647058822,
          -0.3114355231143552,
          0.08833922261484095,
          -0.1655844155844156,
          -0.2529182879377432,
          -0.44270833333333337,
          -0.28971962616822433,
          2.75,
          -0.07719298245614037,
          -0.03802281368821292,
          -0.031620553359683834,
          -0.5673469387755101,
          -0.6320754716981132,
          3.230769230769231,
          0.3090909090909091,
          -0.09722222222222221,
          0.28205128205128216,
          -0.404,
          -0.3422818791946308,
          -0.6122448979591837,
          0.8157894736842106,
          1.4057971014492754,
          -0.01807228915662651,
          -0.14110429447852757,
          -0.20714285714285718,
          -0.7207207207207207,
          -0.29032258064516125,
          2,
          0.893939393939394,
          1.104,
          -0.6501901140684411,
          -0.44565217391304346,
          0.03921568627450989,
          -0.3207547169811321,
          1.1111111111111112,
          0.894736842105263,
          0.7013888888888888,
          -0.5346938775510204,
          0.6228070175438596,
          -0.5297297297297296,
          -0.8160919540229885,
          4.5625,
          0.03370786516853941,
          -0.2934782608695652,
          1.1076923076923078,
          0.42335766423357657,
          -0.8205128205128205,
          -0.6285714285714286,
          3.0769230769230766,
          2.7358490566037736,
          -0.36363636363636365,
          -0.007936507936507908,
          0.1120000000000001,
          -0.3381294964028777,
          -0.5,
          0.5,
          2.318840579710145,
          -0.5502183406113537,
          0.10679611650485432,
          -0.4736842105263158,
          -0.41666666666666663,
          1.8285714285714287,
          -0.6060606060606061,
          5.128205128205129,
          -0.4476987447698745,
          0.08333333333333326,
          -0.027972027972028024,
          -0.48201438848920863,
          -0.13888888888888884,
          0.016129032258064502,
          1.5396825396825395,
          -0.21875,
          0.016000000000000014,
          -0.6614173228346456,
          -0.39534883720930236,
          -0.6923076923076923,
          3.5,
          7.527777777777779,
          -0.026058631921824116,
          -0.5217391304347826,
          0.18881118881118875,
          -0.3294117647058824,
          -0.6842105263157895,
          0.9444444444444444,
          1.4857142857142858,
          0.9482758620689655,
          -0.5545722713864307,
          -0.5231788079470199,
          0.3055555555555556,
          -0.4148936170212766,
          0.7454545454545454,
          1.3854166666666665,
          -0.388646288209607,
          1.6071428571428572,
          -0.08493150684931505,
          -0.5808383233532934,
          -0.7428571428571429,
          2.5277777777777777,
          1.4881889763779528,
          -0.12341772151898733,
          0.05054151624548742,
          -0.02405498281786944,
          -0.4436619718309859,
          -0.6645569620253164,
          1.3018867924528301,
          2.2459016393442623,
          -0.08838383838383834,
          -0.21606648199445988,
          -0.060070671378091856,
          -0.19172932330827064,
          -0.7395348837209302,
          1.6428571428571428,
          1.3243243243243241,
          0.10465116279069764,
          -0.21842105263157896,
          0.047138047138047146,
          -0.34083601286173637,
          -0.7317073170731707,
          2.0545454545454547,
          1.1011904761904763,
          -0.019830028328611915,
          -0.2225433526011561,
          0.040892193308550207,
          -0.42500000000000004,
          -0.7701863354037267,
          3.8378378378378377,
          0.9608938547486034,
          -0.11680911680911676,
          -0.14516129032258063,
          -0.0792452830188679,
          -0.2909836065573771,
          -0.838150289017341,
          6.178571428571429,
          0.46766169154228865,
          -0.10169491525423724,
          -0.015094339622641506,
          -0.14942528735632188,
          -0.18468468468468469,
          -0.6850828729281768,
          1.9824561403508771,
          1.1470588235294117,
          -0.3013698630136986,
          -0.13725490196078427,
          0.1227272727272728,
          -0.40485829959514175,
          -0.7482993197278911,
          2.2432432432432434,
          0.7166666666666666,
          0.19902912621359214,
          -0.1659919028340081,
          -0.3106796116504854,
          0.014084507042253502,
          -0.6736111111111112,
          1.5957446808510638,
          0.6639344262295082,
          -0.0049261083743842304,
          -0.22277227722772275,
          0.04458598726114649,
          -0.5426829268292683,
          -0.7066666666666667,
          4.818181818181818,
          0.7890625,
          -0.5021834061135371,
          0.5964912280701755,
          -0.36813186813186816,
          -0.19999999999999996,
          -0.8369565217391304,
          2.7333333333333334,
          1.7678571428571428,
          -0.6322580645161291,
          0.49122807017543857,
          0.07058823529411762,
          -0.5604395604395604,
          -0.825,
          4.428571428571429,
          1.736842105263158,
          0.14423076923076916,
          -0.31092436974789917,
          0.18292682926829262,
          -0.6494845360824743,
          0.23529411764705888,
          0.23809523809523814,
          0.7307692307692308,
          -0.0444444444444444,
          -0.15116279069767447,
          0,
          -0.5616438356164384,
          -0.28125,
          0.30434782608695654,
          0.5333333333333334,
          0,
          0.10869565217391308,
          0.13725490196078427,
          2.7586206896551726,
          -0.6972477064220184,
          -0.2272727272727273,
          0.8235294117647058,
          0.17204301075268824,
          0.22018348623853212,
          -0.2706766917293233,
          -0.5979381443298969,
          -0.7692307692307692,
          1.8888888888888888,
          2.3076923076923075,
          -0.2674418604651163,
          -0.31746031746031744,
          0.7441860465116279,
          -0.88,
          -0.7777777777777778,
          43,
          -0.05681818181818177,
          0.16867469879518082,
          -0.38144329896907214,
          -0.2666666666666667,
          -0.11363636363636365,
          -0.7948717948717949,
          10.5,
          -0.5217391304347826,
          3.4772727272727275,
          -0.7208121827411167,
          1.1454545454545455,
          -0.9067796610169492,
          -0.9090909090909091,
          64,
          -0.0461538461538461,
          -0.8548387096774194,
          3.333333333333333,
          0.6666666666666667,
          -0.8461538461538461,
          -0.4,
          6.833333333333333,
          0.9574468085106382,
          -0.13043478260869568,
          -0.5,
          0.2250000000000001,
          -1,
          null,
          null,
          null
         ]
        },
        {
         "line": {
          "color": "blue"
         },
         "name": "Variação Semanal",
         "type": "scatter",
         "x": [
          "2020-03-15T00:00:00",
          "2020-03-22T00:00:00",
          "2020-03-29T00:00:00",
          "2020-04-05T00:00:00",
          "2020-04-12T00:00:00",
          "2020-04-19T00:00:00",
          "2020-04-26T00:00:00",
          "2020-05-03T00:00:00",
          "2020-05-10T00:00:00",
          "2020-05-17T00:00:00",
          "2020-05-24T00:00:00",
          "2020-05-31T00:00:00",
          "2020-06-07T00:00:00",
          "2020-06-14T00:00:00",
          "2020-06-21T00:00:00",
          "2020-06-28T00:00:00",
          "2020-07-05T00:00:00",
          "2020-07-12T00:00:00",
          "2020-07-19T00:00:00",
          "2020-07-26T00:00:00",
          "2020-08-02T00:00:00",
          "2020-08-09T00:00:00",
          "2020-08-16T00:00:00",
          "2020-08-23T00:00:00",
          "2020-08-30T00:00:00",
          "2020-09-06T00:00:00",
          "2020-09-13T00:00:00",
          "2020-09-20T00:00:00",
          "2020-09-27T00:00:00",
          "2020-10-04T00:00:00",
          "2020-10-11T00:00:00",
          "2020-10-18T00:00:00",
          "2020-10-25T00:00:00",
          "2020-11-01T00:00:00",
          "2020-11-08T00:00:00",
          "2020-11-15T00:00:00",
          "2020-11-22T00:00:00",
          "2020-11-29T00:00:00",
          "2020-12-06T00:00:00",
          "2020-12-13T00:00:00",
          "2020-12-20T00:00:00",
          "2020-12-27T00:00:00",
          "2021-01-03T00:00:00",
          "2021-01-10T00:00:00",
          "2021-01-17T00:00:00",
          "2021-01-24T00:00:00",
          "2021-01-31T00:00:00",
          "2021-02-07T00:00:00",
          "2021-02-14T00:00:00",
          "2021-02-21T00:00:00",
          "2021-02-28T00:00:00",
          "2021-03-07T00:00:00",
          "2021-03-14T00:00:00",
          "2021-03-21T00:00:00",
          "2021-03-28T00:00:00",
          "2021-04-04T00:00:00",
          "2021-04-11T00:00:00",
          "2021-04-18T00:00:00",
          "2021-04-25T00:00:00",
          "2021-05-02T00:00:00",
          "2021-05-09T00:00:00",
          "2021-05-16T00:00:00",
          "2021-05-23T00:00:00",
          "2021-05-30T00:00:00",
          "2021-06-06T00:00:00",
          "2021-06-13T00:00:00",
          "2021-06-20T00:00:00",
          "2021-06-27T00:00:00",
          "2021-07-04T00:00:00",
          "2021-07-11T00:00:00",
          "2021-07-18T00:00:00",
          "2021-07-25T00:00:00",
          "2021-08-01T00:00:00",
          "2021-08-08T00:00:00",
          "2021-08-15T00:00:00",
          "2021-08-22T00:00:00",
          "2021-08-29T00:00:00",
          "2021-09-05T00:00:00",
          "2021-09-12T00:00:00",
          "2021-09-19T00:00:00",
          "2021-09-26T00:00:00",
          "2021-10-03T00:00:00",
          "2021-10-10T00:00:00",
          "2021-10-17T00:00:00",
          "2021-10-24T00:00:00",
          "2021-10-31T00:00:00",
          "2021-11-07T00:00:00",
          "2021-11-14T00:00:00",
          "2021-11-21T00:00:00",
          "2021-11-28T00:00:00",
          "2021-12-05T00:00:00",
          "2021-12-12T00:00:00",
          "2021-12-19T00:00:00",
          "2021-12-26T00:00:00",
          "2022-01-02T00:00:00",
          "2022-01-09T00:00:00",
          "2022-01-16T00:00:00",
          "2022-01-23T00:00:00",
          "2022-01-30T00:00:00",
          "2022-02-06T00:00:00",
          "2022-02-13T00:00:00",
          "2022-02-20T00:00:00",
          "2022-02-27T00:00:00",
          "2022-03-06T00:00:00",
          "2022-03-13T00:00:00",
          "2022-03-20T00:00:00",
          "2022-03-27T00:00:00",
          "2022-04-03T00:00:00",
          "2022-04-10T00:00:00",
          "2022-04-17T00:00:00",
          "2022-04-24T00:00:00",
          "2022-05-01T00:00:00",
          "2022-05-08T00:00:00",
          "2022-05-15T00:00:00",
          "2022-05-22T00:00:00",
          "2022-05-29T00:00:00",
          "2022-06-05T00:00:00",
          "2022-06-12T00:00:00",
          "2022-06-19T00:00:00",
          "2022-06-26T00:00:00",
          "2022-07-03T00:00:00",
          "2022-07-10T00:00:00",
          "2022-07-17T00:00:00",
          "2022-07-24T00:00:00",
          "2022-07-31T00:00:00",
          "2022-08-07T00:00:00",
          "2022-08-14T00:00:00",
          "2022-08-21T00:00:00",
          "2022-08-28T00:00:00",
          "2022-09-04T00:00:00",
          "2022-09-11T00:00:00",
          "2022-09-18T00:00:00",
          "2022-09-25T00:00:00",
          "2022-10-02T00:00:00",
          "2022-10-09T00:00:00",
          "2022-10-16T00:00:00",
          "2022-10-23T00:00:00",
          "2022-10-30T00:00:00",
          "2022-11-06T00:00:00",
          "2022-11-13T00:00:00",
          "2022-11-20T00:00:00"
         ],
         "y": [
          null,
          null,
          3.5599999999999996,
          2.1403508771929824,
          1.0670391061452515,
          0.6945945945945946,
          0.44338118022328543,
          0.5337016574585636,
          0.47622478386167155,
          0.22669594924353342,
          0.3250447583051521,
          -0.023870289746284357,
          0.10166102737619198,
          -0.03755409744520455,
          0.05613577023498695,
          -0.031726411207251726,
          0.021418439716311966,
          0.003194000833217636,
          0.02353266888150607,
          0.017176088720584293,
          -0.05810397553516822,
          -0.010163749294184066,
          -0.04078722190530515,
          0.021706809396372373,
          -0.10768335273573926,
          -0.05691454664057405,
          -0.13608853536226873,
          0.04703763010408335,
          -0.06939399732364748,
          -0.05443714050944948,
          -0.10362806865087981,
          -0.17329132331555985,
          -0.05247727939020819,
          -0.08694306930693074,
          -0.19925449000338868,
          0.41388066017774006,
          0.01346902125112237,
          0.07826343768458366,
          0.13420980553273076,
          0.08113982129920316,
          0.1929863748045566,
          -0.18180116083130504,
          0.1192219679633868,
          0.4526681660192189,
          -0.05207600281491909,
          0.06726057906458793,
          0.037840845854201444,
          -0.057640750670241325,
          0.10014224751066858,
          -0.056633048875097014,
          0.1591282894736843,
          0.24145678136455007,
          0.21783026954948093,
          0.2383075238542156,
          0.15025579485883922,
          0.05386558313200096,
          0.13463241806908766,
          -0.07549249207879871,
          -0.13127700789748176,
          -0.035791881074899945,
          -0.13454696394686905,
          -0.07769784172661875,
          -0.013074808706634022,
          -0.030109145652992053,
          -0.11074893286767562,
          0.21792633967533592,
          0.033823002508061695,
          -0.19387259998613715,
          -0.06036113499570073,
          -0.1720351390922401,
          -0.03603006189213087,
          -0.11407933960100891,
          -0.11052154781933476,
          -0.08002327949949073,
          -0.04665506879645742,
          -0.11197743861977438,
          -0.11133943583037553,
          -0.09123397099011987,
          -0.25445292620865145,
          0.20912193608439344,
          -0.04593276879651009,
          -0.06670252824098977,
          -0.11181556195965414,
          -0.26735885788449054,
          0.04561558901682905,
          -0.07878017789072422,
          -0.24873563218390804,
          0.11933904528763772,
          -0.23400765445598692,
          0.13490364025695922,
          -0.1452830188679245,
          -0.12141280353200878,
          -0.1876046901172529,
          -0.31237113402061856,
          0.008995502248875464,
          0.25705794947994054,
          0.2801418439716312,
          0.8938134810710987,
          0.8391028766455388,
          0.4284199363732768,
          0.1410541945063104,
          -0.040013012361743705,
          -0.1806167400881057,
          -0.3817204301075269,
          -0.019063545150501682,
          -0.2775315376747358,
          -0.21661160924964606,
          -0.23674698795180726,
          -0.12312549329123912,
          -0.3681368136813682,
          -0.022792022792022748,
          0.26384839650145775,
          -0.27797001153402534,
          0.24440894568690097,
          -0.08985879332477531,
          0.1650211565585331,
          -0.33171912832929784,
          1.0018115942028984,
          -0.1357466063348416,
          0.40314136125654443,
          0.12388059701492526,
          0.12815405046480755,
          0.02413184226015308,
          -0.07241379310344831,
          -0.039653035935563796,
          -0.04387096774193544,
          -0.027665317139001333,
          -0.2283136710617627,
          -0.15017985611510787,
          -0.07407407407407407,
          -0.43885714285714283,
          0.050916496945010215,
          -0.16860465116279066,
          0.20046620046620056,
          0.03106796116504862,
          -0.4274952919020716,
          0.3782894736842106,
          0.23627684964200468,
          -0.5057915057915058,
          0.203125,
          -1
         ]
        },
        {
         "line": {
          "color": "red"
         },
         "name": "Variação Mensal",
         "type": "scatter",
         "x": [
          "2020-04-30T00:00:00",
          "2020-05-31T00:00:00",
          "2020-06-30T00:00:00",
          "2020-07-31T00:00:00",
          "2020-08-31T00:00:00",
          "2020-09-30T00:00:00",
          "2020-10-31T00:00:00",
          "2020-11-30T00:00:00",
          "2020-12-31T00:00:00",
          "2021-01-31T00:00:00",
          "2021-02-28T00:00:00",
          "2021-03-31T00:00:00",
          "2021-04-30T00:00:00",
          "2021-05-31T00:00:00",
          "2021-06-30T00:00:00",
          "2021-07-31T00:00:00",
          "2021-08-31T00:00:00",
          "2021-09-30T00:00:00",
          "2021-10-31T00:00:00",
          "2021-11-30T00:00:00",
          "2021-12-31T00:00:00",
          "2022-01-31T00:00:00",
          "2022-02-28T00:00:00",
          "2022-03-31T00:00:00",
          "2022-04-30T00:00:00",
          "2022-05-31T00:00:00",
          "2022-06-30T00:00:00",
          "2022-07-31T00:00:00",
          "2022-08-31T00:00:00",
          "2022-09-30T00:00:00",
          "2022-10-31T00:00:00",
          "2022-11-30T00:00:00"
         ],
         "y": [
          27.603960396039604,
          3.0472481827622016,
          0.3006628180457558,
          0.08245660178853242,
          -0.12364840238124164,
          -0.2212594877482411,
          -0.29280341804263654,
          -0.1633102580239144,
          0.6394133132756676,
          0.3562580289961461,
          0.03233990731030745,
          1.1928433332241046,
          0.230801416638025,
          -0.2873706959351173,
          -0.059204361529942906,
          -0.3088011590003622,
          -0.3692884091385453,
          -0.324388318863457,
          -0.3208312838170192,
          -0.37552055042549337,
          -0.3699623079153378,
          0.9114127933732168,
          1.6519802576140603,
          -0.5305946436677258,
          -0.6383328498211005,
          -0.15000000000000002,
          0.49103491664045307,
          0.49746835443037973,
          -0.2320371935756551,
          -0.6200697119794534,
          0.024142926122646013,
          -0.7647336162187648
         ]
        }
       ],
       "layout": {
        "template": {
         "data": {
          "bar": [
           {
            "error_x": {
             "color": "#2a3f5f"
            },
            "error_y": {
             "color": "#2a3f5f"
            },
            "marker": {
             "line": {
              "color": "#E5ECF6",
              "width": 0.5
             },
             "pattern": {
              "fillmode": "overlay",
              "size": 10,
              "solidity": 0.2
             }
            },
            "type": "bar"
           }
          ],
          "barpolar": [
           {
            "marker": {
             "line": {
              "color": "#E5ECF6",
              "width": 0.5
             },
             "pattern": {
              "fillmode": "overlay",
              "size": 10,
              "solidity": 0.2
             }
            },
            "type": "barpolar"
           }
          ],
          "carpet": [
           {
            "aaxis": {
             "endlinecolor": "#2a3f5f",
             "gridcolor": "white",
             "linecolor": "white",
             "minorgridcolor": "white",
             "startlinecolor": "#2a3f5f"
            },
            "baxis": {
             "endlinecolor": "#2a3f5f",
             "gridcolor": "white",
             "linecolor": "white",
             "minorgridcolor": "white",
             "startlinecolor": "#2a3f5f"
            },
            "type": "carpet"
           }
          ],
          "choropleth": [
           {
            "colorbar": {
             "outlinewidth": 0,
             "ticks": ""
            },
            "type": "choropleth"
           }
          ],
          "contour": [
           {
            "colorbar": {
             "outlinewidth": 0,
             "ticks": ""
            },
            "colorscale": [
             [
              0,
              "#0d0887"
             ],
             [
              0.1111111111111111,
              "#46039f"
             ],
             [
              0.2222222222222222,
              "#7201a8"
             ],
             [
              0.3333333333333333,
              "#9c179e"
             ],
             [
              0.4444444444444444,
              "#bd3786"
             ],
             [
              0.5555555555555556,
              "#d8576b"
             ],
             [
              0.6666666666666666,
              "#ed7953"
             ],
             [
              0.7777777777777778,
              "#fb9f3a"
             ],
             [
              0.8888888888888888,
              "#fdca26"
             ],
             [
              1,
              "#f0f921"
             ]
            ],
            "type": "contour"
           }
          ],
          "contourcarpet": [
           {
            "colorbar": {
             "outlinewidth": 0,
             "ticks": ""
            },
            "type": "contourcarpet"
           }
          ],
          "heatmap": [
           {
            "colorbar": {
             "outlinewidth": 0,
             "ticks": ""
            },
            "colorscale": [
             [
              0,
              "#0d0887"
             ],
             [
              0.1111111111111111,
              "#46039f"
             ],
             [
              0.2222222222222222,
              "#7201a8"
             ],
             [
              0.3333333333333333,
              "#9c179e"
             ],
             [
              0.4444444444444444,
              "#bd3786"
             ],
             [
              0.5555555555555556,
              "#d8576b"
             ],
             [
              0.6666666666666666,
              "#ed7953"
             ],
             [
              0.7777777777777778,
              "#fb9f3a"
             ],
             [
              0.8888888888888888,
              "#fdca26"
             ],
             [
              1,
              "#f0f921"
             ]
            ],
            "type": "heatmap"
           }
          ],
          "heatmapgl": [
           {
            "colorbar": {
             "outlinewidth": 0,
             "ticks": ""
            },
            "colorscale": [
             [
              0,
              "#0d0887"
             ],
             [
              0.1111111111111111,
              "#46039f"
             ],
             [
              0.2222222222222222,
              "#7201a8"
             ],
             [
              0.3333333333333333,
              "#9c179e"
             ],
             [
              0.4444444444444444,
              "#bd3786"
             ],
             [
              0.5555555555555556,
              "#d8576b"
             ],
             [
              0.6666666666666666,
              "#ed7953"
             ],
             [
              0.7777777777777778,
              "#fb9f3a"
             ],
             [
              0.8888888888888888,
              "#fdca26"
             ],
             [
              1,
              "#f0f921"
             ]
            ],
            "type": "heatmapgl"
           }
          ],
          "histogram": [
           {
            "marker": {
             "pattern": {
              "fillmode": "overlay",
              "size": 10,
              "solidity": 0.2
             }
            },
            "type": "histogram"
           }
          ],
          "histogram2d": [
           {
            "colorbar": {
             "outlinewidth": 0,
             "ticks": ""
            },
            "colorscale": [
             [
              0,
              "#0d0887"
             ],
             [
              0.1111111111111111,
              "#46039f"
             ],
             [
              0.2222222222222222,
              "#7201a8"
             ],
             [
              0.3333333333333333,
              "#9c179e"
             ],
             [
              0.4444444444444444,
              "#bd3786"
             ],
             [
              0.5555555555555556,
              "#d8576b"
             ],
             [
              0.6666666666666666,
              "#ed7953"
             ],
             [
              0.7777777777777778,
              "#fb9f3a"
             ],
             [
              0.8888888888888888,
              "#fdca26"
             ],
             [
              1,
              "#f0f921"
             ]
            ],
            "type": "histogram2d"
           }
          ],
          "histogram2dcontour": [
           {
            "colorbar": {
             "outlinewidth": 0,
             "ticks": ""
            },
            "colorscale": [
             [
              0,
              "#0d0887"
             ],
             [
              0.1111111111111111,
              "#46039f"
             ],
             [
              0.2222222222222222,
              "#7201a8"
             ],
             [
              0.3333333333333333,
              "#9c179e"
             ],
             [
              0.4444444444444444,
              "#bd3786"
             ],
             [
              0.5555555555555556,
              "#d8576b"
             ],
             [
              0.6666666666666666,
              "#ed7953"
             ],
             [
              0.7777777777777778,
              "#fb9f3a"
             ],
             [
              0.8888888888888888,
              "#fdca26"
             ],
             [
              1,
              "#f0f921"
             ]
            ],
            "type": "histogram2dcontour"
           }
          ],
          "mesh3d": [
           {
            "colorbar": {
             "outlinewidth": 0,
             "ticks": ""
            },
            "type": "mesh3d"
           }
          ],
          "parcoords": [
           {
            "line": {
             "colorbar": {
              "outlinewidth": 0,
              "ticks": ""
             }
            },
            "type": "parcoords"
           }
          ],
          "pie": [
           {
            "automargin": true,
            "type": "pie"
           }
          ],
          "scatter": [
           {
            "fillpattern": {
             "fillmode": "overlay",
             "size": 10,
             "solidity": 0.2
            },
            "type": "scatter"
           }
          ],
          "scatter3d": [
           {
            "line": {
             "colorbar": {
              "outlinewidth": 0,
              "ticks": ""
             }
            },
            "marker": {
             "colorbar": {
              "outlinewidth": 0,
              "ticks": ""
             }
            },
            "type": "scatter3d"
           }
          ],
          "scattercarpet": [
           {
            "marker": {
             "colorbar": {
              "outlinewidth": 0,
              "ticks": ""
             }
            },
            "type": "scattercarpet"
           }
          ],
          "scattergeo": [
           {
            "marker": {
             "colorbar": {
              "outlinewidth": 0,
              "ticks": ""
             }
            },
            "type": "scattergeo"
           }
          ],
          "scattergl": [
           {
            "marker": {
             "colorbar": {
              "outlinewidth": 0,
              "ticks": ""
             }
            },
            "type": "scattergl"
           }
          ],
          "scattermapbox": [
           {
            "marker": {
             "colorbar": {
              "outlinewidth": 0,
              "ticks": ""
             }
            },
            "type": "scattermapbox"
           }
          ],
          "scatterpolar": [
           {
            "marker": {
             "colorbar": {
              "outlinewidth": 0,
              "ticks": ""
             }
            },
            "type": "scatterpolar"
           }
          ],
          "scatterpolargl": [
           {
            "marker": {
             "colorbar": {
              "outlinewidth": 0,
              "ticks": ""
             }
            },
            "type": "scatterpolargl"
           }
          ],
          "scatterternary": [
           {
            "marker": {
             "colorbar": {
              "outlinewidth": 0,
              "ticks": ""
             }
            },
            "type": "scatterternary"
           }
          ],
          "surface": [
           {
            "colorbar": {
             "outlinewidth": 0,
             "ticks": ""
            },
            "colorscale": [
             [
              0,
              "#0d0887"
             ],
             [
              0.1111111111111111,
              "#46039f"
             ],
             [
              0.2222222222222222,
              "#7201a8"
             ],
             [
              0.3333333333333333,
              "#9c179e"
             ],
             [
              0.4444444444444444,
              "#bd3786"
             ],
             [
              0.5555555555555556,
              "#d8576b"
             ],
             [
              0.6666666666666666,
              "#ed7953"
             ],
             [
              0.7777777777777778,
              "#fb9f3a"
             ],
             [
              0.8888888888888888,
              "#fdca26"
             ],
             [
              1,
              "#f0f921"
             ]
            ],
            "type": "surface"
           }
          ],
          "table": [
           {
            "cells": {
             "fill": {
              "color": "#EBF0F8"
             },
             "line": {
              "color": "white"
             }
            },
            "header": {
             "fill": {
              "color": "#C8D4E3"
             },
             "line": {
              "color": "white"
             }
            },
            "type": "table"
           }
          ]
         },
         "layout": {
          "annotationdefaults": {
           "arrowcolor": "#2a3f5f",
           "arrowhead": 0,
           "arrowwidth": 1
          },
          "autotypenumbers": "strict",
          "coloraxis": {
           "colorbar": {
            "outlinewidth": 0,
            "ticks": ""
           }
          },
          "colorscale": {
           "diverging": [
            [
             0,
             "#8e0152"
            ],
            [
             0.1,
             "#c51b7d"
            ],
            [
             0.2,
             "#de77ae"
            ],
            [
             0.3,
             "#f1b6da"
            ],
            [
             0.4,
             "#fde0ef"
            ],
            [
             0.5,
             "#f7f7f7"
            ],
            [
             0.6,
             "#e6f5d0"
            ],
            [
             0.7,
             "#b8e186"
            ],
            [
             0.8,
             "#7fbc41"
            ],
            [
             0.9,
             "#4d9221"
            ],
            [
             1,
             "#276419"
            ]
           ],
           "sequential": [
            [
             0,
             "#0d0887"
            ],
            [
             0.1111111111111111,
             "#46039f"
            ],
            [
             0.2222222222222222,
             "#7201a8"
            ],
            [
             0.3333333333333333,
             "#9c179e"
            ],
            [
             0.4444444444444444,
             "#bd3786"
            ],
            [
             0.5555555555555556,
             "#d8576b"
            ],
            [
             0.6666666666666666,
             "#ed7953"
            ],
            [
             0.7777777777777778,
             "#fb9f3a"
            ],
            [
             0.8888888888888888,
             "#fdca26"
            ],
            [
             1,
             "#f0f921"
            ]
           ],
           "sequentialminus": [
            [
             0,
             "#0d0887"
            ],
            [
             0.1111111111111111,
             "#46039f"
            ],
            [
             0.2222222222222222,
             "#7201a8"
            ],
            [
             0.3333333333333333,
             "#9c179e"
            ],
            [
             0.4444444444444444,
             "#bd3786"
            ],
            [
             0.5555555555555556,
             "#d8576b"
            ],
            [
             0.6666666666666666,
             "#ed7953"
            ],
            [
             0.7777777777777778,
             "#fb9f3a"
            ],
            [
             0.8888888888888888,
             "#fdca26"
            ],
            [
             1,
             "#f0f921"
            ]
           ]
          },
          "colorway": [
           "#636efa",
           "#EF553B",
           "#00cc96",
           "#ab63fa",
           "#FFA15A",
           "#19d3f3",
           "#FF6692",
           "#B6E880",
           "#FF97FF",
           "#FECB52"
          ],
          "font": {
           "color": "#2a3f5f"
          },
          "geo": {
           "bgcolor": "white",
           "lakecolor": "white",
           "landcolor": "#E5ECF6",
           "showlakes": true,
           "showland": true,
           "subunitcolor": "white"
          },
          "hoverlabel": {
           "align": "left"
          },
          "hovermode": "closest",
          "mapbox": {
           "style": "light"
          },
          "paper_bgcolor": "white",
          "plot_bgcolor": "#E5ECF6",
          "polar": {
           "angularaxis": {
            "gridcolor": "white",
            "linecolor": "white",
            "ticks": ""
           },
           "bgcolor": "#E5ECF6",
           "radialaxis": {
            "gridcolor": "white",
            "linecolor": "white",
            "ticks": ""
           }
          },
          "scene": {
           "xaxis": {
            "backgroundcolor": "#E5ECF6",
            "gridcolor": "white",
            "gridwidth": 2,
            "linecolor": "white",
            "showbackground": true,
            "ticks": "",
            "zerolinecolor": "white"
           },
           "yaxis": {
            "backgroundcolor": "#E5ECF6",
            "gridcolor": "white",
            "gridwidth": 2,
            "linecolor": "white",
            "showbackground": true,
            "ticks": "",
            "zerolinecolor": "white"
           },
           "zaxis": {
            "backgroundcolor": "#E5ECF6",
            "gridcolor": "white",
            "gridwidth": 2,
            "linecolor": "white",
            "showbackground": true,
            "ticks": "",
            "zerolinecolor": "white"
           }
          },
          "shapedefaults": {
           "line": {
            "color": "#2a3f5f"
           }
          },
          "ternary": {
           "aaxis": {
            "gridcolor": "white",
            "linecolor": "white",
            "ticks": ""
           },
           "baxis": {
            "gridcolor": "white",
            "linecolor": "white",
            "ticks": ""
           },
           "bgcolor": "#E5ECF6",
           "caxis": {
            "gridcolor": "white",
            "linecolor": "white",
            "ticks": ""
           }
          },
          "title": {
           "x": 0.05
          },
          "xaxis": {
           "automargin": true,
           "gridcolor": "white",
           "linecolor": "white",
           "ticks": "",
           "title": {
            "standoff": 15
           },
           "zerolinecolor": "white",
           "zerolinewidth": 2
          },
          "yaxis": {
           "automargin": true,
           "gridcolor": "white",
           "linecolor": "white",
           "ticks": "",
           "title": {
            "standoff": 15
           },
           "zerolinecolor": "white",
           "zerolinewidth": 2
          }
         }
        },
        "title": {
         "font": {
          "color": "black",
          "size": 20
         },
         "text": "Variação de Novos Óbitos Divulgados",
         "x": 0.5
        }
       }
      }
     },
     "metadata": {},
     "output_type": "display_data"
    }
   ],
   "source": [
    "# Criando um dicionário para os Dfs\n",
    "dict_cases = {\"days\" : days_var[2:], \"weeks\": weeks_var[2:], \"months\":months_var[2:]}\n",
    "\n",
    "# Plotando os Dfs\n",
    "fig_var_novos_obit_div = go.Figure()\n",
    "fig_var_novos_obit_div = fig_var_novos_obit_div.add_trace(go.Scatter(x = dict_cases[\"days\"].index,\n",
    "                               y = dict_cases[\"days\"][\"newDeaths\"], \n",
    "                               name = \"Variação Diária\",\n",
    "                               line = dict(color='orange')))\n",
    "\n",
    "fig_var_novos_obit_div = fig_var_novos_obit_div.add_trace(go.Scatter(x = dict_cases[\"weeks\"].index,\n",
    "                               y = dict_cases[\"weeks\"][\"newDeaths\"], \n",
    "                               name = \"Variação Semanal\",\n",
    "                               line = dict(color='blue')))\n",
    "\n",
    "fig_var_novos_obit_div = fig_var_novos_obit_div.add_trace(go.Scatter(x = dict_cases[\"months\"].index,\n",
    "                               y = dict_cases[\"months\"][\"newDeaths\"], \n",
    "                               name = \"Variação Mensal\",\n",
    "                               line = dict(color='red')))\n",
    "\n",
    "fig_var_novos_obit_div.update_layout(\n",
    "                title='Variação de Novos Óbitos Divulgados',\n",
    "                title_font_size=20,\n",
    "                title_font_color='black',\n",
    "                title_x =0.5)\n",
    "\n",
    "fig_var_novos_obit_div.show()"
   ]
  },
  {
   "cell_type": "markdown",
   "id": "60da566b",
   "metadata": {},
   "source": [
    "### A forma que os dados são agregados faz muita diferença!\n",
    "A comparação visual dos gráficos diário, semanal e mensal mostra o quão diferentes as informações obtidas podem ser, a depender da forma de agregação delas!\n",
    "\n",
    "A análise da correlação diária não é suficiente, pois ela gera um problema: a ausência de transmissão da informação. Por exemplo, um aumento nos casos de covid só é percebido pela população alguns dias depois desse aumento ocorrer. Dessa forma, não existe um impacto imediato no mercado. Por isso, uma correlação diária de dados pode apresentar uma \"misleading information\" (informação enganosa), por não ser capaz de representar a realidade.\n"
   ]
  },
  {
   "cell_type": "code",
   "execution_count": 40,
   "id": "33e8fcdd",
   "metadata": {},
   "outputs": [],
   "source": [
    "# Removendo os valores extremos das variações mensais e semanais:\n",
    "out_dict = {\n",
    "\"Novas Infecções Mensais\": months_var[\"newCases\"],\n",
    "\"Novos Óbitos Mensais\": months_var[\"newDeaths\"],\n",
    "\"Novas Infecções Semanais\": weeks_var[\"newCases\"],\n",
    "\"Novos Óbitos Semanais\": weeks_var[\"newDeaths\"]\n",
    "}\n",
    "\n",
    "for item in out_dict:\n",
    "    outliers = out_dict[item].between(out_dict[item].quantile(.05), out_dict[item].quantile(.9))\n",
    "    outilers = pd.DataFrame(outliers)\n",
    "    out_dict[item] = out_dict[item].multiply(outliers)"
   ]
  },
  {
   "cell_type": "code",
   "execution_count": 42,
   "id": "80c549cb",
   "metadata": {},
   "outputs": [
    {
     "data": {
      "application/vnd.plotly.v1+json": {
       "config": {
        "plotlyServerURL": "https://plot.ly"
       },
       "data": [
        {
         "name": "Novas Infecções Mensais",
         "type": "box",
         "y": [
          null,
          0,
          0,
          0,
          1.089776793519436,
          0.40293732472765154,
          -0.011137968322625813,
          -0.27407628377900284,
          -0.202151945423793,
          0.116353327613542,
          0.6651067756393356,
          0.14062253769589206,
          -0.1164924071387039,
          0.6341496493773873,
          -0.133146272008693,
          -0.015111991444996198,
          0.0688436880315706,
          -0.32828523291470146,
          -0.36159367961857525,
          -0.25006055534758764,
          -0.40939261269419847,
          -0.2529934165768293,
          -0.32792966355500286,
          0,
          0.044623004364972685,
          0,
          -0.5669183176029859,
          0.14082595669753228,
          1.345787155616133,
          0.10224349878265548,
          0,
          -0.5928017813485291,
          -0.3562271552843149,
          -0.49144503120499283
         ]
        },
        {
         "name": "Novos Óbitos Mensais",
         "type": "box",
         "y": [
          null,
          null,
          0,
          0,
          0.3006628180457558,
          0.08245660178853242,
          -0.12364840238124164,
          -0.2212594877482411,
          -0.29280341804263654,
          -0.1633102580239144,
          0.6394133132756676,
          0.3562580289961461,
          0.03233990731030745,
          1.1928433332241046,
          0.230801416638025,
          -0.2873706959351173,
          -0.059204361529942906,
          -0.3088011590003622,
          -0.3692884091385453,
          -0.324388318863457,
          -0.3208312838170192,
          -0.37552055042549337,
          -0.3699623079153378,
          0.9114127933732168,
          0,
          -0.5305946436677258,
          0,
          -0.15000000000000002,
          0.49103491664045307,
          0.49746835443037973,
          -0.2320371935756551,
          -0.6200697119794534,
          0.024142926122646013,
          0
         ]
        },
        {
         "name": "Novas Infecções Semanais",
         "type": "box",
         "y": [
          null,
          0,
          0,
          0,
          0,
          0,
          0.5518357012238009,
          0.5174945612762871,
          0.43509945642434733,
          0,
          0,
          0.28212467676094133,
          0.5689550194078696,
          0.21326412638353265,
          0.19101056208976108,
          -0.027522114486177363,
          0.262930786490996,
          0.1994624390688351,
          -0.034774814465958204,
          0.031982623613941996,
          -0.11044130767998905,
          0.3731574232429351,
          -0.018357530145867607,
          -0.030514058217108952,
          -0.00862956816079663,
          -0.12398635571098193,
          -0.03255582076925401,
          0.07713658864129669,
          -0.3023286156968632,
          0.10935698033226315,
          -0.11904996043062721,
          -0.027784569915907387,
          -0.021372451462282505,
          -0.20852561595619867,
          0.11661937232645792,
          -0.04329685751673651,
          -0.21744703907809015,
          0,
          0.04962413576367064,
          0.16980128770168235,
          0.1821171305832776,
          0.03871682948797894,
          0.11986552648781323,
          -0.2718300295435052,
          0.019758529582580175,
          0.49814906169660644,
          0.023231906793953927,
          -0.06369696715993056,
          0.0007069606281611129,
          -0.10535486411093398,
          -0.004410208712425034,
          0.0211831462787635,
          0.17949143020289382,
          0.22336831474945607,
          -0.015746037959844528,
          0.1139050888198141,
          0.04648983053149802,
          -0.17196267574553936,
          0.11704912672801249,
          -0.07819272422545043,
          -0.13461199687692338,
          0.0395895533640942,
          0.03574424468344861,
          0.03966418250098602,
          0.02599895384573947,
          -0.06475837049419941,
          0.01305255178674214,
          0.08204062308749327,
          0.0900733999389578,
          -0.038008266582604144,
          -0.2896712726354975,
          -0.08429274666330466,
          -0.1022373114713061,
          0.08879880937028384,
          -0.20235351362425735,
          -0.08724896858395004,
          -0.1279415385697703,
          0.04272590680367472,
          -0.17658891338826355,
          -0.12512919289673963,
          -0.2693851523694456,
          0,
          0,
          -0.1529313666758415,
          0.03744444975390637,
          0,
          0.24782902071231594,
          -0.05027801615197436,
          -0.1346206213640302,
          0.10788969305146323,
          -0.23189640703874403,
          0.07288007395579466,
          -0.03340069872005769,
          -0.24807533347380017,
          0,
          0.0682866043613708,
          0,
          0,
          0,
          0,
          0.2580023168905943,
          -0.09342150348152767,
          -0.20289101901080375,
          -0.23288852856692288,
          -0.2309169652576667,
          0,
          0.1377237156468618,
          -0.17527970500121026,
          -0.19735387617878675,
          -0.25829292732617504,
          -0.0205977641469568,
          0,
          -0.03363734333838908,
          0.08457845010067633,
          0.04761224722952129,
          0.12556685478520868,
          -0.16974825197409849,
          0,
          0.26729038735148647,
          0.44603316549699645,
          -0.16872920377777034,
          0.5139612174925605,
          0.09971824967618748,
          -0.013944203757309648,
          -0.0034183655877962904,
          -0.28275020140663376,
          -0.16432720732640105,
          -0.23943284517448382,
          -0.17648302443202457,
          -0.24577559819635986,
          -0.12825324233273405,
          -0.13870228166955334,
          0,
          0.00990509775449877,
          -0.22678100715483895,
          0.04737343103181102,
          -0.15511593008264113,
          -0.2607444839145444,
          0.1751886568982437,
          0.18290716424786924,
          0,
          0,
          0
         ]
        },
        {
         "name": "Novos Óbitos Semanais",
         "type": "box",
         "y": [
          null,
          null,
          null,
          null,
          0,
          0,
          0,
          0,
          0,
          0,
          0,
          0.22669594924353342,
          0.3250447583051521,
          -0.023870289746284357,
          0.10166102737619198,
          -0.03755409744520455,
          0.05613577023498695,
          -0.031726411207251726,
          0.021418439716311966,
          0.003194000833217636,
          0.02353266888150607,
          0.017176088720584293,
          -0.05810397553516822,
          -0.010163749294184066,
          -0.04078722190530515,
          0.021706809396372373,
          -0.10768335273573926,
          -0.05691454664057405,
          -0.13608853536226873,
          0.04703763010408335,
          -0.06939399732364748,
          -0.05443714050944948,
          -0.10362806865087981,
          -0.17329132331555985,
          -0.05247727939020819,
          -0.08694306930693074,
          -0.19925449000338868,
          0,
          0.01346902125112237,
          0.07826343768458366,
          0.13420980553273076,
          0.08113982129920316,
          0.1929863748045566,
          -0.18180116083130504,
          0.1192219679633868,
          0,
          -0.05207600281491909,
          0.06726057906458793,
          0.037840845854201444,
          -0.057640750670241325,
          0.10014224751066858,
          -0.056633048875097014,
          0.1591282894736843,
          0.24145678136455007,
          0.21783026954948093,
          0.2383075238542156,
          0.15025579485883922,
          0.05386558313200096,
          0.13463241806908766,
          -0.07549249207879871,
          -0.13127700789748176,
          -0.035791881074899945,
          -0.13454696394686905,
          -0.07769784172661875,
          -0.013074808706634022,
          -0.030109145652992053,
          -0.11074893286767562,
          0.21792633967533592,
          0.033823002508061695,
          -0.19387259998613715,
          -0.06036113499570073,
          -0.1720351390922401,
          -0.03603006189213087,
          -0.11407933960100891,
          -0.11052154781933476,
          -0.08002327949949073,
          -0.04665506879645742,
          -0.11197743861977438,
          -0.11133943583037553,
          -0.09123397099011987,
          -0.25445292620865145,
          0.20912193608439344,
          -0.04593276879651009,
          -0.06670252824098977,
          -0.11181556195965414,
          -0.26735885788449054,
          0.04561558901682905,
          -0.07878017789072422,
          -0.24873563218390804,
          0.11933904528763772,
          -0.23400765445598692,
          0.13490364025695922,
          -0.1452830188679245,
          -0.12141280353200878,
          -0.1876046901172529,
          -0.31237113402061856,
          0.008995502248875464,
          0.25705794947994054,
          0.2801418439716312,
          0,
          0,
          0,
          0.1410541945063104,
          -0.040013012361743705,
          -0.1806167400881057,
          0,
          -0.019063545150501682,
          -0.2775315376747358,
          -0.21661160924964606,
          -0.23674698795180726,
          -0.12312549329123912,
          0,
          -0.022792022792022748,
          0.26384839650145775,
          -0.27797001153402534,
          0.24440894568690097,
          -0.08985879332477531,
          0.1650211565585331,
          0,
          0,
          -0.1357466063348416,
          0.40314136125654443,
          0.12388059701492526,
          0.12815405046480755,
          0.02413184226015308,
          -0.07241379310344831,
          -0.039653035935563796,
          -0.04387096774193544,
          -0.027665317139001333,
          -0.2283136710617627,
          -0.15017985611510787,
          -0.07407407407407407,
          0,
          0.050916496945010215,
          -0.16860465116279066,
          0.20046620046620056,
          0.03106796116504862,
          0,
          0.3782894736842106,
          0.23627684964200468,
          0,
          0.203125,
          0
         ]
        }
       ],
       "layout": {
        "height": 600,
        "template": {
         "data": {
          "bar": [
           {
            "error_x": {
             "color": "#2a3f5f"
            },
            "error_y": {
             "color": "#2a3f5f"
            },
            "marker": {
             "line": {
              "color": "#E5ECF6",
              "width": 0.5
             },
             "pattern": {
              "fillmode": "overlay",
              "size": 10,
              "solidity": 0.2
             }
            },
            "type": "bar"
           }
          ],
          "barpolar": [
           {
            "marker": {
             "line": {
              "color": "#E5ECF6",
              "width": 0.5
             },
             "pattern": {
              "fillmode": "overlay",
              "size": 10,
              "solidity": 0.2
             }
            },
            "type": "barpolar"
           }
          ],
          "carpet": [
           {
            "aaxis": {
             "endlinecolor": "#2a3f5f",
             "gridcolor": "white",
             "linecolor": "white",
             "minorgridcolor": "white",
             "startlinecolor": "#2a3f5f"
            },
            "baxis": {
             "endlinecolor": "#2a3f5f",
             "gridcolor": "white",
             "linecolor": "white",
             "minorgridcolor": "white",
             "startlinecolor": "#2a3f5f"
            },
            "type": "carpet"
           }
          ],
          "choropleth": [
           {
            "colorbar": {
             "outlinewidth": 0,
             "ticks": ""
            },
            "type": "choropleth"
           }
          ],
          "contour": [
           {
            "colorbar": {
             "outlinewidth": 0,
             "ticks": ""
            },
            "colorscale": [
             [
              0,
              "#0d0887"
             ],
             [
              0.1111111111111111,
              "#46039f"
             ],
             [
              0.2222222222222222,
              "#7201a8"
             ],
             [
              0.3333333333333333,
              "#9c179e"
             ],
             [
              0.4444444444444444,
              "#bd3786"
             ],
             [
              0.5555555555555556,
              "#d8576b"
             ],
             [
              0.6666666666666666,
              "#ed7953"
             ],
             [
              0.7777777777777778,
              "#fb9f3a"
             ],
             [
              0.8888888888888888,
              "#fdca26"
             ],
             [
              1,
              "#f0f921"
             ]
            ],
            "type": "contour"
           }
          ],
          "contourcarpet": [
           {
            "colorbar": {
             "outlinewidth": 0,
             "ticks": ""
            },
            "type": "contourcarpet"
           }
          ],
          "heatmap": [
           {
            "colorbar": {
             "outlinewidth": 0,
             "ticks": ""
            },
            "colorscale": [
             [
              0,
              "#0d0887"
             ],
             [
              0.1111111111111111,
              "#46039f"
             ],
             [
              0.2222222222222222,
              "#7201a8"
             ],
             [
              0.3333333333333333,
              "#9c179e"
             ],
             [
              0.4444444444444444,
              "#bd3786"
             ],
             [
              0.5555555555555556,
              "#d8576b"
             ],
             [
              0.6666666666666666,
              "#ed7953"
             ],
             [
              0.7777777777777778,
              "#fb9f3a"
             ],
             [
              0.8888888888888888,
              "#fdca26"
             ],
             [
              1,
              "#f0f921"
             ]
            ],
            "type": "heatmap"
           }
          ],
          "heatmapgl": [
           {
            "colorbar": {
             "outlinewidth": 0,
             "ticks": ""
            },
            "colorscale": [
             [
              0,
              "#0d0887"
             ],
             [
              0.1111111111111111,
              "#46039f"
             ],
             [
              0.2222222222222222,
              "#7201a8"
             ],
             [
              0.3333333333333333,
              "#9c179e"
             ],
             [
              0.4444444444444444,
              "#bd3786"
             ],
             [
              0.5555555555555556,
              "#d8576b"
             ],
             [
              0.6666666666666666,
              "#ed7953"
             ],
             [
              0.7777777777777778,
              "#fb9f3a"
             ],
             [
              0.8888888888888888,
              "#fdca26"
             ],
             [
              1,
              "#f0f921"
             ]
            ],
            "type": "heatmapgl"
           }
          ],
          "histogram": [
           {
            "marker": {
             "pattern": {
              "fillmode": "overlay",
              "size": 10,
              "solidity": 0.2
             }
            },
            "type": "histogram"
           }
          ],
          "histogram2d": [
           {
            "colorbar": {
             "outlinewidth": 0,
             "ticks": ""
            },
            "colorscale": [
             [
              0,
              "#0d0887"
             ],
             [
              0.1111111111111111,
              "#46039f"
             ],
             [
              0.2222222222222222,
              "#7201a8"
             ],
             [
              0.3333333333333333,
              "#9c179e"
             ],
             [
              0.4444444444444444,
              "#bd3786"
             ],
             [
              0.5555555555555556,
              "#d8576b"
             ],
             [
              0.6666666666666666,
              "#ed7953"
             ],
             [
              0.7777777777777778,
              "#fb9f3a"
             ],
             [
              0.8888888888888888,
              "#fdca26"
             ],
             [
              1,
              "#f0f921"
             ]
            ],
            "type": "histogram2d"
           }
          ],
          "histogram2dcontour": [
           {
            "colorbar": {
             "outlinewidth": 0,
             "ticks": ""
            },
            "colorscale": [
             [
              0,
              "#0d0887"
             ],
             [
              0.1111111111111111,
              "#46039f"
             ],
             [
              0.2222222222222222,
              "#7201a8"
             ],
             [
              0.3333333333333333,
              "#9c179e"
             ],
             [
              0.4444444444444444,
              "#bd3786"
             ],
             [
              0.5555555555555556,
              "#d8576b"
             ],
             [
              0.6666666666666666,
              "#ed7953"
             ],
             [
              0.7777777777777778,
              "#fb9f3a"
             ],
             [
              0.8888888888888888,
              "#fdca26"
             ],
             [
              1,
              "#f0f921"
             ]
            ],
            "type": "histogram2dcontour"
           }
          ],
          "mesh3d": [
           {
            "colorbar": {
             "outlinewidth": 0,
             "ticks": ""
            },
            "type": "mesh3d"
           }
          ],
          "parcoords": [
           {
            "line": {
             "colorbar": {
              "outlinewidth": 0,
              "ticks": ""
             }
            },
            "type": "parcoords"
           }
          ],
          "pie": [
           {
            "automargin": true,
            "type": "pie"
           }
          ],
          "scatter": [
           {
            "fillpattern": {
             "fillmode": "overlay",
             "size": 10,
             "solidity": 0.2
            },
            "type": "scatter"
           }
          ],
          "scatter3d": [
           {
            "line": {
             "colorbar": {
              "outlinewidth": 0,
              "ticks": ""
             }
            },
            "marker": {
             "colorbar": {
              "outlinewidth": 0,
              "ticks": ""
             }
            },
            "type": "scatter3d"
           }
          ],
          "scattercarpet": [
           {
            "marker": {
             "colorbar": {
              "outlinewidth": 0,
              "ticks": ""
             }
            },
            "type": "scattercarpet"
           }
          ],
          "scattergeo": [
           {
            "marker": {
             "colorbar": {
              "outlinewidth": 0,
              "ticks": ""
             }
            },
            "type": "scattergeo"
           }
          ],
          "scattergl": [
           {
            "marker": {
             "colorbar": {
              "outlinewidth": 0,
              "ticks": ""
             }
            },
            "type": "scattergl"
           }
          ],
          "scattermapbox": [
           {
            "marker": {
             "colorbar": {
              "outlinewidth": 0,
              "ticks": ""
             }
            },
            "type": "scattermapbox"
           }
          ],
          "scatterpolar": [
           {
            "marker": {
             "colorbar": {
              "outlinewidth": 0,
              "ticks": ""
             }
            },
            "type": "scatterpolar"
           }
          ],
          "scatterpolargl": [
           {
            "marker": {
             "colorbar": {
              "outlinewidth": 0,
              "ticks": ""
             }
            },
            "type": "scatterpolargl"
           }
          ],
          "scatterternary": [
           {
            "marker": {
             "colorbar": {
              "outlinewidth": 0,
              "ticks": ""
             }
            },
            "type": "scatterternary"
           }
          ],
          "surface": [
           {
            "colorbar": {
             "outlinewidth": 0,
             "ticks": ""
            },
            "colorscale": [
             [
              0,
              "#0d0887"
             ],
             [
              0.1111111111111111,
              "#46039f"
             ],
             [
              0.2222222222222222,
              "#7201a8"
             ],
             [
              0.3333333333333333,
              "#9c179e"
             ],
             [
              0.4444444444444444,
              "#bd3786"
             ],
             [
              0.5555555555555556,
              "#d8576b"
             ],
             [
              0.6666666666666666,
              "#ed7953"
             ],
             [
              0.7777777777777778,
              "#fb9f3a"
             ],
             [
              0.8888888888888888,
              "#fdca26"
             ],
             [
              1,
              "#f0f921"
             ]
            ],
            "type": "surface"
           }
          ],
          "table": [
           {
            "cells": {
             "fill": {
              "color": "#EBF0F8"
             },
             "line": {
              "color": "white"
             }
            },
            "header": {
             "fill": {
              "color": "#C8D4E3"
             },
             "line": {
              "color": "white"
             }
            },
            "type": "table"
           }
          ]
         },
         "layout": {
          "annotationdefaults": {
           "arrowcolor": "#2a3f5f",
           "arrowhead": 0,
           "arrowwidth": 1
          },
          "autotypenumbers": "strict",
          "coloraxis": {
           "colorbar": {
            "outlinewidth": 0,
            "ticks": ""
           }
          },
          "colorscale": {
           "diverging": [
            [
             0,
             "#8e0152"
            ],
            [
             0.1,
             "#c51b7d"
            ],
            [
             0.2,
             "#de77ae"
            ],
            [
             0.3,
             "#f1b6da"
            ],
            [
             0.4,
             "#fde0ef"
            ],
            [
             0.5,
             "#f7f7f7"
            ],
            [
             0.6,
             "#e6f5d0"
            ],
            [
             0.7,
             "#b8e186"
            ],
            [
             0.8,
             "#7fbc41"
            ],
            [
             0.9,
             "#4d9221"
            ],
            [
             1,
             "#276419"
            ]
           ],
           "sequential": [
            [
             0,
             "#0d0887"
            ],
            [
             0.1111111111111111,
             "#46039f"
            ],
            [
             0.2222222222222222,
             "#7201a8"
            ],
            [
             0.3333333333333333,
             "#9c179e"
            ],
            [
             0.4444444444444444,
             "#bd3786"
            ],
            [
             0.5555555555555556,
             "#d8576b"
            ],
            [
             0.6666666666666666,
             "#ed7953"
            ],
            [
             0.7777777777777778,
             "#fb9f3a"
            ],
            [
             0.8888888888888888,
             "#fdca26"
            ],
            [
             1,
             "#f0f921"
            ]
           ],
           "sequentialminus": [
            [
             0,
             "#0d0887"
            ],
            [
             0.1111111111111111,
             "#46039f"
            ],
            [
             0.2222222222222222,
             "#7201a8"
            ],
            [
             0.3333333333333333,
             "#9c179e"
            ],
            [
             0.4444444444444444,
             "#bd3786"
            ],
            [
             0.5555555555555556,
             "#d8576b"
            ],
            [
             0.6666666666666666,
             "#ed7953"
            ],
            [
             0.7777777777777778,
             "#fb9f3a"
            ],
            [
             0.8888888888888888,
             "#fdca26"
            ],
            [
             1,
             "#f0f921"
            ]
           ]
          },
          "colorway": [
           "#636efa",
           "#EF553B",
           "#00cc96",
           "#ab63fa",
           "#FFA15A",
           "#19d3f3",
           "#FF6692",
           "#B6E880",
           "#FF97FF",
           "#FECB52"
          ],
          "font": {
           "color": "#2a3f5f"
          },
          "geo": {
           "bgcolor": "white",
           "lakecolor": "white",
           "landcolor": "#E5ECF6",
           "showlakes": true,
           "showland": true,
           "subunitcolor": "white"
          },
          "hoverlabel": {
           "align": "left"
          },
          "hovermode": "closest",
          "mapbox": {
           "style": "light"
          },
          "paper_bgcolor": "white",
          "plot_bgcolor": "#E5ECF6",
          "polar": {
           "angularaxis": {
            "gridcolor": "white",
            "linecolor": "white",
            "ticks": ""
           },
           "bgcolor": "#E5ECF6",
           "radialaxis": {
            "gridcolor": "white",
            "linecolor": "white",
            "ticks": ""
           }
          },
          "scene": {
           "xaxis": {
            "backgroundcolor": "#E5ECF6",
            "gridcolor": "white",
            "gridwidth": 2,
            "linecolor": "white",
            "showbackground": true,
            "ticks": "",
            "zerolinecolor": "white"
           },
           "yaxis": {
            "backgroundcolor": "#E5ECF6",
            "gridcolor": "white",
            "gridwidth": 2,
            "linecolor": "white",
            "showbackground": true,
            "ticks": "",
            "zerolinecolor": "white"
           },
           "zaxis": {
            "backgroundcolor": "#E5ECF6",
            "gridcolor": "white",
            "gridwidth": 2,
            "linecolor": "white",
            "showbackground": true,
            "ticks": "",
            "zerolinecolor": "white"
           }
          },
          "shapedefaults": {
           "line": {
            "color": "#2a3f5f"
           }
          },
          "ternary": {
           "aaxis": {
            "gridcolor": "white",
            "linecolor": "white",
            "ticks": ""
           },
           "baxis": {
            "gridcolor": "white",
            "linecolor": "white",
            "ticks": ""
           },
           "bgcolor": "#E5ECF6",
           "caxis": {
            "gridcolor": "white",
            "linecolor": "white",
            "ticks": ""
           }
          },
          "title": {
           "x": 0.05
          },
          "xaxis": {
           "automargin": true,
           "gridcolor": "white",
           "linecolor": "white",
           "ticks": "",
           "title": {
            "standoff": 15
           },
           "zerolinecolor": "white",
           "zerolinewidth": 2
          },
          "yaxis": {
           "automargin": true,
           "gridcolor": "white",
           "linecolor": "white",
           "ticks": "",
           "title": {
            "standoff": 15
           },
           "zerolinecolor": "white",
           "zerolinewidth": 2
          }
         }
        },
        "title": {
         "font": {
          "color": "black",
          "size": 20
         },
         "text": "Box Plot das Variações",
         "x": 0.5
        },
        "width": 1000,
        "xaxis": {
         "anchor": "y",
         "domain": [
          0,
          1
         ]
        },
        "yaxis": {
         "anchor": "x",
         "domain": [
          0,
          1
         ]
        }
       }
      }
     },
     "metadata": {},
     "output_type": "display_data"
    }
   ],
   "source": [
    "# Boxplot dos valores que restaram na base:\n",
    "fig_boxplot = make_subplots(rows=1, cols=1)\n",
    "\n",
    "for item in out_dict:\n",
    "    fig_boxplot.add_trace(go.Box(y=out_dict[item], name = f\"{item}\"))\n",
    "\n",
    "fig_boxplot.update_layout(height=600,\n",
    "                            width=1000,\n",
    "                            title_text=\"Box Plot das Variações\",\n",
    "                            title_font_size=20,\n",
    "                            title_font_color='black',\n",
    "                            title_x=0.5)\n",
    "fig_boxplot.show()\n"
   ]
  },
  {
   "cell_type": "markdown",
   "id": "6aba1d98",
   "metadata": {},
   "source": [
    "# Comparação dos Casos Mensais de Covid com o IPCA\n",
    "\n",
    "Base de dados disponível em:\n",
    "\n",
    "<https://dadosabertos.bcb.gov.br/dataset/4449-indice-nacional-de-precos-ao-consumidor-amplo-ipca---precos-monitorados---total>"
   ]
  },
  {
   "cell_type": "code",
   "execution_count": 26,
   "id": "7dcf7f73",
   "metadata": {},
   "outputs": [
    {
     "data": {
      "text/plain": [
       "<Response [200]>"
      ]
     },
     "execution_count": 26,
     "metadata": {},
     "output_type": "execute_result"
    }
   ],
   "source": [
    "ipca = requests.get(\"https://api.bcb.gov.br/dados/serie/bcdata.sgs.4449/dados?formato=csv\")\n",
    "ipca"
   ]
  },
  {
   "cell_type": "code",
   "execution_count": 27,
   "id": "387385ba",
   "metadata": {},
   "outputs": [],
   "source": [
    "ipca = ipca.content.decode(\"utf-8\")\n",
    "ipca = [x.split(';') for x in ipca.split('\\r\\n')]"
   ]
  },
  {
   "cell_type": "code",
   "execution_count": 28,
   "id": "7dad7b23",
   "metadata": {},
   "outputs": [],
   "source": [
    "# Removendo as aspas (\"\") prensentes em cada item do dataframe:\n",
    "for row in range(0, len(ipca)):\n",
    "    for item in range(0, len(ipca[row])):\n",
    "        ipca[row][item] = ipca[row][item].replace('\\\"', \"\")"
   ]
  },
  {
   "cell_type": "code",
   "execution_count": 29,
   "id": "83845cbb",
   "metadata": {},
   "outputs": [],
   "source": [
    "ipca_df = pd.DataFrame(ipca[1:], columns= ipca[0])"
   ]
  },
  {
   "cell_type": "code",
   "execution_count": 30,
   "id": "fb8e1d3a",
   "metadata": {},
   "outputs": [],
   "source": [
    "# Removendo a última linha, que possui valores nulos:\n",
    "ipca_df = ipca_df[:-1]"
   ]
  },
  {
   "cell_type": "code",
   "execution_count": 31,
   "id": "b1e45db9",
   "metadata": {},
   "outputs": [],
   "source": [
    "# Colocando a data no formato datetime:\n",
    "ipca_df[\"data\"] = pd.to_datetime(ipca_df[\"data\"], format=\"%d/%m/%Y\")"
   ]
  },
  {
   "cell_type": "code",
   "execution_count": 32,
   "id": "ff7ec48c",
   "metadata": {},
   "outputs": [],
   "source": [
    "# Trocando os pontos por vírgulas:\n",
    "ipca_df[\"valor\"] = [row.replace(\",\", \".\") for row in ipca_df[\"valor\"]]"
   ]
  },
  {
   "cell_type": "code",
   "execution_count": 33,
   "id": "5adf8233",
   "metadata": {},
   "outputs": [],
   "source": [
    "# Colocando o valor no formato float:\n",
    "ipca_df[\"valor\"] = ipca_df[\"valor\"].astype(float)"
   ]
  },
  {
   "cell_type": "code",
   "execution_count": 34,
   "id": "bca2b369",
   "metadata": {},
   "outputs": [],
   "source": [
    "# Separando um dataframe para analizar o IPCA entre 2020 e os dias atuais:\n",
    "ipca = ipca_df.loc[ipca_df[\"data\"]>=\"2020-03-01\"]"
   ]
  },
  {
   "cell_type": "code",
   "execution_count": 44,
   "id": "68a2f06f",
   "metadata": {},
   "outputs": [
    {
     "ename": "NameError",
     "evalue": "name 'ipca' is not defined",
     "output_type": "error",
     "traceback": [
      "\u001b[1;31m---------------------------------------------------------------------------\u001b[0m",
      "\u001b[1;31mNameError\u001b[0m                                 Traceback (most recent call last)",
      "\u001b[1;32mc:\\Users\\Giga\\Desktop\\Teste_divtech_covid_analysis\\covid copy.ipynb Célula: 37\u001b[0m in \u001b[0;36m<cell line: 2>\u001b[1;34m()\u001b[0m\n\u001b[0;32m      <a href='vscode-notebook-cell:/c%3A/Users/Giga/Desktop/Teste_divtech_covid_analysis/covid%20copy.ipynb#X51sZmlsZQ%3D%3D?line=0'>1</a>\u001b[0m \u001b[39m# Dicionário para o Df:\u001b[39;00m\n\u001b[1;32m----> <a href='vscode-notebook-cell:/c%3A/Users/Giga/Desktop/Teste_divtech_covid_analysis/covid%20copy.ipynb#X51sZmlsZQ%3D%3D?line=1'>2</a>\u001b[0m dict_ipca \u001b[39m=\u001b[39m {\u001b[39m\"\u001b[39m\u001b[39mipca\u001b[39m\u001b[39m\"\u001b[39m : ipca[\u001b[39m2\u001b[39m:], \u001b[39m\"\u001b[39m\u001b[39mcovid\u001b[39m\u001b[39m\"\u001b[39m: months_var[\u001b[39m2\u001b[39m:]}\n\u001b[0;32m      <a href='vscode-notebook-cell:/c%3A/Users/Giga/Desktop/Teste_divtech_covid_analysis/covid%20copy.ipynb#X51sZmlsZQ%3D%3D?line=3'>4</a>\u001b[0m \u001b[39m# plot the data\u001b[39;00m\n\u001b[0;32m      <a href='vscode-notebook-cell:/c%3A/Users/Giga/Desktop/Teste_divtech_covid_analysis/covid%20copy.ipynb#X51sZmlsZQ%3D%3D?line=4'>5</a>\u001b[0m fig_ipca_x_covid \u001b[39m=\u001b[39m go\u001b[39m.\u001b[39mFigure()\n",
      "\u001b[1;31mNameError\u001b[0m: name 'ipca' is not defined"
     ]
    }
   ],
   "source": [
    "# Dicionário para o Df:\n",
    "dict_ipca = {\"ipca\" : ipca[2:], \"covid\": months_var[2:]}\n",
    "\n",
    "# plot the data\n",
    "fig_ipca_x_covid = go.Figure()\n",
    "fig_ipca_x_covid = fig_ipca_x_covid.add_trace(go.Scatter(x = dict_ipca[\"ipca\"][\"data\"],\n",
    "                               y = dict_ipca[\"ipca\"][\"valor\"],\n",
    "                               name = \"IPCA no Brasil\",\n",
    "                               line = dict(color='blue')))\n",
    "\n",
    "fig_ipca_x_covid = fig_ipca_x_covid.add_trace(go.Scatter(x = dict_ipca[\"covid\"].index,\n",
    "                               y = dict_ipca[\"covid\"][\"newCases\"], \n",
    "                               name = \"Número de Infecções\",\n",
    "                               line = dict(color='orange')))\n",
    "\n",
    "fig_ipca_x_covid = fig_ipca_x_covid.add_trace(go.Scatter(x = dict_ipca[\"covid\"].index,\n",
    "                               y = dict_ipca[\"covid\"][\"newDeaths\"], \n",
    "                               name = \"Número de Óbitos\",\n",
    "                               line = dict(color='red')))\n",
    "\n",
    "fig_ipca_x_covid.update_layout(\n",
    "                            title='Variações Mensais: IPCA x Casos de Covid',\n",
    "                            title_font_size=20,\n",
    "                            title_font_color='black',\n",
    "                            title_x=0.5)\n",
    "\n",
    "fig_ipca_x_covid.show()"
   ]
  },
  {
   "cell_type": "markdown",
   "id": "786db148",
   "metadata": {},
   "source": [
    "Aqui, voltamos a ter o problema da correlação. Como avaliar se o aumento em uma determinada data está relacionado com o aumento em uma data seguinte??\n",
    "\n",
    "Um heatmap com a correlação entre o IPCA e os casos de covid, para um mesmo período, são apresentados na sessão seguinte."
   ]
  },
  {
   "cell_type": "markdown",
   "id": "2cc28f03",
   "metadata": {},
   "source": [
    "# Comparação dos Casos de Covid com a Bolsa de Valores e o Dolar\n",
    "\n",
    "Através da biblioteca yfinance"
   ]
  },
  {
   "cell_type": "code",
   "execution_count": 36,
   "id": "2d839c7c",
   "metadata": {},
   "outputs": [
    {
     "name": "stdout",
     "output_type": "stream",
     "text": [
      "[*********************100%***********************]  1 of 1 completed\n",
      "[*********************100%***********************]  1 of 1 completed\n",
      "[*********************100%***********************]  1 of 1 completed\n",
      "[*********************100%***********************]  1 of 1 completed\n"
     ]
    }
   ],
   "source": [
    "ibov_month = yf.download('^bvsp', start='2020-01-01', end=\"2022-11-01\", interval='1mo')\n",
    "usd_month = yf.download('USDBRL=X', start='2020-01-01', end=\"2022-11-01\", interval='1mo')\n",
    "\n",
    "ibov_week = yf.download('^bvsp', start='2020-01-01', end=\"2022-11-01\", interval='1wk')\n",
    "usd_week = yf.download('USDBRL=X', start='2020-01-01', end=\"2022-11-01\", interval='1wk')"
   ]
  },
  {
   "cell_type": "code",
   "execution_count": 37,
   "id": "291072c0",
   "metadata": {},
   "outputs": [],
   "source": [
    "# Obtendo as variações mensais e semanais:\n",
    "ibov_mvar = ibov_month.pct_change()\n",
    "usd_mvar = usd_month.pct_change()\n",
    "\n",
    "ibov_wvar = ibov_week.pct_change()\n",
    "usd_wvar = usd_week.pct_change()"
   ]
  },
  {
   "cell_type": "code",
   "execution_count": 38,
   "id": "8e3567c1",
   "metadata": {
    "scrolled": true
   },
   "outputs": [
    {
     "data": {
      "application/vnd.plotly.v1+json": {
       "config": {
        "plotlyServerURL": "https://plot.ly"
       },
       "data": [
        {
         "line": {
          "color": "blue"
         },
         "name": "IPCA no Brasil",
         "type": "scatter",
         "x": [
          "2020-07-01T00:00:00",
          "2020-08-01T00:00:00",
          "2020-09-01T00:00:00",
          "2020-10-01T00:00:00",
          "2020-11-01T00:00:00",
          "2020-12-01T00:00:00",
          "2021-01-01T00:00:00",
          "2021-02-01T00:00:00",
          "2021-03-01T00:00:00",
          "2021-04-01T00:00:00",
          "2021-05-01T00:00:00",
          "2021-06-01T00:00:00",
          "2021-07-01T00:00:00",
          "2021-08-01T00:00:00",
          "2021-09-01T00:00:00",
          "2021-10-01T00:00:00",
          "2021-11-01T00:00:00",
          "2021-12-01T00:00:00",
          "2022-01-01T00:00:00",
          "2022-02-01T00:00:00",
          "2022-03-01T00:00:00",
          "2022-04-01T00:00:00",
          "2022-05-01T00:00:00",
          "2022-06-01T00:00:00",
          "2022-07-01T00:00:00",
          "2022-08-01T00:00:00",
          "2022-09-01T00:00:00",
          "2022-10-01T00:00:00"
         ],
         "y": [
          1.23,
          0.78,
          0.13,
          0.23,
          0.41,
          2.04,
          -0.29,
          1.69,
          2.81,
          0.38,
          2.11,
          0.81,
          1.68,
          0.95,
          1.93,
          1.35,
          2.3,
          0.05,
          -0.35,
          0.12,
          2.65,
          0.55,
          -0.51,
          0.48,
          -4.35,
          -2.55,
          -1.21,
          0.18
         ]
        },
        {
         "line": {
          "color": "orange"
         },
         "name": "Número de Infecções",
         "type": "scatter",
         "x": [
          "2020-04-30T00:00:00",
          "2020-05-31T00:00:00",
          "2020-06-30T00:00:00",
          "2020-07-31T00:00:00",
          "2020-08-31T00:00:00",
          "2020-09-30T00:00:00",
          "2020-10-31T00:00:00",
          "2020-11-30T00:00:00",
          "2020-12-31T00:00:00",
          "2021-01-31T00:00:00",
          "2021-02-28T00:00:00",
          "2021-03-31T00:00:00",
          "2021-04-30T00:00:00",
          "2021-05-31T00:00:00",
          "2021-06-30T00:00:00",
          "2021-07-31T00:00:00",
          "2021-08-31T00:00:00",
          "2021-09-30T00:00:00",
          "2021-10-31T00:00:00",
          "2021-11-30T00:00:00",
          "2021-12-31T00:00:00",
          "2022-01-31T00:00:00",
          "2022-02-28T00:00:00",
          "2022-03-31T00:00:00",
          "2022-04-30T00:00:00",
          "2022-05-31T00:00:00",
          "2022-06-30T00:00:00",
          "2022-07-31T00:00:00",
          "2022-08-31T00:00:00",
          "2022-09-30T00:00:00",
          "2022-10-31T00:00:00",
          "2022-11-30T00:00:00"
         ],
         "y": [
          12.963758158708348,
          4.2766399744148,
          1.089776793519436,
          0.40293732472765154,
          -0.011137968322625813,
          -0.27407628377900284,
          -0.202151945423793,
          0.116353327613542,
          0.6651067756393356,
          0.14062253769589206,
          -0.1164924071387039,
          0.6341496493773873,
          -0.133146272008693,
          -0.015111991444996198,
          0.0688436880315706,
          -0.32828523291470146,
          -0.36159367961857525,
          -0.25006055534758764,
          -0.40939261269419847,
          -0.2529934165768293,
          -0.32792966355500286,
          15.579305348524493,
          0.044623004364972685,
          -0.6523258994791076,
          -0.5669183176029859,
          0.14082595669753228,
          1.345787155616133,
          0.10224349878265548,
          -0.5962055232057848,
          -0.5928017813485291,
          -0.3562271552843149,
          -0.49144503120499283
         ]
        },
        {
         "line": {
          "color": "red"
         },
         "name": "Número de Óbitos",
         "type": "scatter",
         "x": [
          "2020-04-30T00:00:00",
          "2020-05-31T00:00:00",
          "2020-06-30T00:00:00",
          "2020-07-31T00:00:00",
          "2020-08-31T00:00:00",
          "2020-09-30T00:00:00",
          "2020-10-31T00:00:00",
          "2020-11-30T00:00:00",
          "2020-12-31T00:00:00",
          "2021-01-31T00:00:00",
          "2021-02-28T00:00:00",
          "2021-03-31T00:00:00",
          "2021-04-30T00:00:00",
          "2021-05-31T00:00:00",
          "2021-06-30T00:00:00",
          "2021-07-31T00:00:00",
          "2021-08-31T00:00:00",
          "2021-09-30T00:00:00",
          "2021-10-31T00:00:00",
          "2021-11-30T00:00:00",
          "2021-12-31T00:00:00",
          "2022-01-31T00:00:00",
          "2022-02-28T00:00:00",
          "2022-03-31T00:00:00",
          "2022-04-30T00:00:00",
          "2022-05-31T00:00:00",
          "2022-06-30T00:00:00",
          "2022-07-31T00:00:00",
          "2022-08-31T00:00:00",
          "2022-09-30T00:00:00",
          "2022-10-31T00:00:00",
          "2022-11-30T00:00:00"
         ],
         "y": [
          27.603960396039604,
          3.0472481827622016,
          0.3006628180457558,
          0.08245660178853242,
          -0.12364840238124164,
          -0.2212594877482411,
          -0.29280341804263654,
          -0.1633102580239144,
          0.6394133132756676,
          0.3562580289961461,
          0.03233990731030745,
          1.1928433332241046,
          0.230801416638025,
          -0.2873706959351173,
          -0.059204361529942906,
          -0.3088011590003622,
          -0.3692884091385453,
          -0.324388318863457,
          -0.3208312838170192,
          -0.37552055042549337,
          -0.3699623079153378,
          0.9114127933732168,
          1.6519802576140603,
          -0.5305946436677258,
          -0.6383328498211005,
          -0.15000000000000002,
          0.49103491664045307,
          0.49746835443037973,
          -0.2320371935756551,
          -0.6200697119794534,
          0.024142926122646013,
          -0.7647336162187648
         ]
        },
        {
         "line": {
          "color": "green"
         },
         "name": "Variação na Bolsa de Valores",
         "type": "scatter",
         "x": [
          "2020-05-01T00:00:00",
          "2020-06-01T00:00:00",
          "2020-07-01T00:00:00",
          "2020-08-01T00:00:00",
          "2020-09-01T00:00:00",
          "2020-10-01T00:00:00",
          "2020-10-31T00:00:00",
          "2020-11-30T00:00:00",
          "2020-12-31T00:00:00",
          "2021-01-31T00:00:00",
          "2021-03-01T00:00:00",
          "2021-04-01T00:00:00",
          "2021-05-01T00:00:00",
          "2021-06-01T00:00:00",
          "2021-07-01T00:00:00",
          "2021-08-01T00:00:00",
          "2021-09-01T00:00:00",
          "2021-10-01T00:00:00",
          "2021-10-31T00:00:00",
          "2021-11-30T00:00:00",
          "2021-12-31T00:00:00",
          "2022-01-31T00:00:00",
          "2022-03-01T00:00:00",
          "2022-04-01T00:00:00",
          "2022-05-01T00:00:00",
          "2022-06-01T00:00:00",
          "2022-07-01T00:00:00",
          "2022-08-01T00:00:00",
          "2022-09-01T00:00:00",
          "2022-10-01T00:00:00",
          "2022-10-31T00:00:00"
         ],
         "y": [
          0.08567063324472701,
          0.08755992357241738,
          0.08264601918868886,
          -0.03442747201492535,
          -0.04796264428544117,
          -0.006881388539475508,
          0.1589747956403269,
          0.09567629123503041,
          -0.027651584999916157,
          -0.05147965208996008,
          0.05997182714590821,
          0.01937685409057388,
          0.061584268339865744,
          0.0046428345059263965,
          -0.03943944101828045,
          -0.024794541916733026,
          -0.06568390567515003,
          -0.06738211733751431,
          -0.015323523444217946,
          0.028523769808173505,
          0.07217950430253195,
          0.0067089013061891745,
          0.06060525711053377,
          -0.10102584188201569,
          0.03221291112017499,
          -0.11503264452048023,
          0.04691400621054975,
          0.06162942858527609,
          0.004693078166229991,
          0.05452711360724116,
          -0.018744021303549685
         ]
        },
        {
         "line": {
          "color": "purple"
         },
         "name": "Variação da Cotação do Dolar",
         "type": "scatter",
         "x": [
          "2020-05-01T00:00:00",
          "2020-06-01T00:00:00",
          "2020-07-01T00:00:00",
          "2020-08-01T00:00:00",
          "2020-09-01T00:00:00",
          "2020-10-01T00:00:00",
          "2020-11-01T00:00:00",
          "2020-12-01T00:00:00",
          "2021-01-01T00:00:00",
          "2021-02-01T00:00:00",
          "2021-03-01T00:00:00",
          "2021-04-01T00:00:00",
          "2021-05-01T00:00:00",
          "2021-06-01T00:00:00",
          "2021-07-01T00:00:00",
          "2021-08-01T00:00:00",
          "2021-09-01T00:00:00",
          "2021-10-01T00:00:00",
          "2021-11-01T00:00:00",
          "2021-12-01T00:00:00",
          "2022-01-01T00:00:00",
          "2022-02-01T00:00:00",
          "2022-03-01T00:00:00",
          "2022-04-01T00:00:00",
          "2022-05-01T00:00:00",
          "2022-06-01T00:00:00",
          "2022-07-01T00:00:00",
          "2022-08-01T00:00:00",
          "2022-09-01T00:00:00",
          "2022-10-01T00:00:00"
         ],
         "y": [
          -0.0004685424931930582,
          0.0130900169941921,
          -0.04594508353543225,
          0.04580991352001096,
          0.04461966219934821,
          0.02616113090651817,
          -0.07534007184165947,
          -0.028387719245789533,
          0.052007270270066686,
          0.025051239385378787,
          0.031084712537283732,
          -0.07540365841749475,
          -0.018439418967081567,
          -0.05400913728522527,
          0.04994852572241526,
          -0.003786577931291446,
          0.04464682226474137,
          0.040522307679435876,
          -0.005857605657347054,
          -0.005445736369759424,
          -0.03726977810147891,
          -0.03789204287639891,
          -0.07553202638879719,
          0.04205718286885274,
          -0.04384046587150636,
          0.09016500769326852,
          -0.001949446555427059,
          -0.00945697482670993,
          0.0535543634290605,
          -0.019958553112705113
         ]
        }
       ],
       "layout": {
        "template": {
         "data": {
          "bar": [
           {
            "error_x": {
             "color": "#2a3f5f"
            },
            "error_y": {
             "color": "#2a3f5f"
            },
            "marker": {
             "line": {
              "color": "#E5ECF6",
              "width": 0.5
             },
             "pattern": {
              "fillmode": "overlay",
              "size": 10,
              "solidity": 0.2
             }
            },
            "type": "bar"
           }
          ],
          "barpolar": [
           {
            "marker": {
             "line": {
              "color": "#E5ECF6",
              "width": 0.5
             },
             "pattern": {
              "fillmode": "overlay",
              "size": 10,
              "solidity": 0.2
             }
            },
            "type": "barpolar"
           }
          ],
          "carpet": [
           {
            "aaxis": {
             "endlinecolor": "#2a3f5f",
             "gridcolor": "white",
             "linecolor": "white",
             "minorgridcolor": "white",
             "startlinecolor": "#2a3f5f"
            },
            "baxis": {
             "endlinecolor": "#2a3f5f",
             "gridcolor": "white",
             "linecolor": "white",
             "minorgridcolor": "white",
             "startlinecolor": "#2a3f5f"
            },
            "type": "carpet"
           }
          ],
          "choropleth": [
           {
            "colorbar": {
             "outlinewidth": 0,
             "ticks": ""
            },
            "type": "choropleth"
           }
          ],
          "contour": [
           {
            "colorbar": {
             "outlinewidth": 0,
             "ticks": ""
            },
            "colorscale": [
             [
              0,
              "#0d0887"
             ],
             [
              0.1111111111111111,
              "#46039f"
             ],
             [
              0.2222222222222222,
              "#7201a8"
             ],
             [
              0.3333333333333333,
              "#9c179e"
             ],
             [
              0.4444444444444444,
              "#bd3786"
             ],
             [
              0.5555555555555556,
              "#d8576b"
             ],
             [
              0.6666666666666666,
              "#ed7953"
             ],
             [
              0.7777777777777778,
              "#fb9f3a"
             ],
             [
              0.8888888888888888,
              "#fdca26"
             ],
             [
              1,
              "#f0f921"
             ]
            ],
            "type": "contour"
           }
          ],
          "contourcarpet": [
           {
            "colorbar": {
             "outlinewidth": 0,
             "ticks": ""
            },
            "type": "contourcarpet"
           }
          ],
          "heatmap": [
           {
            "colorbar": {
             "outlinewidth": 0,
             "ticks": ""
            },
            "colorscale": [
             [
              0,
              "#0d0887"
             ],
             [
              0.1111111111111111,
              "#46039f"
             ],
             [
              0.2222222222222222,
              "#7201a8"
             ],
             [
              0.3333333333333333,
              "#9c179e"
             ],
             [
              0.4444444444444444,
              "#bd3786"
             ],
             [
              0.5555555555555556,
              "#d8576b"
             ],
             [
              0.6666666666666666,
              "#ed7953"
             ],
             [
              0.7777777777777778,
              "#fb9f3a"
             ],
             [
              0.8888888888888888,
              "#fdca26"
             ],
             [
              1,
              "#f0f921"
             ]
            ],
            "type": "heatmap"
           }
          ],
          "heatmapgl": [
           {
            "colorbar": {
             "outlinewidth": 0,
             "ticks": ""
            },
            "colorscale": [
             [
              0,
              "#0d0887"
             ],
             [
              0.1111111111111111,
              "#46039f"
             ],
             [
              0.2222222222222222,
              "#7201a8"
             ],
             [
              0.3333333333333333,
              "#9c179e"
             ],
             [
              0.4444444444444444,
              "#bd3786"
             ],
             [
              0.5555555555555556,
              "#d8576b"
             ],
             [
              0.6666666666666666,
              "#ed7953"
             ],
             [
              0.7777777777777778,
              "#fb9f3a"
             ],
             [
              0.8888888888888888,
              "#fdca26"
             ],
             [
              1,
              "#f0f921"
             ]
            ],
            "type": "heatmapgl"
           }
          ],
          "histogram": [
           {
            "marker": {
             "pattern": {
              "fillmode": "overlay",
              "size": 10,
              "solidity": 0.2
             }
            },
            "type": "histogram"
           }
          ],
          "histogram2d": [
           {
            "colorbar": {
             "outlinewidth": 0,
             "ticks": ""
            },
            "colorscale": [
             [
              0,
              "#0d0887"
             ],
             [
              0.1111111111111111,
              "#46039f"
             ],
             [
              0.2222222222222222,
              "#7201a8"
             ],
             [
              0.3333333333333333,
              "#9c179e"
             ],
             [
              0.4444444444444444,
              "#bd3786"
             ],
             [
              0.5555555555555556,
              "#d8576b"
             ],
             [
              0.6666666666666666,
              "#ed7953"
             ],
             [
              0.7777777777777778,
              "#fb9f3a"
             ],
             [
              0.8888888888888888,
              "#fdca26"
             ],
             [
              1,
              "#f0f921"
             ]
            ],
            "type": "histogram2d"
           }
          ],
          "histogram2dcontour": [
           {
            "colorbar": {
             "outlinewidth": 0,
             "ticks": ""
            },
            "colorscale": [
             [
              0,
              "#0d0887"
             ],
             [
              0.1111111111111111,
              "#46039f"
             ],
             [
              0.2222222222222222,
              "#7201a8"
             ],
             [
              0.3333333333333333,
              "#9c179e"
             ],
             [
              0.4444444444444444,
              "#bd3786"
             ],
             [
              0.5555555555555556,
              "#d8576b"
             ],
             [
              0.6666666666666666,
              "#ed7953"
             ],
             [
              0.7777777777777778,
              "#fb9f3a"
             ],
             [
              0.8888888888888888,
              "#fdca26"
             ],
             [
              1,
              "#f0f921"
             ]
            ],
            "type": "histogram2dcontour"
           }
          ],
          "mesh3d": [
           {
            "colorbar": {
             "outlinewidth": 0,
             "ticks": ""
            },
            "type": "mesh3d"
           }
          ],
          "parcoords": [
           {
            "line": {
             "colorbar": {
              "outlinewidth": 0,
              "ticks": ""
             }
            },
            "type": "parcoords"
           }
          ],
          "pie": [
           {
            "automargin": true,
            "type": "pie"
           }
          ],
          "scatter": [
           {
            "fillpattern": {
             "fillmode": "overlay",
             "size": 10,
             "solidity": 0.2
            },
            "type": "scatter"
           }
          ],
          "scatter3d": [
           {
            "line": {
             "colorbar": {
              "outlinewidth": 0,
              "ticks": ""
             }
            },
            "marker": {
             "colorbar": {
              "outlinewidth": 0,
              "ticks": ""
             }
            },
            "type": "scatter3d"
           }
          ],
          "scattercarpet": [
           {
            "marker": {
             "colorbar": {
              "outlinewidth": 0,
              "ticks": ""
             }
            },
            "type": "scattercarpet"
           }
          ],
          "scattergeo": [
           {
            "marker": {
             "colorbar": {
              "outlinewidth": 0,
              "ticks": ""
             }
            },
            "type": "scattergeo"
           }
          ],
          "scattergl": [
           {
            "marker": {
             "colorbar": {
              "outlinewidth": 0,
              "ticks": ""
             }
            },
            "type": "scattergl"
           }
          ],
          "scattermapbox": [
           {
            "marker": {
             "colorbar": {
              "outlinewidth": 0,
              "ticks": ""
             }
            },
            "type": "scattermapbox"
           }
          ],
          "scatterpolar": [
           {
            "marker": {
             "colorbar": {
              "outlinewidth": 0,
              "ticks": ""
             }
            },
            "type": "scatterpolar"
           }
          ],
          "scatterpolargl": [
           {
            "marker": {
             "colorbar": {
              "outlinewidth": 0,
              "ticks": ""
             }
            },
            "type": "scatterpolargl"
           }
          ],
          "scatterternary": [
           {
            "marker": {
             "colorbar": {
              "outlinewidth": 0,
              "ticks": ""
             }
            },
            "type": "scatterternary"
           }
          ],
          "surface": [
           {
            "colorbar": {
             "outlinewidth": 0,
             "ticks": ""
            },
            "colorscale": [
             [
              0,
              "#0d0887"
             ],
             [
              0.1111111111111111,
              "#46039f"
             ],
             [
              0.2222222222222222,
              "#7201a8"
             ],
             [
              0.3333333333333333,
              "#9c179e"
             ],
             [
              0.4444444444444444,
              "#bd3786"
             ],
             [
              0.5555555555555556,
              "#d8576b"
             ],
             [
              0.6666666666666666,
              "#ed7953"
             ],
             [
              0.7777777777777778,
              "#fb9f3a"
             ],
             [
              0.8888888888888888,
              "#fdca26"
             ],
             [
              1,
              "#f0f921"
             ]
            ],
            "type": "surface"
           }
          ],
          "table": [
           {
            "cells": {
             "fill": {
              "color": "#EBF0F8"
             },
             "line": {
              "color": "white"
             }
            },
            "header": {
             "fill": {
              "color": "#C8D4E3"
             },
             "line": {
              "color": "white"
             }
            },
            "type": "table"
           }
          ]
         },
         "layout": {
          "annotationdefaults": {
           "arrowcolor": "#2a3f5f",
           "arrowhead": 0,
           "arrowwidth": 1
          },
          "autotypenumbers": "strict",
          "coloraxis": {
           "colorbar": {
            "outlinewidth": 0,
            "ticks": ""
           }
          },
          "colorscale": {
           "diverging": [
            [
             0,
             "#8e0152"
            ],
            [
             0.1,
             "#c51b7d"
            ],
            [
             0.2,
             "#de77ae"
            ],
            [
             0.3,
             "#f1b6da"
            ],
            [
             0.4,
             "#fde0ef"
            ],
            [
             0.5,
             "#f7f7f7"
            ],
            [
             0.6,
             "#e6f5d0"
            ],
            [
             0.7,
             "#b8e186"
            ],
            [
             0.8,
             "#7fbc41"
            ],
            [
             0.9,
             "#4d9221"
            ],
            [
             1,
             "#276419"
            ]
           ],
           "sequential": [
            [
             0,
             "#0d0887"
            ],
            [
             0.1111111111111111,
             "#46039f"
            ],
            [
             0.2222222222222222,
             "#7201a8"
            ],
            [
             0.3333333333333333,
             "#9c179e"
            ],
            [
             0.4444444444444444,
             "#bd3786"
            ],
            [
             0.5555555555555556,
             "#d8576b"
            ],
            [
             0.6666666666666666,
             "#ed7953"
            ],
            [
             0.7777777777777778,
             "#fb9f3a"
            ],
            [
             0.8888888888888888,
             "#fdca26"
            ],
            [
             1,
             "#f0f921"
            ]
           ],
           "sequentialminus": [
            [
             0,
             "#0d0887"
            ],
            [
             0.1111111111111111,
             "#46039f"
            ],
            [
             0.2222222222222222,
             "#7201a8"
            ],
            [
             0.3333333333333333,
             "#9c179e"
            ],
            [
             0.4444444444444444,
             "#bd3786"
            ],
            [
             0.5555555555555556,
             "#d8576b"
            ],
            [
             0.6666666666666666,
             "#ed7953"
            ],
            [
             0.7777777777777778,
             "#fb9f3a"
            ],
            [
             0.8888888888888888,
             "#fdca26"
            ],
            [
             1,
             "#f0f921"
            ]
           ]
          },
          "colorway": [
           "#636efa",
           "#EF553B",
           "#00cc96",
           "#ab63fa",
           "#FFA15A",
           "#19d3f3",
           "#FF6692",
           "#B6E880",
           "#FF97FF",
           "#FECB52"
          ],
          "font": {
           "color": "#2a3f5f"
          },
          "geo": {
           "bgcolor": "white",
           "lakecolor": "white",
           "landcolor": "#E5ECF6",
           "showlakes": true,
           "showland": true,
           "subunitcolor": "white"
          },
          "hoverlabel": {
           "align": "left"
          },
          "hovermode": "closest",
          "mapbox": {
           "style": "light"
          },
          "paper_bgcolor": "white",
          "plot_bgcolor": "#E5ECF6",
          "polar": {
           "angularaxis": {
            "gridcolor": "white",
            "linecolor": "white",
            "ticks": ""
           },
           "bgcolor": "#E5ECF6",
           "radialaxis": {
            "gridcolor": "white",
            "linecolor": "white",
            "ticks": ""
           }
          },
          "scene": {
           "xaxis": {
            "backgroundcolor": "#E5ECF6",
            "gridcolor": "white",
            "gridwidth": 2,
            "linecolor": "white",
            "showbackground": true,
            "ticks": "",
            "zerolinecolor": "white"
           },
           "yaxis": {
            "backgroundcolor": "#E5ECF6",
            "gridcolor": "white",
            "gridwidth": 2,
            "linecolor": "white",
            "showbackground": true,
            "ticks": "",
            "zerolinecolor": "white"
           },
           "zaxis": {
            "backgroundcolor": "#E5ECF6",
            "gridcolor": "white",
            "gridwidth": 2,
            "linecolor": "white",
            "showbackground": true,
            "ticks": "",
            "zerolinecolor": "white"
           }
          },
          "shapedefaults": {
           "line": {
            "color": "#2a3f5f"
           }
          },
          "ternary": {
           "aaxis": {
            "gridcolor": "white",
            "linecolor": "white",
            "ticks": ""
           },
           "baxis": {
            "gridcolor": "white",
            "linecolor": "white",
            "ticks": ""
           },
           "bgcolor": "#E5ECF6",
           "caxis": {
            "gridcolor": "white",
            "linecolor": "white",
            "ticks": ""
           }
          },
          "title": {
           "x": 0.05
          },
          "xaxis": {
           "automargin": true,
           "gridcolor": "white",
           "linecolor": "white",
           "ticks": "",
           "title": {
            "standoff": 15
           },
           "zerolinecolor": "white",
           "zerolinewidth": 2
          },
          "yaxis": {
           "automargin": true,
           "gridcolor": "white",
           "linecolor": "white",
           "ticks": "",
           "title": {
            "standoff": 15
           },
           "zerolinecolor": "white",
           "zerolinewidth": 2
          }
         }
        },
        "title": {
         "text": "Variações Mensais: IPCA, IBOV, USD e Casos de Covid",
         "x": 0.5
        }
       }
      }
     },
     "metadata": {},
     "output_type": "display_data"
    }
   ],
   "source": [
    "# Criando o dicionário:\n",
    "dict_ibov_m = {\"ipca\" : ipca[4:], \"covid\": months_var[2:], \"ibov\":ibov_mvar[4:], \"usd\":usd_mvar[4:]}\n",
    "\n",
    "# Plotting:\n",
    "fig_ipca_covid_ibov_usd = go.Figure()\n",
    "fig_ipca_covid_ibov_usd = fig_ipca_covid_ibov_usd.add_trace(go.Scatter(x = dict_ibov_m[\"ipca\"][\"data\"],\n",
    "                               y = dict_ibov_m[\"ipca\"][\"valor\"], \n",
    "                               name = \"IPCA no Brasil\",\n",
    "                               line = dict(color='blue')))\n",
    "\n",
    "fig_ipca_covid_ibov_usd = fig_ipca_covid_ibov_usd.add_trace(go.Scatter(x = dict_ibov_m[\"covid\"].index,\n",
    "                               y = dict_ibov_m[\"covid\"][\"newCases\"], \n",
    "                               name = \"Número de Infecções\",\n",
    "                               line = dict(color='orange')))\n",
    "\n",
    "fig_ipca_covid_ibov_usd = fig_ipca_covid_ibov_usd.add_trace(go.Scatter(x = dict_ibov_m[\"covid\"].index,\n",
    "                               y = dict_ibov_m[\"covid\"][\"newDeaths\"], \n",
    "                               name = \"Número de Óbitos\",\n",
    "                               line = dict(color='red')))\n",
    "\n",
    "fig_ipca_covid_ibov_usd = fig_ipca_covid_ibov_usd.add_trace(go.Scatter(x = dict_ibov_m[\"ibov\"].index,\n",
    "                               y = dict_ibov_m[\"ibov\"][\"Close\"], \n",
    "                               name = \"Variação na Bolsa de Valores\",\n",
    "                               line = dict(color='green')))\n",
    "\n",
    "fig_ipca_covid_ibov_usd = fig_ipca_covid_ibov_usd.add_trace(go.Scatter(x = dict_ibov_m[\"usd\"].index,\n",
    "                               y = dict_ibov_m[\"usd\"][\"Close\"], \n",
    "                               name = \"Variação da Cotação do Dolar\",\n",
    "                               line = dict(color='purple')))\n",
    "\n",
    "\n",
    "fig_ipca_covid_ibov_usd.update_layout(\n",
    "                            title='Variações Mensais: IPCA, IBOV, USD e Casos de Covid',\n",
    "                            title_font_size=20,\n",
    "                            title_font_color='black',\n",
    "                            title_x = 0.5)\n",
    "\n",
    "fig_ipca_covid_ibov_usd.show()"
   ]
  },
  {
   "cell_type": "code",
   "execution_count": 45,
   "id": "e22a52cf",
   "metadata": {},
   "outputs": [
    {
     "ename": "NameError",
     "evalue": "name 'ibov_wvar' is not defined",
     "output_type": "error",
     "traceback": [
      "\u001b[1;31m---------------------------------------------------------------------------\u001b[0m",
      "\u001b[1;31mNameError\u001b[0m                                 Traceback (most recent call last)",
      "\u001b[1;32mc:\\Users\\Giga\\Desktop\\Teste_divtech_covid_analysis\\covid copy.ipynb Célula: 43\u001b[0m in \u001b[0;36m<cell line: 2>\u001b[1;34m()\u001b[0m\n\u001b[0;32m      <a href='vscode-notebook-cell:/c%3A/Users/Giga/Desktop/Teste_divtech_covid_analysis/covid%20copy.ipynb#X61sZmlsZQ%3D%3D?line=0'>1</a>\u001b[0m \u001b[39m# Criando o dicionário:\u001b[39;00m\n\u001b[1;32m----> <a href='vscode-notebook-cell:/c%3A/Users/Giga/Desktop/Teste_divtech_covid_analysis/covid%20copy.ipynb#X61sZmlsZQ%3D%3D?line=1'>2</a>\u001b[0m dict_ibov_w \u001b[39m=\u001b[39m {\u001b[39m\"\u001b[39m\u001b[39mcovid\u001b[39m\u001b[39m\"\u001b[39m: weeks_var[\u001b[39m2\u001b[39m:], \u001b[39m\"\u001b[39m\u001b[39mibov\u001b[39m\u001b[39m\"\u001b[39m:ibov_wvar[\u001b[39m4\u001b[39m:], \u001b[39m\"\u001b[39m\u001b[39musd\u001b[39m\u001b[39m\"\u001b[39m:usd_wvar[\u001b[39m4\u001b[39m:]}\n\u001b[0;32m      <a href='vscode-notebook-cell:/c%3A/Users/Giga/Desktop/Teste_divtech_covid_analysis/covid%20copy.ipynb#X61sZmlsZQ%3D%3D?line=3'>4</a>\u001b[0m \u001b[39m# Plotting:\u001b[39;00m\n\u001b[0;32m      <a href='vscode-notebook-cell:/c%3A/Users/Giga/Desktop/Teste_divtech_covid_analysis/covid%20copy.ipynb#X61sZmlsZQ%3D%3D?line=4'>5</a>\u001b[0m fig_ipca_covid_ibov_usd_week \u001b[39m=\u001b[39m go\u001b[39m.\u001b[39mFigure()\n",
      "\u001b[1;31mNameError\u001b[0m: name 'ibov_wvar' is not defined"
     ]
    }
   ],
   "source": [
    "# Criando o dicionário:\n",
    "dict_ibov_w = {\"covid\": weeks_var[2:], \"ibov\":ibov_wvar[4:], \"usd\":usd_wvar[4:]}\n",
    "\n",
    "# Plotting:\n",
    "fig_ipca_covid_ibov_usd_week = go.Figure()\n",
    "\n",
    "fig_ipca_covid_ibov_usd_week = fig_ipca_covid_ibov_usd_week.add_trace(go.Scatter(x = dict_ibov_m[\"covid\"].index,\n",
    "                               y = dict_ibov_m[\"covid\"][\"newCases\"], \n",
    "                               name = \"Número de Infecções\"))\n",
    "\n",
    "fig_ipca_covid_ibov_usd_week = fig_ipca_covid_ibov_usd_week.add_trace(go.Scatter(x = dict_ibov_m[\"covid\"].index,\n",
    "                               y = dict_ibov_m[\"covid\"][\"newDeaths\"], \n",
    "                               name = \"Número de Óbitos\"))\n",
    "\n",
    "fig_ipca_covid_ibov_usd_week = fig_ipca_covid_ibov_usd_week.add_trace(go.Scatter(x = dict_ibov_m[\"ibov\"].index,\n",
    "                               y = dict_ibov_m[\"ibov\"][\"Close\"], \n",
    "                               name = \"Variação na Bolsa de Valores\"))\n",
    "\n",
    "fig_ipca_covid_ibov_usd_week = fig_ipca_covid_ibov_usd_week.add_trace(go.Scatter(x = dict_ibov_m[\"usd\"].index,\n",
    "                               y = dict_ibov_m[\"usd\"][\"Close\"], \n",
    "                               name = \"Variação da Cotação do Dolar\"))\n",
    "\n",
    "fig_ipca_covid_ibov_usd_week.update_layout(\n",
    "                                title='Variações Semanais: IBOV, USD e Casos de Covid',\n",
    "                                title_font_size=20,\n",
    "                                title_font_color='black',\n",
    "                                title_x = 0.5)\n",
    "\n",
    "fig_ipca_covid_ibov_usd_week.show()"
   ]
  },
  {
   "cell_type": "markdown",
   "id": "8525e8af",
   "metadata": {},
   "source": [
    "Analisando o gráfico da cotação do dolar, em relação a bolsa brasileira, percebemos que um aumento na cotação do dolar resulta em um aumento na cotação da bolsa brasileira após uma ou duas semanas - experimente!\n",
    "\n",
    "Por outro lado, a relação entre os casos de covid e a bolsa de valores é muito dificil de ser feita visualmente, sendo adequada a comparação por meio de outras ferramentas."
   ]
  },
  {
   "cell_type": "code",
   "execution_count": 40,
   "id": "67e37ddf",
   "metadata": {},
   "outputs": [
    {
     "data": {
      "text/html": [
       "<div>\n",
       "<style scoped>\n",
       "    .dataframe tbody tr th:only-of-type {\n",
       "        vertical-align: middle;\n",
       "    }\n",
       "\n",
       "    .dataframe tbody tr th {\n",
       "        vertical-align: top;\n",
       "    }\n",
       "\n",
       "    .dataframe thead th {\n",
       "        text-align: right;\n",
       "    }\n",
       "</style>\n",
       "<table border=\"1\" class=\"dataframe\">\n",
       "  <thead>\n",
       "    <tr style=\"text-align: right;\">\n",
       "      <th></th>\n",
       "      <th>ipca</th>\n",
       "      <th>ipca_data</th>\n",
       "      <th>covid_newCases</th>\n",
       "      <th>covid_newDeaths</th>\n",
       "      <th>covid_data</th>\n",
       "      <th>ibov</th>\n",
       "      <th>usd</th>\n",
       "    </tr>\n",
       "  </thead>\n",
       "  <tbody>\n",
       "    <tr>\n",
       "      <th>0</th>\n",
       "      <td>-0.22</td>\n",
       "      <td>2020-03-01</td>\n",
       "      <td>NaN</td>\n",
       "      <td>NaN</td>\n",
       "      <td>2020-02-29</td>\n",
       "      <td>-0.299044</td>\n",
       "      <td>0.161546</td>\n",
       "    </tr>\n",
       "    <tr>\n",
       "      <th>1</th>\n",
       "      <td>-2.06</td>\n",
       "      <td>2020-04-01</td>\n",
       "      <td>2910.000000</td>\n",
       "      <td>inf</td>\n",
       "      <td>2020-03-31</td>\n",
       "      <td>0.102520</td>\n",
       "      <td>0.027365</td>\n",
       "    </tr>\n",
       "    <tr>\n",
       "      <th>2</th>\n",
       "      <td>-1.02</td>\n",
       "      <td>2020-05-01</td>\n",
       "      <td>12.963758</td>\n",
       "      <td>27.603960</td>\n",
       "      <td>2020-04-30</td>\n",
       "      <td>0.085671</td>\n",
       "      <td>-0.000469</td>\n",
       "    </tr>\n",
       "    <tr>\n",
       "      <th>3</th>\n",
       "      <td>0.89</td>\n",
       "      <td>2020-06-01</td>\n",
       "      <td>4.276640</td>\n",
       "      <td>3.047248</td>\n",
       "      <td>2020-05-31</td>\n",
       "      <td>0.087560</td>\n",
       "      <td>0.013090</td>\n",
       "    </tr>\n",
       "    <tr>\n",
       "      <th>4</th>\n",
       "      <td>1.23</td>\n",
       "      <td>2020-07-01</td>\n",
       "      <td>1.089777</td>\n",
       "      <td>0.300663</td>\n",
       "      <td>2020-06-30</td>\n",
       "      <td>0.082646</td>\n",
       "      <td>-0.045945</td>\n",
       "    </tr>\n",
       "  </tbody>\n",
       "</table>\n",
       "</div>"
      ],
      "text/plain": [
       "   ipca  ipca_data  covid_newCases  covid_newDeaths covid_data      ibov  \\\n",
       "0 -0.22 2020-03-01             NaN              NaN 2020-02-29 -0.299044   \n",
       "1 -2.06 2020-04-01     2910.000000              inf 2020-03-31  0.102520   \n",
       "2 -1.02 2020-05-01       12.963758        27.603960 2020-04-30  0.085671   \n",
       "3  0.89 2020-06-01        4.276640         3.047248 2020-05-31  0.087560   \n",
       "4  1.23 2020-07-01        1.089777         0.300663 2020-06-30  0.082646   \n",
       "\n",
       "        usd  \n",
       "0  0.161546  \n",
       "1  0.027365  \n",
       "2 -0.000469  \n",
       "3  0.013090  \n",
       "4 -0.045945  "
      ]
     },
     "execution_count": 40,
     "metadata": {},
     "output_type": "execute_result"
    }
   ],
   "source": [
    "# Avaliando a correlação Mensal:\n",
    "# Os números entre colchetes \"[]\" são para ajustar as datas do período:\n",
    "\n",
    "month_var_df = pd.DataFrame({\n",
    "    \"ipca\": [row for row in ipca[\"valor\"]],\n",
    "    \"ipca_data\": [row for row in ipca[\"data\"]],\n",
    "    \n",
    "    \"covid_newCases\": [row for row in months_var[\"newCases\"][:-2]],\n",
    "    \"covid_newDeaths\": [row for row in months_var[\"newDeaths\"][:-2]],\n",
    "    \"covid_data\": [row for row in months_var.index[:-2]],\n",
    "    \n",
    "    \"ibov\": [row for row in ibov_mvar[\"Close\"][2:-1]], \n",
    "    \"usd\": [row for row in usd_mvar[\"Close\"][2:]] \n",
    "    \n",
    "})\n",
    "month_var_df.head()"
   ]
  },
  {
   "cell_type": "code",
   "execution_count": 41,
   "id": "3df2fb55",
   "metadata": {},
   "outputs": [],
   "source": [
    "# Avaliando a correlação Semanal:\n",
    "# Os números entre colchetes \"[]\" são para ajustar as datas do período:\n",
    "\n",
    "#week_var_df = pd.DataFrame({\n",
    "#    \"covid_newCases\": [row for row in weeks_var[\"newCases\"][:-3]], \n",
    "#    \"covid_newDeaths\": [row for row in weeks_var[\"newDeaths\"][:-3]],\n",
    "#    \"ibov\": [row for row in ibov_wvar[\"Close\"][9:]],\n",
    "#    \"usd\": [row for row in usd_wvar[\"Close\"][9:]]\n",
    "#    \n",
    "#})\n",
    "#week_var_df.head()"
   ]
  },
  {
   "cell_type": "code",
   "execution_count": 42,
   "id": "8cb21f69",
   "metadata": {},
   "outputs": [
    {
     "name": "stderr",
     "output_type": "stream",
     "text": [
      "C:\\Users\\Giga\\AppData\\Local\\Temp\\ipykernel_42800\\2631872836.py:1: FutureWarning:\n",
      "\n",
      "The default value of numeric_only in DataFrame.corr is deprecated. In a future version, it will default to False. Select only valid columns or specify the value of numeric_only to silence this warning.\n",
      "\n"
     ]
    },
    {
     "data": {
      "application/vnd.plotly.v1+json": {
       "config": {
        "plotlyServerURL": "https://plot.ly"
       },
       "data": [
        {
         "coloraxis": "coloraxis",
         "hovertemplate": "x: %{x}<br>y: %{y}<br>color: %{z}<extra></extra>",
         "name": "0",
         "texttemplate": "%{z}",
         "type": "heatmap",
         "x": [
          "ipca",
          "covid_newCases",
          "covid_newDeaths",
          "ibov",
          "usd"
         ],
         "xaxis": "x",
         "y": [
          "ipca",
          "covid_newCases",
          "covid_newDeaths",
          "ibov",
          "usd"
         ],
         "yaxis": "y",
         "z": [
          [
           1,
           -0.29917988938559936,
           -0.1875654297183874,
           -0.09455159400418854,
           -0.07832547574169432
          ],
          [
           -0.29917988938559936,
           1,
           0.6498436957779969,
           0.24498737655857974,
           0.10877568918353583
          ],
          [
           -0.1875654297183874,
           0.6498436957779969,
           1,
           0.24890531572234575,
           -0.03238171030746106
          ],
          [
           -0.09455159400418854,
           0.24498737655857974,
           0.24890531572234575,
           1,
           -0.771881496763764
          ],
          [
           -0.07832547574169432,
           0.10877568918353583,
           -0.03238171030746106,
           -0.771881496763764,
           1
          ]
         ]
        }
       ],
       "layout": {
        "coloraxis": {
         "colorscale": [
          [
           0,
           "#0d0887"
          ],
          [
           0.1111111111111111,
           "#46039f"
          ],
          [
           0.2222222222222222,
           "#7201a8"
          ],
          [
           0.3333333333333333,
           "#9c179e"
          ],
          [
           0.4444444444444444,
           "#bd3786"
          ],
          [
           0.5555555555555556,
           "#d8576b"
          ],
          [
           0.6666666666666666,
           "#ed7953"
          ],
          [
           0.7777777777777778,
           "#fb9f3a"
          ],
          [
           0.8888888888888888,
           "#fdca26"
          ],
          [
           1,
           "#f0f921"
          ]
         ]
        },
        "template": {
         "data": {
          "bar": [
           {
            "error_x": {
             "color": "#2a3f5f"
            },
            "error_y": {
             "color": "#2a3f5f"
            },
            "marker": {
             "line": {
              "color": "#E5ECF6",
              "width": 0.5
             },
             "pattern": {
              "fillmode": "overlay",
              "size": 10,
              "solidity": 0.2
             }
            },
            "type": "bar"
           }
          ],
          "barpolar": [
           {
            "marker": {
             "line": {
              "color": "#E5ECF6",
              "width": 0.5
             },
             "pattern": {
              "fillmode": "overlay",
              "size": 10,
              "solidity": 0.2
             }
            },
            "type": "barpolar"
           }
          ],
          "carpet": [
           {
            "aaxis": {
             "endlinecolor": "#2a3f5f",
             "gridcolor": "white",
             "linecolor": "white",
             "minorgridcolor": "white",
             "startlinecolor": "#2a3f5f"
            },
            "baxis": {
             "endlinecolor": "#2a3f5f",
             "gridcolor": "white",
             "linecolor": "white",
             "minorgridcolor": "white",
             "startlinecolor": "#2a3f5f"
            },
            "type": "carpet"
           }
          ],
          "choropleth": [
           {
            "colorbar": {
             "outlinewidth": 0,
             "ticks": ""
            },
            "type": "choropleth"
           }
          ],
          "contour": [
           {
            "colorbar": {
             "outlinewidth": 0,
             "ticks": ""
            },
            "colorscale": [
             [
              0,
              "#0d0887"
             ],
             [
              0.1111111111111111,
              "#46039f"
             ],
             [
              0.2222222222222222,
              "#7201a8"
             ],
             [
              0.3333333333333333,
              "#9c179e"
             ],
             [
              0.4444444444444444,
              "#bd3786"
             ],
             [
              0.5555555555555556,
              "#d8576b"
             ],
             [
              0.6666666666666666,
              "#ed7953"
             ],
             [
              0.7777777777777778,
              "#fb9f3a"
             ],
             [
              0.8888888888888888,
              "#fdca26"
             ],
             [
              1,
              "#f0f921"
             ]
            ],
            "type": "contour"
           }
          ],
          "contourcarpet": [
           {
            "colorbar": {
             "outlinewidth": 0,
             "ticks": ""
            },
            "type": "contourcarpet"
           }
          ],
          "heatmap": [
           {
            "colorbar": {
             "outlinewidth": 0,
             "ticks": ""
            },
            "colorscale": [
             [
              0,
              "#0d0887"
             ],
             [
              0.1111111111111111,
              "#46039f"
             ],
             [
              0.2222222222222222,
              "#7201a8"
             ],
             [
              0.3333333333333333,
              "#9c179e"
             ],
             [
              0.4444444444444444,
              "#bd3786"
             ],
             [
              0.5555555555555556,
              "#d8576b"
             ],
             [
              0.6666666666666666,
              "#ed7953"
             ],
             [
              0.7777777777777778,
              "#fb9f3a"
             ],
             [
              0.8888888888888888,
              "#fdca26"
             ],
             [
              1,
              "#f0f921"
             ]
            ],
            "type": "heatmap"
           }
          ],
          "heatmapgl": [
           {
            "colorbar": {
             "outlinewidth": 0,
             "ticks": ""
            },
            "colorscale": [
             [
              0,
              "#0d0887"
             ],
             [
              0.1111111111111111,
              "#46039f"
             ],
             [
              0.2222222222222222,
              "#7201a8"
             ],
             [
              0.3333333333333333,
              "#9c179e"
             ],
             [
              0.4444444444444444,
              "#bd3786"
             ],
             [
              0.5555555555555556,
              "#d8576b"
             ],
             [
              0.6666666666666666,
              "#ed7953"
             ],
             [
              0.7777777777777778,
              "#fb9f3a"
             ],
             [
              0.8888888888888888,
              "#fdca26"
             ],
             [
              1,
              "#f0f921"
             ]
            ],
            "type": "heatmapgl"
           }
          ],
          "histogram": [
           {
            "marker": {
             "pattern": {
              "fillmode": "overlay",
              "size": 10,
              "solidity": 0.2
             }
            },
            "type": "histogram"
           }
          ],
          "histogram2d": [
           {
            "colorbar": {
             "outlinewidth": 0,
             "ticks": ""
            },
            "colorscale": [
             [
              0,
              "#0d0887"
             ],
             [
              0.1111111111111111,
              "#46039f"
             ],
             [
              0.2222222222222222,
              "#7201a8"
             ],
             [
              0.3333333333333333,
              "#9c179e"
             ],
             [
              0.4444444444444444,
              "#bd3786"
             ],
             [
              0.5555555555555556,
              "#d8576b"
             ],
             [
              0.6666666666666666,
              "#ed7953"
             ],
             [
              0.7777777777777778,
              "#fb9f3a"
             ],
             [
              0.8888888888888888,
              "#fdca26"
             ],
             [
              1,
              "#f0f921"
             ]
            ],
            "type": "histogram2d"
           }
          ],
          "histogram2dcontour": [
           {
            "colorbar": {
             "outlinewidth": 0,
             "ticks": ""
            },
            "colorscale": [
             [
              0,
              "#0d0887"
             ],
             [
              0.1111111111111111,
              "#46039f"
             ],
             [
              0.2222222222222222,
              "#7201a8"
             ],
             [
              0.3333333333333333,
              "#9c179e"
             ],
             [
              0.4444444444444444,
              "#bd3786"
             ],
             [
              0.5555555555555556,
              "#d8576b"
             ],
             [
              0.6666666666666666,
              "#ed7953"
             ],
             [
              0.7777777777777778,
              "#fb9f3a"
             ],
             [
              0.8888888888888888,
              "#fdca26"
             ],
             [
              1,
              "#f0f921"
             ]
            ],
            "type": "histogram2dcontour"
           }
          ],
          "mesh3d": [
           {
            "colorbar": {
             "outlinewidth": 0,
             "ticks": ""
            },
            "type": "mesh3d"
           }
          ],
          "parcoords": [
           {
            "line": {
             "colorbar": {
              "outlinewidth": 0,
              "ticks": ""
             }
            },
            "type": "parcoords"
           }
          ],
          "pie": [
           {
            "automargin": true,
            "type": "pie"
           }
          ],
          "scatter": [
           {
            "fillpattern": {
             "fillmode": "overlay",
             "size": 10,
             "solidity": 0.2
            },
            "type": "scatter"
           }
          ],
          "scatter3d": [
           {
            "line": {
             "colorbar": {
              "outlinewidth": 0,
              "ticks": ""
             }
            },
            "marker": {
             "colorbar": {
              "outlinewidth": 0,
              "ticks": ""
             }
            },
            "type": "scatter3d"
           }
          ],
          "scattercarpet": [
           {
            "marker": {
             "colorbar": {
              "outlinewidth": 0,
              "ticks": ""
             }
            },
            "type": "scattercarpet"
           }
          ],
          "scattergeo": [
           {
            "marker": {
             "colorbar": {
              "outlinewidth": 0,
              "ticks": ""
             }
            },
            "type": "scattergeo"
           }
          ],
          "scattergl": [
           {
            "marker": {
             "colorbar": {
              "outlinewidth": 0,
              "ticks": ""
             }
            },
            "type": "scattergl"
           }
          ],
          "scattermapbox": [
           {
            "marker": {
             "colorbar": {
              "outlinewidth": 0,
              "ticks": ""
             }
            },
            "type": "scattermapbox"
           }
          ],
          "scatterpolar": [
           {
            "marker": {
             "colorbar": {
              "outlinewidth": 0,
              "ticks": ""
             }
            },
            "type": "scatterpolar"
           }
          ],
          "scatterpolargl": [
           {
            "marker": {
             "colorbar": {
              "outlinewidth": 0,
              "ticks": ""
             }
            },
            "type": "scatterpolargl"
           }
          ],
          "scatterternary": [
           {
            "marker": {
             "colorbar": {
              "outlinewidth": 0,
              "ticks": ""
             }
            },
            "type": "scatterternary"
           }
          ],
          "surface": [
           {
            "colorbar": {
             "outlinewidth": 0,
             "ticks": ""
            },
            "colorscale": [
             [
              0,
              "#0d0887"
             ],
             [
              0.1111111111111111,
              "#46039f"
             ],
             [
              0.2222222222222222,
              "#7201a8"
             ],
             [
              0.3333333333333333,
              "#9c179e"
             ],
             [
              0.4444444444444444,
              "#bd3786"
             ],
             [
              0.5555555555555556,
              "#d8576b"
             ],
             [
              0.6666666666666666,
              "#ed7953"
             ],
             [
              0.7777777777777778,
              "#fb9f3a"
             ],
             [
              0.8888888888888888,
              "#fdca26"
             ],
             [
              1,
              "#f0f921"
             ]
            ],
            "type": "surface"
           }
          ],
          "table": [
           {
            "cells": {
             "fill": {
              "color": "#EBF0F8"
             },
             "line": {
              "color": "white"
             }
            },
            "header": {
             "fill": {
              "color": "#C8D4E3"
             },
             "line": {
              "color": "white"
             }
            },
            "type": "table"
           }
          ]
         },
         "layout": {
          "annotationdefaults": {
           "arrowcolor": "#2a3f5f",
           "arrowhead": 0,
           "arrowwidth": 1
          },
          "autotypenumbers": "strict",
          "coloraxis": {
           "colorbar": {
            "outlinewidth": 0,
            "ticks": ""
           }
          },
          "colorscale": {
           "diverging": [
            [
             0,
             "#8e0152"
            ],
            [
             0.1,
             "#c51b7d"
            ],
            [
             0.2,
             "#de77ae"
            ],
            [
             0.3,
             "#f1b6da"
            ],
            [
             0.4,
             "#fde0ef"
            ],
            [
             0.5,
             "#f7f7f7"
            ],
            [
             0.6,
             "#e6f5d0"
            ],
            [
             0.7,
             "#b8e186"
            ],
            [
             0.8,
             "#7fbc41"
            ],
            [
             0.9,
             "#4d9221"
            ],
            [
             1,
             "#276419"
            ]
           ],
           "sequential": [
            [
             0,
             "#0d0887"
            ],
            [
             0.1111111111111111,
             "#46039f"
            ],
            [
             0.2222222222222222,
             "#7201a8"
            ],
            [
             0.3333333333333333,
             "#9c179e"
            ],
            [
             0.4444444444444444,
             "#bd3786"
            ],
            [
             0.5555555555555556,
             "#d8576b"
            ],
            [
             0.6666666666666666,
             "#ed7953"
            ],
            [
             0.7777777777777778,
             "#fb9f3a"
            ],
            [
             0.8888888888888888,
             "#fdca26"
            ],
            [
             1,
             "#f0f921"
            ]
           ],
           "sequentialminus": [
            [
             0,
             "#0d0887"
            ],
            [
             0.1111111111111111,
             "#46039f"
            ],
            [
             0.2222222222222222,
             "#7201a8"
            ],
            [
             0.3333333333333333,
             "#9c179e"
            ],
            [
             0.4444444444444444,
             "#bd3786"
            ],
            [
             0.5555555555555556,
             "#d8576b"
            ],
            [
             0.6666666666666666,
             "#ed7953"
            ],
            [
             0.7777777777777778,
             "#fb9f3a"
            ],
            [
             0.8888888888888888,
             "#fdca26"
            ],
            [
             1,
             "#f0f921"
            ]
           ]
          },
          "colorway": [
           "#636efa",
           "#EF553B",
           "#00cc96",
           "#ab63fa",
           "#FFA15A",
           "#19d3f3",
           "#FF6692",
           "#B6E880",
           "#FF97FF",
           "#FECB52"
          ],
          "font": {
           "color": "#2a3f5f"
          },
          "geo": {
           "bgcolor": "white",
           "lakecolor": "white",
           "landcolor": "#E5ECF6",
           "showlakes": true,
           "showland": true,
           "subunitcolor": "white"
          },
          "hoverlabel": {
           "align": "left"
          },
          "hovermode": "closest",
          "mapbox": {
           "style": "light"
          },
          "paper_bgcolor": "white",
          "plot_bgcolor": "#E5ECF6",
          "polar": {
           "angularaxis": {
            "gridcolor": "white",
            "linecolor": "white",
            "ticks": ""
           },
           "bgcolor": "#E5ECF6",
           "radialaxis": {
            "gridcolor": "white",
            "linecolor": "white",
            "ticks": ""
           }
          },
          "scene": {
           "xaxis": {
            "backgroundcolor": "#E5ECF6",
            "gridcolor": "white",
            "gridwidth": 2,
            "linecolor": "white",
            "showbackground": true,
            "ticks": "",
            "zerolinecolor": "white"
           },
           "yaxis": {
            "backgroundcolor": "#E5ECF6",
            "gridcolor": "white",
            "gridwidth": 2,
            "linecolor": "white",
            "showbackground": true,
            "ticks": "",
            "zerolinecolor": "white"
           },
           "zaxis": {
            "backgroundcolor": "#E5ECF6",
            "gridcolor": "white",
            "gridwidth": 2,
            "linecolor": "white",
            "showbackground": true,
            "ticks": "",
            "zerolinecolor": "white"
           }
          },
          "shapedefaults": {
           "line": {
            "color": "#2a3f5f"
           }
          },
          "ternary": {
           "aaxis": {
            "gridcolor": "white",
            "linecolor": "white",
            "ticks": ""
           },
           "baxis": {
            "gridcolor": "white",
            "linecolor": "white",
            "ticks": ""
           },
           "bgcolor": "#E5ECF6",
           "caxis": {
            "gridcolor": "white",
            "linecolor": "white",
            "ticks": ""
           }
          },
          "title": {
           "x": 0.05
          },
          "xaxis": {
           "automargin": true,
           "gridcolor": "white",
           "linecolor": "white",
           "ticks": "",
           "title": {
            "standoff": 15
           },
           "zerolinecolor": "white",
           "zerolinewidth": 2
          },
          "yaxis": {
           "automargin": true,
           "gridcolor": "white",
           "linecolor": "white",
           "ticks": "",
           "title": {
            "standoff": 15
           },
           "zerolinecolor": "white",
           "zerolinewidth": 2
          }
         }
        },
        "title": {
         "text": "Correlação das Variações Mensais"
        },
        "xaxis": {
         "anchor": "y",
         "constrain": "domain",
         "domain": [
          0,
          1
         ],
         "scaleanchor": "y"
        },
        "yaxis": {
         "anchor": "x",
         "autorange": "reversed",
         "constrain": "domain",
         "domain": [
          0,
          1
         ]
        }
       }
      }
     },
     "metadata": {},
     "output_type": "display_data"
    }
   ],
   "source": [
    "fig_corr_val_mensal = px.imshow(month_var_df.corr(), text_auto=True, title = \"Correlação das Variações Mensais\")\n",
    "fig_corr_val_mensal.show()"
   ]
  },
  {
   "cell_type": "code",
   "execution_count": 43,
   "id": "4b7cb254",
   "metadata": {},
   "outputs": [],
   "source": [
    "#fig_corr_val_week = px.imshow(week_var_df.corr(), text_auto=True ,title = \"Correlação das Variações Semanais\")\n",
    "#fig_corr_val_week.show()"
   ]
  },
  {
   "cell_type": "code",
   "execution_count": 45,
   "id": "669e1b7f",
   "metadata": {},
   "outputs": [
    {
     "name": "stdout",
     "output_type": "stream",
     "text": [
      "Dash is running on http://127.0.0.1:8050/\n",
      "\n",
      " * Serving Flask app '__main__'\n",
      " * Debug mode: off\n"
     ]
    },
    {
     "name": "stderr",
     "output_type": "stream",
     "text": [
      "WARNING: This is a development server. Do not use it in a production deployment. Use a production WSGI server instead.\n",
      " * Running on http://127.0.0.1:8050\n",
      "Press CTRL+C to quit\n",
      "127.0.0.1 - - [15/Nov/2022 19:08:10] \"GET / HTTP/1.1\" 200 -\n",
      "127.0.0.1 - - [15/Nov/2022 19:08:12] \"GET /_dash-dependencies HTTP/1.1\" 200 -\n",
      "127.0.0.1 - - [15/Nov/2022 19:08:12] \"GET /_dash-layout HTTP/1.1\" 200 -\n",
      "127.0.0.1 - - [15/Nov/2022 19:08:12] \"GET /_dash-component-suites/dash/dcc/async-dropdown.js HTTP/1.1\" 304 -\n",
      "127.0.0.1 - - [15/Nov/2022 19:08:12] \"GET /_dash-component-suites/dash/dcc/async-graph.js HTTP/1.1\" 304 -\n",
      "127.0.0.1 - - [15/Nov/2022 19:08:12] \"GET /_dash-component-suites/dash/dcc/async-plotlyjs.js HTTP/1.1\" 304 -\n",
      "127.0.0.1 - - [15/Nov/2022 19:08:12] \"POST /_dash-update-component HTTP/1.1\" 200 -\n",
      "127.0.0.1 - - [15/Nov/2022 19:08:12] \"GET /_favicon.ico?v=2.7.0 HTTP/1.1\" 200 -\n",
      "127.0.0.1 - - [15/Nov/2022 19:08:20] \"POST /_dash-update-component HTTP/1.1\" 200 -\n",
      "127.0.0.1 - - [15/Nov/2022 19:08:22] \"POST /_dash-update-component HTTP/1.1\" 200 -\n",
      "127.0.0.1 - - [15/Nov/2022 19:08:24] \"POST /_dash-update-component HTTP/1.1\" 200 -\n",
      "127.0.0.1 - - [15/Nov/2022 19:08:30] \"POST /_dash-update-component HTTP/1.1\" 200 -\n",
      "127.0.0.1 - - [15/Nov/2022 19:08:32] \"POST /_dash-update-component HTTP/1.1\" 200 -\n",
      "127.0.0.1 - - [15/Nov/2022 19:08:38] \"POST /_dash-update-component HTTP/1.1\" 200 -\n",
      "127.0.0.1 - - [15/Nov/2022 19:08:41] \"POST /_dash-update-component HTTP/1.1\" 200 -\n",
      "127.0.0.1 - - [15/Nov/2022 19:08:45] \"POST /_dash-update-component HTTP/1.1\" 200 -\n",
      "127.0.0.1 - - [15/Nov/2022 19:08:51] \"GET / HTTP/1.1\" 200 -\n",
      "127.0.0.1 - - [15/Nov/2022 19:08:52] \"GET /_dash-layout HTTP/1.1\" 200 -\n",
      "127.0.0.1 - - [15/Nov/2022 19:08:52] \"GET /_dash-dependencies HTTP/1.1\" 200 -\n",
      "127.0.0.1 - - [15/Nov/2022 19:08:52] \"GET /_favicon.ico?v=2.7.0 HTTP/1.1\" 200 -\n",
      "127.0.0.1 - - [15/Nov/2022 19:08:52] \"GET /_dash-component-suites/dash/dcc/async-dropdown.js HTTP/1.1\" 304 -\n",
      "127.0.0.1 - - [15/Nov/2022 19:08:52] \"GET /_dash-component-suites/dash/dcc/async-graph.js HTTP/1.1\" 304 -\n",
      "127.0.0.1 - - [15/Nov/2022 19:08:52] \"GET /_dash-component-suites/dash/dcc/async-plotlyjs.js HTTP/1.1\" 304 -\n",
      "127.0.0.1 - - [15/Nov/2022 19:08:53] \"POST /_dash-update-component HTTP/1.1\" 200 -\n",
      "127.0.0.1 - - [15/Nov/2022 19:11:04] \"POST /_dash-update-component HTTP/1.1\" 200 -\n",
      "127.0.0.1 - - [15/Nov/2022 19:11:25] \"POST /_dash-update-component HTTP/1.1\" 200 -\n",
      "127.0.0.1 - - [15/Nov/2022 19:11:28] \"POST /_dash-update-component HTTP/1.1\" 200 -\n",
      "127.0.0.1 - - [15/Nov/2022 19:11:32] \"POST /_dash-update-component HTTP/1.1\" 200 -\n",
      "127.0.0.1 - - [15/Nov/2022 19:11:36] \"POST /_dash-update-component HTTP/1.1\" 200 -\n",
      "127.0.0.1 - - [15/Nov/2022 19:11:42] \"POST /_dash-update-component HTTP/1.1\" 200 -\n",
      "127.0.0.1 - - [15/Nov/2022 19:11:55] \"POST /_dash-update-component HTTP/1.1\" 200 -\n",
      "127.0.0.1 - - [15/Nov/2022 19:12:01] \"POST /_dash-update-component HTTP/1.1\" 200 -\n",
      "127.0.0.1 - - [15/Nov/2022 19:12:09] \"POST /_dash-update-component HTTP/1.1\" 200 -\n",
      "127.0.0.1 - - [15/Nov/2022 19:12:13] \"POST /_dash-update-component HTTP/1.1\" 200 -\n"
     ]
    }
   ],
   "source": [
    "# Criando Dashboard com Storytelling\n",
    "app = Dash(__name__)\n",
    "\n",
    "app.layout = html.Div(children=[\n",
    "    html.H2(children='Covid no Brasil com impacto no IPCA (Índice Nacional de Preços ao Consumidor Amplo)',\n",
    "    style={'textAlign': 'center' color:'#7FDBFF' }),\n",
    "    html.H2(\"Análise realizada como trabalho em grupo do Cusro - DiversidadeTech - Let's Code by ADA\",\n",
    "    style={'textAlign': 'center'}),\n",
    "    html.Div(children='Professor - Alex Lima.',\n",
    "    style={'textAlign': 'center'}),\n",
    "    html.Div(children='Alunos - Alysson, Gleilson Nivea, Renato e Tiago.',\n",
    "    style={'textAlign': 'center'}),\n",
    "    html.Div(children='----'*20,\n",
    "    style={'textAlign': 'center'}),\n",
    "    html.Div(children='No dia 17.11.2019 é confirmado o primeiro caso da CIVID-19 no mundo.',\n",
    "    style={'textAlign': 'center'}),\n",
    "    html.Div(children='Estudos do viroloigista Michael Worobey, identifica que se tratava de uma mulher',\n",
    "    style={'textAlign': 'center'}),\n",
    "    html.Div(children='vendedora de um mercado de animais, em Wuhan na China.',\n",
    "    style={'textAlign': 'center'}),\n",
    "    dcc.Link('https://dash.plotly.com/dash-core-components/link')\n",
    "    \n",
    "    html.Div(children='Inserir link.',\n",
    "    style={'textAlign': 'center'}),\n",
    "\n",
    "\n",
    "    \n",
    "#option = ['Infectados Mês', 'Mortes Mês', 'Suspeitos Mês', 'Vacinado Mês', 'Completa Mês']\n",
    "    dcc.Dropdown(['Infectados Mês', 'Mortes Mês', 'Suspeitos Mês', 'Vacinado Mês', 'Completa Mês'],\n",
    "                    placeholder=\"Selecione o Gráfico\",\n",
    "                    searchable=False,\n",
    "                    value='Completa Mês',\n",
    "                    id = 'Lista de Gráficos'),\n",
    "    dcc.Graph(\n",
    "        id='graph_01',\n",
    "        figure=fig_infec_susp_vacin_mortes\n",
    "    )\n",
    "    \n",
    "])\n",
    "\n",
    "@app.callback(\n",
    "    Output('graph_01', 'figure'),\n",
    "    Input('Lista de Gráficos', 'value')\n",
    "\n",
    ")\n",
    "def update_output(value):\n",
    "    if value == 'Infectados Mês':\n",
    "        fig_infec_susp_vacin_mortes = px.line(months, x=months.index, y=\"newCases\",\n",
    "               markers= True,\n",
    "               title='Infecções Divulgadas ao Mês',\n",
    "               labels = {\n",
    "                \"newCases\": \"Quantidade\",\n",
    "                \"date\": \"Data\"\n",
    "                },color_discrete_sequence=[\"royalblue\"])    \n",
    "    elif value == 'Mortes Mês':\n",
    "        fig_infec_susp_vacin_mortes = px.line(months, x=months.index, y=\"newDeaths\",\n",
    "               markers= True,\n",
    "               title='Óbitos Divulgados ao Mês',\n",
    "               labels = {\n",
    "                \"deathsMS\": \"Quantidade\",\n",
    "                \"date\": \"Data\"\n",
    "                },color_discrete_sequence=[\"red\"])\n",
    "    elif value == 'Suspeitos Mês':\n",
    "        fig_infec_susp_vacin_mortes = px.line(months, x=months.index, y=\"suspects\",\n",
    "                markers= True,\n",
    "                title='Casos Suspeitos Divulgados por Mês',\n",
    "                labels  = {\n",
    "                \"newCases\": \"Quantidade\",\n",
    "                \"date\": \"Data\"\n",
    "                },color_discrete_sequence=[\"orange\"])\n",
    "    elif value == 'Vacinado Mês':\n",
    "        fig_infec_susp_vacin_mortes = px.line(months, x=months.index, y=\"vaccinated\",\n",
    "                markers= True,\n",
    "                title='Quantidade de Vacinados por Mês',\n",
    "                labels  = {\n",
    "                \"newCases\": \"Quantidade\",\n",
    "                \"date\": \"Data\"\n",
    "                },color_discrete_sequence=[\"green\"])\n",
    "    elif value == 'Completa Mês':\n",
    "        fig_infec_susp_vacin_mortes = go.Figure()\n",
    "        fig_infec_susp_vacin_mortes = fig_infec_susp_vacin_mortes.add_trace(go.Scatter(x = months.index, \n",
    "                                    y = scaled_months[\"newCases\"],\n",
    "                                    mode = 'lines+markers',\n",
    "                                    name = \"Infecções\",\n",
    "                                    line = dict(color='royalblue',width=2,dash='dot')))\n",
    "        fig_infec_susp_vacin_mortes = fig_infec_susp_vacin_mortes.add_trace(go.Scatter(x = months.index, \n",
    "                                    y = scaled_months[\"suspects\"],\n",
    "                                    mode = 'lines+markers',\n",
    "                                    name = \"Suspeitos\",\n",
    "                                    line = dict(color='orange',width=1,dash='dot')))\n",
    "        fig_infec_susp_vacin_mortes = fig_infec_susp_vacin_mortes.add_trace(go.Scatter(x = months.index, \n",
    "                                    y = scaled_months[\"vaccinated\"],\n",
    "                                    mode = 'lines+markers',\n",
    "                                    name = \"Vacinados\"))\n",
    "        fig_infec_susp_vacin_mortes = fig_infec_susp_vacin_mortes.add_trace(go.Scatter(x = months.index, \n",
    "                                    y = scaled_months[\"newDeaths\"],\n",
    "                                    mode = 'lines+markers',\n",
    "                                    name = \"Óbitos\",\n",
    "                                    line = dict(color='red')\n",
    "                                    ))\n",
    "        fig_infec_susp_vacin_mortes.update_layout(\n",
    "                                        title='Comparando Novos casos, suspeitos, vacinados e Óbitos Mês',\n",
    "                                        title_x = 0.5)\n",
    "\n",
    "        fig_infec_susp_vacin_mortes #f' Você Selecionou -> {value}'\n",
    "    return fig_infec_susp_vacin_mortes\n",
    "\n",
    "\n",
    "if __name__ == '__main__':\n",
    "    app.run_server(debug=False)\n"
   ]
  }
 ],
 "metadata": {
  "kernelspec": {
   "display_name": "Python 3.10.8 64-bit",
   "language": "python",
   "name": "python3"
  },
  "language_info": {
   "codemirror_mode": {
    "name": "ipython",
    "version": 3
   },
   "file_extension": ".py",
   "mimetype": "text/x-python",
   "name": "python",
   "nbconvert_exporter": "python",
   "pygments_lexer": "ipython3",
   "version": "3.10.8"
  },
  "vscode": {
   "interpreter": {
    "hash": "479a612002619efeaede023ca7692c2d29642ea615c064262f25205b1aac33b3"
   }
  }
 },
 "nbformat": 4,
 "nbformat_minor": 5
}
