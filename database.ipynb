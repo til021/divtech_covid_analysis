{
 "cells": [
  {
   "cell_type": "code",
   "execution_count": 1,
   "id": "e49269d5",
   "metadata": {},
   "outputs": [],
   "source": [
    "import pandas as pd\n",
    "import numpy as np\n",
    "import requests\n",
    "import seaborn as sns\n",
    "import matplotlib.pyplot as plt"
   ]
  },
  {
   "cell_type": "code",
   "execution_count": 2,
   "id": "635acf48",
   "metadata": {},
   "outputs": [],
   "source": [
    "#from pandas_profiling import ProfileReport"
   ]
  },
  {
   "cell_type": "code",
   "execution_count": 3,
   "id": "d0c7e35a",
   "metadata": {},
   "outputs": [
    {
     "data": {
      "text/plain": [
       "<Response [200]>"
      ]
     },
     "execution_count": 3,
     "metadata": {},
     "output_type": "execute_result"
    }
   ],
   "source": [
    "response = requests.get(\"https://raw.githubusercontent.com/wcota/covid19br/master/cases-brazil-states.csv\")\n",
    "response"
   ]
  },
  {
   "cell_type": "code",
   "execution_count": 4,
   "id": "8b3a7094",
   "metadata": {},
   "outputs": [],
   "source": [
    "response = response.content.decode(\"utf-8\")\n",
    "result = [x.split(',') for x in response.split('\\n')]\n",
    "df = pd.DataFrame(result[1:], columns= result[0])"
   ]
  },
  {
   "cell_type": "code",
   "execution_count": 5,
   "id": "c089d724",
   "metadata": {},
   "outputs": [
    {
     "name": "stdout",
     "output_type": "stream",
     "text": [
      "<class 'pandas.core.frame.DataFrame'>\n",
      "RangeIndex: 27259 entries, 0 to 27258\n",
      "Data columns (total 26 columns):\n",
      " #   Column                                 Non-Null Count  Dtype \n",
      "---  ------                                 --------------  ----- \n",
      " 0   epi_week                               27259 non-null  object\n",
      " 1   date                                   27258 non-null  object\n",
      " 2   country                                27258 non-null  object\n",
      " 3   state                                  27258 non-null  object\n",
      " 4   city                                   27258 non-null  object\n",
      " 5   newDeaths                              27258 non-null  object\n",
      " 6   deaths                                 27258 non-null  object\n",
      " 7   newCases                               27258 non-null  object\n",
      " 8   totalCases                             27258 non-null  object\n",
      " 9   deathsMS                               27258 non-null  object\n",
      " 10  totalCasesMS                           27258 non-null  object\n",
      " 11  deaths_per_100k_inhabitants            27258 non-null  object\n",
      " 12  totalCases_per_100k_inhabitants        27258 non-null  object\n",
      " 13  deaths_by_totalCases                   27258 non-null  object\n",
      " 14  recovered                              27258 non-null  object\n",
      " 15  suspects                               27258 non-null  object\n",
      " 16  tests                                  27258 non-null  object\n",
      " 17  tests_per_100k_inhabitants             27258 non-null  object\n",
      " 18  vaccinated                             27258 non-null  object\n",
      " 19  vaccinated_per_100_inhabitants         27258 non-null  object\n",
      " 20  vaccinated_second                      27258 non-null  object\n",
      " 21  vaccinated_second_per_100_inhabitants  27258 non-null  object\n",
      " 22  vaccinated_single                      27258 non-null  object\n",
      " 23  vaccinated_single_per_100_inhabitants  27258 non-null  object\n",
      " 24  vaccinated_third                       27258 non-null  object\n",
      " 25  vaccinated_third_per_100_inhabitants   27258 non-null  object\n",
      "dtypes: object(26)\n",
      "memory usage: 5.4+ MB\n"
     ]
    }
   ],
   "source": [
    "df.info()"
   ]
  },
  {
   "cell_type": "code",
   "execution_count": 6,
   "id": "3738aa24",
   "metadata": {},
   "outputs": [
    {
     "data": {
      "text/html": [
       "<div>\n",
       "<style scoped>\n",
       "    .dataframe tbody tr th:only-of-type {\n",
       "        vertical-align: middle;\n",
       "    }\n",
       "\n",
       "    .dataframe tbody tr th {\n",
       "        vertical-align: top;\n",
       "    }\n",
       "\n",
       "    .dataframe thead th {\n",
       "        text-align: right;\n",
       "    }\n",
       "</style>\n",
       "<table border=\"1\" class=\"dataframe\">\n",
       "  <thead>\n",
       "    <tr style=\"text-align: right;\">\n",
       "      <th></th>\n",
       "      <th>epi_week</th>\n",
       "      <th>date</th>\n",
       "      <th>country</th>\n",
       "      <th>state</th>\n",
       "      <th>city</th>\n",
       "      <th>newDeaths</th>\n",
       "      <th>deaths</th>\n",
       "      <th>newCases</th>\n",
       "      <th>totalCases</th>\n",
       "      <th>deathsMS</th>\n",
       "      <th>...</th>\n",
       "      <th>tests</th>\n",
       "      <th>tests_per_100k_inhabitants</th>\n",
       "      <th>vaccinated</th>\n",
       "      <th>vaccinated_per_100_inhabitants</th>\n",
       "      <th>vaccinated_second</th>\n",
       "      <th>vaccinated_second_per_100_inhabitants</th>\n",
       "      <th>vaccinated_single</th>\n",
       "      <th>vaccinated_single_per_100_inhabitants</th>\n",
       "      <th>vaccinated_third</th>\n",
       "      <th>vaccinated_third_per_100_inhabitants</th>\n",
       "    </tr>\n",
       "  </thead>\n",
       "  <tbody>\n",
       "    <tr>\n",
       "      <th>0</th>\n",
       "      <td>9</td>\n",
       "      <td>2020-02-25</td>\n",
       "      <td>Brazil</td>\n",
       "      <td>SP</td>\n",
       "      <td>TOTAL</td>\n",
       "      <td>0</td>\n",
       "      <td>0</td>\n",
       "      <td>1</td>\n",
       "      <td>1</td>\n",
       "      <td>0</td>\n",
       "      <td>...</td>\n",
       "      <td></td>\n",
       "      <td></td>\n",
       "      <td></td>\n",
       "      <td></td>\n",
       "      <td></td>\n",
       "      <td></td>\n",
       "      <td></td>\n",
       "      <td></td>\n",
       "      <td></td>\n",
       "      <td></td>\n",
       "    </tr>\n",
       "    <tr>\n",
       "      <th>1</th>\n",
       "      <td>9</td>\n",
       "      <td>2020-02-25</td>\n",
       "      <td>Brazil</td>\n",
       "      <td>TOTAL</td>\n",
       "      <td>TOTAL</td>\n",
       "      <td>0</td>\n",
       "      <td>0</td>\n",
       "      <td>1</td>\n",
       "      <td>1</td>\n",
       "      <td>0</td>\n",
       "      <td>...</td>\n",
       "      <td></td>\n",
       "      <td></td>\n",
       "      <td></td>\n",
       "      <td></td>\n",
       "      <td></td>\n",
       "      <td></td>\n",
       "      <td></td>\n",
       "      <td></td>\n",
       "      <td></td>\n",
       "      <td></td>\n",
       "    </tr>\n",
       "    <tr>\n",
       "      <th>2</th>\n",
       "      <td>9</td>\n",
       "      <td>2020-02-26</td>\n",
       "      <td>Brazil</td>\n",
       "      <td>SP</td>\n",
       "      <td>TOTAL</td>\n",
       "      <td>0</td>\n",
       "      <td>0</td>\n",
       "      <td>0</td>\n",
       "      <td>1</td>\n",
       "      <td>0</td>\n",
       "      <td>...</td>\n",
       "      <td></td>\n",
       "      <td></td>\n",
       "      <td></td>\n",
       "      <td></td>\n",
       "      <td></td>\n",
       "      <td></td>\n",
       "      <td></td>\n",
       "      <td></td>\n",
       "      <td></td>\n",
       "      <td></td>\n",
       "    </tr>\n",
       "    <tr>\n",
       "      <th>3</th>\n",
       "      <td>9</td>\n",
       "      <td>2020-02-26</td>\n",
       "      <td>Brazil</td>\n",
       "      <td>TOTAL</td>\n",
       "      <td>TOTAL</td>\n",
       "      <td>0</td>\n",
       "      <td>0</td>\n",
       "      <td>0</td>\n",
       "      <td>1</td>\n",
       "      <td>0</td>\n",
       "      <td>...</td>\n",
       "      <td></td>\n",
       "      <td></td>\n",
       "      <td></td>\n",
       "      <td></td>\n",
       "      <td></td>\n",
       "      <td></td>\n",
       "      <td></td>\n",
       "      <td></td>\n",
       "      <td></td>\n",
       "      <td></td>\n",
       "    </tr>\n",
       "    <tr>\n",
       "      <th>4</th>\n",
       "      <td>9</td>\n",
       "      <td>2020-02-27</td>\n",
       "      <td>Brazil</td>\n",
       "      <td>SP</td>\n",
       "      <td>TOTAL</td>\n",
       "      <td>0</td>\n",
       "      <td>0</td>\n",
       "      <td>0</td>\n",
       "      <td>1</td>\n",
       "      <td>0</td>\n",
       "      <td>...</td>\n",
       "      <td></td>\n",
       "      <td></td>\n",
       "      <td></td>\n",
       "      <td></td>\n",
       "      <td></td>\n",
       "      <td></td>\n",
       "      <td></td>\n",
       "      <td></td>\n",
       "      <td></td>\n",
       "      <td></td>\n",
       "    </tr>\n",
       "  </tbody>\n",
       "</table>\n",
       "<p>5 rows × 26 columns</p>\n",
       "</div>"
      ],
      "text/plain": [
       "  epi_week        date country  state   city newDeaths deaths newCases  \\\n",
       "0        9  2020-02-25  Brazil     SP  TOTAL         0      0        1   \n",
       "1        9  2020-02-25  Brazil  TOTAL  TOTAL         0      0        1   \n",
       "2        9  2020-02-26  Brazil     SP  TOTAL         0      0        0   \n",
       "3        9  2020-02-26  Brazil  TOTAL  TOTAL         0      0        0   \n",
       "4        9  2020-02-27  Brazil     SP  TOTAL         0      0        0   \n",
       "\n",
       "  totalCases deathsMS  ... tests tests_per_100k_inhabitants vaccinated  \\\n",
       "0          1        0  ...                                               \n",
       "1          1        0  ...                                               \n",
       "2          1        0  ...                                               \n",
       "3          1        0  ...                                               \n",
       "4          1        0  ...                                               \n",
       "\n",
       "  vaccinated_per_100_inhabitants vaccinated_second  \\\n",
       "0                                                    \n",
       "1                                                    \n",
       "2                                                    \n",
       "3                                                    \n",
       "4                                                    \n",
       "\n",
       "  vaccinated_second_per_100_inhabitants vaccinated_single  \\\n",
       "0                                                           \n",
       "1                                                           \n",
       "2                                                           \n",
       "3                                                           \n",
       "4                                                           \n",
       "\n",
       "  vaccinated_single_per_100_inhabitants vaccinated_third  \\\n",
       "0                                                          \n",
       "1                                                          \n",
       "2                                                          \n",
       "3                                                          \n",
       "4                                                          \n",
       "\n",
       "  vaccinated_third_per_100_inhabitants  \n",
       "0                                       \n",
       "1                                       \n",
       "2                                       \n",
       "3                                       \n",
       "4                                       \n",
       "\n",
       "[5 rows x 26 columns]"
      ]
     },
     "execution_count": 6,
     "metadata": {},
     "output_type": "execute_result"
    }
   ],
   "source": [
    "df.head()"
   ]
  },
  {
   "cell_type": "markdown",
   "id": "5d9c38fc",
   "metadata": {},
   "source": [
    "> Apesar de aparentar não existirem valores nulos, percebemos que existem muitas células vazias na base de dados. Esses valores foram preenchidos por \"0\", por indicarem a ausência de casos."
   ]
  },
  {
   "cell_type": "markdown",
   "id": "bcdd10aa",
   "metadata": {},
   "source": [
    "## Data Cleaning"
   ]
  },
  {
   "cell_type": "code",
   "execution_count": 7,
   "id": "ac7f6d1d",
   "metadata": {},
   "outputs": [],
   "source": [
    "# Substituindo os valores vazios por Nan:\n",
    "df = df.replace(\"\", 0, regex=True)"
   ]
  },
  {
   "cell_type": "code",
   "execution_count": 8,
   "id": "c1dc5db0",
   "metadata": {},
   "outputs": [],
   "source": [
    "#  Removendo colunas com valores constantes:\n",
    "df.drop([\"country\", \"city\"], axis=1, inplace=True)\n",
    "df = df[:-1]"
   ]
  },
  {
   "cell_type": "code",
   "execution_count": 9,
   "id": "284efa1f",
   "metadata": {},
   "outputs": [],
   "source": [
    "# Transformando a coluna de data para o formato apropriado:\n",
    "df[\"date\"] = pd.to_datetime(df[\"date\"], format=\"%Y-%m-%d\")"
   ]
  },
  {
   "cell_type": "code",
   "execution_count": 10,
   "id": "30416266",
   "metadata": {},
   "outputs": [],
   "source": [
    "# Como a maioria das colunas está em um formato numérico, vamos converter elas para float:\n",
    "for column in df.columns:\n",
    "    try:\n",
    "        df[column] = df[column].astype(float)\n",
    "    except:\n",
    "        continue"
   ]
  },
  {
   "cell_type": "code",
   "execution_count": 11,
   "id": "d749df68",
   "metadata": {},
   "outputs": [
    {
     "name": "stderr",
     "output_type": "stream",
     "text": [
      "C:\\Users\\tiago\\AppData\\Local\\Temp\\ipykernel_21032\\2501768556.py:6: SettingWithCopyWarning: \n",
      "A value is trying to be set on a copy of a slice from a DataFrame\n",
      "\n",
      "See the caveats in the documentation: https://pandas.pydata.org/pandas-docs/stable/user_guide/indexing.html#returning-a-view-versus-a-copy\n",
      "  df[\"epi_week\"][row] = (df[\"epi_week\"][row]-100+53)\n",
      "C:\\Users\\tiago\\AppData\\Local\\Temp\\ipykernel_21032\\2501768556.py:4: SettingWithCopyWarning: \n",
      "A value is trying to be set on a copy of a slice from a DataFrame\n",
      "\n",
      "See the caveats in the documentation: https://pandas.pydata.org/pandas-docs/stable/user_guide/indexing.html#returning-a-view-versus-a-copy\n",
      "  df[\"epi_week\"][row] = (df[\"epi_week\"][row]-200+105)\n"
     ]
    }
   ],
   "source": [
    "# Colocando as semanas epidemiológicas na ordem direta:\n",
    "for row in df.index:\n",
    "    if df[\"epi_week\"][row] > 200:\n",
    "        df[\"epi_week\"][row] = (df[\"epi_week\"][row]-200+105)\n",
    "    elif df[\"epi_week\"][row] > 100:\n",
    "        df[\"epi_week\"][row] = (df[\"epi_week\"][row]-100+53)"
   ]
  },
  {
   "cell_type": "code",
   "execution_count": 115,
   "id": "1550e5c1",
   "metadata": {},
   "outputs": [
    {
     "data": {
      "text/html": [
       "<div>\n",
       "<style scoped>\n",
       "    .dataframe tbody tr th:only-of-type {\n",
       "        vertical-align: middle;\n",
       "    }\n",
       "\n",
       "    .dataframe tbody tr th {\n",
       "        vertical-align: top;\n",
       "    }\n",
       "\n",
       "    .dataframe thead th {\n",
       "        text-align: right;\n",
       "    }\n",
       "</style>\n",
       "<table border=\"1\" class=\"dataframe\">\n",
       "  <thead>\n",
       "    <tr style=\"text-align: right;\">\n",
       "      <th></th>\n",
       "      <th>epi_week</th>\n",
       "      <th>date</th>\n",
       "      <th>state</th>\n",
       "      <th>newDeaths</th>\n",
       "      <th>deaths</th>\n",
       "      <th>newCases</th>\n",
       "      <th>totalCases</th>\n",
       "      <th>deathsMS</th>\n",
       "      <th>totalCasesMS</th>\n",
       "      <th>deaths_per_100k_inhabitants</th>\n",
       "      <th>...</th>\n",
       "      <th>tests</th>\n",
       "      <th>tests_per_100k_inhabitants</th>\n",
       "      <th>vaccinated</th>\n",
       "      <th>vaccinated_per_100_inhabitants</th>\n",
       "      <th>vaccinated_second</th>\n",
       "      <th>vaccinated_second_per_100_inhabitants</th>\n",
       "      <th>vaccinated_single</th>\n",
       "      <th>vaccinated_single_per_100_inhabitants</th>\n",
       "      <th>vaccinated_third</th>\n",
       "      <th>vaccinated_third_per_100_inhabitants</th>\n",
       "    </tr>\n",
       "  </thead>\n",
       "  <tbody>\n",
       "    <tr>\n",
       "      <th>0</th>\n",
       "      <td>9.0</td>\n",
       "      <td>2020-02-25</td>\n",
       "      <td>SP</td>\n",
       "      <td>0.0</td>\n",
       "      <td>0.0</td>\n",
       "      <td>1.0</td>\n",
       "      <td>1.0</td>\n",
       "      <td>0.0</td>\n",
       "      <td>0.0</td>\n",
       "      <td>0.0</td>\n",
       "      <td>...</td>\n",
       "      <td>0.0</td>\n",
       "      <td>0.0</td>\n",
       "      <td>0.0</td>\n",
       "      <td>0.0</td>\n",
       "      <td>0.0</td>\n",
       "      <td>0.0</td>\n",
       "      <td>0.0</td>\n",
       "      <td>0.0</td>\n",
       "      <td>0.0</td>\n",
       "      <td>0.0</td>\n",
       "    </tr>\n",
       "    <tr>\n",
       "      <th>1</th>\n",
       "      <td>9.0</td>\n",
       "      <td>2020-02-25</td>\n",
       "      <td>TOTAL</td>\n",
       "      <td>0.0</td>\n",
       "      <td>0.0</td>\n",
       "      <td>1.0</td>\n",
       "      <td>1.0</td>\n",
       "      <td>0.0</td>\n",
       "      <td>0.0</td>\n",
       "      <td>0.0</td>\n",
       "      <td>...</td>\n",
       "      <td>0.0</td>\n",
       "      <td>0.0</td>\n",
       "      <td>0.0</td>\n",
       "      <td>0.0</td>\n",
       "      <td>0.0</td>\n",
       "      <td>0.0</td>\n",
       "      <td>0.0</td>\n",
       "      <td>0.0</td>\n",
       "      <td>0.0</td>\n",
       "      <td>0.0</td>\n",
       "    </tr>\n",
       "    <tr>\n",
       "      <th>2</th>\n",
       "      <td>9.0</td>\n",
       "      <td>2020-02-26</td>\n",
       "      <td>SP</td>\n",
       "      <td>0.0</td>\n",
       "      <td>0.0</td>\n",
       "      <td>0.0</td>\n",
       "      <td>1.0</td>\n",
       "      <td>0.0</td>\n",
       "      <td>1.0</td>\n",
       "      <td>0.0</td>\n",
       "      <td>...</td>\n",
       "      <td>0.0</td>\n",
       "      <td>0.0</td>\n",
       "      <td>0.0</td>\n",
       "      <td>0.0</td>\n",
       "      <td>0.0</td>\n",
       "      <td>0.0</td>\n",
       "      <td>0.0</td>\n",
       "      <td>0.0</td>\n",
       "      <td>0.0</td>\n",
       "      <td>0.0</td>\n",
       "    </tr>\n",
       "    <tr>\n",
       "      <th>3</th>\n",
       "      <td>9.0</td>\n",
       "      <td>2020-02-26</td>\n",
       "      <td>TOTAL</td>\n",
       "      <td>0.0</td>\n",
       "      <td>0.0</td>\n",
       "      <td>0.0</td>\n",
       "      <td>1.0</td>\n",
       "      <td>0.0</td>\n",
       "      <td>1.0</td>\n",
       "      <td>0.0</td>\n",
       "      <td>...</td>\n",
       "      <td>0.0</td>\n",
       "      <td>0.0</td>\n",
       "      <td>0.0</td>\n",
       "      <td>0.0</td>\n",
       "      <td>0.0</td>\n",
       "      <td>0.0</td>\n",
       "      <td>0.0</td>\n",
       "      <td>0.0</td>\n",
       "      <td>0.0</td>\n",
       "      <td>0.0</td>\n",
       "    </tr>\n",
       "    <tr>\n",
       "      <th>4</th>\n",
       "      <td>9.0</td>\n",
       "      <td>2020-02-27</td>\n",
       "      <td>SP</td>\n",
       "      <td>0.0</td>\n",
       "      <td>0.0</td>\n",
       "      <td>0.0</td>\n",
       "      <td>1.0</td>\n",
       "      <td>0.0</td>\n",
       "      <td>1.0</td>\n",
       "      <td>0.0</td>\n",
       "      <td>...</td>\n",
       "      <td>0.0</td>\n",
       "      <td>0.0</td>\n",
       "      <td>0.0</td>\n",
       "      <td>0.0</td>\n",
       "      <td>0.0</td>\n",
       "      <td>0.0</td>\n",
       "      <td>0.0</td>\n",
       "      <td>0.0</td>\n",
       "      <td>0.0</td>\n",
       "      <td>0.0</td>\n",
       "    </tr>\n",
       "  </tbody>\n",
       "</table>\n",
       "<p>5 rows × 24 columns</p>\n",
       "</div>"
      ],
      "text/plain": [
       "   epi_week       date  state  newDeaths  deaths  newCases  totalCases  \\\n",
       "0       9.0 2020-02-25     SP        0.0     0.0       1.0         1.0   \n",
       "1       9.0 2020-02-25  TOTAL        0.0     0.0       1.0         1.0   \n",
       "2       9.0 2020-02-26     SP        0.0     0.0       0.0         1.0   \n",
       "3       9.0 2020-02-26  TOTAL        0.0     0.0       0.0         1.0   \n",
       "4       9.0 2020-02-27     SP        0.0     0.0       0.0         1.0   \n",
       "\n",
       "   deathsMS  totalCasesMS  deaths_per_100k_inhabitants  ...  tests  \\\n",
       "0       0.0           0.0                          0.0  ...    0.0   \n",
       "1       0.0           0.0                          0.0  ...    0.0   \n",
       "2       0.0           1.0                          0.0  ...    0.0   \n",
       "3       0.0           1.0                          0.0  ...    0.0   \n",
       "4       0.0           1.0                          0.0  ...    0.0   \n",
       "\n",
       "   tests_per_100k_inhabitants  vaccinated  vaccinated_per_100_inhabitants  \\\n",
       "0                         0.0         0.0                             0.0   \n",
       "1                         0.0         0.0                             0.0   \n",
       "2                         0.0         0.0                             0.0   \n",
       "3                         0.0         0.0                             0.0   \n",
       "4                         0.0         0.0                             0.0   \n",
       "\n",
       "   vaccinated_second  vaccinated_second_per_100_inhabitants  \\\n",
       "0                0.0                                    0.0   \n",
       "1                0.0                                    0.0   \n",
       "2                0.0                                    0.0   \n",
       "3                0.0                                    0.0   \n",
       "4                0.0                                    0.0   \n",
       "\n",
       "   vaccinated_single  vaccinated_single_per_100_inhabitants  vaccinated_third  \\\n",
       "0                0.0                                    0.0               0.0   \n",
       "1                0.0                                    0.0               0.0   \n",
       "2                0.0                                    0.0               0.0   \n",
       "3                0.0                                    0.0               0.0   \n",
       "4                0.0                                    0.0               0.0   \n",
       "\n",
       "   vaccinated_third_per_100_inhabitants  \n",
       "0                                   0.0  \n",
       "1                                   0.0  \n",
       "2                                   0.0  \n",
       "3                                   0.0  \n",
       "4                                   0.0  \n",
       "\n",
       "[5 rows x 24 columns]"
      ]
     },
     "execution_count": 115,
     "metadata": {},
     "output_type": "execute_result"
    }
   ],
   "source": [
    "df.head()"
   ]
  },
  {
   "cell_type": "code",
   "execution_count": 13,
   "id": "3518cc93",
   "metadata": {},
   "outputs": [
    {
     "data": {
      "text/plain": [
       "Index(['epi_week', 'date', 'state', 'newDeaths', 'deaths', 'newCases',\n",
       "       'totalCases', 'deathsMS', 'totalCasesMS', 'deaths_per_100k_inhabitants',\n",
       "       'totalCases_per_100k_inhabitants', 'deaths_by_totalCases', 'recovered',\n",
       "       'suspects', 'tests', 'tests_per_100k_inhabitants', 'vaccinated',\n",
       "       'vaccinated_per_100_inhabitants', 'vaccinated_second',\n",
       "       'vaccinated_second_per_100_inhabitants', 'vaccinated_single',\n",
       "       'vaccinated_single_per_100_inhabitants', 'vaccinated_third',\n",
       "       'vaccinated_third_per_100_inhabitants'],\n",
       "      dtype='object')"
      ]
     },
     "execution_count": 13,
     "metadata": {},
     "output_type": "execute_result"
    }
   ],
   "source": [
    "df.columns"
   ]
  },
  {
   "cell_type": "markdown",
   "id": "26698626",
   "metadata": {},
   "source": [
    "## Data Visualization"
   ]
  },
  {
   "cell_type": "code",
   "execution_count": 14,
   "id": "7af6ab38",
   "metadata": {},
   "outputs": [
    {
     "data": {
      "text/plain": [
       "<AxesSubplot:title={'center':'Registro de Novos Casos de Covid no Brasil'}, xlabel='date'>"
      ]
     },
     "execution_count": 14,
     "metadata": {},
     "output_type": "execute_result"
    },
    {
     "data": {
      "image/png": "[encoded data removed]",
      "text/plain": [
       "<Figure size 640x480 with 1 Axes>"
      ]
     },
     "metadata": {},
     "output_type": "display_data"
    }
   ],
   "source": [
    "df[df[\"state\"]==\"TOTAL\"].plot(x=\"date\", y=[\"newCases\"], title = \"Registro de Novos Casos de Covid no Brasil\")"
   ]
  },
  {
   "cell_type": "code",
   "execution_count": 15,
   "id": "fde4012a",
   "metadata": {},
   "outputs": [
    {
     "data": {
      "text/plain": [
       "<AxesSubplot:title={'center':'Registro de Mortes por Covid no Brasil'}, xlabel='date'>"
      ]
     },
     "execution_count": 15,
     "metadata": {},
     "output_type": "execute_result"
    },
    {
     "data": {
      "image/png": "[encoded data removed]",
      "text/plain": [
       "<Figure size 640x480 with 1 Axes>"
      ]
     },
     "metadata": {},
     "output_type": "display_data"
    }
   ],
   "source": [
    "df[df[\"state\"]==\"TOTAL\"].plot(x=\"date\", y=[\"deaths\"], title = \"Registro de Mortes por Covid no Brasil\")"
   ]
  },
  {
   "cell_type": "code",
   "execution_count": 16,
   "id": "4c713c67",
   "metadata": {},
   "outputs": [
    {
     "data": {
      "text/plain": [
       "<AxesSubplot:title={'center':'Registro de Pessoas Vacinadas Contra Covid no Brasil'}, xlabel='date'>"
      ]
     },
     "execution_count": 16,
     "metadata": {},
     "output_type": "execute_result"
    },
    {
     "data": {
      "image/png": "[encoded data removed]",
      "text/plain": [
       "<Figure size 640x480 with 1 Axes>"
      ]
     },
     "metadata": {},
     "output_type": "display_data"
    }
   ],
   "source": [
    "df[df[\"state\"]==\"TOTAL\"].plot(x=\"date\", \\\n",
    "                              y=[\"vaccinated_per_100_inhabitants\", \"vaccinated_second_per_100_inhabitants\", \\\n",
    "                                \"vaccinated_single_per_100_inhabitants\", \"vaccinated_third_per_100_inhabitants\"], \\\n",
    "                              title = \"Registro de Pessoas Vacinadas Contra Covid no Brasil\")"
   ]
  },
  {
   "cell_type": "code",
   "execution_count": 17,
   "id": "a54e9cd8",
   "metadata": {},
   "outputs": [
    {
     "data": {
      "text/plain": [
       "<AxesSubplot:title={'center':'Registro de Casos Totais, Testes, Falecimentos e Recuperações'}, xlabel='date'>"
      ]
     },
     "execution_count": 17,
     "metadata": {},
     "output_type": "execute_result"
    },
    {
     "data": {
      "image/png": "[encoded data removed]",
      "text/plain": [
       "<Figure size 640x480 with 1 Axes>"
      ]
     },
     "metadata": {},
     "output_type": "display_data"
    }
   ],
   "source": [
    "df[df[\"state\"]==\"TOTAL\"].plot(x=\"date\", \\\n",
    "                              y=[\"totalCases\", \"deaths\", \"recovered\", \"tests\"], \\\n",
    "                              title = \"Registro de Casos Totais, Testes, Falecimentos e Recuperações\")"
   ]
  },
  {
   "cell_type": "code",
   "execution_count": 18,
   "id": "bafab384",
   "metadata": {},
   "outputs": [
    {
     "data": {
      "text/html": [
       "<div>\n",
       "<style scoped>\n",
       "    .dataframe tbody tr th:only-of-type {\n",
       "        vertical-align: middle;\n",
       "    }\n",
       "\n",
       "    .dataframe tbody tr th {\n",
       "        vertical-align: top;\n",
       "    }\n",
       "\n",
       "    .dataframe thead th {\n",
       "        text-align: right;\n",
       "    }\n",
       "</style>\n",
       "<table border=\"1\" class=\"dataframe\">\n",
       "  <thead>\n",
       "    <tr style=\"text-align: right;\">\n",
       "      <th></th>\n",
       "      <th>epi_week</th>\n",
       "      <th>date</th>\n",
       "      <th>state</th>\n",
       "      <th>newDeaths</th>\n",
       "      <th>deaths</th>\n",
       "      <th>newCases</th>\n",
       "      <th>totalCases</th>\n",
       "      <th>deathsMS</th>\n",
       "      <th>totalCasesMS</th>\n",
       "      <th>deaths_per_100k_inhabitants</th>\n",
       "      <th>...</th>\n",
       "      <th>tests</th>\n",
       "      <th>tests_per_100k_inhabitants</th>\n",
       "      <th>vaccinated</th>\n",
       "      <th>vaccinated_per_100_inhabitants</th>\n",
       "      <th>vaccinated_second</th>\n",
       "      <th>vaccinated_second_per_100_inhabitants</th>\n",
       "      <th>vaccinated_single</th>\n",
       "      <th>vaccinated_single_per_100_inhabitants</th>\n",
       "      <th>vaccinated_third</th>\n",
       "      <th>vaccinated_third_per_100_inhabitants</th>\n",
       "    </tr>\n",
       "  </thead>\n",
       "  <tbody>\n",
       "    <tr>\n",
       "      <th>1</th>\n",
       "      <td>9.0</td>\n",
       "      <td>2020-02-25</td>\n",
       "      <td>TOTAL</td>\n",
       "      <td>0.0</td>\n",
       "      <td>0.0</td>\n",
       "      <td>1.0</td>\n",
       "      <td>1.0</td>\n",
       "      <td>0.0</td>\n",
       "      <td>0.0</td>\n",
       "      <td>0.0</td>\n",
       "      <td>...</td>\n",
       "      <td>0.0</td>\n",
       "      <td>0.0</td>\n",
       "      <td>0.0</td>\n",
       "      <td>0.0</td>\n",
       "      <td>0.0</td>\n",
       "      <td>0.0</td>\n",
       "      <td>0.0</td>\n",
       "      <td>0.0</td>\n",
       "      <td>0.0</td>\n",
       "      <td>0.0</td>\n",
       "    </tr>\n",
       "    <tr>\n",
       "      <th>3</th>\n",
       "      <td>9.0</td>\n",
       "      <td>2020-02-26</td>\n",
       "      <td>TOTAL</td>\n",
       "      <td>0.0</td>\n",
       "      <td>0.0</td>\n",
       "      <td>0.0</td>\n",
       "      <td>1.0</td>\n",
       "      <td>0.0</td>\n",
       "      <td>1.0</td>\n",
       "      <td>0.0</td>\n",
       "      <td>...</td>\n",
       "      <td>0.0</td>\n",
       "      <td>0.0</td>\n",
       "      <td>0.0</td>\n",
       "      <td>0.0</td>\n",
       "      <td>0.0</td>\n",
       "      <td>0.0</td>\n",
       "      <td>0.0</td>\n",
       "      <td>0.0</td>\n",
       "      <td>0.0</td>\n",
       "      <td>0.0</td>\n",
       "    </tr>\n",
       "    <tr>\n",
       "      <th>5</th>\n",
       "      <td>9.0</td>\n",
       "      <td>2020-02-27</td>\n",
       "      <td>TOTAL</td>\n",
       "      <td>0.0</td>\n",
       "      <td>0.0</td>\n",
       "      <td>0.0</td>\n",
       "      <td>1.0</td>\n",
       "      <td>0.0</td>\n",
       "      <td>1.0</td>\n",
       "      <td>0.0</td>\n",
       "      <td>...</td>\n",
       "      <td>0.0</td>\n",
       "      <td>0.0</td>\n",
       "      <td>0.0</td>\n",
       "      <td>0.0</td>\n",
       "      <td>0.0</td>\n",
       "      <td>0.0</td>\n",
       "      <td>0.0</td>\n",
       "      <td>0.0</td>\n",
       "      <td>0.0</td>\n",
       "      <td>0.0</td>\n",
       "    </tr>\n",
       "    <tr>\n",
       "      <th>7</th>\n",
       "      <td>9.0</td>\n",
       "      <td>2020-02-28</td>\n",
       "      <td>TOTAL</td>\n",
       "      <td>0.0</td>\n",
       "      <td>0.0</td>\n",
       "      <td>1.0</td>\n",
       "      <td>2.0</td>\n",
       "      <td>0.0</td>\n",
       "      <td>1.0</td>\n",
       "      <td>0.0</td>\n",
       "      <td>...</td>\n",
       "      <td>0.0</td>\n",
       "      <td>0.0</td>\n",
       "      <td>0.0</td>\n",
       "      <td>0.0</td>\n",
       "      <td>0.0</td>\n",
       "      <td>0.0</td>\n",
       "      <td>0.0</td>\n",
       "      <td>0.0</td>\n",
       "      <td>0.0</td>\n",
       "      <td>0.0</td>\n",
       "    </tr>\n",
       "    <tr>\n",
       "      <th>9</th>\n",
       "      <td>9.0</td>\n",
       "      <td>2020-02-29</td>\n",
       "      <td>TOTAL</td>\n",
       "      <td>0.0</td>\n",
       "      <td>0.0</td>\n",
       "      <td>0.0</td>\n",
       "      <td>2.0</td>\n",
       "      <td>0.0</td>\n",
       "      <td>2.0</td>\n",
       "      <td>0.0</td>\n",
       "      <td>...</td>\n",
       "      <td>0.0</td>\n",
       "      <td>0.0</td>\n",
       "      <td>0.0</td>\n",
       "      <td>0.0</td>\n",
       "      <td>0.0</td>\n",
       "      <td>0.0</td>\n",
       "      <td>0.0</td>\n",
       "      <td>0.0</td>\n",
       "      <td>0.0</td>\n",
       "      <td>0.0</td>\n",
       "    </tr>\n",
       "  </tbody>\n",
       "</table>\n",
       "<p>5 rows × 24 columns</p>\n",
       "</div>"
      ],
      "text/plain": [
       "   epi_week       date  state  newDeaths  deaths  newCases  totalCases  \\\n",
       "1       9.0 2020-02-25  TOTAL        0.0     0.0       1.0         1.0   \n",
       "3       9.0 2020-02-26  TOTAL        0.0     0.0       0.0         1.0   \n",
       "5       9.0 2020-02-27  TOTAL        0.0     0.0       0.0         1.0   \n",
       "7       9.0 2020-02-28  TOTAL        0.0     0.0       1.0         2.0   \n",
       "9       9.0 2020-02-29  TOTAL        0.0     0.0       0.0         2.0   \n",
       "\n",
       "   deathsMS  totalCasesMS  deaths_per_100k_inhabitants  ...  tests  \\\n",
       "1       0.0           0.0                          0.0  ...    0.0   \n",
       "3       0.0           1.0                          0.0  ...    0.0   \n",
       "5       0.0           1.0                          0.0  ...    0.0   \n",
       "7       0.0           1.0                          0.0  ...    0.0   \n",
       "9       0.0           2.0                          0.0  ...    0.0   \n",
       "\n",
       "   tests_per_100k_inhabitants  vaccinated  vaccinated_per_100_inhabitants  \\\n",
       "1                         0.0         0.0                             0.0   \n",
       "3                         0.0         0.0                             0.0   \n",
       "5                         0.0         0.0                             0.0   \n",
       "7                         0.0         0.0                             0.0   \n",
       "9                         0.0         0.0                             0.0   \n",
       "\n",
       "   vaccinated_second  vaccinated_second_per_100_inhabitants  \\\n",
       "1                0.0                                    0.0   \n",
       "3                0.0                                    0.0   \n",
       "5                0.0                                    0.0   \n",
       "7                0.0                                    0.0   \n",
       "9                0.0                                    0.0   \n",
       "\n",
       "   vaccinated_single  vaccinated_single_per_100_inhabitants  vaccinated_third  \\\n",
       "1                0.0                                    0.0               0.0   \n",
       "3                0.0                                    0.0               0.0   \n",
       "5                0.0                                    0.0               0.0   \n",
       "7                0.0                                    0.0               0.0   \n",
       "9                0.0                                    0.0               0.0   \n",
       "\n",
       "   vaccinated_third_per_100_inhabitants  \n",
       "1                                   0.0  \n",
       "3                                   0.0  \n",
       "5                                   0.0  \n",
       "7                                   0.0  \n",
       "9                                   0.0  \n",
       "\n",
       "[5 rows x 24 columns]"
      ]
     },
     "execution_count": 18,
     "metadata": {},
     "output_type": "execute_result"
    }
   ],
   "source": [
    "cases_brazil = df.loc[df[\"state\"]==\"TOTAL\"]\n",
    "cases_brazil.head()"
   ]
  },
  {
   "cell_type": "code",
   "execution_count": 19,
   "id": "55b51c79",
   "metadata": {},
   "outputs": [],
   "source": [
    "#profile = ProfileReport(cases_brazil.reset_index(drop=True), title=\"Relatório Covid Brasil\", explorative = True)\n",
    "#profile"
   ]
  },
  {
   "cell_type": "markdown",
   "id": "60f533aa",
   "metadata": {},
   "source": [
    "## Obtendo o IPCA do período\n",
    "\n",
    "Base de dados disponível em:\n",
    "\n",
    "<https://dadosabertos.bcb.gov.br/dataset/4449-indice-nacional-de-precos-ao-consumidor-amplo-ipca---precos-monitorados---total>"
   ]
  },
  {
   "cell_type": "code",
   "execution_count": 91,
   "id": "2f668956",
   "metadata": {},
   "outputs": [
    {
     "data": {
      "text/plain": [
       "<Response [200]>"
      ]
     },
     "execution_count": 91,
     "metadata": {},
     "output_type": "execute_result"
    }
   ],
   "source": [
    "ipca = requests.get(\"https://api.bcb.gov.br/dados/serie/bcdata.sgs.4449/dados?formato=csv\")\n",
    "ipca"
   ]
  },
  {
   "cell_type": "code",
   "execution_count": 92,
   "id": "e2100cd0",
   "metadata": {},
   "outputs": [],
   "source": [
    "ipca = ipca.content.decode(\"utf-8\")\n",
    "ipca = [x.split(';') for x in ipca.split('\\r\\n')]"
   ]
  },
  {
   "cell_type": "code",
   "execution_count": 93,
   "id": "1c355e9d",
   "metadata": {},
   "outputs": [],
   "source": [
    "# Removendo as aspas (\"\") prensentes em cada item do dataframe:\n",
    "for row in range(0, len(ipca)):\n",
    "    for item in range(0, len(ipca[row])):\n",
    "        ipca[row][item] = ipca[row][item].replace('\\\"', \"\")"
   ]
  },
  {
   "cell_type": "code",
   "execution_count": 94,
   "id": "c4c008f4",
   "metadata": {},
   "outputs": [],
   "source": [
    "ipca_df = pd.DataFrame(ipca[1:], columns= ipca[0])"
   ]
  },
  {
   "cell_type": "code",
   "execution_count": 96,
   "id": "baa428c2",
   "metadata": {},
   "outputs": [],
   "source": [
    "# Removendo a última linha, que possui valores nulos:\n",
    "ipca_df = ipca_df[:-1]"
   ]
  },
  {
   "cell_type": "code",
   "execution_count": 105,
   "id": "94798569",
   "metadata": {},
   "outputs": [
    {
     "name": "stderr",
     "output_type": "stream",
     "text": [
      "C:\\Users\\tiago\\AppData\\Local\\Temp\\ipykernel_21032\\3196421378.py:1: SettingWithCopyWarning: \n",
      "A value is trying to be set on a copy of a slice from a DataFrame.\n",
      "Try using .loc[row_indexer,col_indexer] = value instead\n",
      "\n",
      "See the caveats in the documentation: https://pandas.pydata.org/pandas-docs/stable/user_guide/indexing.html#returning-a-view-versus-a-copy\n",
      "  ipca_df[\"data\"] = pd.to_datetime(ipca_df[\"data\"], format=\"%d/%m/%Y\")\n"
     ]
    }
   ],
   "source": [
    "# Colocando a data no formato datetime:\n",
    "ipca_df[\"data\"] = pd.to_datetime(ipca_df[\"data\"], format=\"%d/%m/%Y\")"
   ]
  },
  {
   "cell_type": "code",
   "execution_count": 110,
   "id": "c3e09251",
   "metadata": {},
   "outputs": [
    {
     "name": "stderr",
     "output_type": "stream",
     "text": [
      "C:\\Users\\tiago\\AppData\\Local\\Temp\\ipykernel_21032\\3588582564.py:1: SettingWithCopyWarning: \n",
      "A value is trying to be set on a copy of a slice from a DataFrame.\n",
      "Try using .loc[row_indexer,col_indexer] = value instead\n",
      "\n",
      "See the caveats in the documentation: https://pandas.pydata.org/pandas-docs/stable/user_guide/indexing.html#returning-a-view-versus-a-copy\n",
      "  ipca_df[\"valor\"] = [x.replace(\",\", \".\") for x in ipca_df[\"valor\"]]\n"
     ]
    }
   ],
   "source": [
    "# Trocando os pontos por vírgulas:\n",
    "ipca_df[\"valor\"] = [x.replace(\",\", \".\") for x in ipca_df[\"valor\"]]"
   ]
  },
  {
   "cell_type": "code",
   "execution_count": 111,
   "id": "a757de2d",
   "metadata": {},
   "outputs": [
    {
     "name": "stderr",
     "output_type": "stream",
     "text": [
      "C:\\Users\\tiago\\AppData\\Local\\Temp\\ipykernel_21032\\433186756.py:1: SettingWithCopyWarning: \n",
      "A value is trying to be set on a copy of a slice from a DataFrame.\n",
      "Try using .loc[row_indexer,col_indexer] = value instead\n",
      "\n",
      "See the caveats in the documentation: https://pandas.pydata.org/pandas-docs/stable/user_guide/indexing.html#returning-a-view-versus-a-copy\n",
      "  ipca_df[\"valor\"] = ipca_df[\"valor\"].astype(float)\n"
     ]
    }
   ],
   "source": [
    "# Colocando o valor no formato float:\n",
    "ipca_df[\"valor\"] = ipca_df[\"valor\"].astype(float)"
   ]
  },
  {
   "cell_type": "code",
   "execution_count": 123,
   "id": "98aaa5a5",
   "metadata": {},
   "outputs": [],
   "source": [
    "# Separando um dataframe para analizar o IPCA entre 2020 e os dias atuais:\n",
    "ipca_covid_df = ipca_df.loc[ipca_df[\"data\"]>\"2020-01-01\"]"
   ]
  },
  {
   "cell_type": "code",
   "execution_count": 124,
   "id": "7fac17dd",
   "metadata": {},
   "outputs": [
    {
     "data": {
      "text/html": [
       "<div>\n",
       "<style scoped>\n",
       "    .dataframe tbody tr th:only-of-type {\n",
       "        vertical-align: middle;\n",
       "    }\n",
       "\n",
       "    .dataframe tbody tr th {\n",
       "        vertical-align: top;\n",
       "    }\n",
       "\n",
       "    .dataframe thead th {\n",
       "        text-align: right;\n",
       "    }\n",
       "</style>\n",
       "<table border=\"1\" class=\"dataframe\">\n",
       "  <thead>\n",
       "    <tr style=\"text-align: right;\">\n",
       "      <th></th>\n",
       "      <th>data</th>\n",
       "      <th>valor</th>\n",
       "    </tr>\n",
       "  </thead>\n",
       "  <tbody>\n",
       "    <tr>\n",
       "      <th>337</th>\n",
       "      <td>2020-02-01</td>\n",
       "      <td>-0.28</td>\n",
       "    </tr>\n",
       "    <tr>\n",
       "      <th>338</th>\n",
       "      <td>2020-03-01</td>\n",
       "      <td>-0.22</td>\n",
       "    </tr>\n",
       "    <tr>\n",
       "      <th>339</th>\n",
       "      <td>2020-04-01</td>\n",
       "      <td>-2.06</td>\n",
       "    </tr>\n",
       "    <tr>\n",
       "      <th>340</th>\n",
       "      <td>2020-05-01</td>\n",
       "      <td>-1.02</td>\n",
       "    </tr>\n",
       "    <tr>\n",
       "      <th>341</th>\n",
       "      <td>2020-06-01</td>\n",
       "      <td>0.89</td>\n",
       "    </tr>\n",
       "    <tr>\n",
       "      <th>342</th>\n",
       "      <td>2020-07-01</td>\n",
       "      <td>1.23</td>\n",
       "    </tr>\n",
       "    <tr>\n",
       "      <th>343</th>\n",
       "      <td>2020-08-01</td>\n",
       "      <td>0.78</td>\n",
       "    </tr>\n",
       "    <tr>\n",
       "      <th>344</th>\n",
       "      <td>2020-09-01</td>\n",
       "      <td>0.13</td>\n",
       "    </tr>\n",
       "    <tr>\n",
       "      <th>345</th>\n",
       "      <td>2020-10-01</td>\n",
       "      <td>0.23</td>\n",
       "    </tr>\n",
       "    <tr>\n",
       "      <th>346</th>\n",
       "      <td>2020-11-01</td>\n",
       "      <td>0.41</td>\n",
       "    </tr>\n",
       "    <tr>\n",
       "      <th>347</th>\n",
       "      <td>2020-12-01</td>\n",
       "      <td>2.04</td>\n",
       "    </tr>\n",
       "    <tr>\n",
       "      <th>348</th>\n",
       "      <td>2021-01-01</td>\n",
       "      <td>-0.29</td>\n",
       "    </tr>\n",
       "    <tr>\n",
       "      <th>349</th>\n",
       "      <td>2021-02-01</td>\n",
       "      <td>1.69</td>\n",
       "    </tr>\n",
       "    <tr>\n",
       "      <th>350</th>\n",
       "      <td>2021-03-01</td>\n",
       "      <td>2.81</td>\n",
       "    </tr>\n",
       "    <tr>\n",
       "      <th>351</th>\n",
       "      <td>2021-04-01</td>\n",
       "      <td>0.38</td>\n",
       "    </tr>\n",
       "    <tr>\n",
       "      <th>352</th>\n",
       "      <td>2021-05-01</td>\n",
       "      <td>2.11</td>\n",
       "    </tr>\n",
       "    <tr>\n",
       "      <th>353</th>\n",
       "      <td>2021-06-01</td>\n",
       "      <td>0.81</td>\n",
       "    </tr>\n",
       "    <tr>\n",
       "      <th>354</th>\n",
       "      <td>2021-07-01</td>\n",
       "      <td>1.68</td>\n",
       "    </tr>\n",
       "    <tr>\n",
       "      <th>355</th>\n",
       "      <td>2021-08-01</td>\n",
       "      <td>0.95</td>\n",
       "    </tr>\n",
       "    <tr>\n",
       "      <th>356</th>\n",
       "      <td>2021-09-01</td>\n",
       "      <td>1.93</td>\n",
       "    </tr>\n",
       "    <tr>\n",
       "      <th>357</th>\n",
       "      <td>2021-10-01</td>\n",
       "      <td>1.35</td>\n",
       "    </tr>\n",
       "    <tr>\n",
       "      <th>358</th>\n",
       "      <td>2021-11-01</td>\n",
       "      <td>2.30</td>\n",
       "    </tr>\n",
       "    <tr>\n",
       "      <th>359</th>\n",
       "      <td>2021-12-01</td>\n",
       "      <td>0.05</td>\n",
       "    </tr>\n",
       "    <tr>\n",
       "      <th>360</th>\n",
       "      <td>2022-01-01</td>\n",
       "      <td>-0.35</td>\n",
       "    </tr>\n",
       "    <tr>\n",
       "      <th>361</th>\n",
       "      <td>2022-02-01</td>\n",
       "      <td>0.12</td>\n",
       "    </tr>\n",
       "    <tr>\n",
       "      <th>362</th>\n",
       "      <td>2022-03-01</td>\n",
       "      <td>2.65</td>\n",
       "    </tr>\n",
       "    <tr>\n",
       "      <th>363</th>\n",
       "      <td>2022-04-01</td>\n",
       "      <td>0.55</td>\n",
       "    </tr>\n",
       "    <tr>\n",
       "      <th>364</th>\n",
       "      <td>2022-05-01</td>\n",
       "      <td>-0.51</td>\n",
       "    </tr>\n",
       "    <tr>\n",
       "      <th>365</th>\n",
       "      <td>2022-06-01</td>\n",
       "      <td>0.48</td>\n",
       "    </tr>\n",
       "    <tr>\n",
       "      <th>366</th>\n",
       "      <td>2022-07-01</td>\n",
       "      <td>-4.35</td>\n",
       "    </tr>\n",
       "    <tr>\n",
       "      <th>367</th>\n",
       "      <td>2022-08-01</td>\n",
       "      <td>-2.55</td>\n",
       "    </tr>\n",
       "    <tr>\n",
       "      <th>368</th>\n",
       "      <td>2022-09-01</td>\n",
       "      <td>-1.21</td>\n",
       "    </tr>\n",
       "    <tr>\n",
       "      <th>369</th>\n",
       "      <td>2022-10-01</td>\n",
       "      <td>0.18</td>\n",
       "    </tr>\n",
       "  </tbody>\n",
       "</table>\n",
       "</div>"
      ],
      "text/plain": [
       "          data  valor\n",
       "337 2020-02-01  -0.28\n",
       "338 2020-03-01  -0.22\n",
       "339 2020-04-01  -2.06\n",
       "340 2020-05-01  -1.02\n",
       "341 2020-06-01   0.89\n",
       "342 2020-07-01   1.23\n",
       "343 2020-08-01   0.78\n",
       "344 2020-09-01   0.13\n",
       "345 2020-10-01   0.23\n",
       "346 2020-11-01   0.41\n",
       "347 2020-12-01   2.04\n",
       "348 2021-01-01  -0.29\n",
       "349 2021-02-01   1.69\n",
       "350 2021-03-01   2.81\n",
       "351 2021-04-01   0.38\n",
       "352 2021-05-01   2.11\n",
       "353 2021-06-01   0.81\n",
       "354 2021-07-01   1.68\n",
       "355 2021-08-01   0.95\n",
       "356 2021-09-01   1.93\n",
       "357 2021-10-01   1.35\n",
       "358 2021-11-01   2.30\n",
       "359 2021-12-01   0.05\n",
       "360 2022-01-01  -0.35\n",
       "361 2022-02-01   0.12\n",
       "362 2022-03-01   2.65\n",
       "363 2022-04-01   0.55\n",
       "364 2022-05-01  -0.51\n",
       "365 2022-06-01   0.48\n",
       "366 2022-07-01  -4.35\n",
       "367 2022-08-01  -2.55\n",
       "368 2022-09-01  -1.21\n",
       "369 2022-10-01   0.18"
      ]
     },
     "execution_count": 124,
     "metadata": {},
     "output_type": "execute_result"
    }
   ],
   "source": [
    "ipca_covid_df"
   ]
  },
  {
   "cell_type": "code",
   "execution_count": 126,
   "id": "adb3f310",
   "metadata": {},
   "outputs": [
    {
     "data": {
      "text/plain": [
       "<AxesSubplot:title={'center':'Variação do IPCA no Brasil'}, xlabel='data'>"
      ]
     },
     "execution_count": 126,
     "metadata": {},
     "output_type": "execute_result"
    },
    {
     "data": {
      "image/png": "[encoded data removed]",
      "text/plain": [
       "<Figure size 640x480 with 1 Axes>"
      ]
     },
     "metadata": {},
     "output_type": "display_data"
    }
   ],
   "source": [
    "ipca_covid_df.plot(x=\"data\", y=[\"valor\"], title = \"Variação do IPCA no Brasil\")"
   ]
  },
  {
   "cell_type": "markdown",
   "id": "d230784e",
   "metadata": {},
   "source": [
    "### Séries Históricas de preços de Combuistíveis\n",
    "<https://dados.gov.br/dataset/serie-historica-de-precos-de-combustiveis-por-revenda>"
   ]
  },
  {
   "cell_type": "markdown",
   "id": "1ecc08f8",
   "metadata": {},
   "source": [
    "## Ibovespa\n",
    "<https://br.investing.com/indices/bovespa-historical-data>"
   ]
  },
  {
   "cell_type": "markdown",
   "id": "1899de9f",
   "metadata": {},
   "source": [
    "## Ibovespa em Dolar\n",
    "\n",
    "<https://br.investing.com/indices/ibovespa-usd-historical-data>"
   ]
  }
 ],
 "metadata": {
  "kernelspec": {
   "display_name": "Python 3 (ipykernel)",
   "language": "python",
   "name": "python3"
  },
  "language_info": {
   "codemirror_mode": {
    "name": "ipython",
    "version": 3
   },
   "file_extension": ".py",
   "mimetype": "text/x-python",
   "name": "python",
   "nbconvert_exporter": "python",
   "pygments_lexer": "ipython3",
   "version": "3.9.13"
  }
 },
 "nbformat": 4,
 "nbformat_minor": 5
}
